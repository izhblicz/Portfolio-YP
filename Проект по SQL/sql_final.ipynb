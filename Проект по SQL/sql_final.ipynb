{
 "cells": [
  {
   "cell_type": "markdown",
   "metadata": {},
   "source": [
    "# Проект по SQL"
   ]
  },
  {
   "cell_type": "markdown",
   "metadata": {},
   "source": [
    "<div style=\"border:solid blue 2px; padding: 20px\">\n",
    "\n",
    "**Описание проекта:**\n",
    "Во время коронавируса у людей стало больше времени для книг. Компания решила быть на волне и купила крупный сервис для чтения книг по подписке.\n",
    "\n",
    "**Цель проекта:** Проанализировать базу данных\n",
    "\n",
    "**Задания:**\n",
    "- Посчитайте, сколько книг вышло после 1 января 2000 года;\n",
    "- Для каждой книги посчитайте количество обзоров и среднюю оценку;\n",
    "- Определите издательство, которое выпустило наибольшее число книг толще 50 страниц — так вы исключите из анализа брошюры;\n",
    "- Определите автора с самой высокой средней оценкой книг — учитывайте только книги с 50 и более оценками;\n",
    "- Посчитайте среднее количество обзоров от пользователей, которые поставили больше 48 оценок.\n",
    "\n",
    "**Описание данных:**\n",
    "\n",
    "Таблица `books`\n",
    "\n",
    "Содержит данные о книгах:\n",
    "- `book_id` — идентификатор книги;\n",
    "- `author_id` — идентификатор автора;\n",
    "- `title` — название книги;\n",
    "- `num_pages` — количество страниц;\n",
    "- `publication_date` — дата публикации книги;\n",
    "- `publisher_id` — идентификатор издателя.\n",
    "\n",
    "Таблица `authors`\n",
    "\n",
    "Содержит данные об авторах:\n",
    "- `author_id` — идентификатор автора;\n",
    "- `author` — имя автора.\n",
    "\n",
    "Таблица `publishers`\n",
    "\n",
    "Содержит данные об издательствах:\n",
    "- `publisher_id` — идентификатор издательства;\n",
    "- `publisher` — название издательства;\n",
    "\n",
    "Таблица `ratings`\n",
    "\n",
    "Содержит данные о пользовательских оценках книг:\n",
    "- `rating_id` — идентификатор оценки;\n",
    "- `book_id` — идентификатор книги;\n",
    "- `username` — имя пользователя, оставившего оценку;\n",
    "- `rating` — оценка книги.\n",
    "\n",
    "Таблица `reviews`\n",
    "\n",
    "Содержит данные о пользовательских обзорах:\n",
    "- `review_id` — идентификатор обзора;\n",
    "- `book_id` — идентификатор книги;\n",
    "- `username` — имя автора обзора;\n",
    "- `text` — текст обзора."
   ]
  },
  {
   "cell_type": "code",
   "execution_count": 1,
   "metadata": {},
   "outputs": [],
   "source": [
    "# импортируем библиотеки\n",
    "import pandas as pd\n",
    "from sqlalchemy import text, create_engine\n",
    "\n",
    "# устанавливаем параметры\n",
    "db_config = {'user': 'praktikum_student', # имя пользователя\n",
    "'pwd': 'Sdf4$2;d-d30pp', # пароль\n",
    "'host': 'rc1b-wcoijxj3yxfsf3fs.mdb.yandexcloud.net',\n",
    "'port': 6432, # порт подключения\n",
    "'db': 'data-analyst-final-project-db'} # название базы данных\n",
    "connection_string = 'postgresql://{user}:{pwd}@{host}:{port}/{db}'.format(**db_config)\n",
    "\n",
    "# сохраняем коннектор\n",
    "engine = create_engine(connection_string, connect_args={'sslmode':'require'})\n"
   ]
  },
  {
   "cell_type": "markdown",
   "metadata": {},
   "source": [
    "## Изучение данных"
   ]
  },
  {
   "cell_type": "markdown",
   "metadata": {},
   "source": [
    "### Таблица `books`"
   ]
  },
  {
   "cell_type": "code",
   "execution_count": 2,
   "metadata": {},
   "outputs": [
    {
     "data": {
      "text/html": [
       "<div>\n",
       "<style scoped>\n",
       "    .dataframe tbody tr th:only-of-type {\n",
       "        vertical-align: middle;\n",
       "    }\n",
       "\n",
       "    .dataframe tbody tr th {\n",
       "        vertical-align: top;\n",
       "    }\n",
       "\n",
       "    .dataframe thead th {\n",
       "        text-align: right;\n",
       "    }\n",
       "</style>\n",
       "<table border=\"1\" class=\"dataframe\">\n",
       "  <thead>\n",
       "    <tr style=\"text-align: right;\">\n",
       "      <th></th>\n",
       "      <th>book_id</th>\n",
       "      <th>author_id</th>\n",
       "      <th>title</th>\n",
       "      <th>num_pages</th>\n",
       "      <th>publication_date</th>\n",
       "      <th>publisher_id</th>\n",
       "    </tr>\n",
       "  </thead>\n",
       "  <tbody>\n",
       "    <tr>\n",
       "      <th>0</th>\n",
       "      <td>1</td>\n",
       "      <td>546</td>\n",
       "      <td>'Salem's Lot</td>\n",
       "      <td>594</td>\n",
       "      <td>2005-11-01</td>\n",
       "      <td>93</td>\n",
       "    </tr>\n",
       "    <tr>\n",
       "      <th>1</th>\n",
       "      <td>2</td>\n",
       "      <td>465</td>\n",
       "      <td>1 000 Places to See Before You Die</td>\n",
       "      <td>992</td>\n",
       "      <td>2003-05-22</td>\n",
       "      <td>336</td>\n",
       "    </tr>\n",
       "    <tr>\n",
       "      <th>2</th>\n",
       "      <td>3</td>\n",
       "      <td>407</td>\n",
       "      <td>13 Little Blue Envelopes (Little Blue Envelope...</td>\n",
       "      <td>322</td>\n",
       "      <td>2010-12-21</td>\n",
       "      <td>135</td>\n",
       "    </tr>\n",
       "    <tr>\n",
       "      <th>3</th>\n",
       "      <td>4</td>\n",
       "      <td>82</td>\n",
       "      <td>1491: New Revelations of the Americas Before C...</td>\n",
       "      <td>541</td>\n",
       "      <td>2006-10-10</td>\n",
       "      <td>309</td>\n",
       "    </tr>\n",
       "    <tr>\n",
       "      <th>4</th>\n",
       "      <td>5</td>\n",
       "      <td>125</td>\n",
       "      <td>1776</td>\n",
       "      <td>386</td>\n",
       "      <td>2006-07-04</td>\n",
       "      <td>268</td>\n",
       "    </tr>\n",
       "  </tbody>\n",
       "</table>\n",
       "</div>"
      ],
      "text/plain": [
       "   book_id  author_id                                              title  \\\n",
       "0        1        546                                       'Salem's Lot   \n",
       "1        2        465                 1 000 Places to See Before You Die   \n",
       "2        3        407  13 Little Blue Envelopes (Little Blue Envelope...   \n",
       "3        4         82  1491: New Revelations of the Americas Before C...   \n",
       "4        5        125                                               1776   \n",
       "\n",
       "   num_pages publication_date  publisher_id  \n",
       "0        594       2005-11-01            93  \n",
       "1        992       2003-05-22           336  \n",
       "2        322       2010-12-21           135  \n",
       "3        541       2006-10-10           309  \n",
       "4        386       2006-07-04           268  "
      ]
     },
     "execution_count": 2,
     "metadata": {},
     "output_type": "execute_result"
    }
   ],
   "source": [
    "# Посмотрим на таблицу books\n",
    "query = '''\n",
    "            SELECT * FROM books\n",
    "        '''\n",
    "books = pd.io.sql.read_sql(query, con = engine)\n",
    "books.head()"
   ]
  },
  {
   "cell_type": "code",
   "execution_count": 3,
   "metadata": {},
   "outputs": [
    {
     "name": "stdout",
     "output_type": "stream",
     "text": [
      "<class 'pandas.core.frame.DataFrame'>\n",
      "RangeIndex: 1000 entries, 0 to 999\n",
      "Data columns (total 6 columns):\n",
      " #   Column            Non-Null Count  Dtype \n",
      "---  ------            --------------  ----- \n",
      " 0   book_id           1000 non-null   int64 \n",
      " 1   author_id         1000 non-null   int64 \n",
      " 2   title             1000 non-null   object\n",
      " 3   num_pages         1000 non-null   int64 \n",
      " 4   publication_date  1000 non-null   object\n",
      " 5   publisher_id      1000 non-null   int64 \n",
      "dtypes: int64(4), object(2)\n",
      "memory usage: 47.0+ KB\n"
     ]
    }
   ],
   "source": [
    "# Выведем информацию о данных\n",
    "books.info()"
   ]
  },
  {
   "cell_type": "code",
   "execution_count": 4,
   "metadata": {},
   "outputs": [
    {
     "data": {
      "text/plain": [
       "book_id             0\n",
       "author_id           0\n",
       "title               0\n",
       "num_pages           0\n",
       "publication_date    0\n",
       "publisher_id        0\n",
       "dtype: int64"
      ]
     },
     "execution_count": 4,
     "metadata": {},
     "output_type": "execute_result"
    }
   ],
   "source": [
    "# Посчитаем количество пропусков\n",
    "books.isna().sum()"
   ]
  },
  {
   "cell_type": "code",
   "execution_count": 5,
   "metadata": {},
   "outputs": [
    {
     "data": {
      "text/plain": [
       "0"
      ]
     },
     "execution_count": 5,
     "metadata": {},
     "output_type": "execute_result"
    }
   ],
   "source": [
    "# Посчитаем дубликаты\n",
    "books.duplicated().sum()"
   ]
  },
  {
   "cell_type": "code",
   "execution_count": 6,
   "metadata": {
    "scrolled": false
   },
   "outputs": [
    {
     "data": {
      "text/html": [
       "<div>\n",
       "<style scoped>\n",
       "    .dataframe tbody tr th:only-of-type {\n",
       "        vertical-align: middle;\n",
       "    }\n",
       "\n",
       "    .dataframe tbody tr th {\n",
       "        vertical-align: top;\n",
       "    }\n",
       "\n",
       "    .dataframe thead th {\n",
       "        text-align: right;\n",
       "    }\n",
       "</style>\n",
       "<table border=\"1\" class=\"dataframe\">\n",
       "  <thead>\n",
       "    <tr style=\"text-align: right;\">\n",
       "      <th></th>\n",
       "      <th>book_id</th>\n",
       "      <th>author_id</th>\n",
       "      <th>title</th>\n",
       "      <th>num_pages</th>\n",
       "      <th>publication_date</th>\n",
       "      <th>publisher_id</th>\n",
       "    </tr>\n",
       "  </thead>\n",
       "  <tbody>\n",
       "    <tr>\n",
       "      <th>425</th>\n",
       "      <td>426</td>\n",
       "      <td>39</td>\n",
       "      <td>Memoirs of a Geisha</td>\n",
       "      <td>434</td>\n",
       "      <td>2005-11-15</td>\n",
       "      <td>241</td>\n",
       "    </tr>\n",
       "    <tr>\n",
       "      <th>426</th>\n",
       "      <td>427</td>\n",
       "      <td>39</td>\n",
       "      <td>Memoirs of a Geisha</td>\n",
       "      <td>503</td>\n",
       "      <td>2005-11-22</td>\n",
       "      <td>311</td>\n",
       "    </tr>\n",
       "  </tbody>\n",
       "</table>\n",
       "</div>"
      ],
      "text/plain": [
       "     book_id  author_id                title  num_pages publication_date  \\\n",
       "425      426         39  Memoirs of a Geisha        434       2005-11-15   \n",
       "426      427         39  Memoirs of a Geisha        503       2005-11-22   \n",
       "\n",
       "     publisher_id  \n",
       "425           241  \n",
       "426           311  "
      ]
     },
     "execution_count": 6,
     "metadata": {},
     "output_type": "execute_result"
    }
   ],
   "source": [
    "# Посчитаем дубликаты по названию и автору книги\n",
    "books[books.duplicated(subset = ['title', 'author_id'], keep = False)]"
   ]
  },
  {
   "cell_type": "markdown",
   "metadata": {},
   "source": [
    "В таблице `books` 1000 записей, явных дубликатов и пропусков нет, неявные дубликаты есть, но это две разные версии книги."
   ]
  },
  {
   "cell_type": "markdown",
   "metadata": {},
   "source": [
    "### Таблица `authors`"
   ]
  },
  {
   "cell_type": "code",
   "execution_count": 7,
   "metadata": {},
   "outputs": [
    {
     "data": {
      "text/html": [
       "<div>\n",
       "<style scoped>\n",
       "    .dataframe tbody tr th:only-of-type {\n",
       "        vertical-align: middle;\n",
       "    }\n",
       "\n",
       "    .dataframe tbody tr th {\n",
       "        vertical-align: top;\n",
       "    }\n",
       "\n",
       "    .dataframe thead th {\n",
       "        text-align: right;\n",
       "    }\n",
       "</style>\n",
       "<table border=\"1\" class=\"dataframe\">\n",
       "  <thead>\n",
       "    <tr style=\"text-align: right;\">\n",
       "      <th></th>\n",
       "      <th>author_id</th>\n",
       "      <th>author</th>\n",
       "    </tr>\n",
       "  </thead>\n",
       "  <tbody>\n",
       "    <tr>\n",
       "      <th>0</th>\n",
       "      <td>1</td>\n",
       "      <td>A.S. Byatt</td>\n",
       "    </tr>\n",
       "    <tr>\n",
       "      <th>1</th>\n",
       "      <td>2</td>\n",
       "      <td>Aesop/Laura Harris/Laura Gibbs</td>\n",
       "    </tr>\n",
       "    <tr>\n",
       "      <th>2</th>\n",
       "      <td>3</td>\n",
       "      <td>Agatha Christie</td>\n",
       "    </tr>\n",
       "    <tr>\n",
       "      <th>3</th>\n",
       "      <td>4</td>\n",
       "      <td>Alan Brennert</td>\n",
       "    </tr>\n",
       "    <tr>\n",
       "      <th>4</th>\n",
       "      <td>5</td>\n",
       "      <td>Alan Moore/David   Lloyd</td>\n",
       "    </tr>\n",
       "  </tbody>\n",
       "</table>\n",
       "</div>"
      ],
      "text/plain": [
       "   author_id                          author\n",
       "0          1                      A.S. Byatt\n",
       "1          2  Aesop/Laura Harris/Laura Gibbs\n",
       "2          3                 Agatha Christie\n",
       "3          4                   Alan Brennert\n",
       "4          5        Alan Moore/David   Lloyd"
      ]
     },
     "execution_count": 7,
     "metadata": {},
     "output_type": "execute_result"
    }
   ],
   "source": [
    "# Посмотрим на таблицу authors\n",
    "query = '''\n",
    "            SELECT * FROM authors\n",
    "        '''\n",
    "authors = pd.io.sql.read_sql(query, con = engine)\n",
    "authors.head()"
   ]
  },
  {
   "cell_type": "code",
   "execution_count": 8,
   "metadata": {},
   "outputs": [
    {
     "name": "stdout",
     "output_type": "stream",
     "text": [
      "<class 'pandas.core.frame.DataFrame'>\n",
      "RangeIndex: 636 entries, 0 to 635\n",
      "Data columns (total 2 columns):\n",
      " #   Column     Non-Null Count  Dtype \n",
      "---  ------     --------------  ----- \n",
      " 0   author_id  636 non-null    int64 \n",
      " 1   author     636 non-null    object\n",
      "dtypes: int64(1), object(1)\n",
      "memory usage: 10.1+ KB\n"
     ]
    }
   ],
   "source": [
    "# Выведем информацию о данных\n",
    "authors.info()"
   ]
  },
  {
   "cell_type": "code",
   "execution_count": 9,
   "metadata": {},
   "outputs": [
    {
     "data": {
      "text/plain": [
       "author_id    0\n",
       "author       0\n",
       "dtype: int64"
      ]
     },
     "execution_count": 9,
     "metadata": {},
     "output_type": "execute_result"
    }
   ],
   "source": [
    "# Посчитаем количество пропусков\n",
    "authors.isna().sum()"
   ]
  },
  {
   "cell_type": "code",
   "execution_count": 10,
   "metadata": {},
   "outputs": [
    {
     "data": {
      "text/plain": [
       "0"
      ]
     },
     "execution_count": 10,
     "metadata": {},
     "output_type": "execute_result"
    }
   ],
   "source": [
    "# Посчитаем дубликаты\n",
    "authors.duplicated().sum()"
   ]
  },
  {
   "cell_type": "markdown",
   "metadata": {},
   "source": [
    "Таблица `authors` содержит 636 записей, дубликатов и пропусков не обнаружено."
   ]
  },
  {
   "cell_type": "markdown",
   "metadata": {},
   "source": [
    "### Таблица `publishers`"
   ]
  },
  {
   "cell_type": "code",
   "execution_count": 11,
   "metadata": {},
   "outputs": [
    {
     "data": {
      "text/html": [
       "<div>\n",
       "<style scoped>\n",
       "    .dataframe tbody tr th:only-of-type {\n",
       "        vertical-align: middle;\n",
       "    }\n",
       "\n",
       "    .dataframe tbody tr th {\n",
       "        vertical-align: top;\n",
       "    }\n",
       "\n",
       "    .dataframe thead th {\n",
       "        text-align: right;\n",
       "    }\n",
       "</style>\n",
       "<table border=\"1\" class=\"dataframe\">\n",
       "  <thead>\n",
       "    <tr style=\"text-align: right;\">\n",
       "      <th></th>\n",
       "      <th>publisher_id</th>\n",
       "      <th>publisher</th>\n",
       "    </tr>\n",
       "  </thead>\n",
       "  <tbody>\n",
       "    <tr>\n",
       "      <th>0</th>\n",
       "      <td>1</td>\n",
       "      <td>Ace</td>\n",
       "    </tr>\n",
       "    <tr>\n",
       "      <th>1</th>\n",
       "      <td>2</td>\n",
       "      <td>Ace Book</td>\n",
       "    </tr>\n",
       "    <tr>\n",
       "      <th>2</th>\n",
       "      <td>3</td>\n",
       "      <td>Ace Books</td>\n",
       "    </tr>\n",
       "    <tr>\n",
       "      <th>3</th>\n",
       "      <td>4</td>\n",
       "      <td>Ace Hardcover</td>\n",
       "    </tr>\n",
       "    <tr>\n",
       "      <th>4</th>\n",
       "      <td>5</td>\n",
       "      <td>Addison Wesley Publishing Company</td>\n",
       "    </tr>\n",
       "  </tbody>\n",
       "</table>\n",
       "</div>"
      ],
      "text/plain": [
       "   publisher_id                          publisher\n",
       "0             1                                Ace\n",
       "1             2                           Ace Book\n",
       "2             3                          Ace Books\n",
       "3             4                      Ace Hardcover\n",
       "4             5  Addison Wesley Publishing Company"
      ]
     },
     "execution_count": 11,
     "metadata": {},
     "output_type": "execute_result"
    }
   ],
   "source": [
    "# Посмотрим на таблицу authors\n",
    "query = '''\n",
    "            SELECT * FROM publishers\n",
    "        '''\n",
    "publishers = pd.io.sql.read_sql(query, con = engine)\n",
    "publishers.head()"
   ]
  },
  {
   "cell_type": "code",
   "execution_count": 12,
   "metadata": {},
   "outputs": [
    {
     "name": "stdout",
     "output_type": "stream",
     "text": [
      "<class 'pandas.core.frame.DataFrame'>\n",
      "RangeIndex: 340 entries, 0 to 339\n",
      "Data columns (total 2 columns):\n",
      " #   Column        Non-Null Count  Dtype \n",
      "---  ------        --------------  ----- \n",
      " 0   publisher_id  340 non-null    int64 \n",
      " 1   publisher     340 non-null    object\n",
      "dtypes: int64(1), object(1)\n",
      "memory usage: 5.4+ KB\n"
     ]
    }
   ],
   "source": [
    "# Выведем информацию о данных\n",
    "publishers.info()"
   ]
  },
  {
   "cell_type": "code",
   "execution_count": 13,
   "metadata": {},
   "outputs": [
    {
     "data": {
      "text/plain": [
       "publisher_id    0\n",
       "publisher       0\n",
       "dtype: int64"
      ]
     },
     "execution_count": 13,
     "metadata": {},
     "output_type": "execute_result"
    }
   ],
   "source": [
    "# Посчитаем количество пропусков\n",
    "publishers.isna().sum()"
   ]
  },
  {
   "cell_type": "code",
   "execution_count": 14,
   "metadata": {},
   "outputs": [
    {
     "data": {
      "text/plain": [
       "0"
      ]
     },
     "execution_count": 14,
     "metadata": {},
     "output_type": "execute_result"
    }
   ],
   "source": [
    "# Посчитаем дубликаты\n",
    "publishers.duplicated().sum()"
   ]
  },
  {
   "cell_type": "markdown",
   "metadata": {},
   "source": [
    "Таблица `publishers` содержит 340 записей, дубликатов и пропусков не обнаружено."
   ]
  },
  {
   "cell_type": "markdown",
   "metadata": {},
   "source": [
    "### Таблица `ratings`"
   ]
  },
  {
   "cell_type": "code",
   "execution_count": 15,
   "metadata": {},
   "outputs": [
    {
     "data": {
      "text/html": [
       "<div>\n",
       "<style scoped>\n",
       "    .dataframe tbody tr th:only-of-type {\n",
       "        vertical-align: middle;\n",
       "    }\n",
       "\n",
       "    .dataframe tbody tr th {\n",
       "        vertical-align: top;\n",
       "    }\n",
       "\n",
       "    .dataframe thead th {\n",
       "        text-align: right;\n",
       "    }\n",
       "</style>\n",
       "<table border=\"1\" class=\"dataframe\">\n",
       "  <thead>\n",
       "    <tr style=\"text-align: right;\">\n",
       "      <th></th>\n",
       "      <th>rating_id</th>\n",
       "      <th>book_id</th>\n",
       "      <th>username</th>\n",
       "      <th>rating</th>\n",
       "    </tr>\n",
       "  </thead>\n",
       "  <tbody>\n",
       "    <tr>\n",
       "      <th>0</th>\n",
       "      <td>1</td>\n",
       "      <td>1</td>\n",
       "      <td>ryanfranco</td>\n",
       "      <td>4</td>\n",
       "    </tr>\n",
       "    <tr>\n",
       "      <th>1</th>\n",
       "      <td>2</td>\n",
       "      <td>1</td>\n",
       "      <td>grantpatricia</td>\n",
       "      <td>2</td>\n",
       "    </tr>\n",
       "    <tr>\n",
       "      <th>2</th>\n",
       "      <td>3</td>\n",
       "      <td>1</td>\n",
       "      <td>brandtandrea</td>\n",
       "      <td>5</td>\n",
       "    </tr>\n",
       "    <tr>\n",
       "      <th>3</th>\n",
       "      <td>4</td>\n",
       "      <td>2</td>\n",
       "      <td>lorichen</td>\n",
       "      <td>3</td>\n",
       "    </tr>\n",
       "    <tr>\n",
       "      <th>4</th>\n",
       "      <td>5</td>\n",
       "      <td>2</td>\n",
       "      <td>mariokeller</td>\n",
       "      <td>2</td>\n",
       "    </tr>\n",
       "  </tbody>\n",
       "</table>\n",
       "</div>"
      ],
      "text/plain": [
       "   rating_id  book_id       username  rating\n",
       "0          1        1     ryanfranco       4\n",
       "1          2        1  grantpatricia       2\n",
       "2          3        1   brandtandrea       5\n",
       "3          4        2       lorichen       3\n",
       "4          5        2    mariokeller       2"
      ]
     },
     "execution_count": 15,
     "metadata": {},
     "output_type": "execute_result"
    }
   ],
   "source": [
    "# Посмотрим на таблицу ratings\n",
    "query = '''\n",
    "            SELECT * FROM ratings\n",
    "        '''\n",
    "ratings = pd.io.sql.read_sql(query, con = engine)\n",
    "ratings.head()"
   ]
  },
  {
   "cell_type": "code",
   "execution_count": 16,
   "metadata": {},
   "outputs": [
    {
     "name": "stdout",
     "output_type": "stream",
     "text": [
      "<class 'pandas.core.frame.DataFrame'>\n",
      "RangeIndex: 6456 entries, 0 to 6455\n",
      "Data columns (total 4 columns):\n",
      " #   Column     Non-Null Count  Dtype \n",
      "---  ------     --------------  ----- \n",
      " 0   rating_id  6456 non-null   int64 \n",
      " 1   book_id    6456 non-null   int64 \n",
      " 2   username   6456 non-null   object\n",
      " 3   rating     6456 non-null   int64 \n",
      "dtypes: int64(3), object(1)\n",
      "memory usage: 201.9+ KB\n"
     ]
    }
   ],
   "source": [
    "# Выведем информацию о данных\n",
    "ratings.info()"
   ]
  },
  {
   "cell_type": "code",
   "execution_count": 17,
   "metadata": {},
   "outputs": [
    {
     "data": {
      "text/plain": [
       "rating_id    0\n",
       "book_id      0\n",
       "username     0\n",
       "rating       0\n",
       "dtype: int64"
      ]
     },
     "execution_count": 17,
     "metadata": {},
     "output_type": "execute_result"
    }
   ],
   "source": [
    "# Посчитаем количество пропусков\n",
    "ratings.isna().sum()"
   ]
  },
  {
   "cell_type": "code",
   "execution_count": 18,
   "metadata": {},
   "outputs": [
    {
     "data": {
      "text/plain": [
       "0"
      ]
     },
     "execution_count": 18,
     "metadata": {},
     "output_type": "execute_result"
    }
   ],
   "source": [
    "# Посчитаем дубликаты\n",
    "ratings.duplicated().sum()"
   ]
  },
  {
   "cell_type": "markdown",
   "metadata": {},
   "source": [
    "Таблица `ratings` содержит 6456 записей, дубликатов и пропусков не обнаружено."
   ]
  },
  {
   "cell_type": "markdown",
   "metadata": {},
   "source": [
    "### Таблица `reviews`"
   ]
  },
  {
   "cell_type": "code",
   "execution_count": 19,
   "metadata": {},
   "outputs": [
    {
     "data": {
      "text/html": [
       "<div>\n",
       "<style scoped>\n",
       "    .dataframe tbody tr th:only-of-type {\n",
       "        vertical-align: middle;\n",
       "    }\n",
       "\n",
       "    .dataframe tbody tr th {\n",
       "        vertical-align: top;\n",
       "    }\n",
       "\n",
       "    .dataframe thead th {\n",
       "        text-align: right;\n",
       "    }\n",
       "</style>\n",
       "<table border=\"1\" class=\"dataframe\">\n",
       "  <thead>\n",
       "    <tr style=\"text-align: right;\">\n",
       "      <th></th>\n",
       "      <th>review_id</th>\n",
       "      <th>book_id</th>\n",
       "      <th>username</th>\n",
       "      <th>text</th>\n",
       "    </tr>\n",
       "  </thead>\n",
       "  <tbody>\n",
       "    <tr>\n",
       "      <th>0</th>\n",
       "      <td>1</td>\n",
       "      <td>1</td>\n",
       "      <td>brandtandrea</td>\n",
       "      <td>Mention society tell send professor analysis. ...</td>\n",
       "    </tr>\n",
       "    <tr>\n",
       "      <th>1</th>\n",
       "      <td>2</td>\n",
       "      <td>1</td>\n",
       "      <td>ryanfranco</td>\n",
       "      <td>Foot glass pretty audience hit themselves. Amo...</td>\n",
       "    </tr>\n",
       "    <tr>\n",
       "      <th>2</th>\n",
       "      <td>3</td>\n",
       "      <td>2</td>\n",
       "      <td>lorichen</td>\n",
       "      <td>Listen treat keep worry. Miss husband tax but ...</td>\n",
       "    </tr>\n",
       "    <tr>\n",
       "      <th>3</th>\n",
       "      <td>4</td>\n",
       "      <td>3</td>\n",
       "      <td>johnsonamanda</td>\n",
       "      <td>Finally month interesting blue could nature cu...</td>\n",
       "    </tr>\n",
       "    <tr>\n",
       "      <th>4</th>\n",
       "      <td>5</td>\n",
       "      <td>3</td>\n",
       "      <td>scotttamara</td>\n",
       "      <td>Nation purpose heavy give wait song will. List...</td>\n",
       "    </tr>\n",
       "  </tbody>\n",
       "</table>\n",
       "</div>"
      ],
      "text/plain": [
       "   review_id  book_id       username  \\\n",
       "0          1        1   brandtandrea   \n",
       "1          2        1     ryanfranco   \n",
       "2          3        2       lorichen   \n",
       "3          4        3  johnsonamanda   \n",
       "4          5        3    scotttamara   \n",
       "\n",
       "                                                text  \n",
       "0  Mention society tell send professor analysis. ...  \n",
       "1  Foot glass pretty audience hit themselves. Amo...  \n",
       "2  Listen treat keep worry. Miss husband tax but ...  \n",
       "3  Finally month interesting blue could nature cu...  \n",
       "4  Nation purpose heavy give wait song will. List...  "
      ]
     },
     "execution_count": 19,
     "metadata": {},
     "output_type": "execute_result"
    }
   ],
   "source": [
    "# Посмотрим на таблицу reviews\n",
    "query = '''\n",
    "            SELECT * FROM reviews\n",
    "        '''\n",
    "reviews = pd.io.sql.read_sql(query, con = engine)\n",
    "reviews.head()"
   ]
  },
  {
   "cell_type": "code",
   "execution_count": 20,
   "metadata": {},
   "outputs": [
    {
     "name": "stdout",
     "output_type": "stream",
     "text": [
      "<class 'pandas.core.frame.DataFrame'>\n",
      "RangeIndex: 2793 entries, 0 to 2792\n",
      "Data columns (total 4 columns):\n",
      " #   Column     Non-Null Count  Dtype \n",
      "---  ------     --------------  ----- \n",
      " 0   review_id  2793 non-null   int64 \n",
      " 1   book_id    2793 non-null   int64 \n",
      " 2   username   2793 non-null   object\n",
      " 3   text       2793 non-null   object\n",
      "dtypes: int64(2), object(2)\n",
      "memory usage: 87.4+ KB\n"
     ]
    }
   ],
   "source": [
    "# Выведем информацию о данных\n",
    "reviews.info()"
   ]
  },
  {
   "cell_type": "code",
   "execution_count": 21,
   "metadata": {},
   "outputs": [
    {
     "data": {
      "text/plain": [
       "review_id    0\n",
       "book_id      0\n",
       "username     0\n",
       "text         0\n",
       "dtype: int64"
      ]
     },
     "execution_count": 21,
     "metadata": {},
     "output_type": "execute_result"
    }
   ],
   "source": [
    "# Посчитаем количество пропусков\n",
    "reviews.isna().sum()"
   ]
  },
  {
   "cell_type": "code",
   "execution_count": 22,
   "metadata": {},
   "outputs": [
    {
     "data": {
      "text/plain": [
       "0"
      ]
     },
     "execution_count": 22,
     "metadata": {},
     "output_type": "execute_result"
    }
   ],
   "source": [
    "# Посчитаем дубликаты\n",
    "reviews.duplicated().sum()"
   ]
  },
  {
   "cell_type": "markdown",
   "metadata": {},
   "source": [
    "Таблица `reviews` содержит 2793 записей, дубликатов и пропусков не обнаружено."
   ]
  },
  {
   "cell_type": "markdown",
   "metadata": {},
   "source": [
    "## Задания"
   ]
  },
  {
   "cell_type": "markdown",
   "metadata": {},
   "source": [
    "### Посчитайте, сколько книг вышло после 1 января 2000 года"
   ]
  },
  {
   "cell_type": "code",
   "execution_count": 23,
   "metadata": {},
   "outputs": [
    {
     "data": {
      "text/html": [
       "<div>\n",
       "<style scoped>\n",
       "    .dataframe tbody tr th:only-of-type {\n",
       "        vertical-align: middle;\n",
       "    }\n",
       "\n",
       "    .dataframe tbody tr th {\n",
       "        vertical-align: top;\n",
       "    }\n",
       "\n",
       "    .dataframe thead th {\n",
       "        text-align: right;\n",
       "    }\n",
       "</style>\n",
       "<table border=\"1\" class=\"dataframe\">\n",
       "  <thead>\n",
       "    <tr style=\"text-align: right;\">\n",
       "      <th></th>\n",
       "      <th>count</th>\n",
       "    </tr>\n",
       "  </thead>\n",
       "  <tbody>\n",
       "    <tr>\n",
       "      <th>0</th>\n",
       "      <td>819</td>\n",
       "    </tr>\n",
       "  </tbody>\n",
       "</table>\n",
       "</div>"
      ],
      "text/plain": [
       "   count\n",
       "0    819"
      ]
     },
     "execution_count": 23,
     "metadata": {},
     "output_type": "execute_result"
    }
   ],
   "source": [
    "query = '''\n",
    "            SELECT COUNT(book_id)\n",
    "            FROM books\n",
    "            WHERE CAST(publication_date AS timestamp) > '2000-01-01'\n",
    "        '''\n",
    "books_after_millennium = pd.io.sql.read_sql(query, con = engine)\n",
    "books_after_millennium"
   ]
  },
  {
   "cell_type": "markdown",
   "metadata": {},
   "source": [
    "*После 1 января 2000 года вышло 819 книг.*"
   ]
  },
  {
   "cell_type": "markdown",
   "metadata": {},
   "source": [
    "### Для каждой книги посчитайте количество обзоров и среднюю оценку"
   ]
  },
  {
   "cell_type": "code",
   "execution_count": 24,
   "metadata": {},
   "outputs": [
    {
     "data": {
      "text/html": [
       "<div>\n",
       "<style scoped>\n",
       "    .dataframe tbody tr th:only-of-type {\n",
       "        vertical-align: middle;\n",
       "    }\n",
       "\n",
       "    .dataframe tbody tr th {\n",
       "        vertical-align: top;\n",
       "    }\n",
       "\n",
       "    .dataframe thead th {\n",
       "        text-align: right;\n",
       "    }\n",
       "</style>\n",
       "<table border=\"1\" class=\"dataframe\">\n",
       "  <thead>\n",
       "    <tr style=\"text-align: right;\">\n",
       "      <th></th>\n",
       "      <th>title</th>\n",
       "      <th>book_id</th>\n",
       "      <th>count_reviews</th>\n",
       "      <th>avg_rating</th>\n",
       "    </tr>\n",
       "  </thead>\n",
       "  <tbody>\n",
       "    <tr>\n",
       "      <th>0</th>\n",
       "      <td>Twilight (Twilight  #1)</td>\n",
       "      <td>948</td>\n",
       "      <td>7</td>\n",
       "      <td>3.662500</td>\n",
       "    </tr>\n",
       "    <tr>\n",
       "      <th>1</th>\n",
       "      <td>The Book Thief</td>\n",
       "      <td>656</td>\n",
       "      <td>6</td>\n",
       "      <td>4.264151</td>\n",
       "    </tr>\n",
       "    <tr>\n",
       "      <th>2</th>\n",
       "      <td>Outlander (Outlander  #1)</td>\n",
       "      <td>497</td>\n",
       "      <td>6</td>\n",
       "      <td>4.125000</td>\n",
       "    </tr>\n",
       "    <tr>\n",
       "      <th>3</th>\n",
       "      <td>Water for Elephants</td>\n",
       "      <td>963</td>\n",
       "      <td>6</td>\n",
       "      <td>3.977273</td>\n",
       "    </tr>\n",
       "    <tr>\n",
       "      <th>4</th>\n",
       "      <td>The Da Vinci Code (Robert Langdon  #2)</td>\n",
       "      <td>696</td>\n",
       "      <td>6</td>\n",
       "      <td>3.830508</td>\n",
       "    </tr>\n",
       "    <tr>\n",
       "      <th>...</th>\n",
       "      <td>...</td>\n",
       "      <td>...</td>\n",
       "      <td>...</td>\n",
       "      <td>...</td>\n",
       "    </tr>\n",
       "    <tr>\n",
       "      <th>989</th>\n",
       "      <td>Stone of Farewell (Memory  Sorrow  and Thorn  #2)</td>\n",
       "      <td>599</td>\n",
       "      <td>1</td>\n",
       "      <td>5.000000</td>\n",
       "    </tr>\n",
       "    <tr>\n",
       "      <th>990</th>\n",
       "      <td>Debt of Honor (Jack Ryan  #7)</td>\n",
       "      <td>187</td>\n",
       "      <td>1</td>\n",
       "      <td>3.000000</td>\n",
       "    </tr>\n",
       "    <tr>\n",
       "      <th>991</th>\n",
       "      <td>Color: A Natural History of the Palette</td>\n",
       "      <td>156</td>\n",
       "      <td>1</td>\n",
       "      <td>4.333333</td>\n",
       "    </tr>\n",
       "    <tr>\n",
       "      <th>992</th>\n",
       "      <td>Winter Prey (Lucas Davenport  #5)</td>\n",
       "      <td>984</td>\n",
       "      <td>1</td>\n",
       "      <td>4.500000</td>\n",
       "    </tr>\n",
       "    <tr>\n",
       "      <th>993</th>\n",
       "      <td>The Iliad/The Odyssey</td>\n",
       "      <td>760</td>\n",
       "      <td>1</td>\n",
       "      <td>4.000000</td>\n",
       "    </tr>\n",
       "  </tbody>\n",
       "</table>\n",
       "<p>994 rows × 4 columns</p>\n",
       "</div>"
      ],
      "text/plain": [
       "                                                 title  book_id  \\\n",
       "0                              Twilight (Twilight  #1)      948   \n",
       "1                                       The Book Thief      656   \n",
       "2                            Outlander (Outlander  #1)      497   \n",
       "3                                  Water for Elephants      963   \n",
       "4               The Da Vinci Code (Robert Langdon  #2)      696   \n",
       "..                                                 ...      ...   \n",
       "989  Stone of Farewell (Memory  Sorrow  and Thorn  #2)      599   \n",
       "990                      Debt of Honor (Jack Ryan  #7)      187   \n",
       "991            Color: A Natural History of the Palette      156   \n",
       "992                  Winter Prey (Lucas Davenport  #5)      984   \n",
       "993                              The Iliad/The Odyssey      760   \n",
       "\n",
       "     count_reviews  avg_rating  \n",
       "0                7    3.662500  \n",
       "1                6    4.264151  \n",
       "2                6    4.125000  \n",
       "3                6    3.977273  \n",
       "4                6    3.830508  \n",
       "..             ...         ...  \n",
       "989              1    5.000000  \n",
       "990              1    3.000000  \n",
       "991              1    4.333333  \n",
       "992              1    4.500000  \n",
       "993              1    4.000000  \n",
       "\n",
       "[994 rows x 4 columns]"
      ]
     },
     "execution_count": 24,
     "metadata": {},
     "output_type": "execute_result"
    }
   ],
   "source": [
    "query = '''\n",
    "            WITH \n",
    "                 rv AS\n",
    "                       (SELECT rev.book_id,\n",
    "                               CAST(COUNT(rev.review_id) AS integer) AS count_reviews\n",
    "                        FROM reviews AS rev\n",
    "                        GROUP BY rev.book_id),\n",
    "                 rt AS \n",
    "                       (SELECT rat.book_id,\n",
    "                               AVG(rat.rating) AS avg_rating\n",
    "                        FROM ratings AS rat\n",
    "                        GROUP BY rat.book_id)\n",
    "                           \n",
    "            SELECT b.title,\n",
    "                   b.book_id,\n",
    "                   rv.count_reviews,\n",
    "                   rt.avg_rating\n",
    "            FROM books AS b\n",
    "            JOIN rv on b.book_id=rv.book_id\n",
    "            LEFT JOIN rt on b.book_id=rt.book_id\n",
    "            ORDER BY rv.count_reviews DESC\n",
    "        '''\n",
    "books_rating = pd.io.sql.read_sql(query, con = engine)\n",
    "books_rating"
   ]
  },
  {
   "cell_type": "markdown",
   "metadata": {},
   "source": [
    "Лидер по количеству обзоров \"Сумерки\", но оценка при этом средняя. "
   ]
  },
  {
   "cell_type": "markdown",
   "metadata": {},
   "source": [
    "### Определите издательство, которое выпустило наибольшее число книг толще 50 страниц — так вы исключите из анализа брошюры"
   ]
  },
  {
   "cell_type": "code",
   "execution_count": 25,
   "metadata": {},
   "outputs": [
    {
     "data": {
      "text/html": [
       "<div>\n",
       "<style scoped>\n",
       "    .dataframe tbody tr th:only-of-type {\n",
       "        vertical-align: middle;\n",
       "    }\n",
       "\n",
       "    .dataframe tbody tr th {\n",
       "        vertical-align: top;\n",
       "    }\n",
       "\n",
       "    .dataframe thead th {\n",
       "        text-align: right;\n",
       "    }\n",
       "</style>\n",
       "<table border=\"1\" class=\"dataframe\">\n",
       "  <thead>\n",
       "    <tr style=\"text-align: right;\">\n",
       "      <th></th>\n",
       "      <th>publisher</th>\n",
       "      <th>book_count</th>\n",
       "    </tr>\n",
       "  </thead>\n",
       "  <tbody>\n",
       "    <tr>\n",
       "      <th>0</th>\n",
       "      <td>Penguin Books</td>\n",
       "      <td>42</td>\n",
       "    </tr>\n",
       "    <tr>\n",
       "      <th>1</th>\n",
       "      <td>Vintage</td>\n",
       "      <td>31</td>\n",
       "    </tr>\n",
       "    <tr>\n",
       "      <th>2</th>\n",
       "      <td>Grand Central Publishing</td>\n",
       "      <td>25</td>\n",
       "    </tr>\n",
       "    <tr>\n",
       "      <th>3</th>\n",
       "      <td>Penguin Classics</td>\n",
       "      <td>24</td>\n",
       "    </tr>\n",
       "    <tr>\n",
       "      <th>4</th>\n",
       "      <td>Ballantine Books</td>\n",
       "      <td>19</td>\n",
       "    </tr>\n",
       "  </tbody>\n",
       "</table>\n",
       "</div>"
      ],
      "text/plain": [
       "                  publisher  book_count\n",
       "0             Penguin Books          42\n",
       "1                   Vintage          31\n",
       "2  Grand Central Publishing          25\n",
       "3          Penguin Classics          24\n",
       "4          Ballantine Books          19"
      ]
     },
     "execution_count": 25,
     "metadata": {},
     "output_type": "execute_result"
    }
   ],
   "source": [
    "query = '''\n",
    "            WITH bk AS \n",
    "                       (SELECT b.publisher_id,\n",
    "                               COUNT(b.book_id) AS book_count\n",
    "                        FROM books AS b\n",
    "                        WHERE num_pages > 50\n",
    "                        GROUP BY b.publisher_id)\n",
    "                           \n",
    "            SELECT p.publisher,\n",
    "                   bk.book_count\n",
    "            FROM publishers AS p\n",
    "            JOIN bk on p.publisher_id=bk.publisher_id\n",
    "            ORDER BY bk.book_count DESC\n",
    "        '''\n",
    "not_brochure_publisher = pd.io.sql.read_sql(query, con = engine)\n",
    "not_brochure_publisher.head()"
   ]
  },
  {
   "cell_type": "markdown",
   "metadata": {},
   "source": [
    "Больше всего книг толще 50 страниц у издательств Penguin Books, Vintage и Grand Central Publishing."
   ]
  },
  {
   "cell_type": "markdown",
   "metadata": {},
   "source": [
    "### Определите автора с самой высокой средней оценкой книг — учитывайте только книги с 50 и более оценками"
   ]
  },
  {
   "cell_type": "code",
   "execution_count": 26,
   "metadata": {
    "scrolled": false
   },
   "outputs": [
    {
     "data": {
      "text/html": [
       "<div>\n",
       "<style scoped>\n",
       "    .dataframe tbody tr th:only-of-type {\n",
       "        vertical-align: middle;\n",
       "    }\n",
       "\n",
       "    .dataframe tbody tr th {\n",
       "        vertical-align: top;\n",
       "    }\n",
       "\n",
       "    .dataframe thead th {\n",
       "        text-align: right;\n",
       "    }\n",
       "</style>\n",
       "<table border=\"1\" class=\"dataframe\">\n",
       "  <thead>\n",
       "    <tr style=\"text-align: right;\">\n",
       "      <th></th>\n",
       "      <th>author</th>\n",
       "      <th>avg_raiting</th>\n",
       "    </tr>\n",
       "  </thead>\n",
       "  <tbody>\n",
       "    <tr>\n",
       "      <th>0</th>\n",
       "      <td>J.K. Rowling/Mary GrandPré</td>\n",
       "      <td>4.287097</td>\n",
       "    </tr>\n",
       "  </tbody>\n",
       "</table>\n",
       "</div>"
      ],
      "text/plain": [
       "                       author  avg_raiting\n",
       "0  J.K. Rowling/Mary GrandPré     4.287097"
      ]
     },
     "execution_count": 26,
     "metadata": {},
     "output_type": "execute_result"
    }
   ],
   "source": [
    "query = '''\n",
    "           WITH rt AS \n",
    "                      (SELECT book_id\n",
    "                      FROM ratings\n",
    "                      GROUP BY book_id\n",
    "                      HAVING COUNT(rating_id) >= 50)\n",
    "                      \n",
    "            SELECT a.author,\n",
    "                   AVG(r.rating) AS avg_raiting\n",
    "            FROM books AS b\n",
    "            JOIN authors AS a ON a.author_id = b.author_id\n",
    "            JOIN ratings AS r ON r.book_id = b.book_id\n",
    "            JOIN rt ON rt.book_id = b.book_id\n",
    "            GROUP BY a.author\n",
    "            ORDER BY avg_raiting DESC\n",
    "            LIMIT 1\n",
    "        '''\n",
    "top_author = pd.io.sql.read_sql(query, con = engine)\n",
    "top_author"
   ]
  },
  {
   "cell_type": "markdown",
   "metadata": {},
   "source": [
    "Лидеры по оценке и количеству оценок и средней оценке соавторы книг о Гарри Поттере Дж. К. Роулинг и Мари ГранПре."
   ]
  },
  {
   "cell_type": "markdown",
   "metadata": {},
   "source": [
    "### Посчитайте среднее количество обзоров от пользователей, которые поставили больше 48 оценок"
   ]
  },
  {
   "cell_type": "code",
   "execution_count": 27,
   "metadata": {
    "scrolled": true
   },
   "outputs": [
    {
     "data": {
      "text/html": [
       "<div>\n",
       "<style scoped>\n",
       "    .dataframe tbody tr th:only-of-type {\n",
       "        vertical-align: middle;\n",
       "    }\n",
       "\n",
       "    .dataframe tbody tr th {\n",
       "        vertical-align: top;\n",
       "    }\n",
       "\n",
       "    .dataframe thead th {\n",
       "        text-align: right;\n",
       "    }\n",
       "</style>\n",
       "<table border=\"1\" class=\"dataframe\">\n",
       "  <thead>\n",
       "    <tr style=\"text-align: right;\">\n",
       "      <th></th>\n",
       "      <th>avg_count_reviews</th>\n",
       "    </tr>\n",
       "  </thead>\n",
       "  <tbody>\n",
       "    <tr>\n",
       "      <th>0</th>\n",
       "      <td>24.0</td>\n",
       "    </tr>\n",
       "  </tbody>\n",
       "</table>\n",
       "</div>"
      ],
      "text/plain": [
       "   avg_count_reviews\n",
       "0               24.0"
      ]
     },
     "execution_count": 27,
     "metadata": {},
     "output_type": "execute_result"
    }
   ],
   "source": [
    "query = '''\n",
    "            WITH r AS \n",
    "                      (SELECT COUNT(review_id) AS count_reviews\n",
    "                       FROM reviews\n",
    "                       WHERE username IN \n",
    "                                         (SELECT username\n",
    "                                         FROM ratings\n",
    "                                         GROUP BY username\n",
    "                                         HAVING COUNT(rating_id) > 48)\n",
    "                       GROUP BY username)\n",
    "            \n",
    "            SELECT AVG(r.count_reviews) AS avg_count_reviews\n",
    "            FROM r\n",
    "            \n",
    "        '''\n",
    "average_amount_of_reviews = pd.io.sql.read_sql(query, con = engine)\n",
    "average_amount_of_reviews.head(1)"
   ]
  },
  {
   "cell_type": "markdown",
   "metadata": {},
   "source": [
    "Среднее количество обзоров от пользователей, которые поставили больше 48 оценок- 24."
   ]
  },
  {
   "cell_type": "markdown",
   "metadata": {},
   "source": [
    "**Общий вывод:**\n",
    "База данных состоит из пяти таблиц, в которых не было обнаружено дубликатов и пропусков.\n",
    "\n",
    "При выполнении заданий было выяснено следующее:\n",
    "- После 1 января 2000 года вышло 819 книг;\n",
    "- Лидер по количеству обзоров \"Сумерки\", но оценка при этом средняя;\n",
    "- Больше всего книг толще 50 страниц у издательств Penguin Books, Vintage и Grand Central Publishing;\n",
    "- Лидеры по оценке и количеству оценок и средней оценке соавторы книг о Гарри Поттере Дж. К. Роулинг и Мари ГранПре;\n",
    "- Среднее количество обзоров от пользователей, которые поставили больше 48 оценок- 24."
   ]
  }
 ],
 "metadata": {
  "ExecuteTimeLog": [
   {
    "duration": 8081,
    "start_time": "2024-02-07T06:40:48.423Z"
   },
   {
    "duration": 8161,
    "start_time": "2024-02-07T06:41:11.192Z"
   },
   {
    "duration": 8367,
    "start_time": "2024-02-07T13:58:18.021Z"
   },
   {
    "duration": 48,
    "start_time": "2024-02-07T14:11:32.342Z"
   },
   {
    "duration": 24,
    "start_time": "2024-02-07T14:11:45.166Z"
   },
   {
    "duration": 11,
    "start_time": "2024-02-07T14:35:57.574Z"
   },
   {
    "duration": 7,
    "start_time": "2024-02-07T14:37:31.093Z"
   },
   {
    "duration": 6,
    "start_time": "2024-02-07T14:37:32.843Z"
   },
   {
    "duration": 10,
    "start_time": "2024-02-07T14:39:30.523Z"
   },
   {
    "duration": 8,
    "start_time": "2024-02-07T14:40:06.365Z"
   },
   {
    "duration": 9,
    "start_time": "2024-02-07T14:40:46.884Z"
   },
   {
    "duration": 8584,
    "start_time": "2024-02-07T17:10:37.027Z"
   },
   {
    "duration": 299,
    "start_time": "2024-02-07T17:10:45.613Z"
   },
   {
    "duration": 13,
    "start_time": "2024-02-07T17:10:45.913Z"
   },
   {
    "duration": 15,
    "start_time": "2024-02-07T17:10:45.928Z"
   },
   {
    "duration": 10,
    "start_time": "2024-02-07T17:10:45.944Z"
   },
   {
    "duration": 21,
    "start_time": "2024-02-07T17:10:45.956Z"
   },
   {
    "duration": 82,
    "start_time": "2024-02-07T17:10:45.979Z"
   },
   {
    "duration": 10,
    "start_time": "2024-02-07T17:10:46.062Z"
   },
   {
    "duration": 9,
    "start_time": "2024-02-07T17:10:46.074Z"
   },
   {
    "duration": 19,
    "start_time": "2024-02-07T17:10:46.085Z"
   },
   {
    "duration": 76,
    "start_time": "2024-02-07T17:11:30.582Z"
   },
   {
    "duration": 7,
    "start_time": "2024-02-07T17:11:39.217Z"
   },
   {
    "duration": 10,
    "start_time": "2024-02-07T17:11:47.935Z"
   },
   {
    "duration": 8877,
    "start_time": "2024-02-07T17:14:15.675Z"
   },
   {
    "duration": 273,
    "start_time": "2024-02-07T17:14:24.554Z"
   },
   {
    "duration": 12,
    "start_time": "2024-02-07T17:14:24.829Z"
   },
   {
    "duration": 15,
    "start_time": "2024-02-07T17:14:24.842Z"
   },
   {
    "duration": 10,
    "start_time": "2024-02-07T17:14:24.859Z"
   },
   {
    "duration": 13,
    "start_time": "2024-02-07T17:14:24.870Z"
   },
   {
    "duration": 84,
    "start_time": "2024-02-07T17:14:24.885Z"
   },
   {
    "duration": 10,
    "start_time": "2024-02-07T17:14:24.971Z"
   },
   {
    "duration": 7,
    "start_time": "2024-02-07T17:14:24.982Z"
   },
   {
    "duration": 6,
    "start_time": "2024-02-07T17:14:24.991Z"
   },
   {
    "duration": 71,
    "start_time": "2024-02-07T17:14:24.999Z"
   },
   {
    "duration": 9,
    "start_time": "2024-02-07T17:14:25.072Z"
   },
   {
    "duration": 15,
    "start_time": "2024-02-07T17:14:25.083Z"
   },
   {
    "duration": 11,
    "start_time": "2024-02-07T17:14:25.100Z"
   },
   {
    "duration": 75,
    "start_time": "2024-02-07T17:15:12.266Z"
   },
   {
    "duration": 7,
    "start_time": "2024-02-07T17:15:29.652Z"
   },
   {
    "duration": 127,
    "start_time": "2024-02-07T17:16:40.588Z"
   },
   {
    "duration": 12,
    "start_time": "2024-02-07T17:16:41.919Z"
   },
   {
    "duration": 6,
    "start_time": "2024-02-07T17:16:43.269Z"
   },
   {
    "duration": 6,
    "start_time": "2024-02-07T17:16:44.970Z"
   },
   {
    "duration": 10,
    "start_time": "2024-02-07T17:18:15.786Z"
   },
   {
    "duration": 9214,
    "start_time": "2024-02-07T17:22:32.609Z"
   },
   {
    "duration": 273,
    "start_time": "2024-02-07T17:22:41.825Z"
   },
   {
    "duration": 11,
    "start_time": "2024-02-07T17:22:42.100Z"
   },
   {
    "duration": 12,
    "start_time": "2024-02-07T17:22:42.113Z"
   },
   {
    "duration": 6,
    "start_time": "2024-02-07T17:22:42.127Z"
   },
   {
    "duration": 9,
    "start_time": "2024-02-07T17:22:42.135Z"
   },
   {
    "duration": 82,
    "start_time": "2024-02-07T17:22:42.146Z"
   },
   {
    "duration": 10,
    "start_time": "2024-02-07T17:22:42.230Z"
   },
   {
    "duration": 6,
    "start_time": "2024-02-07T17:22:42.242Z"
   },
   {
    "duration": 7,
    "start_time": "2024-02-07T17:22:42.251Z"
   },
   {
    "duration": 77,
    "start_time": "2024-02-07T17:22:42.259Z"
   },
   {
    "duration": 10,
    "start_time": "2024-02-07T17:22:42.338Z"
   },
   {
    "duration": 6,
    "start_time": "2024-02-07T17:22:42.349Z"
   },
   {
    "duration": 11,
    "start_time": "2024-02-07T17:22:42.357Z"
   },
   {
    "duration": 106,
    "start_time": "2024-02-07T17:22:42.369Z"
   },
   {
    "duration": 10,
    "start_time": "2024-02-07T17:22:42.476Z"
   },
   {
    "duration": 8,
    "start_time": "2024-02-07T17:22:42.488Z"
   },
   {
    "duration": 7,
    "start_time": "2024-02-07T17:22:42.498Z"
   },
   {
    "duration": 89,
    "start_time": "2024-02-07T17:22:42.506Z"
   },
   {
    "duration": 70,
    "start_time": "2024-02-07T17:22:42.596Z"
   },
   {
    "duration": 0,
    "start_time": "2024-02-07T17:22:42.667Z"
   },
   {
    "duration": 0,
    "start_time": "2024-02-07T17:22:42.668Z"
   },
   {
    "duration": 120,
    "start_time": "2024-02-07T17:23:14.024Z"
   },
   {
    "duration": 14,
    "start_time": "2024-02-07T17:23:15.180Z"
   },
   {
    "duration": 7,
    "start_time": "2024-02-07T17:23:19.110Z"
   },
   {
    "duration": 9,
    "start_time": "2024-02-07T17:23:19.454Z"
   },
   {
    "duration": 8,
    "start_time": "2024-02-07T17:24:03.926Z"
   },
   {
    "duration": 167,
    "start_time": "2024-02-07T17:43:04.813Z"
   },
   {
    "duration": 177,
    "start_time": "2024-02-07T17:43:52.776Z"
   },
   {
    "duration": 149,
    "start_time": "2024-02-07T17:44:16.816Z"
   },
   {
    "duration": 170,
    "start_time": "2024-02-07T17:46:05.204Z"
   },
   {
    "duration": 7,
    "start_time": "2024-02-07T17:47:02.873Z"
   },
   {
    "duration": 158,
    "start_time": "2024-02-07T17:48:42.170Z"
   },
   {
    "duration": 8510,
    "start_time": "2024-02-07T17:48:47.633Z"
   },
   {
    "duration": 285,
    "start_time": "2024-02-07T17:48:56.145Z"
   },
   {
    "duration": 11,
    "start_time": "2024-02-07T17:48:56.432Z"
   },
   {
    "duration": 11,
    "start_time": "2024-02-07T17:48:56.445Z"
   },
   {
    "duration": 6,
    "start_time": "2024-02-07T17:48:56.458Z"
   },
   {
    "duration": 9,
    "start_time": "2024-02-07T17:48:56.466Z"
   },
   {
    "duration": 75,
    "start_time": "2024-02-07T17:48:56.477Z"
   },
   {
    "duration": 9,
    "start_time": "2024-02-07T17:48:56.554Z"
   },
   {
    "duration": 19,
    "start_time": "2024-02-07T17:48:56.565Z"
   },
   {
    "duration": 24,
    "start_time": "2024-02-07T17:48:56.585Z"
   },
   {
    "duration": 81,
    "start_time": "2024-02-07T17:48:56.611Z"
   },
   {
    "duration": 9,
    "start_time": "2024-02-07T17:48:56.694Z"
   },
   {
    "duration": 26,
    "start_time": "2024-02-07T17:48:56.705Z"
   },
   {
    "duration": 11,
    "start_time": "2024-02-07T17:48:56.734Z"
   },
   {
    "duration": 104,
    "start_time": "2024-02-07T17:48:56.746Z"
   },
   {
    "duration": 11,
    "start_time": "2024-02-07T17:48:56.852Z"
   },
   {
    "duration": 8,
    "start_time": "2024-02-07T17:48:56.865Z"
   },
   {
    "duration": 25,
    "start_time": "2024-02-07T17:48:56.875Z"
   },
   {
    "duration": 92,
    "start_time": "2024-02-07T17:48:56.901Z"
   },
   {
    "duration": 14,
    "start_time": "2024-02-07T17:48:56.995Z"
   },
   {
    "duration": 10,
    "start_time": "2024-02-07T17:48:57.011Z"
   },
   {
    "duration": 9,
    "start_time": "2024-02-07T17:48:57.022Z"
   },
   {
    "duration": 223,
    "start_time": "2024-02-07T17:48:57.032Z"
   },
   {
    "duration": 159,
    "start_time": "2024-02-07T17:50:51.103Z"
   },
   {
    "duration": 155,
    "start_time": "2024-02-07T17:53:22.674Z"
   },
   {
    "duration": 71,
    "start_time": "2024-02-07T17:53:40.940Z"
   },
   {
    "duration": 110,
    "start_time": "2024-02-07T18:24:39.491Z"
   },
   {
    "duration": 108,
    "start_time": "2024-02-07T18:26:35.368Z"
   },
   {
    "duration": 106,
    "start_time": "2024-02-07T18:27:34.850Z"
   },
   {
    "duration": 106,
    "start_time": "2024-02-07T18:29:41.404Z"
   },
   {
    "duration": 106,
    "start_time": "2024-02-07T18:29:48.599Z"
   },
   {
    "duration": 106,
    "start_time": "2024-02-07T18:34:36.781Z"
   },
   {
    "duration": 101,
    "start_time": "2024-02-07T18:36:26.517Z"
   },
   {
    "duration": 105,
    "start_time": "2024-02-07T18:54:04.408Z"
   },
   {
    "duration": 77,
    "start_time": "2024-02-07T18:54:54.356Z"
   },
   {
    "duration": 74,
    "start_time": "2024-02-07T18:55:06.945Z"
   },
   {
    "duration": 147,
    "start_time": "2024-02-07T19:17:02.349Z"
   },
   {
    "duration": 177,
    "start_time": "2024-02-07T19:17:48.918Z"
   },
   {
    "duration": 167,
    "start_time": "2024-02-07T19:19:34.424Z"
   },
   {
    "duration": 180,
    "start_time": "2024-02-07T19:20:46.805Z"
   },
   {
    "duration": 157,
    "start_time": "2024-02-07T19:22:58.444Z"
   },
   {
    "duration": 150,
    "start_time": "2024-02-07T19:24:06.649Z"
   },
   {
    "duration": 160,
    "start_time": "2024-02-07T19:24:20.464Z"
   },
   {
    "duration": 160,
    "start_time": "2024-02-07T19:29:45.838Z"
   },
   {
    "duration": 173,
    "start_time": "2024-02-07T19:31:05.472Z"
   },
   {
    "duration": 155,
    "start_time": "2024-02-07T19:34:06.169Z"
   },
   {
    "duration": 90,
    "start_time": "2024-02-07T19:34:59.535Z"
   },
   {
    "duration": 150,
    "start_time": "2024-02-07T19:35:56.574Z"
   },
   {
    "duration": 101,
    "start_time": "2024-02-07T19:37:16.131Z"
   },
   {
    "duration": 105,
    "start_time": "2024-02-07T19:38:18.899Z"
   },
   {
    "duration": 107,
    "start_time": "2024-02-07T19:38:33.057Z"
   },
   {
    "duration": 104,
    "start_time": "2024-02-07T19:38:40.775Z"
   },
   {
    "duration": 106,
    "start_time": "2024-02-07T19:40:17.105Z"
   },
   {
    "duration": 104,
    "start_time": "2024-02-07T19:40:25.835Z"
   },
   {
    "duration": 103,
    "start_time": "2024-02-07T19:40:33.500Z"
   },
   {
    "duration": 103,
    "start_time": "2024-02-07T19:40:37.541Z"
   },
   {
    "duration": 107,
    "start_time": "2024-02-07T19:41:01.064Z"
   },
   {
    "duration": 105,
    "start_time": "2024-02-07T19:41:05.494Z"
   },
   {
    "duration": 166,
    "start_time": "2024-02-07T19:41:55.049Z"
   },
   {
    "duration": 164,
    "start_time": "2024-02-07T19:42:40.457Z"
   },
   {
    "duration": 166,
    "start_time": "2024-02-07T19:43:30.200Z"
   },
   {
    "duration": 92,
    "start_time": "2024-02-07T19:43:44.505Z"
   },
   {
    "duration": 159,
    "start_time": "2024-02-07T19:56:27.744Z"
   },
   {
    "duration": 152,
    "start_time": "2024-02-07T19:57:23.989Z"
   },
   {
    "duration": 173,
    "start_time": "2024-02-07T19:57:51.150Z"
   },
   {
    "duration": 179,
    "start_time": "2024-02-07T19:58:04.620Z"
   },
   {
    "duration": 160,
    "start_time": "2024-02-07T19:58:24.495Z"
   },
   {
    "duration": 104,
    "start_time": "2024-02-07T19:58:39.008Z"
   },
   {
    "duration": 155,
    "start_time": "2024-02-07T19:59:15.717Z"
   },
   {
    "duration": 194,
    "start_time": "2024-02-07T19:59:34.487Z"
   },
   {
    "duration": 160,
    "start_time": "2024-02-07T19:59:51.125Z"
   },
   {
    "duration": 155,
    "start_time": "2024-02-07T20:00:16.991Z"
   },
   {
    "duration": 175,
    "start_time": "2024-02-07T20:00:43.458Z"
   },
   {
    "duration": 79,
    "start_time": "2024-02-07T20:13:20.939Z"
   },
   {
    "duration": 78,
    "start_time": "2024-02-07T20:14:03.176Z"
   },
   {
    "duration": 78,
    "start_time": "2024-02-07T20:14:50.645Z"
   },
   {
    "duration": 80,
    "start_time": "2024-02-07T20:15:02.854Z"
   },
   {
    "duration": 78,
    "start_time": "2024-02-07T20:17:33.649Z"
   },
   {
    "duration": 79,
    "start_time": "2024-02-07T20:18:20.828Z"
   },
   {
    "duration": 154,
    "start_time": "2024-02-07T20:30:56.459Z"
   },
   {
    "duration": 164,
    "start_time": "2024-02-07T20:31:48.656Z"
   },
   {
    "duration": 153,
    "start_time": "2024-02-07T20:32:08.520Z"
   },
   {
    "duration": 75,
    "start_time": "2024-02-07T20:32:56.833Z"
   },
   {
    "duration": 175,
    "start_time": "2024-02-07T20:37:51.413Z"
   },
   {
    "duration": 76,
    "start_time": "2024-02-07T20:38:14.044Z"
   },
   {
    "duration": 168,
    "start_time": "2024-02-07T20:39:18.759Z"
   },
   {
    "duration": 76,
    "start_time": "2024-02-07T20:40:39.628Z"
   },
   {
    "duration": 75,
    "start_time": "2024-02-07T20:47:05.956Z"
   },
   {
    "duration": 8524,
    "start_time": "2024-02-07T20:47:47.264Z"
   },
   {
    "duration": 286,
    "start_time": "2024-02-07T20:47:55.790Z"
   },
   {
    "duration": 12,
    "start_time": "2024-02-07T20:47:56.077Z"
   },
   {
    "duration": 8,
    "start_time": "2024-02-07T20:47:56.090Z"
   },
   {
    "duration": 7,
    "start_time": "2024-02-07T20:47:56.100Z"
   },
   {
    "duration": 11,
    "start_time": "2024-02-07T20:47:56.108Z"
   },
   {
    "duration": 96,
    "start_time": "2024-02-07T20:47:56.121Z"
   },
   {
    "duration": 10,
    "start_time": "2024-02-07T20:47:56.219Z"
   },
   {
    "duration": 17,
    "start_time": "2024-02-07T20:47:56.231Z"
   },
   {
    "duration": 8,
    "start_time": "2024-02-07T20:47:56.249Z"
   },
   {
    "duration": 79,
    "start_time": "2024-02-07T20:47:56.259Z"
   },
   {
    "duration": 10,
    "start_time": "2024-02-07T20:47:56.340Z"
   },
   {
    "duration": 27,
    "start_time": "2024-02-07T20:47:56.351Z"
   },
   {
    "duration": 8,
    "start_time": "2024-02-07T20:47:56.381Z"
   },
   {
    "duration": 97,
    "start_time": "2024-02-07T20:47:56.390Z"
   },
   {
    "duration": 11,
    "start_time": "2024-02-07T20:47:56.489Z"
   },
   {
    "duration": 21,
    "start_time": "2024-02-07T20:47:56.501Z"
   },
   {
    "duration": 6,
    "start_time": "2024-02-07T20:47:56.524Z"
   },
   {
    "duration": 89,
    "start_time": "2024-02-07T20:47:56.532Z"
   },
   {
    "duration": 10,
    "start_time": "2024-02-07T20:47:56.623Z"
   },
   {
    "duration": 8,
    "start_time": "2024-02-07T20:47:56.634Z"
   },
   {
    "duration": 6,
    "start_time": "2024-02-07T20:47:56.644Z"
   },
   {
    "duration": 72,
    "start_time": "2024-02-07T20:47:56.652Z"
   },
   {
    "duration": 84,
    "start_time": "2024-02-07T20:47:56.726Z"
   },
   {
    "duration": 74,
    "start_time": "2024-02-07T20:47:56.812Z"
   },
   {
    "duration": 78,
    "start_time": "2024-02-07T20:47:56.888Z"
   },
   {
    "duration": 80,
    "start_time": "2024-02-07T20:47:56.968Z"
   },
   {
    "duration": 8451,
    "start_time": "2024-02-07T20:48:41.180Z"
   },
   {
    "duration": 277,
    "start_time": "2024-02-07T20:48:49.633Z"
   },
   {
    "duration": 12,
    "start_time": "2024-02-07T20:48:49.912Z"
   },
   {
    "duration": 9,
    "start_time": "2024-02-07T20:48:49.926Z"
   },
   {
    "duration": 6,
    "start_time": "2024-02-07T20:48:49.937Z"
   },
   {
    "duration": 13,
    "start_time": "2024-02-07T20:48:49.945Z"
   },
   {
    "duration": 74,
    "start_time": "2024-02-07T20:48:49.960Z"
   },
   {
    "duration": 11,
    "start_time": "2024-02-07T20:48:50.036Z"
   },
   {
    "duration": 9,
    "start_time": "2024-02-07T20:48:50.049Z"
   },
   {
    "duration": 19,
    "start_time": "2024-02-07T20:48:50.060Z"
   },
   {
    "duration": 72,
    "start_time": "2024-02-07T20:48:50.081Z"
   },
   {
    "duration": 10,
    "start_time": "2024-02-07T20:48:50.155Z"
   },
   {
    "duration": 13,
    "start_time": "2024-02-07T20:48:50.167Z"
   },
   {
    "duration": 17,
    "start_time": "2024-02-07T20:48:50.183Z"
   },
   {
    "duration": 124,
    "start_time": "2024-02-07T20:48:50.201Z"
   },
   {
    "duration": 10,
    "start_time": "2024-02-07T20:48:50.327Z"
   },
   {
    "duration": 24,
    "start_time": "2024-02-07T20:48:50.339Z"
   },
   {
    "duration": 33,
    "start_time": "2024-02-07T20:48:50.365Z"
   },
   {
    "duration": 101,
    "start_time": "2024-02-07T20:48:50.400Z"
   },
   {
    "duration": 10,
    "start_time": "2024-02-07T20:48:50.503Z"
   },
   {
    "duration": 39,
    "start_time": "2024-02-07T20:48:50.515Z"
   },
   {
    "duration": 11,
    "start_time": "2024-02-07T20:48:50.555Z"
   },
   {
    "duration": 71,
    "start_time": "2024-02-07T20:48:50.567Z"
   },
   {
    "duration": 84,
    "start_time": "2024-02-07T20:48:50.640Z"
   },
   {
    "duration": 74,
    "start_time": "2024-02-07T20:48:50.725Z"
   },
   {
    "duration": 78,
    "start_time": "2024-02-07T20:48:50.800Z"
   },
   {
    "duration": 75,
    "start_time": "2024-02-07T20:48:50.879Z"
   },
   {
    "duration": 103,
    "start_time": "2024-02-07T20:52:04.372Z"
   },
   {
    "duration": 9139,
    "start_time": "2024-02-07T21:07:20.002Z"
   },
   {
    "duration": 274,
    "start_time": "2024-02-07T21:07:29.144Z"
   },
   {
    "duration": 12,
    "start_time": "2024-02-07T21:07:29.420Z"
   },
   {
    "duration": 28,
    "start_time": "2024-02-07T21:07:29.433Z"
   },
   {
    "duration": 41,
    "start_time": "2024-02-07T21:07:29.463Z"
   },
   {
    "duration": 10,
    "start_time": "2024-02-07T21:07:29.506Z"
   },
   {
    "duration": 74,
    "start_time": "2024-02-07T21:07:29.518Z"
   },
   {
    "duration": 11,
    "start_time": "2024-02-07T21:07:29.593Z"
   },
   {
    "duration": 13,
    "start_time": "2024-02-07T21:07:29.606Z"
   },
   {
    "duration": 9,
    "start_time": "2024-02-07T21:07:29.621Z"
   },
   {
    "duration": 75,
    "start_time": "2024-02-07T21:07:29.631Z"
   },
   {
    "duration": 10,
    "start_time": "2024-02-07T21:07:29.708Z"
   },
   {
    "duration": 18,
    "start_time": "2024-02-07T21:07:29.720Z"
   },
   {
    "duration": 24,
    "start_time": "2024-02-07T21:07:29.741Z"
   },
   {
    "duration": 110,
    "start_time": "2024-02-07T21:07:29.766Z"
   },
   {
    "duration": 16,
    "start_time": "2024-02-07T21:07:29.878Z"
   },
   {
    "duration": 17,
    "start_time": "2024-02-07T21:07:29.896Z"
   },
   {
    "duration": 71,
    "start_time": "2024-02-07T21:07:29.915Z"
   },
   {
    "duration": 99,
    "start_time": "2024-02-07T21:07:29.988Z"
   },
   {
    "duration": 10,
    "start_time": "2024-02-07T21:07:30.089Z"
   },
   {
    "duration": 61,
    "start_time": "2024-02-07T21:07:30.101Z"
   },
   {
    "duration": 50,
    "start_time": "2024-02-07T21:07:30.163Z"
   },
   {
    "duration": 137,
    "start_time": "2024-02-07T21:07:30.215Z"
   },
   {
    "duration": 83,
    "start_time": "2024-02-07T21:07:30.354Z"
   },
   {
    "duration": 73,
    "start_time": "2024-02-07T21:07:30.439Z"
   },
   {
    "duration": 76,
    "start_time": "2024-02-07T21:07:30.514Z"
   },
   {
    "duration": 74,
    "start_time": "2024-02-07T21:07:30.592Z"
   },
   {
    "duration": 8536,
    "start_time": "2024-02-07T21:09:32.070Z"
   },
   {
    "duration": 281,
    "start_time": "2024-02-07T21:09:40.608Z"
   },
   {
    "duration": 11,
    "start_time": "2024-02-07T21:09:40.890Z"
   },
   {
    "duration": 31,
    "start_time": "2024-02-07T21:09:40.903Z"
   },
   {
    "duration": 6,
    "start_time": "2024-02-07T21:09:40.936Z"
   },
   {
    "duration": 10,
    "start_time": "2024-02-07T21:09:40.944Z"
   },
   {
    "duration": 76,
    "start_time": "2024-02-07T21:09:40.958Z"
   },
   {
    "duration": 10,
    "start_time": "2024-02-07T21:09:41.035Z"
   },
   {
    "duration": 21,
    "start_time": "2024-02-07T21:09:41.047Z"
   },
   {
    "duration": 7,
    "start_time": "2024-02-07T21:09:41.069Z"
   },
   {
    "duration": 74,
    "start_time": "2024-02-07T21:09:41.078Z"
   },
   {
    "duration": 11,
    "start_time": "2024-02-07T21:09:41.154Z"
   },
   {
    "duration": 12,
    "start_time": "2024-02-07T21:09:41.166Z"
   },
   {
    "duration": 15,
    "start_time": "2024-02-07T21:09:41.181Z"
   },
   {
    "duration": 107,
    "start_time": "2024-02-07T21:09:41.197Z"
   },
   {
    "duration": 10,
    "start_time": "2024-02-07T21:09:41.306Z"
   },
   {
    "duration": 7,
    "start_time": "2024-02-07T21:09:41.318Z"
   },
   {
    "duration": 6,
    "start_time": "2024-02-07T21:09:41.326Z"
   },
   {
    "duration": 89,
    "start_time": "2024-02-07T21:09:41.334Z"
   },
   {
    "duration": 10,
    "start_time": "2024-02-07T21:09:41.424Z"
   },
   {
    "duration": 7,
    "start_time": "2024-02-07T21:09:41.436Z"
   },
   {
    "duration": 7,
    "start_time": "2024-02-07T21:09:41.444Z"
   },
   {
    "duration": 73,
    "start_time": "2024-02-07T21:09:41.452Z"
   },
   {
    "duration": 86,
    "start_time": "2024-02-07T21:09:41.526Z"
   },
   {
    "duration": 75,
    "start_time": "2024-02-07T21:09:41.613Z"
   },
   {
    "duration": 80,
    "start_time": "2024-02-07T21:09:41.690Z"
   },
   {
    "duration": 76,
    "start_time": "2024-02-07T21:09:41.772Z"
   },
   {
    "duration": 10668,
    "start_time": "2024-02-08T13:10:53.129Z"
   },
   {
    "duration": 282,
    "start_time": "2024-02-08T13:11:03.799Z"
   },
   {
    "duration": 12,
    "start_time": "2024-02-08T13:11:04.082Z"
   },
   {
    "duration": 27,
    "start_time": "2024-02-08T13:11:04.096Z"
   },
   {
    "duration": 17,
    "start_time": "2024-02-08T13:11:04.124Z"
   },
   {
    "duration": 33,
    "start_time": "2024-02-08T13:11:04.143Z"
   },
   {
    "duration": 89,
    "start_time": "2024-02-08T13:11:04.178Z"
   },
   {
    "duration": 10,
    "start_time": "2024-02-08T13:11:04.268Z"
   },
   {
    "duration": 12,
    "start_time": "2024-02-08T13:11:04.280Z"
   },
   {
    "duration": 5,
    "start_time": "2024-02-08T13:11:04.294Z"
   },
   {
    "duration": 84,
    "start_time": "2024-02-08T13:11:04.301Z"
   },
   {
    "duration": 11,
    "start_time": "2024-02-08T13:11:04.386Z"
   },
   {
    "duration": 13,
    "start_time": "2024-02-08T13:11:04.399Z"
   },
   {
    "duration": 10,
    "start_time": "2024-02-08T13:11:04.414Z"
   },
   {
    "duration": 108,
    "start_time": "2024-02-08T13:11:04.425Z"
   },
   {
    "duration": 12,
    "start_time": "2024-02-08T13:11:04.534Z"
   },
   {
    "duration": 14,
    "start_time": "2024-02-08T13:11:04.547Z"
   },
   {
    "duration": 15,
    "start_time": "2024-02-08T13:11:04.563Z"
   },
   {
    "duration": 90,
    "start_time": "2024-02-08T13:11:04.580Z"
   },
   {
    "duration": 10,
    "start_time": "2024-02-08T13:11:04.672Z"
   },
   {
    "duration": 20,
    "start_time": "2024-02-08T13:11:04.684Z"
   },
   {
    "duration": 20,
    "start_time": "2024-02-08T13:11:04.706Z"
   },
   {
    "duration": 83,
    "start_time": "2024-02-08T13:11:04.728Z"
   },
   {
    "duration": 87,
    "start_time": "2024-02-08T13:11:04.813Z"
   },
   {
    "duration": 76,
    "start_time": "2024-02-08T13:11:04.902Z"
   },
   {
    "duration": 79,
    "start_time": "2024-02-08T13:11:04.980Z"
   },
   {
    "duration": 75,
    "start_time": "2024-02-08T13:11:05.061Z"
   },
   {
    "duration": 9357,
    "start_time": "2024-02-08T13:13:28.024Z"
   },
   {
    "duration": 281,
    "start_time": "2024-02-08T13:13:37.382Z"
   },
   {
    "duration": 9,
    "start_time": "2024-02-08T13:13:37.664Z"
   },
   {
    "duration": 9,
    "start_time": "2024-02-08T13:13:37.674Z"
   },
   {
    "duration": 7,
    "start_time": "2024-02-08T13:13:37.685Z"
   },
   {
    "duration": 11,
    "start_time": "2024-02-08T13:13:37.693Z"
   },
   {
    "duration": 78,
    "start_time": "2024-02-08T13:13:37.705Z"
   },
   {
    "duration": 8,
    "start_time": "2024-02-08T13:13:37.784Z"
   },
   {
    "duration": 5,
    "start_time": "2024-02-08T13:13:37.793Z"
   },
   {
    "duration": 6,
    "start_time": "2024-02-08T13:13:37.799Z"
   },
   {
    "duration": 72,
    "start_time": "2024-02-08T13:13:37.807Z"
   },
   {
    "duration": 7,
    "start_time": "2024-02-08T13:13:37.880Z"
   },
   {
    "duration": 11,
    "start_time": "2024-02-08T13:13:37.888Z"
   },
   {
    "duration": 9,
    "start_time": "2024-02-08T13:13:37.901Z"
   },
   {
    "duration": 117,
    "start_time": "2024-02-08T13:13:37.911Z"
   },
   {
    "duration": 8,
    "start_time": "2024-02-08T13:13:38.029Z"
   },
   {
    "duration": 9,
    "start_time": "2024-02-08T13:13:38.039Z"
   },
   {
    "duration": 9,
    "start_time": "2024-02-08T13:13:38.049Z"
   },
   {
    "duration": 91,
    "start_time": "2024-02-08T13:13:38.059Z"
   },
   {
    "duration": 9,
    "start_time": "2024-02-08T13:13:38.151Z"
   },
   {
    "duration": 11,
    "start_time": "2024-02-08T13:13:38.161Z"
   },
   {
    "duration": 7,
    "start_time": "2024-02-08T13:13:38.173Z"
   },
   {
    "duration": 74,
    "start_time": "2024-02-08T13:13:38.181Z"
   },
   {
    "duration": 83,
    "start_time": "2024-02-08T13:13:38.256Z"
   },
   {
    "duration": 75,
    "start_time": "2024-02-08T13:13:38.340Z"
   },
   {
    "duration": 77,
    "start_time": "2024-02-08T13:13:38.417Z"
   },
   {
    "duration": 75,
    "start_time": "2024-02-08T13:13:38.495Z"
   },
   {
    "duration": 245,
    "start_time": "2024-02-08T13:17:58.463Z"
   },
   {
    "duration": 86,
    "start_time": "2024-02-08T13:18:24.942Z"
   },
   {
    "duration": 74,
    "start_time": "2024-02-08T13:19:32.112Z"
   },
   {
    "duration": 80,
    "start_time": "2024-02-08T13:23:37.429Z"
   },
   {
    "duration": 87,
    "start_time": "2024-02-08T13:42:18.052Z"
   },
   {
    "duration": 76,
    "start_time": "2024-02-08T13:50:09.937Z"
   },
   {
    "duration": 160,
    "start_time": "2024-02-08T13:59:06.597Z"
   },
   {
    "duration": 200,
    "start_time": "2024-02-08T13:59:14.445Z"
   },
   {
    "duration": 1303,
    "start_time": "2024-02-08T13:59:41.916Z"
   },
   {
    "duration": 78,
    "start_time": "2024-02-08T14:00:05.861Z"
   },
   {
    "duration": 151,
    "start_time": "2024-02-08T14:01:50.299Z"
   },
   {
    "duration": 183,
    "start_time": "2024-02-08T14:01:56.211Z"
   },
   {
    "duration": 80,
    "start_time": "2024-02-08T14:02:30.348Z"
   },
   {
    "duration": 172,
    "start_time": "2024-02-08T14:09:18.096Z"
   },
   {
    "duration": 193,
    "start_time": "2024-02-08T14:09:30.112Z"
   },
   {
    "duration": 179,
    "start_time": "2024-02-08T14:09:43.535Z"
   },
   {
    "duration": 292,
    "start_time": "2024-02-08T14:10:02.032Z"
   },
   {
    "duration": 88,
    "start_time": "2024-02-08T14:10:22.175Z"
   },
   {
    "duration": 78,
    "start_time": "2024-02-08T14:10:44.675Z"
   },
   {
    "duration": 77,
    "start_time": "2024-02-08T14:10:56.903Z"
   },
   {
    "duration": 158,
    "start_time": "2024-02-08T14:11:54.464Z"
   },
   {
    "duration": 149,
    "start_time": "2024-02-08T14:12:04.992Z"
   },
   {
    "duration": 147,
    "start_time": "2024-02-08T14:12:21.990Z"
   },
   {
    "duration": 142,
    "start_time": "2024-02-08T14:12:27.494Z"
   },
   {
    "duration": 80,
    "start_time": "2024-02-08T14:13:08.094Z"
   },
   {
    "duration": 79,
    "start_time": "2024-02-08T14:14:07.253Z"
   },
   {
    "duration": 77,
    "start_time": "2024-02-08T14:14:13.526Z"
   },
   {
    "duration": 76,
    "start_time": "2024-02-08T14:17:35.055Z"
   },
   {
    "duration": 76,
    "start_time": "2024-02-08T14:17:46.940Z"
   },
   {
    "duration": 77,
    "start_time": "2024-02-08T14:18:51.403Z"
   },
   {
    "duration": 9024,
    "start_time": "2024-02-08T14:20:26.682Z"
   },
   {
    "duration": 285,
    "start_time": "2024-02-08T14:20:35.708Z"
   },
   {
    "duration": 8,
    "start_time": "2024-02-08T14:20:35.994Z"
   },
   {
    "duration": 7,
    "start_time": "2024-02-08T14:20:36.003Z"
   },
   {
    "duration": 5,
    "start_time": "2024-02-08T14:20:36.011Z"
   },
   {
    "duration": 7,
    "start_time": "2024-02-08T14:20:36.017Z"
   },
   {
    "duration": 74,
    "start_time": "2024-02-08T14:20:36.026Z"
   },
   {
    "duration": 8,
    "start_time": "2024-02-08T14:20:36.101Z"
   },
   {
    "duration": 6,
    "start_time": "2024-02-08T14:20:36.110Z"
   },
   {
    "duration": 9,
    "start_time": "2024-02-08T14:20:36.117Z"
   },
   {
    "duration": 74,
    "start_time": "2024-02-08T14:20:36.127Z"
   },
   {
    "duration": 9,
    "start_time": "2024-02-08T14:20:36.202Z"
   },
   {
    "duration": 5,
    "start_time": "2024-02-08T14:20:36.212Z"
   },
   {
    "duration": 7,
    "start_time": "2024-02-08T14:20:36.217Z"
   },
   {
    "duration": 107,
    "start_time": "2024-02-08T14:20:36.226Z"
   },
   {
    "duration": 8,
    "start_time": "2024-02-08T14:20:36.335Z"
   },
   {
    "duration": 6,
    "start_time": "2024-02-08T14:20:36.344Z"
   },
   {
    "duration": 6,
    "start_time": "2024-02-08T14:20:36.351Z"
   },
   {
    "duration": 87,
    "start_time": "2024-02-08T14:20:36.358Z"
   },
   {
    "duration": 7,
    "start_time": "2024-02-08T14:20:36.446Z"
   },
   {
    "duration": 5,
    "start_time": "2024-02-08T14:20:36.454Z"
   },
   {
    "duration": 5,
    "start_time": "2024-02-08T14:20:36.461Z"
   },
   {
    "duration": 71,
    "start_time": "2024-02-08T14:20:36.467Z"
   },
   {
    "duration": 86,
    "start_time": "2024-02-08T14:20:36.539Z"
   },
   {
    "duration": 75,
    "start_time": "2024-02-08T14:20:36.626Z"
   },
   {
    "duration": 78,
    "start_time": "2024-02-08T14:20:36.702Z"
   },
   {
    "duration": 74,
    "start_time": "2024-02-08T14:20:36.781Z"
   },
   {
    "duration": 8151,
    "start_time": "2024-02-08T14:23:51.002Z"
   },
   {
    "duration": 271,
    "start_time": "2024-02-08T14:23:59.155Z"
   },
   {
    "duration": 8,
    "start_time": "2024-02-08T14:23:59.427Z"
   },
   {
    "duration": 6,
    "start_time": "2024-02-08T14:23:59.436Z"
   },
   {
    "duration": 4,
    "start_time": "2024-02-08T14:23:59.443Z"
   },
   {
    "duration": 7,
    "start_time": "2024-02-08T14:23:59.449Z"
   },
   {
    "duration": 73,
    "start_time": "2024-02-08T14:23:59.457Z"
   },
   {
    "duration": 7,
    "start_time": "2024-02-08T14:23:59.531Z"
   },
   {
    "duration": 17,
    "start_time": "2024-02-08T14:23:59.539Z"
   },
   {
    "duration": 6,
    "start_time": "2024-02-08T14:23:59.558Z"
   },
   {
    "duration": 79,
    "start_time": "2024-02-08T14:23:59.565Z"
   },
   {
    "duration": 7,
    "start_time": "2024-02-08T14:23:59.645Z"
   },
   {
    "duration": 5,
    "start_time": "2024-02-08T14:23:59.653Z"
   },
   {
    "duration": 7,
    "start_time": "2024-02-08T14:23:59.659Z"
   },
   {
    "duration": 103,
    "start_time": "2024-02-08T14:23:59.667Z"
   },
   {
    "duration": 7,
    "start_time": "2024-02-08T14:23:59.772Z"
   },
   {
    "duration": 5,
    "start_time": "2024-02-08T14:23:59.780Z"
   },
   {
    "duration": 5,
    "start_time": "2024-02-08T14:23:59.786Z"
   },
   {
    "duration": 87,
    "start_time": "2024-02-08T14:23:59.792Z"
   },
   {
    "duration": 7,
    "start_time": "2024-02-08T14:23:59.880Z"
   },
   {
    "duration": 6,
    "start_time": "2024-02-08T14:23:59.888Z"
   },
   {
    "duration": 4,
    "start_time": "2024-02-08T14:23:59.895Z"
   },
   {
    "duration": 70,
    "start_time": "2024-02-08T14:23:59.901Z"
   },
   {
    "duration": 88,
    "start_time": "2024-02-08T14:23:59.972Z"
   },
   {
    "duration": 77,
    "start_time": "2024-02-08T14:24:00.062Z"
   },
   {
    "duration": 78,
    "start_time": "2024-02-08T14:24:00.141Z"
   },
   {
    "duration": 76,
    "start_time": "2024-02-08T14:24:00.220Z"
   },
   {
    "duration": 8421,
    "start_time": "2024-02-08T20:51:24.441Z"
   },
   {
    "duration": 293,
    "start_time": "2024-02-08T20:51:32.864Z"
   },
   {
    "duration": 10,
    "start_time": "2024-02-08T20:51:33.158Z"
   },
   {
    "duration": 43,
    "start_time": "2024-02-08T20:51:33.170Z"
   },
   {
    "duration": 35,
    "start_time": "2024-02-08T20:51:33.214Z"
   },
   {
    "duration": 30,
    "start_time": "2024-02-08T20:51:33.251Z"
   },
   {
    "duration": 99,
    "start_time": "2024-02-08T20:51:33.282Z"
   },
   {
    "duration": 9,
    "start_time": "2024-02-08T20:51:33.382Z"
   },
   {
    "duration": 59,
    "start_time": "2024-02-08T20:51:33.392Z"
   },
   {
    "duration": 69,
    "start_time": "2024-02-08T20:51:33.453Z"
   },
   {
    "duration": 96,
    "start_time": "2024-02-08T20:51:33.523Z"
   },
   {
    "duration": 8,
    "start_time": "2024-02-08T20:51:33.621Z"
   },
   {
    "duration": 67,
    "start_time": "2024-02-08T20:51:33.631Z"
   },
   {
    "duration": 18,
    "start_time": "2024-02-08T20:51:33.700Z"
   },
   {
    "duration": 186,
    "start_time": "2024-02-08T20:51:33.720Z"
   },
   {
    "duration": 10,
    "start_time": "2024-02-08T20:51:33.907Z"
   },
   {
    "duration": 15,
    "start_time": "2024-02-08T20:51:33.918Z"
   },
   {
    "duration": 51,
    "start_time": "2024-02-08T20:51:33.934Z"
   },
   {
    "duration": 103,
    "start_time": "2024-02-08T20:51:33.987Z"
   },
   {
    "duration": 9,
    "start_time": "2024-02-08T20:51:34.092Z"
   },
   {
    "duration": 10,
    "start_time": "2024-02-08T20:51:34.102Z"
   },
   {
    "duration": 7,
    "start_time": "2024-02-08T20:51:34.113Z"
   },
   {
    "duration": 75,
    "start_time": "2024-02-08T20:51:34.122Z"
   },
   {
    "duration": 86,
    "start_time": "2024-02-08T20:51:34.199Z"
   },
   {
    "duration": 76,
    "start_time": "2024-02-08T20:51:34.287Z"
   },
   {
    "duration": 80,
    "start_time": "2024-02-08T20:51:34.364Z"
   },
   {
    "duration": 77,
    "start_time": "2024-02-08T20:51:34.446Z"
   },
   {
    "duration": 8413,
    "start_time": "2024-02-08T20:56:25.858Z"
   },
   {
    "duration": 288,
    "start_time": "2024-02-08T20:56:34.273Z"
   },
   {
    "duration": 11,
    "start_time": "2024-02-08T20:56:34.563Z"
   },
   {
    "duration": 6,
    "start_time": "2024-02-08T20:56:34.576Z"
   },
   {
    "duration": 6,
    "start_time": "2024-02-08T20:56:34.583Z"
   },
   {
    "duration": 9,
    "start_time": "2024-02-08T20:56:34.591Z"
   },
   {
    "duration": 75,
    "start_time": "2024-02-08T20:56:34.601Z"
   },
   {
    "duration": 10,
    "start_time": "2024-02-08T20:56:34.677Z"
   },
   {
    "duration": 9,
    "start_time": "2024-02-08T20:56:34.688Z"
   },
   {
    "duration": 4,
    "start_time": "2024-02-08T20:56:34.701Z"
   },
   {
    "duration": 76,
    "start_time": "2024-02-08T20:56:34.706Z"
   },
   {
    "duration": 10,
    "start_time": "2024-02-08T20:56:34.783Z"
   },
   {
    "duration": 15,
    "start_time": "2024-02-08T20:56:34.795Z"
   },
   {
    "duration": 6,
    "start_time": "2024-02-08T20:56:34.811Z"
   },
   {
    "duration": 103,
    "start_time": "2024-02-08T20:56:34.819Z"
   },
   {
    "duration": 10,
    "start_time": "2024-02-08T20:56:34.924Z"
   },
   {
    "duration": 7,
    "start_time": "2024-02-08T20:56:34.935Z"
   },
   {
    "duration": 6,
    "start_time": "2024-02-08T20:56:34.943Z"
   },
   {
    "duration": 88,
    "start_time": "2024-02-08T20:56:34.950Z"
   },
   {
    "duration": 11,
    "start_time": "2024-02-08T20:56:35.039Z"
   },
   {
    "duration": 20,
    "start_time": "2024-02-08T20:56:35.052Z"
   },
   {
    "duration": 8,
    "start_time": "2024-02-08T20:56:35.074Z"
   },
   {
    "duration": 72,
    "start_time": "2024-02-08T20:56:35.084Z"
   },
   {
    "duration": 86,
    "start_time": "2024-02-08T20:56:35.157Z"
   },
   {
    "duration": 76,
    "start_time": "2024-02-08T20:56:35.245Z"
   },
   {
    "duration": 222,
    "start_time": "2024-02-08T20:56:35.323Z"
   },
   {
    "duration": 0,
    "start_time": "2024-02-08T20:56:35.547Z"
   },
   {
    "duration": 154,
    "start_time": "2024-02-08T20:56:46.355Z"
   },
   {
    "duration": 79,
    "start_time": "2024-02-08T20:57:15.100Z"
   },
   {
    "duration": 78,
    "start_time": "2024-02-08T20:57:50.544Z"
   },
   {
    "duration": 172,
    "start_time": "2024-02-08T20:58:45.017Z"
   },
   {
    "duration": 161,
    "start_time": "2024-02-08T20:59:00.164Z"
   },
   {
    "duration": 171,
    "start_time": "2024-02-08T20:59:06.966Z"
   },
   {
    "duration": 162,
    "start_time": "2024-02-08T20:59:32.534Z"
   },
   {
    "duration": 167,
    "start_time": "2024-02-08T20:59:47.919Z"
   },
   {
    "duration": 81,
    "start_time": "2024-02-08T21:00:00.260Z"
   },
   {
    "duration": 77,
    "start_time": "2024-02-08T21:04:08.406Z"
   },
   {
    "duration": 79,
    "start_time": "2024-02-08T21:05:02.070Z"
   },
   {
    "duration": 75,
    "start_time": "2024-02-08T21:10:13.601Z"
   },
   {
    "duration": 74,
    "start_time": "2024-02-08T21:10:25.156Z"
   },
   {
    "duration": 177,
    "start_time": "2024-02-08T21:10:45.151Z"
   },
   {
    "duration": 74,
    "start_time": "2024-02-08T21:10:56.828Z"
   },
   {
    "duration": 75,
    "start_time": "2024-02-08T21:13:36.939Z"
   },
   {
    "duration": 158,
    "start_time": "2024-02-08T21:16:38.437Z"
   },
   {
    "duration": 75,
    "start_time": "2024-02-08T21:16:48.545Z"
   },
   {
    "duration": 155,
    "start_time": "2024-02-08T21:17:10.023Z"
   },
   {
    "duration": 166,
    "start_time": "2024-02-08T21:18:05.369Z"
   },
   {
    "duration": 156,
    "start_time": "2024-02-08T21:18:32.878Z"
   },
   {
    "duration": 157,
    "start_time": "2024-02-08T21:18:53.523Z"
   },
   {
    "duration": 151,
    "start_time": "2024-02-08T21:19:04.525Z"
   },
   {
    "duration": 155,
    "start_time": "2024-02-08T21:20:34.745Z"
   },
   {
    "duration": 76,
    "start_time": "2024-02-08T21:20:46.200Z"
   },
   {
    "duration": 75,
    "start_time": "2024-02-08T21:27:49.731Z"
   },
   {
    "duration": 165,
    "start_time": "2024-02-08T21:29:17.419Z"
   },
   {
    "duration": 164,
    "start_time": "2024-02-08T21:29:33.995Z"
   },
   {
    "duration": 78,
    "start_time": "2024-02-08T21:29:49.498Z"
   },
   {
    "duration": 79,
    "start_time": "2024-02-08T21:30:17.384Z"
   },
   {
    "duration": 78,
    "start_time": "2024-02-08T21:30:26.835Z"
   },
   {
    "duration": 77,
    "start_time": "2024-02-08T21:31:05.672Z"
   },
   {
    "duration": 78,
    "start_time": "2024-02-08T21:31:36.972Z"
   },
   {
    "duration": 77,
    "start_time": "2024-02-08T21:31:44.326Z"
   },
   {
    "duration": 8570,
    "start_time": "2024-02-08T21:34:53.498Z"
   },
   {
    "duration": 268,
    "start_time": "2024-02-08T21:35:02.070Z"
   },
   {
    "duration": 11,
    "start_time": "2024-02-08T21:35:02.339Z"
   },
   {
    "duration": 32,
    "start_time": "2024-02-08T21:35:02.351Z"
   },
   {
    "duration": 13,
    "start_time": "2024-02-08T21:35:02.385Z"
   },
   {
    "duration": 15,
    "start_time": "2024-02-08T21:35:02.400Z"
   },
   {
    "duration": 72,
    "start_time": "2024-02-08T21:35:02.417Z"
   },
   {
    "duration": 10,
    "start_time": "2024-02-08T21:35:02.491Z"
   },
   {
    "duration": 29,
    "start_time": "2024-02-08T21:35:02.502Z"
   },
   {
    "duration": 11,
    "start_time": "2024-02-08T21:35:02.533Z"
   },
   {
    "duration": 79,
    "start_time": "2024-02-08T21:35:02.546Z"
   },
   {
    "duration": 11,
    "start_time": "2024-02-08T21:35:02.626Z"
   },
   {
    "duration": 20,
    "start_time": "2024-02-08T21:35:02.638Z"
   },
   {
    "duration": 37,
    "start_time": "2024-02-08T21:35:02.661Z"
   },
   {
    "duration": 97,
    "start_time": "2024-02-08T21:35:02.700Z"
   },
   {
    "duration": 10,
    "start_time": "2024-02-08T21:35:02.799Z"
   },
   {
    "duration": 11,
    "start_time": "2024-02-08T21:35:02.810Z"
   },
   {
    "duration": 10,
    "start_time": "2024-02-08T21:35:02.823Z"
   },
   {
    "duration": 87,
    "start_time": "2024-02-08T21:35:02.835Z"
   },
   {
    "duration": 10,
    "start_time": "2024-02-08T21:35:02.924Z"
   },
   {
    "duration": 11,
    "start_time": "2024-02-08T21:35:02.935Z"
   },
   {
    "duration": 10,
    "start_time": "2024-02-08T21:35:02.947Z"
   },
   {
    "duration": 69,
    "start_time": "2024-02-08T21:35:02.959Z"
   },
   {
    "duration": 84,
    "start_time": "2024-02-08T21:35:03.030Z"
   },
   {
    "duration": 71,
    "start_time": "2024-02-08T21:35:03.116Z"
   },
   {
    "duration": 74,
    "start_time": "2024-02-08T21:35:03.189Z"
   },
   {
    "duration": 73,
    "start_time": "2024-02-08T21:35:03.265Z"
   },
   {
    "duration": 78,
    "start_time": "2024-02-08T21:37:01.348Z"
   },
   {
    "duration": 221,
    "start_time": "2024-02-08T21:39:37.277Z"
   },
   {
    "duration": 78,
    "start_time": "2024-02-08T21:39:51.554Z"
   },
   {
    "duration": 219,
    "start_time": "2024-02-08T21:44:17.906Z"
   },
   {
    "duration": 156,
    "start_time": "2024-02-08T21:44:35.681Z"
   },
   {
    "duration": 175,
    "start_time": "2024-02-08T21:44:47.213Z"
   },
   {
    "duration": 77,
    "start_time": "2024-02-08T21:44:57.686Z"
   },
   {
    "duration": 76,
    "start_time": "2024-02-08T21:46:20.692Z"
   },
   {
    "duration": 162,
    "start_time": "2024-02-08T21:53:44.781Z"
   },
   {
    "duration": 154,
    "start_time": "2024-02-08T21:55:10.692Z"
   },
   {
    "duration": 155,
    "start_time": "2024-02-08T21:55:20.841Z"
   },
   {
    "duration": 157,
    "start_time": "2024-02-08T21:55:51.355Z"
   },
   {
    "duration": 178,
    "start_time": "2024-02-08T22:05:30.978Z"
   },
   {
    "duration": 75,
    "start_time": "2024-02-08T22:06:11.272Z"
   },
   {
    "duration": 165,
    "start_time": "2024-02-08T22:06:52.306Z"
   },
   {
    "duration": 76,
    "start_time": "2024-02-08T22:10:01.656Z"
   },
   {
    "duration": 200,
    "start_time": "2024-02-08T22:18:02.250Z"
   },
   {
    "duration": 165,
    "start_time": "2024-02-08T22:18:25.881Z"
   },
   {
    "duration": 157,
    "start_time": "2024-02-08T22:18:40.310Z"
   },
   {
    "duration": 73,
    "start_time": "2024-02-08T22:18:56.934Z"
   },
   {
    "duration": 150,
    "start_time": "2024-02-08T22:23:18.527Z"
   },
   {
    "duration": 221,
    "start_time": "2024-02-08T22:26:28.513Z"
   },
   {
    "duration": 77,
    "start_time": "2024-02-08T22:26:36.582Z"
   },
   {
    "duration": 76,
    "start_time": "2024-02-08T22:29:53.797Z"
   },
   {
    "duration": 79,
    "start_time": "2024-02-08T22:30:57.421Z"
   },
   {
    "duration": 75,
    "start_time": "2024-02-08T22:31:43.956Z"
   },
   {
    "duration": 75,
    "start_time": "2024-02-08T22:32:19.107Z"
   },
   {
    "duration": 8372,
    "start_time": "2024-02-08T22:34:18.577Z"
   },
   {
    "duration": 272,
    "start_time": "2024-02-08T22:34:26.950Z"
   },
   {
    "duration": 11,
    "start_time": "2024-02-08T22:34:27.223Z"
   },
   {
    "duration": 31,
    "start_time": "2024-02-08T22:34:27.235Z"
   },
   {
    "duration": 8,
    "start_time": "2024-02-08T22:34:27.268Z"
   },
   {
    "duration": 10,
    "start_time": "2024-02-08T22:34:27.277Z"
   },
   {
    "duration": 75,
    "start_time": "2024-02-08T22:34:27.288Z"
   },
   {
    "duration": 11,
    "start_time": "2024-02-08T22:34:27.364Z"
   },
   {
    "duration": 9,
    "start_time": "2024-02-08T22:34:27.377Z"
   },
   {
    "duration": 7,
    "start_time": "2024-02-08T22:34:27.388Z"
   },
   {
    "duration": 77,
    "start_time": "2024-02-08T22:34:27.397Z"
   },
   {
    "duration": 12,
    "start_time": "2024-02-08T22:34:27.476Z"
   },
   {
    "duration": 6,
    "start_time": "2024-02-08T22:34:27.490Z"
   },
   {
    "duration": 4,
    "start_time": "2024-02-08T22:34:27.500Z"
   },
   {
    "duration": 97,
    "start_time": "2024-02-08T22:34:27.506Z"
   },
   {
    "duration": 12,
    "start_time": "2024-02-08T22:34:27.605Z"
   },
   {
    "duration": 8,
    "start_time": "2024-02-08T22:34:27.619Z"
   },
   {
    "duration": 7,
    "start_time": "2024-02-08T22:34:27.629Z"
   },
   {
    "duration": 87,
    "start_time": "2024-02-08T22:34:27.638Z"
   },
   {
    "duration": 10,
    "start_time": "2024-02-08T22:34:27.727Z"
   },
   {
    "duration": 8,
    "start_time": "2024-02-08T22:34:27.739Z"
   },
   {
    "duration": 7,
    "start_time": "2024-02-08T22:34:27.749Z"
   },
   {
    "duration": 75,
    "start_time": "2024-02-08T22:34:27.758Z"
   },
   {
    "duration": 84,
    "start_time": "2024-02-08T22:34:27.834Z"
   },
   {
    "duration": 74,
    "start_time": "2024-02-08T22:34:27.920Z"
   },
   {
    "duration": 77,
    "start_time": "2024-02-08T22:34:27.995Z"
   },
   {
    "duration": 75,
    "start_time": "2024-02-08T22:34:28.074Z"
   },
   {
    "duration": 77,
    "start_time": "2024-02-08T22:37:43.936Z"
   },
   {
    "duration": 224,
    "start_time": "2024-02-08T22:38:52.294Z"
   },
   {
    "duration": 173,
    "start_time": "2024-02-08T22:39:26.459Z"
   },
   {
    "duration": 180,
    "start_time": "2024-02-08T22:40:15.222Z"
   },
   {
    "duration": 79,
    "start_time": "2024-02-08T22:41:49.091Z"
   },
   {
    "duration": 8737,
    "start_time": "2024-02-08T22:41:56.793Z"
   },
   {
    "duration": 280,
    "start_time": "2024-02-08T22:42:05.532Z"
   },
   {
    "duration": 12,
    "start_time": "2024-02-08T22:42:05.813Z"
   },
   {
    "duration": 39,
    "start_time": "2024-02-08T22:42:05.827Z"
   },
   {
    "duration": 7,
    "start_time": "2024-02-08T22:42:05.869Z"
   },
   {
    "duration": 11,
    "start_time": "2024-02-08T22:42:05.878Z"
   },
   {
    "duration": 72,
    "start_time": "2024-02-08T22:42:05.891Z"
   },
   {
    "duration": 9,
    "start_time": "2024-02-08T22:42:05.965Z"
   },
   {
    "duration": 8,
    "start_time": "2024-02-08T22:42:05.976Z"
   },
   {
    "duration": 16,
    "start_time": "2024-02-08T22:42:05.985Z"
   },
   {
    "duration": 72,
    "start_time": "2024-02-08T22:42:06.003Z"
   },
   {
    "duration": 10,
    "start_time": "2024-02-08T22:42:06.076Z"
   },
   {
    "duration": 12,
    "start_time": "2024-02-08T22:42:06.088Z"
   },
   {
    "duration": 9,
    "start_time": "2024-02-08T22:42:06.103Z"
   },
   {
    "duration": 97,
    "start_time": "2024-02-08T22:42:06.114Z"
   },
   {
    "duration": 11,
    "start_time": "2024-02-08T22:42:06.213Z"
   },
   {
    "duration": 7,
    "start_time": "2024-02-08T22:42:06.226Z"
   },
   {
    "duration": 6,
    "start_time": "2024-02-08T22:42:06.236Z"
   },
   {
    "duration": 89,
    "start_time": "2024-02-08T22:42:06.243Z"
   },
   {
    "duration": 10,
    "start_time": "2024-02-08T22:42:06.334Z"
   },
   {
    "duration": 8,
    "start_time": "2024-02-08T22:42:06.345Z"
   },
   {
    "duration": 7,
    "start_time": "2024-02-08T22:42:06.354Z"
   },
   {
    "duration": 87,
    "start_time": "2024-02-08T22:42:06.362Z"
   },
   {
    "duration": 82,
    "start_time": "2024-02-08T22:42:06.450Z"
   },
   {
    "duration": 71,
    "start_time": "2024-02-08T22:42:06.534Z"
   },
   {
    "duration": 74,
    "start_time": "2024-02-08T22:42:06.607Z"
   },
   {
    "duration": 73,
    "start_time": "2024-02-08T22:42:06.682Z"
   },
   {
    "duration": 9915,
    "start_time": "2024-02-09T10:36:05.539Z"
   },
   {
    "duration": 44,
    "start_time": "2024-02-09T10:36:15.455Z"
   },
   {
    "duration": 11,
    "start_time": "2024-02-09T10:36:15.500Z"
   },
   {
    "duration": 34,
    "start_time": "2024-02-09T10:36:15.513Z"
   },
   {
    "duration": 17,
    "start_time": "2024-02-09T10:36:15.548Z"
   },
   {
    "duration": 29,
    "start_time": "2024-02-09T10:36:15.566Z"
   },
   {
    "duration": 35,
    "start_time": "2024-02-09T10:36:15.597Z"
   },
   {
    "duration": 18,
    "start_time": "2024-02-09T10:36:15.634Z"
   },
   {
    "duration": 21,
    "start_time": "2024-02-09T10:36:15.654Z"
   },
   {
    "duration": 22,
    "start_time": "2024-02-09T10:36:15.677Z"
   },
   {
    "duration": 31,
    "start_time": "2024-02-09T10:36:15.701Z"
   },
   {
    "duration": 13,
    "start_time": "2024-02-09T10:36:15.733Z"
   },
   {
    "duration": 19,
    "start_time": "2024-02-09T10:36:15.747Z"
   },
   {
    "duration": 9,
    "start_time": "2024-02-09T10:36:15.767Z"
   },
   {
    "duration": 41,
    "start_time": "2024-02-09T10:36:15.778Z"
   },
   {
    "duration": 9,
    "start_time": "2024-02-09T10:36:15.820Z"
   },
   {
    "duration": 39,
    "start_time": "2024-02-09T10:36:15.831Z"
   },
   {
    "duration": 26,
    "start_time": "2024-02-09T10:36:15.872Z"
   },
   {
    "duration": 55,
    "start_time": "2024-02-09T10:36:15.900Z"
   },
   {
    "duration": 51,
    "start_time": "2024-02-09T10:36:15.957Z"
   },
   {
    "duration": 46,
    "start_time": "2024-02-09T10:36:16.010Z"
   },
   {
    "duration": 26,
    "start_time": "2024-02-09T10:36:16.058Z"
   },
   {
    "duration": 27,
    "start_time": "2024-02-09T10:36:16.086Z"
   },
   {
    "duration": 60,
    "start_time": "2024-02-09T10:36:16.114Z"
   },
   {
    "duration": 13,
    "start_time": "2024-02-09T10:36:16.176Z"
   },
   {
    "duration": 44,
    "start_time": "2024-02-09T10:36:16.191Z"
   },
   {
    "duration": 23,
    "start_time": "2024-02-09T10:36:16.236Z"
   }
  ],
  "kernelspec": {
   "display_name": "Python 3 (ipykernel)",
   "language": "python",
   "name": "python3"
  },
  "language_info": {
   "codemirror_mode": {
    "name": "ipython",
    "version": 3
   },
   "file_extension": ".py",
   "mimetype": "text/x-python",
   "name": "python",
   "nbconvert_exporter": "python",
   "pygments_lexer": "ipython3",
   "version": "3.10.9"
  },
  "toc": {
   "base_numbering": 1,
   "nav_menu": {},
   "number_sections": true,
   "sideBar": true,
   "skip_h1_title": true,
   "title_cell": "Table of Contents",
   "title_sidebar": "Contents",
   "toc_cell": false,
   "toc_position": {},
   "toc_section_display": true,
   "toc_window_display": false
  }
 },
 "nbformat": 4,
 "nbformat_minor": 2
}
