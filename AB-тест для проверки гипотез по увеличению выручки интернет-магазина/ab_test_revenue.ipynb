{
 "cells": [
  {
   "cell_type": "markdown",
   "metadata": {},
   "source": [
    "# A/B-тест для проверки гипотез по увеличению выручки интернет-магазина"
   ]
  },
  {
   "cell_type": "markdown",
   "metadata": {},
   "source": [
    "<div style=\"border:solid blue 2px; padding: 20px\">\n",
    "    \n",
    "**Описание проекта:**\n",
    "Совместно с отделом маркетинга были сформулированны гипотезы для увеличения выручки. Необходимо их приоритезировать, запустить A/B-тест и проанализировать результаты.\n",
    "    \n",
    "**Цель проекта:** Провести анализ результатов A/B-теста и узнать, отличается ли количество заказов и средний чек в группе `B`.\n",
    "\n",
    "**Описание данных:**\n",
    "В проекте три датасета. Файл `/datasets/hypothesis.csv` хранит информацию о гипотезах, `/datasets/orders.csv`— информацию о заказах с разбивкой на группы, `/datasets/visitors.csv`— информацию о посещениях сайта.\n",
    "\n",
    "Структура `/datasets/hypothesis.csv`:\n",
    "* `Hypothesis` — краткое описание гипотезы;\n",
    "* `Reach` — охват пользователей по 10-балльной шкале;\n",
    "* `Impact` — влияние на пользователей по 10-балльной шкале;\n",
    "* `Confidence` — уверенность в гипотезе по 10-балльной шкале;\n",
    "* `Efforts` — затраты ресурсов на проверку гипотезы по 10-балльной шкале. Чем больше значение Efforts, тем дороже проверка гипотезы.\n",
    "\n",
    "Структура `/datasets/orders.csv`:\n",
    "* `transactionId` — идентификатор заказа;\n",
    "* `visitorId` — идентификатор пользователя, совершившего заказ;\n",
    "* `date` — дата, когда был совершён заказ;\n",
    "* `revenue` — выручка заказа;\n",
    "* `group` — группа A/B-теста, в которую попал заказ.\\\n",
    "\n",
    "Структура `/datasets/visitors.csv`:\n",
    "* `date` — дата;\n",
    "* `group` — группа A/B-теста;\n",
    "* `visitors` — количество пользователей в указанную дату в указанной группе A/B-теста"
   ]
  },
  {
   "cell_type": "markdown",
   "metadata": {},
   "source": [
    "**Импортируем библиотеки**"
   ]
  },
  {
   "cell_type": "code",
   "execution_count": 1,
   "metadata": {},
   "outputs": [],
   "source": [
    "import pandas as pd\n",
    "import datetime as dt\n",
    "import numpy as np\n",
    "import matplotlib.pyplot as plt\n",
    "import scipy.stats as stats\n",
    "from pandas.plotting import register_matplotlib_converters\n",
    "import warnings"
   ]
  },
  {
   "cell_type": "markdown",
   "metadata": {},
   "source": [
    "# Часть 1. Приоритизация гипотез."
   ]
  },
  {
   "cell_type": "markdown",
   "metadata": {},
   "source": [
    "**Загрузка данных**"
   ]
  },
  {
   "cell_type": "code",
   "execution_count": 2,
   "metadata": {},
   "outputs": [
    {
     "data": {
      "text/html": [
       "<div>\n",
       "<style scoped>\n",
       "    .dataframe tbody tr th:only-of-type {\n",
       "        vertical-align: middle;\n",
       "    }\n",
       "\n",
       "    .dataframe tbody tr th {\n",
       "        vertical-align: top;\n",
       "    }\n",
       "\n",
       "    .dataframe thead th {\n",
       "        text-align: right;\n",
       "    }\n",
       "</style>\n",
       "<table border=\"1\" class=\"dataframe\">\n",
       "  <thead>\n",
       "    <tr style=\"text-align: right;\">\n",
       "      <th></th>\n",
       "      <th>Hypothesis</th>\n",
       "      <th>Reach</th>\n",
       "      <th>Impact</th>\n",
       "      <th>Confidence</th>\n",
       "      <th>Efforts</th>\n",
       "    </tr>\n",
       "  </thead>\n",
       "  <tbody>\n",
       "    <tr>\n",
       "      <th>0</th>\n",
       "      <td>Добавить два новых канала привлечения трафика, что позволит привлекать на 30% больше пользователей</td>\n",
       "      <td>3</td>\n",
       "      <td>10</td>\n",
       "      <td>8</td>\n",
       "      <td>6</td>\n",
       "    </tr>\n",
       "    <tr>\n",
       "      <th>1</th>\n",
       "      <td>Запустить собственную службу доставки, что сократит срок доставки заказов</td>\n",
       "      <td>2</td>\n",
       "      <td>5</td>\n",
       "      <td>4</td>\n",
       "      <td>10</td>\n",
       "    </tr>\n",
       "    <tr>\n",
       "      <th>2</th>\n",
       "      <td>Добавить блоки рекомендаций товаров на сайт интернет магазина, чтобы повысить конверсию и средний чек заказа</td>\n",
       "      <td>8</td>\n",
       "      <td>3</td>\n",
       "      <td>7</td>\n",
       "      <td>3</td>\n",
       "    </tr>\n",
       "    <tr>\n",
       "      <th>3</th>\n",
       "      <td>Изменить структура категорий, что увеличит конверсию, т.к. пользователи быстрее найдут нужный товар</td>\n",
       "      <td>8</td>\n",
       "      <td>3</td>\n",
       "      <td>3</td>\n",
       "      <td>8</td>\n",
       "    </tr>\n",
       "    <tr>\n",
       "      <th>4</th>\n",
       "      <td>Изменить цвет фона главной страницы, чтобы увеличить вовлеченность пользователей</td>\n",
       "      <td>3</td>\n",
       "      <td>1</td>\n",
       "      <td>1</td>\n",
       "      <td>1</td>\n",
       "    </tr>\n",
       "    <tr>\n",
       "      <th>5</th>\n",
       "      <td>Добавить страницу отзывов клиентов о магазине, что позволит увеличить количество заказов</td>\n",
       "      <td>3</td>\n",
       "      <td>2</td>\n",
       "      <td>2</td>\n",
       "      <td>3</td>\n",
       "    </tr>\n",
       "    <tr>\n",
       "      <th>6</th>\n",
       "      <td>Показать на главной странице баннеры с актуальными акциями и распродажами, чтобы увеличить конверсию</td>\n",
       "      <td>5</td>\n",
       "      <td>3</td>\n",
       "      <td>8</td>\n",
       "      <td>3</td>\n",
       "    </tr>\n",
       "    <tr>\n",
       "      <th>7</th>\n",
       "      <td>Добавить форму подписки на все основные страницы, чтобы собрать базу клиентов для email-рассылок</td>\n",
       "      <td>10</td>\n",
       "      <td>7</td>\n",
       "      <td>8</td>\n",
       "      <td>5</td>\n",
       "    </tr>\n",
       "    <tr>\n",
       "      <th>8</th>\n",
       "      <td>Запустить акцию, дающую скидку на товар в день рождения</td>\n",
       "      <td>1</td>\n",
       "      <td>9</td>\n",
       "      <td>9</td>\n",
       "      <td>5</td>\n",
       "    </tr>\n",
       "  </tbody>\n",
       "</table>\n",
       "</div>"
      ],
      "text/plain": [
       "                                                                                                     Hypothesis  \\\n",
       "0            Добавить два новых канала привлечения трафика, что позволит привлекать на 30% больше пользователей   \n",
       "1                                     Запустить собственную службу доставки, что сократит срок доставки заказов   \n",
       "2  Добавить блоки рекомендаций товаров на сайт интернет магазина, чтобы повысить конверсию и средний чек заказа   \n",
       "3           Изменить структура категорий, что увеличит конверсию, т.к. пользователи быстрее найдут нужный товар   \n",
       "4                              Изменить цвет фона главной страницы, чтобы увеличить вовлеченность пользователей   \n",
       "5                      Добавить страницу отзывов клиентов о магазине, что позволит увеличить количество заказов   \n",
       "6          Показать на главной странице баннеры с актуальными акциями и распродажами, чтобы увеличить конверсию   \n",
       "7              Добавить форму подписки на все основные страницы, чтобы собрать базу клиентов для email-рассылок   \n",
       "8                                                       Запустить акцию, дающую скидку на товар в день рождения   \n",
       "\n",
       "   Reach  Impact  Confidence  Efforts  \n",
       "0      3      10           8        6  \n",
       "1      2       5           4       10  \n",
       "2      8       3           7        3  \n",
       "3      8       3           3        8  \n",
       "4      3       1           1        1  \n",
       "5      3       2           2        3  \n",
       "6      5       3           8        3  \n",
       "7     10       7           8        5  \n",
       "8      1       9           9        5  "
      ]
     },
     "execution_count": 2,
     "metadata": {},
     "output_type": "execute_result"
    }
   ],
   "source": [
    "# Открываем файл с данными  о гипотезах\n",
    "hpthss = pd.read_csv('/datasets/hypothesis.csv')\n",
    "# Настроим полное отображение записи в датафрейме\n",
    "pd.set_option('display.max_colwidth', None)\n",
    "# Выведем данные\n",
    "hpthss"
   ]
  },
  {
   "cell_type": "code",
   "execution_count": 3,
   "metadata": {},
   "outputs": [],
   "source": [
    "# Приведём названия столбцов к нижнему регистру\n",
    "hpthss.columns = hpthss.columns.str.lower()"
   ]
  },
  {
   "cell_type": "markdown",
   "metadata": {},
   "source": [
    "**Примените фреймворк `ICE` для приоритизации гипотез**"
   ]
  },
  {
   "cell_type": "code",
   "execution_count": 4,
   "metadata": {},
   "outputs": [
    {
     "data": {
      "text/html": [
       "<div>\n",
       "<style scoped>\n",
       "    .dataframe tbody tr th:only-of-type {\n",
       "        vertical-align: middle;\n",
       "    }\n",
       "\n",
       "    .dataframe tbody tr th {\n",
       "        vertical-align: top;\n",
       "    }\n",
       "\n",
       "    .dataframe thead th {\n",
       "        text-align: right;\n",
       "    }\n",
       "</style>\n",
       "<table border=\"1\" class=\"dataframe\">\n",
       "  <thead>\n",
       "    <tr style=\"text-align: right;\">\n",
       "      <th></th>\n",
       "      <th>hypothesis</th>\n",
       "      <th>ICE</th>\n",
       "    </tr>\n",
       "  </thead>\n",
       "  <tbody>\n",
       "    <tr>\n",
       "      <th>8</th>\n",
       "      <td>Запустить акцию, дающую скидку на товар в день рождения</td>\n",
       "      <td>16.20</td>\n",
       "    </tr>\n",
       "    <tr>\n",
       "      <th>0</th>\n",
       "      <td>Добавить два новых канала привлечения трафика, что позволит привлекать на 30% больше пользователей</td>\n",
       "      <td>13.33</td>\n",
       "    </tr>\n",
       "    <tr>\n",
       "      <th>7</th>\n",
       "      <td>Добавить форму подписки на все основные страницы, чтобы собрать базу клиентов для email-рассылок</td>\n",
       "      <td>11.20</td>\n",
       "    </tr>\n",
       "    <tr>\n",
       "      <th>6</th>\n",
       "      <td>Показать на главной странице баннеры с актуальными акциями и распродажами, чтобы увеличить конверсию</td>\n",
       "      <td>8.00</td>\n",
       "    </tr>\n",
       "    <tr>\n",
       "      <th>2</th>\n",
       "      <td>Добавить блоки рекомендаций товаров на сайт интернет магазина, чтобы повысить конверсию и средний чек заказа</td>\n",
       "      <td>7.00</td>\n",
       "    </tr>\n",
       "    <tr>\n",
       "      <th>1</th>\n",
       "      <td>Запустить собственную службу доставки, что сократит срок доставки заказов</td>\n",
       "      <td>2.00</td>\n",
       "    </tr>\n",
       "    <tr>\n",
       "      <th>5</th>\n",
       "      <td>Добавить страницу отзывов клиентов о магазине, что позволит увеличить количество заказов</td>\n",
       "      <td>1.33</td>\n",
       "    </tr>\n",
       "    <tr>\n",
       "      <th>3</th>\n",
       "      <td>Изменить структура категорий, что увеличит конверсию, т.к. пользователи быстрее найдут нужный товар</td>\n",
       "      <td>1.12</td>\n",
       "    </tr>\n",
       "    <tr>\n",
       "      <th>4</th>\n",
       "      <td>Изменить цвет фона главной страницы, чтобы увеличить вовлеченность пользователей</td>\n",
       "      <td>1.00</td>\n",
       "    </tr>\n",
       "  </tbody>\n",
       "</table>\n",
       "</div>"
      ],
      "text/plain": [
       "                                                                                                     hypothesis  \\\n",
       "8                                                       Запустить акцию, дающую скидку на товар в день рождения   \n",
       "0            Добавить два новых канала привлечения трафика, что позволит привлекать на 30% больше пользователей   \n",
       "7              Добавить форму подписки на все основные страницы, чтобы собрать базу клиентов для email-рассылок   \n",
       "6          Показать на главной странице баннеры с актуальными акциями и распродажами, чтобы увеличить конверсию   \n",
       "2  Добавить блоки рекомендаций товаров на сайт интернет магазина, чтобы повысить конверсию и средний чек заказа   \n",
       "1                                     Запустить собственную службу доставки, что сократит срок доставки заказов   \n",
       "5                      Добавить страницу отзывов клиентов о магазине, что позволит увеличить количество заказов   \n",
       "3           Изменить структура категорий, что увеличит конверсию, т.к. пользователи быстрее найдут нужный товар   \n",
       "4                              Изменить цвет фона главной страницы, чтобы увеличить вовлеченность пользователей   \n",
       "\n",
       "     ICE  \n",
       "8  16.20  \n",
       "0  13.33  \n",
       "7  11.20  \n",
       "6   8.00  \n",
       "2   7.00  \n",
       "1   2.00  \n",
       "5   1.33  \n",
       "3   1.12  \n",
       "4   1.00  "
      ]
     },
     "execution_count": 4,
     "metadata": {},
     "output_type": "execute_result"
    }
   ],
   "source": [
    "hpthss['ICE'] = round(hpthss['impact']*hpthss['confidence']/hpthss['efforts'], 2)\n",
    "# Отсортируем по убыванию приоритета\n",
    "h_ice = hpthss[['hypothesis','ICE']].sort_values(by='ICE', ascending=False)\n",
    "h_ice"
   ]
  },
  {
   "cell_type": "markdown",
   "metadata": {},
   "source": [
    "Самые приоритетные гипотезы  по фреймворку ICE:\n",
    "- Запустить акцию, дающую скидку на товар в день рождения;\n",
    "- Добавить два новых канала привлечения трафика, что позволит привлекать на 30% больше пользователей;\n",
    "- Добавить форму подписки на все основные страницы, чтобы собрать базу клиентов для email-рассылок."
   ]
  },
  {
   "cell_type": "markdown",
   "metadata": {},
   "source": [
    "**Примените фреймворк RICE для приоритизации гипотез**"
   ]
  },
  {
   "cell_type": "code",
   "execution_count": 5,
   "metadata": {},
   "outputs": [
    {
     "data": {
      "text/html": [
       "<div>\n",
       "<style scoped>\n",
       "    .dataframe tbody tr th:only-of-type {\n",
       "        vertical-align: middle;\n",
       "    }\n",
       "\n",
       "    .dataframe tbody tr th {\n",
       "        vertical-align: top;\n",
       "    }\n",
       "\n",
       "    .dataframe thead th {\n",
       "        text-align: right;\n",
       "    }\n",
       "</style>\n",
       "<table border=\"1\" class=\"dataframe\">\n",
       "  <thead>\n",
       "    <tr style=\"text-align: right;\">\n",
       "      <th></th>\n",
       "      <th>hypothesis</th>\n",
       "      <th>RICE</th>\n",
       "    </tr>\n",
       "  </thead>\n",
       "  <tbody>\n",
       "    <tr>\n",
       "      <th>7</th>\n",
       "      <td>Добавить форму подписки на все основные страницы, чтобы собрать базу клиентов для email-рассылок</td>\n",
       "      <td>112.0</td>\n",
       "    </tr>\n",
       "    <tr>\n",
       "      <th>2</th>\n",
       "      <td>Добавить блоки рекомендаций товаров на сайт интернет магазина, чтобы повысить конверсию и средний чек заказа</td>\n",
       "      <td>56.0</td>\n",
       "    </tr>\n",
       "    <tr>\n",
       "      <th>0</th>\n",
       "      <td>Добавить два новых канала привлечения трафика, что позволит привлекать на 30% больше пользователей</td>\n",
       "      <td>40.0</td>\n",
       "    </tr>\n",
       "    <tr>\n",
       "      <th>6</th>\n",
       "      <td>Показать на главной странице баннеры с актуальными акциями и распродажами, чтобы увеличить конверсию</td>\n",
       "      <td>40.0</td>\n",
       "    </tr>\n",
       "    <tr>\n",
       "      <th>8</th>\n",
       "      <td>Запустить акцию, дающую скидку на товар в день рождения</td>\n",
       "      <td>16.2</td>\n",
       "    </tr>\n",
       "    <tr>\n",
       "      <th>3</th>\n",
       "      <td>Изменить структура категорий, что увеличит конверсию, т.к. пользователи быстрее найдут нужный товар</td>\n",
       "      <td>9.0</td>\n",
       "    </tr>\n",
       "    <tr>\n",
       "      <th>1</th>\n",
       "      <td>Запустить собственную службу доставки, что сократит срок доставки заказов</td>\n",
       "      <td>4.0</td>\n",
       "    </tr>\n",
       "    <tr>\n",
       "      <th>5</th>\n",
       "      <td>Добавить страницу отзывов клиентов о магазине, что позволит увеличить количество заказов</td>\n",
       "      <td>4.0</td>\n",
       "    </tr>\n",
       "    <tr>\n",
       "      <th>4</th>\n",
       "      <td>Изменить цвет фона главной страницы, чтобы увеличить вовлеченность пользователей</td>\n",
       "      <td>3.0</td>\n",
       "    </tr>\n",
       "  </tbody>\n",
       "</table>\n",
       "</div>"
      ],
      "text/plain": [
       "                                                                                                     hypothesis  \\\n",
       "7              Добавить форму подписки на все основные страницы, чтобы собрать базу клиентов для email-рассылок   \n",
       "2  Добавить блоки рекомендаций товаров на сайт интернет магазина, чтобы повысить конверсию и средний чек заказа   \n",
       "0            Добавить два новых канала привлечения трафика, что позволит привлекать на 30% больше пользователей   \n",
       "6          Показать на главной странице баннеры с актуальными акциями и распродажами, чтобы увеличить конверсию   \n",
       "8                                                       Запустить акцию, дающую скидку на товар в день рождения   \n",
       "3           Изменить структура категорий, что увеличит конверсию, т.к. пользователи быстрее найдут нужный товар   \n",
       "1                                     Запустить собственную службу доставки, что сократит срок доставки заказов   \n",
       "5                      Добавить страницу отзывов клиентов о магазине, что позволит увеличить количество заказов   \n",
       "4                              Изменить цвет фона главной страницы, чтобы увеличить вовлеченность пользователей   \n",
       "\n",
       "    RICE  \n",
       "7  112.0  \n",
       "2   56.0  \n",
       "0   40.0  \n",
       "6   40.0  \n",
       "8   16.2  \n",
       "3    9.0  \n",
       "1    4.0  \n",
       "5    4.0  \n",
       "4    3.0  "
      ]
     },
     "execution_count": 5,
     "metadata": {},
     "output_type": "execute_result"
    }
   ],
   "source": [
    "hpthss['RICE'] = round(hpthss['reach'] * hpthss['impact'] * hpthss['confidence']/hpthss['efforts'], 2)\n",
    "# Отсортируем по убыванию приоритета\n",
    "h_rice = hpthss[['hypothesis','RICE']].sort_values(by='RICE', ascending=False)\n",
    "h_rice"
   ]
  },
  {
   "cell_type": "markdown",
   "metadata": {},
   "source": [
    "Самые приоритетные гипотезы  по фреймворку RICE:\n",
    "- Добавить форму подписки на все основные страницы, чтобы собрать базу клиентов для email-рассылок;\n",
    "- Добавить блоки рекомендаций товаров на сайт интернет магазина, чтобы повысить конверсию и средний чек заказа;\n",
    "- Добавить два новых канала привлечения трафика, что позволит привлекать на 30% больше пользователей."
   ]
  },
  {
   "cell_type": "markdown",
   "metadata": {},
   "source": [
    "**Вывод:** Порядок приоритизации разный, это связано с тем, что RICE зависит от охвата пользователей, который затрагивает гипотеза. Таким образом приоритетными стали гипотезы, охватывающие большее число пользователей."
   ]
  },
  {
   "cell_type": "markdown",
   "metadata": {},
   "source": [
    "# Часть 2. Анализ A/B-теста."
   ]
  },
  {
   "cell_type": "markdown",
   "metadata": {},
   "source": [
    "**Загрузка данных и подготовка их к анализу**"
   ]
  },
  {
   "cell_type": "code",
   "execution_count": 6,
   "metadata": {},
   "outputs": [
    {
     "data": {
      "text/html": [
       "<div>\n",
       "<style scoped>\n",
       "    .dataframe tbody tr th:only-of-type {\n",
       "        vertical-align: middle;\n",
       "    }\n",
       "\n",
       "    .dataframe tbody tr th {\n",
       "        vertical-align: top;\n",
       "    }\n",
       "\n",
       "    .dataframe thead th {\n",
       "        text-align: right;\n",
       "    }\n",
       "</style>\n",
       "<table border=\"1\" class=\"dataframe\">\n",
       "  <thead>\n",
       "    <tr style=\"text-align: right;\">\n",
       "      <th></th>\n",
       "      <th>transactionId</th>\n",
       "      <th>visitorId</th>\n",
       "      <th>date</th>\n",
       "      <th>revenue</th>\n",
       "      <th>group</th>\n",
       "    </tr>\n",
       "  </thead>\n",
       "  <tbody>\n",
       "    <tr>\n",
       "      <th>0</th>\n",
       "      <td>3667963787</td>\n",
       "      <td>3312258926</td>\n",
       "      <td>2019-08-15</td>\n",
       "      <td>1650</td>\n",
       "      <td>B</td>\n",
       "    </tr>\n",
       "    <tr>\n",
       "      <th>1</th>\n",
       "      <td>2804400009</td>\n",
       "      <td>3642806036</td>\n",
       "      <td>2019-08-15</td>\n",
       "      <td>730</td>\n",
       "      <td>B</td>\n",
       "    </tr>\n",
       "    <tr>\n",
       "      <th>2</th>\n",
       "      <td>2961555356</td>\n",
       "      <td>4069496402</td>\n",
       "      <td>2019-08-15</td>\n",
       "      <td>400</td>\n",
       "      <td>A</td>\n",
       "    </tr>\n",
       "    <tr>\n",
       "      <th>3</th>\n",
       "      <td>3797467345</td>\n",
       "      <td>1196621759</td>\n",
       "      <td>2019-08-15</td>\n",
       "      <td>9759</td>\n",
       "      <td>B</td>\n",
       "    </tr>\n",
       "    <tr>\n",
       "      <th>4</th>\n",
       "      <td>2282983706</td>\n",
       "      <td>2322279887</td>\n",
       "      <td>2019-08-15</td>\n",
       "      <td>2308</td>\n",
       "      <td>B</td>\n",
       "    </tr>\n",
       "    <tr>\n",
       "      <th>5</th>\n",
       "      <td>182168103</td>\n",
       "      <td>935554773</td>\n",
       "      <td>2019-08-15</td>\n",
       "      <td>2210</td>\n",
       "      <td>B</td>\n",
       "    </tr>\n",
       "    <tr>\n",
       "      <th>6</th>\n",
       "      <td>398296753</td>\n",
       "      <td>2900797465</td>\n",
       "      <td>2019-08-15</td>\n",
       "      <td>1860</td>\n",
       "      <td>B</td>\n",
       "    </tr>\n",
       "    <tr>\n",
       "      <th>7</th>\n",
       "      <td>2626614568</td>\n",
       "      <td>78758296</td>\n",
       "      <td>2019-08-15</td>\n",
       "      <td>1044</td>\n",
       "      <td>A</td>\n",
       "    </tr>\n",
       "    <tr>\n",
       "      <th>8</th>\n",
       "      <td>1576988021</td>\n",
       "      <td>295230930</td>\n",
       "      <td>2019-08-15</td>\n",
       "      <td>13710</td>\n",
       "      <td>A</td>\n",
       "    </tr>\n",
       "    <tr>\n",
       "      <th>9</th>\n",
       "      <td>1506739906</td>\n",
       "      <td>1882260405</td>\n",
       "      <td>2019-08-15</td>\n",
       "      <td>1855</td>\n",
       "      <td>B</td>\n",
       "    </tr>\n",
       "    <tr>\n",
       "      <th>10</th>\n",
       "      <td>3649131742</td>\n",
       "      <td>879864040</td>\n",
       "      <td>2019-08-15</td>\n",
       "      <td>4008</td>\n",
       "      <td>A</td>\n",
       "    </tr>\n",
       "    <tr>\n",
       "      <th>11</th>\n",
       "      <td>1919444843</td>\n",
       "      <td>927791387</td>\n",
       "      <td>2019-08-15</td>\n",
       "      <td>4499</td>\n",
       "      <td>B</td>\n",
       "    </tr>\n",
       "    <tr>\n",
       "      <th>12</th>\n",
       "      <td>2809384911</td>\n",
       "      <td>3213223594</td>\n",
       "      <td>2019-08-15</td>\n",
       "      <td>7370</td>\n",
       "      <td>A</td>\n",
       "    </tr>\n",
       "    <tr>\n",
       "      <th>13</th>\n",
       "      <td>3044797713</td>\n",
       "      <td>728063420</td>\n",
       "      <td>2019-08-15</td>\n",
       "      <td>11985</td>\n",
       "      <td>B</td>\n",
       "    </tr>\n",
       "    <tr>\n",
       "      <th>14</th>\n",
       "      <td>3859315276</td>\n",
       "      <td>1565034404</td>\n",
       "      <td>2019-08-15</td>\n",
       "      <td>10980</td>\n",
       "      <td>A</td>\n",
       "    </tr>\n",
       "    <tr>\n",
       "      <th>15</th>\n",
       "      <td>2550768810</td>\n",
       "      <td>2742574263</td>\n",
       "      <td>2019-08-15</td>\n",
       "      <td>15277</td>\n",
       "      <td>B</td>\n",
       "    </tr>\n",
       "    <tr>\n",
       "      <th>16</th>\n",
       "      <td>1820531107</td>\n",
       "      <td>2973109265</td>\n",
       "      <td>2019-08-15</td>\n",
       "      <td>1060</td>\n",
       "      <td>B</td>\n",
       "    </tr>\n",
       "    <tr>\n",
       "      <th>17</th>\n",
       "      <td>1108180333</td>\n",
       "      <td>222718357</td>\n",
       "      <td>2019-08-15</td>\n",
       "      <td>990</td>\n",
       "      <td>B</td>\n",
       "    </tr>\n",
       "    <tr>\n",
       "      <th>18</th>\n",
       "      <td>1822256754</td>\n",
       "      <td>4227830084</td>\n",
       "      <td>2019-08-15</td>\n",
       "      <td>16490</td>\n",
       "      <td>A</td>\n",
       "    </tr>\n",
       "    <tr>\n",
       "      <th>19</th>\n",
       "      <td>674584210</td>\n",
       "      <td>3207734412</td>\n",
       "      <td>2019-08-15</td>\n",
       "      <td>1190</td>\n",
       "      <td>A</td>\n",
       "    </tr>\n",
       "  </tbody>\n",
       "</table>\n",
       "</div>"
      ],
      "text/plain": [
       "    transactionId   visitorId        date  revenue group\n",
       "0      3667963787  3312258926  2019-08-15     1650     B\n",
       "1      2804400009  3642806036  2019-08-15      730     B\n",
       "2      2961555356  4069496402  2019-08-15      400     A\n",
       "3      3797467345  1196621759  2019-08-15     9759     B\n",
       "4      2282983706  2322279887  2019-08-15     2308     B\n",
       "5       182168103   935554773  2019-08-15     2210     B\n",
       "6       398296753  2900797465  2019-08-15     1860     B\n",
       "7      2626614568    78758296  2019-08-15     1044     A\n",
       "8      1576988021   295230930  2019-08-15    13710     A\n",
       "9      1506739906  1882260405  2019-08-15     1855     B\n",
       "10     3649131742   879864040  2019-08-15     4008     A\n",
       "11     1919444843   927791387  2019-08-15     4499     B\n",
       "12     2809384911  3213223594  2019-08-15     7370     A\n",
       "13     3044797713   728063420  2019-08-15    11985     B\n",
       "14     3859315276  1565034404  2019-08-15    10980     A\n",
       "15     2550768810  2742574263  2019-08-15    15277     B\n",
       "16     1820531107  2973109265  2019-08-15     1060     B\n",
       "17     1108180333   222718357  2019-08-15      990     B\n",
       "18     1822256754  4227830084  2019-08-15    16490     A\n",
       "19      674584210  3207734412  2019-08-15     1190     A"
      ]
     },
     "execution_count": 6,
     "metadata": {},
     "output_type": "execute_result"
    }
   ],
   "source": [
    "# Откроем файл с заказами\n",
    "orders = pd.read_csv('/datasets/orders.csv')\n",
    "# Выведем первые 20 строк\n",
    "orders.head(20)"
   ]
  },
  {
   "cell_type": "code",
   "execution_count": 7,
   "metadata": {},
   "outputs": [
    {
     "data": {
      "text/html": [
       "<div>\n",
       "<style scoped>\n",
       "    .dataframe tbody tr th:only-of-type {\n",
       "        vertical-align: middle;\n",
       "    }\n",
       "\n",
       "    .dataframe tbody tr th {\n",
       "        vertical-align: top;\n",
       "    }\n",
       "\n",
       "    .dataframe thead th {\n",
       "        text-align: right;\n",
       "    }\n",
       "</style>\n",
       "<table border=\"1\" class=\"dataframe\">\n",
       "  <thead>\n",
       "    <tr style=\"text-align: right;\">\n",
       "      <th></th>\n",
       "      <th>date</th>\n",
       "      <th>group</th>\n",
       "      <th>visitors</th>\n",
       "    </tr>\n",
       "  </thead>\n",
       "  <tbody>\n",
       "    <tr>\n",
       "      <th>0</th>\n",
       "      <td>2019-08-01</td>\n",
       "      <td>A</td>\n",
       "      <td>719</td>\n",
       "    </tr>\n",
       "    <tr>\n",
       "      <th>1</th>\n",
       "      <td>2019-08-02</td>\n",
       "      <td>A</td>\n",
       "      <td>619</td>\n",
       "    </tr>\n",
       "    <tr>\n",
       "      <th>2</th>\n",
       "      <td>2019-08-03</td>\n",
       "      <td>A</td>\n",
       "      <td>507</td>\n",
       "    </tr>\n",
       "    <tr>\n",
       "      <th>3</th>\n",
       "      <td>2019-08-04</td>\n",
       "      <td>A</td>\n",
       "      <td>717</td>\n",
       "    </tr>\n",
       "    <tr>\n",
       "      <th>4</th>\n",
       "      <td>2019-08-05</td>\n",
       "      <td>A</td>\n",
       "      <td>756</td>\n",
       "    </tr>\n",
       "    <tr>\n",
       "      <th>5</th>\n",
       "      <td>2019-08-06</td>\n",
       "      <td>A</td>\n",
       "      <td>667</td>\n",
       "    </tr>\n",
       "    <tr>\n",
       "      <th>6</th>\n",
       "      <td>2019-08-07</td>\n",
       "      <td>A</td>\n",
       "      <td>644</td>\n",
       "    </tr>\n",
       "    <tr>\n",
       "      <th>7</th>\n",
       "      <td>2019-08-08</td>\n",
       "      <td>A</td>\n",
       "      <td>610</td>\n",
       "    </tr>\n",
       "    <tr>\n",
       "      <th>8</th>\n",
       "      <td>2019-08-09</td>\n",
       "      <td>A</td>\n",
       "      <td>617</td>\n",
       "    </tr>\n",
       "    <tr>\n",
       "      <th>9</th>\n",
       "      <td>2019-08-10</td>\n",
       "      <td>A</td>\n",
       "      <td>406</td>\n",
       "    </tr>\n",
       "    <tr>\n",
       "      <th>10</th>\n",
       "      <td>2019-08-11</td>\n",
       "      <td>A</td>\n",
       "      <td>718</td>\n",
       "    </tr>\n",
       "    <tr>\n",
       "      <th>11</th>\n",
       "      <td>2019-08-12</td>\n",
       "      <td>A</td>\n",
       "      <td>595</td>\n",
       "    </tr>\n",
       "    <tr>\n",
       "      <th>12</th>\n",
       "      <td>2019-08-13</td>\n",
       "      <td>A</td>\n",
       "      <td>748</td>\n",
       "    </tr>\n",
       "    <tr>\n",
       "      <th>13</th>\n",
       "      <td>2019-08-14</td>\n",
       "      <td>A</td>\n",
       "      <td>735</td>\n",
       "    </tr>\n",
       "    <tr>\n",
       "      <th>14</th>\n",
       "      <td>2019-08-15</td>\n",
       "      <td>A</td>\n",
       "      <td>628</td>\n",
       "    </tr>\n",
       "    <tr>\n",
       "      <th>15</th>\n",
       "      <td>2019-08-16</td>\n",
       "      <td>A</td>\n",
       "      <td>361</td>\n",
       "    </tr>\n",
       "    <tr>\n",
       "      <th>16</th>\n",
       "      <td>2019-08-17</td>\n",
       "      <td>A</td>\n",
       "      <td>412</td>\n",
       "    </tr>\n",
       "    <tr>\n",
       "      <th>17</th>\n",
       "      <td>2019-08-18</td>\n",
       "      <td>A</td>\n",
       "      <td>668</td>\n",
       "    </tr>\n",
       "    <tr>\n",
       "      <th>18</th>\n",
       "      <td>2019-08-19</td>\n",
       "      <td>A</td>\n",
       "      <td>502</td>\n",
       "    </tr>\n",
       "    <tr>\n",
       "      <th>19</th>\n",
       "      <td>2019-08-20</td>\n",
       "      <td>A</td>\n",
       "      <td>575</td>\n",
       "    </tr>\n",
       "  </tbody>\n",
       "</table>\n",
       "</div>"
      ],
      "text/plain": [
       "          date group  visitors\n",
       "0   2019-08-01     A       719\n",
       "1   2019-08-02     A       619\n",
       "2   2019-08-03     A       507\n",
       "3   2019-08-04     A       717\n",
       "4   2019-08-05     A       756\n",
       "5   2019-08-06     A       667\n",
       "6   2019-08-07     A       644\n",
       "7   2019-08-08     A       610\n",
       "8   2019-08-09     A       617\n",
       "9   2019-08-10     A       406\n",
       "10  2019-08-11     A       718\n",
       "11  2019-08-12     A       595\n",
       "12  2019-08-13     A       748\n",
       "13  2019-08-14     A       735\n",
       "14  2019-08-15     A       628\n",
       "15  2019-08-16     A       361\n",
       "16  2019-08-17     A       412\n",
       "17  2019-08-18     A       668\n",
       "18  2019-08-19     A       502\n",
       "19  2019-08-20     A       575"
      ]
     },
     "execution_count": 7,
     "metadata": {},
     "output_type": "execute_result"
    }
   ],
   "source": [
    "# Откроем файл с посещениями сайта\n",
    "visitors = pd.read_csv('/datasets/visitors.csv')\n",
    "# Выведем первые 20 строк\n",
    "visitors.head(20)"
   ]
  },
  {
   "cell_type": "code",
   "execution_count": 8,
   "metadata": {},
   "outputs": [
    {
     "name": "stdout",
     "output_type": "stream",
     "text": [
      "<class 'pandas.core.frame.DataFrame'>\n",
      "RangeIndex: 1197 entries, 0 to 1196\n",
      "Data columns (total 5 columns):\n",
      " #   Column         Non-Null Count  Dtype \n",
      "---  ------         --------------  ----- \n",
      " 0   transactionId  1197 non-null   int64 \n",
      " 1   visitorId      1197 non-null   int64 \n",
      " 2   date           1197 non-null   object\n",
      " 3   revenue        1197 non-null   int64 \n",
      " 4   group          1197 non-null   object\n",
      "dtypes: int64(3), object(2)\n",
      "memory usage: 46.9+ KB\n"
     ]
    }
   ],
   "source": [
    "# Выведем информацию об orders\n",
    "orders.info()"
   ]
  },
  {
   "cell_type": "code",
   "execution_count": 9,
   "metadata": {},
   "outputs": [
    {
     "name": "stdout",
     "output_type": "stream",
     "text": [
      "<class 'pandas.core.frame.DataFrame'>\n",
      "RangeIndex: 62 entries, 0 to 61\n",
      "Data columns (total 3 columns):\n",
      " #   Column    Non-Null Count  Dtype \n",
      "---  ------    --------------  ----- \n",
      " 0   date      62 non-null     object\n",
      " 1   group     62 non-null     object\n",
      " 2   visitors  62 non-null     int64 \n",
      "dtypes: int64(1), object(2)\n",
      "memory usage: 1.6+ KB\n"
     ]
    }
   ],
   "source": [
    "# Выведем информацию об visitors\n",
    "visitors.info()"
   ]
  },
  {
   "cell_type": "code",
   "execution_count": 10,
   "metadata": {},
   "outputs": [],
   "source": [
    "# Приведём столбцы с датами к формату datetime\n",
    "orders['date'] = orders['date'].map(lambda x: dt.datetime.strptime(x, '%Y-%m-%d'))\n",
    "visitors['date'] = visitors['date'].map(lambda x: dt.datetime.strptime(x, '%Y-%m-%d'))"
   ]
  },
  {
   "cell_type": "code",
   "execution_count": 11,
   "metadata": {},
   "outputs": [
    {
     "data": {
      "text/plain": [
       "0"
      ]
     },
     "execution_count": 11,
     "metadata": {},
     "output_type": "execute_result"
    }
   ],
   "source": [
    "# Посчитаем количество дубликатов в orders\n",
    "orders.duplicated().sum()"
   ]
  },
  {
   "cell_type": "code",
   "execution_count": 12,
   "metadata": {},
   "outputs": [
    {
     "data": {
      "text/plain": [
       "0"
      ]
     },
     "execution_count": 12,
     "metadata": {},
     "output_type": "execute_result"
    }
   ],
   "source": [
    "# Посчитаем количество дубликатов в visitors\n",
    "visitors.duplicated().sum()"
   ]
  },
  {
   "cell_type": "code",
   "execution_count": 13,
   "metadata": {},
   "outputs": [
    {
     "name": "stdout",
     "output_type": "stream",
     "text": [
      "['B' 'A'] ['A' 'B']\n"
     ]
    }
   ],
   "source": [
    "# Посмотрим количество групп в А/В-тесте\n",
    "groups_orders = orders['group'].unique()\n",
    "groups_visitors = visitors['group'].unique()\n",
    "print(groups_orders, groups_visitors)"
   ]
  },
  {
   "cell_type": "code",
   "execution_count": 14,
   "metadata": {},
   "outputs": [
    {
     "name": "stdout",
     "output_type": "stream",
     "text": [
      "Начало теста: 2019-08-01 00:00:00\n",
      "Окончание теста: 2019-08-31 00:00:00\n"
     ]
    }
   ],
   "source": [
    "# Проверим даты начала и окончания теста\n",
    "dt_start =  orders['date'].min()\n",
    "dt_end = orders['date'].max()\n",
    "print('Начало теста:', dt_start)\n",
    "print('Окончание теста:', dt_end)"
   ]
  },
  {
   "cell_type": "code",
   "execution_count": 15,
   "metadata": {},
   "outputs": [
    {
     "name": "stdout",
     "output_type": "stream",
     "text": [
      "Количество пользователей в группе А, сделавших хотя бы один заказ: 503\n",
      "Количество пользователей в группе B, сделавших хотя бы один заказ: 586\n"
     ]
    }
   ],
   "source": [
    "# Посчитаем количество пользователей в каждой группе\n",
    "print('Количество пользователей в группе А, сделавших хотя бы один заказ:', orders[orders['group']=='A']['visitorId'].nunique())\n",
    "print('Количество пользователей в группе B, сделавших хотя бы один заказ:', orders[orders['group']=='B']['visitorId'].nunique())"
   ]
  },
  {
   "cell_type": "code",
   "execution_count": 16,
   "metadata": {},
   "outputs": [
    {
     "name": "stdout",
     "output_type": "stream",
     "text": [
      "58\n"
     ]
    }
   ],
   "source": [
    "# Проверим вероятность попадания пользователей в обе группы\n",
    "def intersection_list(A, B): \n",
    "    intersection = [value for value in A if value in B]\n",
    "    return intersection\n",
    "intersection_users = intersection_list(orders.query('group == \"A\"')['visitorId'].unique(), orders.query('group == \"B\"')['visitorId'].unique())\n",
    "print(len(intersection_users))"
   ]
  },
  {
   "cell_type": "code",
   "execution_count": 17,
   "metadata": {},
   "outputs": [
    {
     "name": "stdout",
     "output_type": "stream",
     "text": [
      "0\n"
     ]
    }
   ],
   "source": [
    "# Исключим этих пользователей, чтобы не искажать результаты\n",
    "orders = orders.query('visitorId not in @intersection_users')\n",
    "def intersection_list(A, B): \n",
    "    intersection = [value for value in A if value in B]\n",
    "    return intersection\n",
    "print(len(intersection_list(orders.query('group == \"A\"')['visitorId'].unique(), orders.query('group == \"B\"')['visitorId'].unique())))"
   ]
  },
  {
   "cell_type": "code",
   "execution_count": 18,
   "metadata": {},
   "outputs": [
    {
     "name": "stdout",
     "output_type": "stream",
     "text": [
      "Количество пользователей в группе А, сделавших хотя бы один заказ: 445\n",
      "Количество пользователей в группе B, сделавших хотя бы один заказ: 528\n"
     ]
    }
   ],
   "source": [
    "# Проверим как изменилось количество пользователей, сделавших заказы\n",
    "print('Количество пользователей в группе А, сделавших хотя бы один заказ:', orders[orders['group']=='A']['visitorId'].nunique())\n",
    "print('Количество пользователей в группе B, сделавших хотя бы один заказ:', orders[orders['group']=='B']['visitorId'].nunique())"
   ]
  },
  {
   "cell_type": "code",
   "execution_count": 19,
   "metadata": {},
   "outputs": [
    {
     "name": "stdout",
     "output_type": "stream",
     "text": [
      "        date group  orders  buyers  revenue  visitors\n",
      "0 2019-08-01     A      23      19   142779       719\n",
      "1 2019-08-01     B      17      17    59758       713\n",
      "2 2019-08-02     A      42      36   234381      1338\n",
      "3 2019-08-02     B      40      39   221801      1294\n",
      "4 2019-08-03     A      66      60   346854      1845\n"
     ]
    }
   ],
   "source": [
    "# Cоздаем массив уникальных пар значений дат и групп теста\n",
    "datesGroups = orders[['date','group']].drop_duplicates()\n",
    "\n",
    "# Получаем агрегированные кумулятивные по дням данные о заказах \n",
    "ordersAggregated = datesGroups.apply(lambda x: orders[np.logical_and(orders['date'] <= x['date'], orders['group'] == x['group'])].agg({'date' : 'max', 'group' : 'max', 'transactionId' : 'nunique', 'visitorId' : 'nunique', 'revenue' : 'sum'}), axis=1).sort_values(by=['date','group'])\n",
    "\n",
    "# Получаем агрегированные кумулятивные по дням данные о посетителях интернет-магазина \n",
    "visitorsAggregated = datesGroups.apply(lambda x: visitors[np.logical_and(visitors['date'] <= x['date'], visitors['group'] == x['group'])].agg({'date' : 'max', 'group' : 'max', 'visitors' : 'sum'}), axis=1).sort_values(by=['date','group'])\n",
    "\n",
    "# Объединяем кумулятивные данные в одной таблице и присваиваем ее столбцам понятные названия\n",
    "cumulativeData = ordersAggregated.merge(visitorsAggregated, left_on=['date', 'group'], right_on=['date', 'group'])\n",
    "cumulativeData.columns = ['date', 'group', 'orders', 'buyers', 'revenue', 'visitors']\n",
    "\n",
    "print(cumulativeData.head(5)) "
   ]
  },
  {
   "cell_type": "code",
   "execution_count": 20,
   "metadata": {},
   "outputs": [
    {
     "name": "stdout",
     "output_type": "stream",
     "text": [
      "Начало теста: 2019-08-01 00:00:00\n",
      "Окончание теста: 2019-08-31 00:00:00\n"
     ]
    }
   ],
   "source": [
    "# Проверим, совпадают ли даты проведения теста с исходными\n",
    "print('Начало теста:', cumulativeData['date'].min())\n",
    "print('Окончание теста:', cumulativeData['date'].max())"
   ]
  },
  {
   "cell_type": "markdown",
   "metadata": {},
   "source": [
    "**Вывод:** Данные подготовлены к анализу, дубликатов не обнаружено, столбцы с датами приведены к формату `datetime`, агрегированные кумулятивные по дням данные о заказах и посетителях получены."
   ]
  },
  {
   "cell_type": "markdown",
   "metadata": {},
   "source": [
    "**Построим график кумулятивной выручки по группам. Сделайте выводы и предположения**"
   ]
  },
  {
   "cell_type": "code",
   "execution_count": 21,
   "metadata": {},
   "outputs": [
    {
     "data": {
      "image/png": "[encoded data removed]",
      "text/plain": [
       "<Figure size 1080x720 with 1 Axes>"
      ]
     },
     "metadata": {
      "needs_background": "light"
     },
     "output_type": "display_data"
    }
   ],
   "source": [
    "# Датафрейм с кумулятивным количеством заказов и кумулятивной выручкой по дням в группе А\n",
    "cumulativeRevenueA = cumulativeData[cumulativeData['group']=='A'][['date','revenue', 'orders']]\n",
    "\n",
    "# Датафрейм с кумулятивным количеством заказов и кумулятивной выручкой по дням в группе B\n",
    "cumulativeRevenueB = cumulativeData[cumulativeData['group']=='B'][['date','revenue', 'orders']]\n",
    "\n",
    "# Зададим размер графиков\n",
    "plt.rcParams ['figure.figsize'] = [15, 10]\n",
    "\n",
    "# Строим график выручки группы А\n",
    "plt.plot(cumulativeRevenueA['date'], cumulativeRevenueA['revenue'], label='A')\n",
    "\n",
    "# Строим график выручки группы B\n",
    "plt.plot(cumulativeRevenueB['date'], cumulativeRevenueB['revenue'], label='B')\n",
    "plt.xlabel('Дата')\n",
    "plt.ylabel('Выручка')\n",
    "plt.title(\"Кумулятивная выручка по группам\")\n",
    "plt.xticks(rotation=60)\n",
    "plt.grid()\n",
    "plt.legend();"
   ]
  },
  {
   "cell_type": "markdown",
   "metadata": {},
   "source": [
    "**Вывод:** По графику видно, что в обоих группах на протяжении всего теста выручка стабильно растёт, после 17 августа выручка в группе `В` резко подскочила, но затем стабилизировалась, это может быть связанно с очень дорогими заказами или с их большим числом. Пока нет оснований утверждать, что группа `B` лучше, необходимо проверить данные на выбросы. "
   ]
  },
  {
   "cell_type": "markdown",
   "metadata": {},
   "source": [
    "**Постройте график кумулятивного среднего чека по группам**"
   ]
  },
  {
   "cell_type": "code",
   "execution_count": 22,
   "metadata": {},
   "outputs": [
    {
     "data": {
      "image/png": "[encoded data removed]",
      "text/plain": [
       "<Figure size 1080x720 with 1 Axes>"
      ]
     },
     "metadata": {
      "needs_background": "light"
     },
     "output_type": "display_data"
    }
   ],
   "source": [
    "plt.plot(cumulativeRevenueA['date'], cumulativeRevenueA['revenue']/cumulativeRevenueA['orders'], label='A')\n",
    "plt.plot(cumulativeRevenueB['date'], cumulativeRevenueB['revenue']/cumulativeRevenueB['orders'], label='B')\n",
    "plt.title('График кумулятивного среднего чека по группам')\n",
    "plt.xlabel('Дата')\n",
    "plt.ylabel('Кумулятивный cредний чек')\n",
    "plt.grid()\n",
    "plt.xticks(rotation=60)\n",
    "plt.legend();"
   ]
  },
  {
   "cell_type": "markdown",
   "metadata": {},
   "source": [
    "**Вывод:** График группы `A` более плавный, по графику группы `B` наблюдается такой же скачок как и с кумулятивной выручкой, к концу так же стабилизируется, возможные причины аналогичны."
   ]
  },
  {
   "cell_type": "markdown",
   "metadata": {},
   "source": [
    "**Построим график относительного изменения кумулятивного среднего чека группы B к группе A**"
   ]
  },
  {
   "cell_type": "code",
   "execution_count": 23,
   "metadata": {},
   "outputs": [
    {
     "data": {
      "image/png": "[encoded data removed]",
      "text/plain": [
       "<Figure size 1080x720 with 1 Axes>"
      ]
     },
     "metadata": {
      "needs_background": "light"
     },
     "output_type": "display_data"
    }
   ],
   "source": [
    "# Собираем данные в одном датафрейме\n",
    "mergedCumulativeRevenue = cumulativeRevenueA.merge(cumulativeRevenueB, left_on='date', right_on='date', how='left', suffixes=['A', 'B'])\n",
    "\n",
    "# Строим отношение средних чеков\n",
    "plt.plot(mergedCumulativeRevenue['date'], (mergedCumulativeRevenue['revenueB']/mergedCumulativeRevenue['ordersB'])/(mergedCumulativeRevenue['revenueA']/mergedCumulativeRevenue['ordersA'])-1)\n",
    "\n",
    "# Добавляем ось X\n",
    "plt.axhline(y=0, color='black', linestyle='--')\n",
    "plt.title('График относительного изменения кумулятивного среднего чека группы B к группе A')\n",
    "plt.xlabel('Дата')\n",
    "plt.ylabel('Относительное изменение')\n",
    "plt.grid()\n",
    "plt.xticks(rotation=60);"
   ]
  },
  {
   "cell_type": "markdown",
   "metadata": {},
   "source": [
    "**Вывод:** На графике видно, что большую часть времени показатели группы `B` лучше, чем у `A`, 13 августа заметна просадка, но дальше следует резкий скачок, вероятно вызванный крупными заказами, после чего график начинает стабилизироваться. "
   ]
  },
  {
   "cell_type": "markdown",
   "metadata": {},
   "source": [
    "**Построим график кумулятивного среднего количества заказов на посетителя по группам**"
   ]
  },
  {
   "cell_type": "code",
   "execution_count": 24,
   "metadata": {},
   "outputs": [
    {
     "data": {
      "image/png": "[encoded data removed]",
      "text/plain": [
       "<Figure size 1080x720 with 1 Axes>"
      ]
     },
     "metadata": {
      "needs_background": "light"
     },
     "output_type": "display_data"
    }
   ],
   "source": [
    "# считаем кумулятивную конверсию(среднее количество заказов на посетителя)\n",
    "cumulativeData['conversion'] = cumulativeData['orders']/cumulativeData['visitors']\n",
    "\n",
    "# отделяем данные по группе A\n",
    "cumulativeDataA = cumulativeData[cumulativeData['group']=='A']\n",
    "\n",
    "# отделяем данные по группе B\n",
    "cumulativeDataB = cumulativeData[cumulativeData['group']=='B']\n",
    "\n",
    "# строим графики\n",
    "plt.plot(cumulativeDataA['date'], cumulativeDataA['conversion'], label='A')\n",
    "plt.plot(cumulativeDataB['date'], cumulativeDataB['conversion'], label='B')\n",
    "\n",
    "plt.title('График кумулятивного среднего количества заказов на посетителя по группам')\n",
    "plt.xlabel('Дата')\n",
    "plt.ylabel('Конверсия')\n",
    "plt.grid()\n",
    "plt.xticks(rotation=60)\n",
    "plt.legend();\n"
   ]
  },
  {
   "cell_type": "markdown",
   "metadata": {},
   "source": [
    "**Вывод:** В начале теста конверсия группы `A` была выше, но позже упала и зафиксировалась в районе 0,30, а конверсия группы `B` наоборот выросла и зафиксировалась в районе 0,34."
   ]
  },
  {
   "cell_type": "markdown",
   "metadata": {},
   "source": [
    "**Построим график относительного изменения кумулятивного среднего количества заказов на посетителя группы B к группе A**"
   ]
  },
  {
   "cell_type": "code",
   "execution_count": 25,
   "metadata": {
    "scrolled": false
   },
   "outputs": [
    {
     "data": {
      "image/png": "[encoded data removed]",
      "text/plain": [
       "<Figure size 1080x720 with 1 Axes>"
      ]
     },
     "metadata": {
      "needs_background": "light"
     },
     "output_type": "display_data"
    }
   ],
   "source": [
    "mergedCumulativeConversions = cumulativeDataA[['date','conversion']].merge(cumulativeDataB[['date','conversion']], left_on='date', right_on='date', how='left', suffixes=['A', 'B'])\n",
    "\n",
    "plt.plot(mergedCumulativeConversions['date'], mergedCumulativeConversions['conversionB']/mergedCumulativeConversions['conversionA']-1, label=\"Относительный прирост конверсии группы B относительно группы A\")\n",
    "plt.legend()\n",
    "\n",
    "plt.axhline(y=0, color='black', linestyle='--')\n",
    "plt.axhline(y=0.1, color='grey', linestyle='--')\n",
    "plt.title('График относительного изменения кумулятивного среднего количества заказов на посетителя группы B к группе A')\n",
    "plt.xlabel('Дата')\n",
    "plt.ylabel('Конверсия')\n",
    "plt.grid()\n",
    "plt.xticks(rotation=60);"
   ]
  },
  {
   "cell_type": "markdown",
   "metadata": {},
   "source": [
    "**Вывод:** По началу группа `B` уступала группе `A`, но после 5 августа вырывается вперёд, достигая пика в 21% 15 августа, далее  снижается. В последние дни теста наблюдается небольшой рост, видно, что конверсия пока ещё не установилась."
   ]
  },
  {
   "cell_type": "markdown",
   "metadata": {},
   "source": [
    "**Построим точечный график количества заказов по пользователям**"
   ]
  },
  {
   "cell_type": "code",
   "execution_count": 26,
   "metadata": {},
   "outputs": [
    {
     "data": {
      "text/html": [
       "<div>\n",
       "<style scoped>\n",
       "    .dataframe tbody tr th:only-of-type {\n",
       "        vertical-align: middle;\n",
       "    }\n",
       "\n",
       "    .dataframe tbody tr th {\n",
       "        vertical-align: top;\n",
       "    }\n",
       "\n",
       "    .dataframe thead th {\n",
       "        text-align: right;\n",
       "    }\n",
       "</style>\n",
       "<table border=\"1\" class=\"dataframe\">\n",
       "  <thead>\n",
       "    <tr style=\"text-align: right;\">\n",
       "      <th></th>\n",
       "      <th>visitorId</th>\n",
       "      <th>orders</th>\n",
       "    </tr>\n",
       "  </thead>\n",
       "  <tbody>\n",
       "    <tr>\n",
       "      <th>908</th>\n",
       "      <td>3967698036</td>\n",
       "      <td>3</td>\n",
       "    </tr>\n",
       "    <tr>\n",
       "      <th>55</th>\n",
       "      <td>249864742</td>\n",
       "      <td>3</td>\n",
       "    </tr>\n",
       "    <tr>\n",
       "      <th>478</th>\n",
       "      <td>2108163459</td>\n",
       "      <td>3</td>\n",
       "    </tr>\n",
       "    <tr>\n",
       "      <th>687</th>\n",
       "      <td>2988190573</td>\n",
       "      <td>3</td>\n",
       "    </tr>\n",
       "    <tr>\n",
       "      <th>890</th>\n",
       "      <td>3908431265</td>\n",
       "      <td>3</td>\n",
       "    </tr>\n",
       "    <tr>\n",
       "      <th>138</th>\n",
       "      <td>611059232</td>\n",
       "      <td>3</td>\n",
       "    </tr>\n",
       "    <tr>\n",
       "      <th>632</th>\n",
       "      <td>2742574263</td>\n",
       "      <td>3</td>\n",
       "    </tr>\n",
       "    <tr>\n",
       "      <th>157</th>\n",
       "      <td>678354126</td>\n",
       "      <td>2</td>\n",
       "    </tr>\n",
       "    <tr>\n",
       "      <th>323</th>\n",
       "      <td>1404560065</td>\n",
       "      <td>2</td>\n",
       "    </tr>\n",
       "    <tr>\n",
       "      <th>452</th>\n",
       "      <td>1985475298</td>\n",
       "      <td>2</td>\n",
       "    </tr>\n",
       "  </tbody>\n",
       "</table>\n",
       "</div>"
      ],
      "text/plain": [
       "      visitorId  orders\n",
       "908  3967698036       3\n",
       "55    249864742       3\n",
       "478  2108163459       3\n",
       "687  2988190573       3\n",
       "890  3908431265       3\n",
       "138   611059232       3\n",
       "632  2742574263       3\n",
       "157   678354126       2\n",
       "323  1404560065       2\n",
       "452  1985475298       2"
      ]
     },
     "execution_count": 26,
     "metadata": {},
     "output_type": "execute_result"
    }
   ],
   "source": [
    "# Сгруппируем пользователей по количеству заказов\n",
    "ordersByUsers = (orders.groupby('visitorId', as_index=False).agg({'transactionId': 'nunique'}))\n",
    "\n",
    "ordersByUsers.columns = ['visitorId', 'orders']\n",
    "ordersByUsers.sort_values(by='orders', ascending=False).head(10)"
   ]
  },
  {
   "cell_type": "code",
   "execution_count": 27,
   "metadata": {},
   "outputs": [
    {
     "data": {
      "image/png": "[encoded data removed]",
      "text/plain": [
       "<Figure size 1080x720 with 1 Axes>"
      ]
     },
     "metadata": {
      "needs_background": "light"
     },
     "output_type": "display_data"
    }
   ],
   "source": [
    "x_values = pd.Series(range(0,len(ordersByUsers)))\n",
    "\n",
    "plt.scatter(x_values, ordersByUsers['orders']) \n",
    "plt.xlabel('Пользователи')\n",
    "plt.ylabel('Количество заказов')\n",
    "plt.title(\"График количества заказов по пользователям\");"
   ]
  },
  {
   "cell_type": "markdown",
   "metadata": {},
   "source": [
    "**Вывод:** По графику видно, что чаще всего пользователи делали только один заказ, заметная часть пользователей совершала до 5 заказов, совсем редки пользователи с более, чем 10 заказами. Необходимо посчитать перцентили, чтобы понять, кого считать аномальными."
   ]
  },
  {
   "cell_type": "code",
   "execution_count": 28,
   "metadata": {},
   "outputs": [
    {
     "data": {
      "text/plain": [
       "array([1., 2.])"
      ]
     },
     "execution_count": 28,
     "metadata": {},
     "output_type": "execute_result"
    }
   ],
   "source": [
    "# Посчитаем 95-й и 99-й перцентили количества заказов на пользователя\n",
    "np.percentile(ordersByUsers['orders'], [95, 99])"
   ]
  },
  {
   "cell_type": "markdown",
   "metadata": {},
   "source": [
    "Можно сказать, что больше одного заказа совершили 5% пользователей, а больше 2 лишь 1%. Отсеем пользователей, совершивших более 2 заказов."
   ]
  },
  {
   "cell_type": "markdown",
   "metadata": {},
   "source": [
    "**Построим точечный график стоимостей заказов**"
   ]
  },
  {
   "cell_type": "code",
   "execution_count": 29,
   "metadata": {},
   "outputs": [
    {
     "data": {
      "image/png": "[encoded data removed]",
      "text/plain": [
       "<Figure size 1080x720 with 1 Axes>"
      ]
     },
     "metadata": {
      "needs_background": "light"
     },
     "output_type": "display_data"
    }
   ],
   "source": [
    "x_values = pd.Series(range(0,len(orders['revenue'])))\n",
    "\n",
    "plt.scatter(x_values, orders['revenue']) \n",
    "plt.xlabel('Заказы')\n",
    "plt.ylabel('Стоимость заказа')\n",
    "plt.title(\"График стоимостей заказов\");"
   ]
  },
  {
   "cell_type": "markdown",
   "metadata": {},
   "source": [
    "**Вывод:** Самый дорогой заказ стоил больше 1,2 млн., а второй выброс около 200 тыс. Основная масса заказов дешевле 100 тыс."
   ]
  },
  {
   "cell_type": "code",
   "execution_count": 30,
   "metadata": {},
   "outputs": [
    {
     "data": {
      "text/plain": [
       "array([26785., 53904.])"
      ]
     },
     "execution_count": 30,
     "metadata": {},
     "output_type": "execute_result"
    }
   ],
   "source": [
    "# Посчитаем 95-й и 99-й перцентили стоимости заказов\n",
    "np.percentile(orders['revenue'], [95, 99])"
   ]
  },
  {
   "cell_type": "markdown",
   "metadata": {},
   "source": [
    "Дороже 26,7 тыс. вышло 5% заказов, а дороже 53,9 тыс. 1%. Отсеем заказы дороже 27 тыс."
   ]
  },
  {
   "cell_type": "markdown",
   "metadata": {},
   "source": [
    "**Посчитаем статистическую значимость различий в среднем количестве заказов на посетителя между группами по «сырым» данным**"
   ]
  },
  {
   "cell_type": "code",
   "execution_count": 31,
   "metadata": {},
   "outputs": [
    {
     "data": {
      "text/html": [
       "<div>\n",
       "<style scoped>\n",
       "    .dataframe tbody tr th:only-of-type {\n",
       "        vertical-align: middle;\n",
       "    }\n",
       "\n",
       "    .dataframe tbody tr th {\n",
       "        vertical-align: top;\n",
       "    }\n",
       "\n",
       "    .dataframe thead th {\n",
       "        text-align: right;\n",
       "    }\n",
       "</style>\n",
       "<table border=\"1\" class=\"dataframe\">\n",
       "  <thead>\n",
       "    <tr style=\"text-align: right;\">\n",
       "      <th></th>\n",
       "      <th>date</th>\n",
       "      <th>ordersPerDateA</th>\n",
       "      <th>revenuePerDateA</th>\n",
       "      <th>ordersPerDateB</th>\n",
       "      <th>revenuePerDateB</th>\n",
       "      <th>ordersCummulativeA</th>\n",
       "      <th>revenueCummulativeA</th>\n",
       "      <th>ordersCummulativeB</th>\n",
       "      <th>revenueCummulativeB</th>\n",
       "      <th>visitorsPerDateA</th>\n",
       "      <th>visitorsPerDateB</th>\n",
       "      <th>visitorsCummulativeA</th>\n",
       "      <th>visitorsCummulativeB</th>\n",
       "    </tr>\n",
       "  </thead>\n",
       "  <tbody>\n",
       "    <tr>\n",
       "      <th>0</th>\n",
       "      <td>2019-08-01</td>\n",
       "      <td>19</td>\n",
       "      <td>142779</td>\n",
       "      <td>17</td>\n",
       "      <td>59758</td>\n",
       "      <td>19</td>\n",
       "      <td>142779</td>\n",
       "      <td>17</td>\n",
       "      <td>59758</td>\n",
       "      <td>719</td>\n",
       "      <td>713</td>\n",
       "      <td>719</td>\n",
       "      <td>713</td>\n",
       "    </tr>\n",
       "    <tr>\n",
       "      <th>1</th>\n",
       "      <td>2019-08-02</td>\n",
       "      <td>18</td>\n",
       "      <td>91602</td>\n",
       "      <td>23</td>\n",
       "      <td>162043</td>\n",
       "      <td>37</td>\n",
       "      <td>234381</td>\n",
       "      <td>40</td>\n",
       "      <td>221801</td>\n",
       "      <td>619</td>\n",
       "      <td>581</td>\n",
       "      <td>1338</td>\n",
       "      <td>1294</td>\n",
       "    </tr>\n",
       "    <tr>\n",
       "      <th>2</th>\n",
       "      <td>2019-08-03</td>\n",
       "      <td>24</td>\n",
       "      <td>112473</td>\n",
       "      <td>14</td>\n",
       "      <td>67049</td>\n",
       "      <td>61</td>\n",
       "      <td>346854</td>\n",
       "      <td>54</td>\n",
       "      <td>288850</td>\n",
       "      <td>507</td>\n",
       "      <td>509</td>\n",
       "      <td>1845</td>\n",
       "      <td>1803</td>\n",
       "    </tr>\n",
       "    <tr>\n",
       "      <th>3</th>\n",
       "      <td>2019-08-04</td>\n",
       "      <td>11</td>\n",
       "      <td>41176</td>\n",
       "      <td>14</td>\n",
       "      <td>96890</td>\n",
       "      <td>72</td>\n",
       "      <td>388030</td>\n",
       "      <td>68</td>\n",
       "      <td>385740</td>\n",
       "      <td>717</td>\n",
       "      <td>770</td>\n",
       "      <td>2562</td>\n",
       "      <td>2573</td>\n",
       "    </tr>\n",
       "    <tr>\n",
       "      <th>4</th>\n",
       "      <td>2019-08-05</td>\n",
       "      <td>22</td>\n",
       "      <td>86383</td>\n",
       "      <td>21</td>\n",
       "      <td>89908</td>\n",
       "      <td>94</td>\n",
       "      <td>474413</td>\n",
       "      <td>89</td>\n",
       "      <td>475648</td>\n",
       "      <td>756</td>\n",
       "      <td>707</td>\n",
       "      <td>3318</td>\n",
       "      <td>3280</td>\n",
       "    </tr>\n",
       "  </tbody>\n",
       "</table>\n",
       "</div>"
      ],
      "text/plain": [
       "        date  ordersPerDateA  revenuePerDateA  ordersPerDateB  \\\n",
       "0 2019-08-01              19           142779              17   \n",
       "1 2019-08-02              18            91602              23   \n",
       "2 2019-08-03              24           112473              14   \n",
       "3 2019-08-04              11            41176              14   \n",
       "4 2019-08-05              22            86383              21   \n",
       "\n",
       "   revenuePerDateB  ordersCummulativeA  revenueCummulativeA  \\\n",
       "0            59758                  19               142779   \n",
       "1           162043                  37               234381   \n",
       "2            67049                  61               346854   \n",
       "3            96890                  72               388030   \n",
       "4            89908                  94               474413   \n",
       "\n",
       "   ordersCummulativeB  revenueCummulativeB  visitorsPerDateA  \\\n",
       "0                  17                59758               719   \n",
       "1                  40               221801               619   \n",
       "2                  54               288850               507   \n",
       "3                  68               385740               717   \n",
       "4                  89               475648               756   \n",
       "\n",
       "   visitorsPerDateB  visitorsCummulativeA  visitorsCummulativeB  \n",
       "0               713                   719                   713  \n",
       "1               581                  1338                  1294  \n",
       "2               509                  1845                  1803  \n",
       "3               770                  2562                  2573  \n",
       "4               707                  3318                  3280  "
      ]
     },
     "execution_count": 31,
     "metadata": {},
     "output_type": "execute_result"
    }
   ],
   "source": [
    "# Соберём кумулятивные данные данные за каждый день в одном датафрейме с разбивкой по группам\n",
    "visitorsADaily = visitors[visitors['group'] == 'A'][['date', 'visitors']]\n",
    "visitorsADaily.columns = ['date', 'visitorsPerDateA']\n",
    "\n",
    "visitorsACummulative = visitorsADaily.apply(\n",
    "    lambda x: visitorsADaily[visitorsADaily['date'] <= x['date']].agg(\n",
    "        {'date': 'max', 'visitorsPerDateA': 'sum'}\n",
    "    ),\n",
    "    axis=1,\n",
    ")\n",
    "visitorsACummulative.columns = ['date', 'visitorsCummulativeA']\n",
    "\n",
    "visitorsBDaily = visitors[visitors['group'] == 'B'][['date', 'visitors']]\n",
    "visitorsBDaily.columns = ['date', 'visitorsPerDateB']\n",
    "\n",
    "visitorsBCummulative = visitorsBDaily.apply(\n",
    "    lambda x: visitorsBDaily[visitorsBDaily['date'] <= x['date']].agg(\n",
    "        {'date': 'max', 'visitorsPerDateB': 'sum'}\n",
    "    ),\n",
    "    axis=1,\n",
    ")\n",
    "visitorsBCummulative.columns = ['date', 'visitorsCummulativeB']\n",
    "\n",
    "ordersADaily = (\n",
    "    orders[orders['group'] == 'A'][['date', 'transactionId', 'visitorId', 'revenue']]\n",
    "    .groupby('date', as_index=False)\n",
    "    .agg({'visitorId': pd.Series.nunique, 'revenue': 'sum'})\n",
    ")\n",
    "ordersADaily.columns = ['date', 'ordersPerDateA', 'revenuePerDateA']\n",
    "\n",
    "ordersACummulative = ordersADaily.apply(\n",
    "    lambda x: ordersADaily[ordersADaily['date'] <= x['date']].agg(\n",
    "        {'date': 'max', 'ordersPerDateA': 'sum', 'revenuePerDateA': 'sum'}\n",
    "    ),\n",
    "    axis=1,\n",
    ").sort_values(by=['date'])\n",
    "ordersACummulative.columns = [\n",
    "    'date',\n",
    "    'ordersCummulativeA',\n",
    "    'revenueCummulativeA',\n",
    "]\n",
    "\n",
    "ordersBDaily = (\n",
    "    orders[orders['group'] == 'B'][['date', 'transactionId', 'visitorId', 'revenue']]\n",
    "    .groupby('date', as_index=False)\n",
    "    .agg({'transactionId': pd.Series.nunique, 'revenue': 'sum'})\n",
    ")\n",
    "ordersBDaily.columns = ['date', 'ordersPerDateB', 'revenuePerDateB']\n",
    "\n",
    "ordersBCummulative = ordersBDaily.apply(\n",
    "    lambda x: ordersBDaily[ordersBDaily['date'] <= x['date']].agg(\n",
    "        {'date': 'max', 'ordersPerDateB': 'sum', 'revenuePerDateB': 'sum'}\n",
    "    ),\n",
    "    axis=1,\n",
    ").sort_values(by=['date'])\n",
    "ordersBCummulative.columns = [\n",
    "    'date',\n",
    "    'ordersCummulativeB',\n",
    "    'revenueCummulativeB',\n",
    "]\n",
    "\n",
    "data = (\n",
    "    ordersADaily.merge(\n",
    "        ordersBDaily, left_on='date', right_on='date', how='left'\n",
    "    )\n",
    "    .merge(ordersACummulative, left_on='date', right_on='date', how='left')\n",
    "    .merge(ordersBCummulative, left_on='date', right_on='date', how='left')\n",
    "    .merge(visitorsADaily, left_on='date', right_on='date', how='left')\n",
    "    .merge(visitorsBDaily, left_on='date', right_on='date', how='left')\n",
    "    .merge(visitorsACummulative, left_on='date', right_on='date', how='left')\n",
    "    .merge(visitorsBCummulative, left_on='date', right_on='date', how='left')\n",
    ")\n",
    "\n",
    "data.head(5)"
   ]
  },
  {
   "cell_type": "markdown",
   "metadata": {},
   "source": [
    "Сформулируем гипотезы\n",
    "- $H_0:$ различий в среднем количестве заказов между группами нет \n",
    "- $H_1:$ различия в среднем количестве заказов между группами есть\n",
    "\n",
    "Уровень статистической значимости возьму 5%."
   ]
  },
  {
   "cell_type": "code",
   "execution_count": 32,
   "metadata": {},
   "outputs": [
    {
     "name": "stdout",
     "output_type": "stream",
     "text": [
      "P-value: 0.011\n",
      "Отвергаю нулевую гипотезу, в среднем количистве заказов различия между группами есть\n",
      "Относительные различия в среднем количистве заказов: 0.160\n"
     ]
    }
   ],
   "source": [
    "ordersByUsersA = (\n",
    "    orders[orders['group'] == 'A']\n",
    "    .groupby('visitorId', as_index=False)\n",
    "    .agg({'transactionId': pd.Series.nunique})\n",
    ")\n",
    "ordersByUsersA.columns = ['visitorId', 'orders']\n",
    "\n",
    "ordersByUsersB = (\n",
    "    orders[orders['group'] == 'B']\n",
    "    .groupby('visitorId', as_index=False)\n",
    "    .agg({'transactionId': pd.Series.nunique})\n",
    ")\n",
    "ordersByUsersB.columns = ['visitorId', 'orders'] \n",
    "\n",
    "sampleA = pd.concat(\n",
    "    [\n",
    "        ordersByUsersA['orders'],\n",
    "        pd.Series(\n",
    "            0,\n",
    "            index=np.arange(\n",
    "                data['visitorsPerDateA'].sum() - len(ordersByUsersA['orders'])\n",
    "            ),\n",
    "            name='orders',\n",
    "        ),\n",
    "    ],\n",
    "    axis=0,\n",
    ")\n",
    "\n",
    "sampleB = pd.concat(\n",
    "    [\n",
    "        ordersByUsersB['orders'],\n",
    "        pd.Series(\n",
    "            0,\n",
    "            index=np.arange(\n",
    "                data['visitorsPerDateB'].sum() - len(ordersByUsersB['orders'])\n",
    "            ),\n",
    "            name='orders',\n",
    "        ),\n",
    "    ],\n",
    "    axis=0,\n",
    ")\n",
    "\n",
    "alpha = 0.05\n",
    "results_1 = stats.mannwhitneyu(sampleA, sampleB)\n",
    "print('P-value:',\"{0:.3f}\".format(results_1.pvalue))\n",
    "\n",
    "if (results_1.pvalue < alpha):\n",
    "    print('Отвергаю нулевую гипотезу, в среднем количистве заказов различия между группами есть')\n",
    "else:\n",
    "    print('Не получилось отвергнуть нулевую гипотезу, в среднем количистве заказов различий между группами нет')\n",
    "\n",
    "\n",
    "print('Относительные различия в среднем количистве заказов:',\"{0:.3f}\".format(sampleB.mean() / sampleA.mean() - 1))"
   ]
  },
  {
   "cell_type": "markdown",
   "metadata": {},
   "source": [
    "`P-value` меньше уровня статистической значимости, из этого следует, что по \"сырым данным\" в среднем количистве заказов различия между группами есть. Относительный прирост группы В равен 16%."
   ]
  },
  {
   "cell_type": "markdown",
   "metadata": {},
   "source": [
    "**Посчитаем статистическую значимость различий в среднем чеке заказа между группами по «сырым» данным**"
   ]
  },
  {
   "cell_type": "markdown",
   "metadata": {},
   "source": [
    "Сформулируем гипотезы\n",
    "- $H_0:$ различий в среднем чеке заказа между группами нет \n",
    "- $H_1:$ различия в среднем чеке заказа между группами есть\n",
    "\n",
    "Уровень статистической значимости возьму 5%."
   ]
  },
  {
   "cell_type": "code",
   "execution_count": 33,
   "metadata": {},
   "outputs": [
    {
     "name": "stdout",
     "output_type": "stream",
     "text": [
      "P-value: 0.829\n",
      "Не получилось отвергнуть нулевую гипотезу, в среднем чеке заказа различий между группами нет\n",
      "Относительные различия в среднем чеке: 0.287\n"
     ]
    }
   ],
   "source": [
    "results_2 = stats.mannwhitneyu(orders[orders['group']=='A']['revenue'], orders[orders['group']=='B']['revenue'])\n",
    "print('P-value:',\"{0:.3f}\".format(results_2.pvalue))\n",
    "\n",
    "if (results_2.pvalue < alpha):\n",
    "    print('Отвергаю нулевую гипотезу, в среднем чеке заказа различия между группами есть')\n",
    "else:\n",
    "    print('Не получилось отвергнуть нулевую гипотезу, в среднем чеке заказа различий между группами нет')\n",
    "\n",
    "print('Относительные различия в среднем чеке:','{0:.3f}'.format(orders[orders['group']=='B']['revenue'].mean()/orders[orders['group']=='A']['revenue'].mean()-1))"
   ]
  },
  {
   "cell_type": "markdown",
   "metadata": {},
   "source": [
    "`P-value` сильно выше уровня статистической значимости, из этого следует, что по \"сырым данным\" в среднем чеке заказа различий между группами нет. Относительный прирост группы В равен 16%. Относительные различия в среднем чеке равны 28,7%."
   ]
  },
  {
   "cell_type": "markdown",
   "metadata": {},
   "source": [
    "**Посчитаем статистическую значимость различий в среднем количестве заказов на посетителя между группами по «очищенным» данным**"
   ]
  },
  {
   "cell_type": "code",
   "execution_count": 34,
   "metadata": {},
   "outputs": [
    {
     "name": "stdout",
     "output_type": "stream",
     "text": [
      "568     113298937\n",
      "1099    148427295\n",
      "928     204675465\n",
      "33      249864742\n",
      "684     358944393\n",
      "Name: visitorId, dtype: int64\n",
      "----------------------------------------------------------------------------------------------------\n",
      "58\n"
     ]
    }
   ],
   "source": [
    "# Узнаем, сколько всего аномальных пользователей \n",
    "usersWithManyOrders = pd.concat(\n",
    "    [\n",
    "        ordersByUsersA[ordersByUsersA['orders'] > 2]['visitorId'],\n",
    "        ordersByUsersB[ordersByUsersB['orders'] > 2]['visitorId'],\n",
    "    ],\n",
    "    axis=0,\n",
    ")\n",
    "usersWithExpensiveOrders = orders[orders['revenue'] > 27000]['visitorId']\n",
    "abnormalUsers = (\n",
    "    pd.concat([usersWithManyOrders, usersWithExpensiveOrders], axis=0)\n",
    "    .drop_duplicates()\n",
    "    .sort_values()\n",
    ")\n",
    "print(abnormalUsers.head(5))\n",
    "print(100*'-')\n",
    "print(abnormalUsers.shape[0]) "
   ]
  },
  {
   "cell_type": "markdown",
   "metadata": {},
   "source": [
    "Сформулируем гипотезы\n",
    "- $H_0:$ различий в среднем количестве заказов между группами нет \n",
    "- $H_1:$ различия в среднем количестве заказов между группами есть\n",
    "\n",
    "Уровень статистической значимости возьму 5%."
   ]
  },
  {
   "cell_type": "code",
   "execution_count": 35,
   "metadata": {},
   "outputs": [
    {
     "name": "stdout",
     "output_type": "stream",
     "text": [
      "P-value: 0.012\n",
      "Отвергаю нулевую гипотезу, в среднем количестве заказов различия между группами есть\n",
      "Относительные различия в среднем количистве заказов: 0.182\n"
     ]
    }
   ],
   "source": [
    "# Создадим отфильтрованные датафреймы\n",
    "sampleAFiltered = pd.concat(\n",
    "    [\n",
    "        ordersByUsersA[\n",
    "            np.logical_not(ordersByUsersA['visitorId'].isin(abnormalUsers))\n",
    "        ]['orders'],\n",
    "        pd.Series(\n",
    "            0,\n",
    "            index=np.arange(\n",
    "                data['visitorsPerDateA'].sum() - len(ordersByUsersA['orders'])\n",
    "            ),\n",
    "            name='orders',\n",
    "        ),\n",
    "    ],\n",
    "    axis=0,\n",
    ")\n",
    "\n",
    "sampleBFiltered = pd.concat(\n",
    "    [\n",
    "        ordersByUsersB[\n",
    "            np.logical_not(ordersByUsersB['visitorId'].isin(abnormalUsers))\n",
    "        ]['orders'],\n",
    "        pd.Series(\n",
    "            0,\n",
    "            index=np.arange(\n",
    "                data['visitorsPerDateB'].sum() - len(ordersByUsersB['orders'])\n",
    "            ),\n",
    "            name='orders',\n",
    "        ),\n",
    "    ],\n",
    "    axis=0,\n",
    ") \n",
    "\n",
    "results_3 = stats.mannwhitneyu(sampleAFiltered, sampleBFiltered)\n",
    "print('P-value:',\"{0:.3f}\".format(results_3.pvalue))\n",
    "\n",
    "if (results_3.pvalue < alpha):\n",
    "    print('Отвергаю нулевую гипотезу, в среднем количестве заказов различия между группами есть')\n",
    "else:\n",
    "    print('Не получилось отвергнуть нулевую гипотезу, в среднем количестве заказов различий между группами нет')\n",
    "\n",
    "print('Относительные различия в среднем количистве заказов:','{0:.3f}'.format(sampleBFiltered.mean()/sampleAFiltered.mean()-1)) "
   ]
  },
  {
   "cell_type": "markdown",
   "metadata": {},
   "source": [
    "`P-value` меньше уровня статистической значимости, из этого следует, что по \"очищенным данным\" в среднем количистве заказов различия между группами есть. Относительный прирост группы В равен 18,2%. Результат после очистки от выбросов поменялся слабо."
   ]
  },
  {
   "cell_type": "markdown",
   "metadata": {},
   "source": [
    "**Посчитаем статистическую значимость различий в среднем чеке заказа между группами по «очищенным» данным**"
   ]
  },
  {
   "cell_type": "markdown",
   "metadata": {},
   "source": [
    "Сформулируем гипотезы\n",
    "- $H_0:$ различий в среднем чеке заказа между группами нет \n",
    "- $H_1:$ различия в среднем чеке заказа между группами есть\n",
    "\n",
    "Уровень статистической значимости возьму 5%."
   ]
  },
  {
   "cell_type": "code",
   "execution_count": 36,
   "metadata": {},
   "outputs": [
    {
     "name": "stdout",
     "output_type": "stream",
     "text": [
      "P-value: 0.646\n",
      "Не получилось отвергнуть нулевую гипотезу, в среднем чеке различий между группами нет\n",
      "Относительные различия в среднем чеке: -0.048\n"
     ]
    }
   ],
   "source": [
    "results_4 = stats.mannwhitneyu(\n",
    "            orders[\n",
    "                np.logical_and(\n",
    "                    orders['group'] == 'A',\n",
    "                    np.logical_not(orders['visitorId'].isin(abnormalUsers)),\n",
    "                )\n",
    "            ]['revenue'],\n",
    "            orders[\n",
    "                np.logical_and(\n",
    "                    orders['group'] == 'B',\n",
    "                    np.logical_not(orders['visitorId'].isin(abnormalUsers)),\n",
    "                )\n",
    "            ]['revenue'])\n",
    "print('P-value:',\"{0:.3f}\".format(results_4.pvalue))\n",
    "\n",
    "if (results_4.pvalue < alpha):\n",
    "    print('Отвергаю нулевую гипотезу, в среднем чеке различия между группами есть')\n",
    "else:\n",
    "    print('Не получилось отвергнуть нулевую гипотезу, в среднем чеке различий между группами нет')\n",
    "    \n",
    "print(\n",
    "    'Относительные различия в среднем чеке:',\"{0:.3f}\".format(\n",
    "        orders[\n",
    "            np.logical_and(\n",
    "                orders['group'] == 'B',\n",
    "                np.logical_not(orders['visitorId'].isin(abnormalUsers)),\n",
    "            )\n",
    "        ]['revenue'].mean()\n",
    "        / orders[\n",
    "            np.logical_and(\n",
    "                orders['group'] == 'A',\n",
    "                np.logical_not(orders['visitorId'].isin(abnormalUsers)),\n",
    "            )\n",
    "        ]['revenue'].mean()\n",
    "        - 1\n",
    "    )\n",
    ") \n"
   ]
  },
  {
   "cell_type": "markdown",
   "metadata": {},
   "source": [
    "`P-value` сильно выше уровня статистической значимости, из этого следует, что по \"очищенным данным\" в среднем чеке различий между группами нет. Относительные различия уменьшились до 4,8% с 28,7%. Получается, что виной высокому проценту относительных различий были выбросы."
   ]
  },
  {
   "cell_type": "markdown",
   "metadata": {},
   "source": [
    "**Выводы:** По итогу исследования можно отметить следующее:\n",
    "- Есть статистически значимые различия по среднему количеству заказов между группами по «сырым» и по отфильтрованным данным;\n",
    "- Статистически значимого различия по среднему чеку нет ни по \"сырым\", ни по фильтрованным данным;\n",
    "- По графику различия среднего количества заказов между группами видно, что результаты группы `B` лучше примерно на 15%, также заметна тенденция к улучшению;\n",
    "- На графике различия среднего чека видны сильные колебания, к концу теста он стабилизируется, а результаты группы `B` превоосходят результаты группы `A`, но по анализу отфильтрованных данных становится ясно, что статистически значимого различия нет.\n",
    "\n",
    "Есть основания признать тест успешным и остановить его, тест показал рост числа заказов на клиента(конверсию) в группе `B`, по среднму чеку победителей нет. Также нет оснований ожидать, что при продолжении теста его результаты изменяться."
   ]
  }
 ],
 "metadata": {
  "ExecuteTimeLog": [
   {
    "duration": 1244,
    "start_time": "2023-12-05T21:04:01.703Z"
   },
   {
    "duration": 68,
    "start_time": "2023-12-05T21:07:44.861Z"
   },
   {
    "duration": 4,
    "start_time": "2023-12-05T21:17:10.746Z"
   },
   {
    "duration": 5,
    "start_time": "2023-12-05T21:17:18.251Z"
   },
   {
    "duration": 10,
    "start_time": "2023-12-05T21:25:04.819Z"
   },
   {
    "duration": 11,
    "start_time": "2023-12-05T21:26:02.248Z"
   },
   {
    "duration": 112,
    "start_time": "2023-12-05T21:36:56.059Z"
   },
   {
    "duration": 10,
    "start_time": "2023-12-05T21:37:04.085Z"
   },
   {
    "duration": 31,
    "start_time": "2023-12-05T21:41:42.161Z"
   },
   {
    "duration": 34,
    "start_time": "2023-12-05T21:45:18.571Z"
   },
   {
    "duration": 1032,
    "start_time": "2023-12-05T21:46:47.605Z"
   },
   {
    "duration": 34,
    "start_time": "2023-12-05T21:46:48.639Z"
   },
   {
    "duration": 2,
    "start_time": "2023-12-05T21:46:48.674Z"
   },
   {
    "duration": 20,
    "start_time": "2023-12-05T21:46:48.678Z"
   },
   {
    "duration": 15,
    "start_time": "2023-12-05T21:46:48.700Z"
   },
   {
    "duration": 2,
    "start_time": "2023-12-05T21:50:09.343Z"
   },
   {
    "duration": 32,
    "start_time": "2023-12-05T21:51:25.503Z"
   },
   {
    "duration": 3,
    "start_time": "2023-12-05T21:51:25.919Z"
   },
   {
    "duration": 9,
    "start_time": "2023-12-05T21:51:26.567Z"
   },
   {
    "duration": 10,
    "start_time": "2023-12-05T21:51:27.470Z"
   },
   {
    "duration": 1102,
    "start_time": "2023-12-05T21:52:19.844Z"
   },
   {
    "duration": 36,
    "start_time": "2023-12-05T21:52:20.947Z"
   },
   {
    "duration": 3,
    "start_time": "2023-12-05T21:52:20.984Z"
   },
   {
    "duration": 35,
    "start_time": "2023-12-05T21:52:20.988Z"
   },
   {
    "duration": 18,
    "start_time": "2023-12-05T21:52:21.025Z"
   },
   {
    "duration": 185,
    "start_time": "2023-12-05T21:55:16.745Z"
   },
   {
    "duration": 55,
    "start_time": "2023-12-05T21:55:25.202Z"
   },
   {
    "duration": 1323,
    "start_time": "2023-12-06T17:39:37.542Z"
   },
   {
    "duration": 83,
    "start_time": "2023-12-06T17:39:38.867Z"
   },
   {
    "duration": 3,
    "start_time": "2023-12-06T17:39:38.954Z"
   },
   {
    "duration": 14,
    "start_time": "2023-12-06T17:39:38.958Z"
   },
   {
    "duration": 10,
    "start_time": "2023-12-06T17:39:38.973Z"
   },
   {
    "duration": 89,
    "start_time": "2023-12-06T17:39:38.985Z"
   },
   {
    "duration": 1256,
    "start_time": "2023-12-06T18:44:30.028Z"
   },
   {
    "duration": 37,
    "start_time": "2023-12-06T18:44:31.286Z"
   },
   {
    "duration": 58,
    "start_time": "2023-12-06T18:44:31.324Z"
   },
   {
    "duration": 182,
    "start_time": "2023-12-06T18:44:31.384Z"
   },
   {
    "duration": 214,
    "start_time": "2023-12-06T18:44:31.568Z"
   },
   {
    "duration": 71,
    "start_time": "2023-12-06T18:44:31.783Z"
   },
   {
    "duration": 75,
    "start_time": "2023-12-06T18:47:46.701Z"
   },
   {
    "duration": 1095,
    "start_time": "2023-12-06T19:06:05.811Z"
   },
   {
    "duration": 36,
    "start_time": "2023-12-06T19:06:06.908Z"
   },
   {
    "duration": 3,
    "start_time": "2023-12-06T19:06:06.945Z"
   },
   {
    "duration": 28,
    "start_time": "2023-12-06T19:06:06.950Z"
   },
   {
    "duration": 10,
    "start_time": "2023-12-06T19:06:06.979Z"
   },
   {
    "duration": 45,
    "start_time": "2023-12-06T19:06:06.991Z"
   },
   {
    "duration": 29,
    "start_time": "2023-12-06T19:06:07.037Z"
   },
   {
    "duration": 16,
    "start_time": "2023-12-06T19:06:07.068Z"
   },
   {
    "duration": 24,
    "start_time": "2023-12-06T19:06:07.085Z"
   },
   {
    "duration": 34,
    "start_time": "2023-12-06T19:06:07.111Z"
   },
   {
    "duration": 22,
    "start_time": "2023-12-06T19:06:07.146Z"
   },
   {
    "duration": 10,
    "start_time": "2023-12-06T19:06:07.171Z"
   },
   {
    "duration": 125,
    "start_time": "2023-12-06T19:17:07.925Z"
   },
   {
    "duration": 288,
    "start_time": "2023-12-06T19:18:43.044Z"
   },
   {
    "duration": 252,
    "start_time": "2023-12-06T19:28:39.497Z"
   },
   {
    "duration": 278,
    "start_time": "2023-12-06T19:30:05.960Z"
   },
   {
    "duration": 179,
    "start_time": "2023-12-06T19:30:21.784Z"
   },
   {
    "duration": 180,
    "start_time": "2023-12-06T19:31:42.299Z"
   },
   {
    "duration": 246,
    "start_time": "2023-12-06T19:35:01.021Z"
   },
   {
    "duration": 306,
    "start_time": "2023-12-06T19:35:07.072Z"
   },
   {
    "duration": 263,
    "start_time": "2023-12-06T19:35:14.255Z"
   },
   {
    "duration": 241,
    "start_time": "2023-12-06T19:38:06.562Z"
   },
   {
    "duration": 353,
    "start_time": "2023-12-06T19:38:24.295Z"
   },
   {
    "duration": 432,
    "start_time": "2023-12-06T19:45:21.542Z"
   },
   {
    "duration": 355,
    "start_time": "2023-12-06T19:45:29.201Z"
   },
   {
    "duration": 309,
    "start_time": "2023-12-06T19:50:25.233Z"
   },
   {
    "duration": 223,
    "start_time": "2023-12-06T19:51:39.194Z"
   },
   {
    "duration": 292,
    "start_time": "2023-12-06T19:53:23.521Z"
   },
   {
    "duration": 364,
    "start_time": "2023-12-06T19:55:33.094Z"
   },
   {
    "duration": 23,
    "start_time": "2023-12-06T20:47:20.444Z"
   },
   {
    "duration": 158,
    "start_time": "2023-12-06T20:48:17.807Z"
   },
   {
    "duration": 166,
    "start_time": "2023-12-06T20:49:48.750Z"
   },
   {
    "duration": 5,
    "start_time": "2023-12-06T20:52:50.780Z"
   },
   {
    "duration": 169,
    "start_time": "2023-12-06T21:13:08.511Z"
   },
   {
    "duration": 5,
    "start_time": "2023-12-06T21:14:47.692Z"
   },
   {
    "duration": 151,
    "start_time": "2023-12-06T21:29:48.202Z"
   },
   {
    "duration": 228,
    "start_time": "2023-12-06T21:30:25.606Z"
   },
   {
    "duration": 14,
    "start_time": "2023-12-06T21:31:52.417Z"
   },
   {
    "duration": 123,
    "start_time": "2023-12-06T21:33:08.739Z"
   },
   {
    "duration": 136,
    "start_time": "2023-12-06T21:34:14.451Z"
   },
   {
    "duration": 146,
    "start_time": "2023-12-06T21:35:11.086Z"
   },
   {
    "duration": 157,
    "start_time": "2023-12-06T21:38:19.134Z"
   },
   {
    "duration": 10,
    "start_time": "2023-12-06T21:40:26.853Z"
   },
   {
    "duration": 11,
    "start_time": "2023-12-06T21:40:47.379Z"
   },
   {
    "duration": 1431,
    "start_time": "2023-12-06T21:43:35.958Z"
   },
   {
    "duration": 8,
    "start_time": "2023-12-06T21:44:13.454Z"
   },
   {
    "duration": 9,
    "start_time": "2023-12-06T21:52:40.112Z"
   },
   {
    "duration": 8,
    "start_time": "2023-12-06T21:52:48.425Z"
   },
   {
    "duration": 1145,
    "start_time": "2023-12-06T21:54:55.740Z"
   },
   {
    "duration": 30,
    "start_time": "2023-12-06T21:55:27.431Z"
   },
   {
    "duration": 29,
    "start_time": "2023-12-06T21:56:43.348Z"
   },
   {
    "duration": 12,
    "start_time": "2023-12-06T21:58:37.571Z"
   },
   {
    "duration": 13,
    "start_time": "2023-12-06T21:59:28.641Z"
   },
   {
    "duration": 1091,
    "start_time": "2023-12-06T22:04:14.470Z"
   },
   {
    "duration": 35,
    "start_time": "2023-12-06T22:04:15.563Z"
   },
   {
    "duration": 2,
    "start_time": "2023-12-06T22:04:15.600Z"
   },
   {
    "duration": 13,
    "start_time": "2023-12-06T22:04:15.603Z"
   },
   {
    "duration": 10,
    "start_time": "2023-12-06T22:04:15.618Z"
   },
   {
    "duration": 47,
    "start_time": "2023-12-06T22:04:15.629Z"
   },
   {
    "duration": 20,
    "start_time": "2023-12-06T22:04:15.677Z"
   },
   {
    "duration": 9,
    "start_time": "2023-12-06T22:04:15.698Z"
   },
   {
    "duration": 9,
    "start_time": "2023-12-06T22:04:15.709Z"
   },
   {
    "duration": 12,
    "start_time": "2023-12-06T22:04:15.720Z"
   },
   {
    "duration": 7,
    "start_time": "2023-12-06T22:04:15.733Z"
   },
   {
    "duration": 4,
    "start_time": "2023-12-06T22:04:15.741Z"
   },
   {
    "duration": 264,
    "start_time": "2023-12-06T22:04:15.746Z"
   },
   {
    "duration": 330,
    "start_time": "2023-12-06T22:04:16.012Z"
   },
   {
    "duration": 246,
    "start_time": "2023-12-06T22:04:16.344Z"
   },
   {
    "duration": 311,
    "start_time": "2023-12-06T22:04:16.592Z"
   },
   {
    "duration": 301,
    "start_time": "2023-12-06T22:04:16.905Z"
   },
   {
    "duration": 344,
    "start_time": "2023-12-06T22:04:17.208Z"
   },
   {
    "duration": 11,
    "start_time": "2023-12-06T22:04:17.553Z"
   },
   {
    "duration": 165,
    "start_time": "2023-12-06T22:04:17.565Z"
   },
   {
    "duration": 5,
    "start_time": "2023-12-06T22:04:17.731Z"
   },
   {
    "duration": 179,
    "start_time": "2023-12-06T22:04:17.737Z"
   },
   {
    "duration": 4,
    "start_time": "2023-12-06T22:04:17.918Z"
   },
   {
    "duration": 221,
    "start_time": "2023-12-06T22:04:17.923Z"
   },
   {
    "duration": 161,
    "start_time": "2023-12-06T22:04:18.145Z"
   },
   {
    "duration": 10,
    "start_time": "2023-12-06T22:04:18.307Z"
   },
   {
    "duration": 8,
    "start_time": "2023-12-06T22:04:18.319Z"
   },
   {
    "duration": 49,
    "start_time": "2023-12-06T22:04:18.328Z"
   },
   {
    "duration": 12,
    "start_time": "2023-12-06T22:04:18.379Z"
   },
   {
    "duration": 1316,
    "start_time": "2023-12-07T18:48:47.389Z"
   },
   {
    "duration": 93,
    "start_time": "2023-12-07T18:48:48.707Z"
   },
   {
    "duration": 4,
    "start_time": "2023-12-07T18:48:48.801Z"
   },
   {
    "duration": 14,
    "start_time": "2023-12-07T18:48:48.807Z"
   },
   {
    "duration": 12,
    "start_time": "2023-12-07T18:48:48.823Z"
   },
   {
    "duration": 86,
    "start_time": "2023-12-07T18:48:48.837Z"
   },
   {
    "duration": 64,
    "start_time": "2023-12-07T18:48:48.925Z"
   },
   {
    "duration": 11,
    "start_time": "2023-12-07T18:48:48.990Z"
   },
   {
    "duration": 11,
    "start_time": "2023-12-07T18:48:49.003Z"
   },
   {
    "duration": 16,
    "start_time": "2023-12-07T18:48:49.016Z"
   },
   {
    "duration": 8,
    "start_time": "2023-12-07T18:48:49.034Z"
   },
   {
    "duration": 5,
    "start_time": "2023-12-07T18:48:49.043Z"
   },
   {
    "duration": 283,
    "start_time": "2023-12-07T18:48:49.050Z"
   },
   {
    "duration": 336,
    "start_time": "2023-12-07T18:48:49.335Z"
   },
   {
    "duration": 259,
    "start_time": "2023-12-07T18:48:49.672Z"
   },
   {
    "duration": 440,
    "start_time": "2023-12-07T18:48:49.933Z"
   },
   {
    "duration": 306,
    "start_time": "2023-12-07T18:48:50.374Z"
   },
   {
    "duration": 372,
    "start_time": "2023-12-07T18:48:50.682Z"
   },
   {
    "duration": 15,
    "start_time": "2023-12-07T18:48:51.056Z"
   },
   {
    "duration": 184,
    "start_time": "2023-12-07T18:48:51.072Z"
   },
   {
    "duration": 12,
    "start_time": "2023-12-07T18:48:51.257Z"
   },
   {
    "duration": 182,
    "start_time": "2023-12-07T18:48:51.271Z"
   },
   {
    "duration": 16,
    "start_time": "2023-12-07T18:48:51.455Z"
   },
   {
    "duration": 219,
    "start_time": "2023-12-07T18:48:51.473Z"
   },
   {
    "duration": 152,
    "start_time": "2023-12-07T18:48:51.693Z"
   },
   {
    "duration": 21,
    "start_time": "2023-12-07T18:48:51.847Z"
   },
   {
    "duration": 9,
    "start_time": "2023-12-07T18:48:51.869Z"
   },
   {
    "duration": 37,
    "start_time": "2023-12-07T18:48:51.880Z"
   },
   {
    "duration": 13,
    "start_time": "2023-12-07T18:48:51.918Z"
   },
   {
    "duration": 244,
    "start_time": "2023-12-07T19:20:29.360Z"
   },
   {
    "duration": 364,
    "start_time": "2023-12-07T19:20:33.758Z"
   },
   {
    "duration": 354,
    "start_time": "2023-12-07T20:43:31.073Z"
   },
   {
    "duration": 342,
    "start_time": "2023-12-07T20:55:05.534Z"
   },
   {
    "duration": 8,
    "start_time": "2023-12-07T21:55:35.391Z"
   },
   {
    "duration": 1408,
    "start_time": "2023-12-08T17:58:46.491Z"
   },
   {
    "duration": 85,
    "start_time": "2023-12-08T17:58:47.901Z"
   },
   {
    "duration": 3,
    "start_time": "2023-12-08T17:58:47.987Z"
   },
   {
    "duration": 52,
    "start_time": "2023-12-08T17:58:47.992Z"
   },
   {
    "duration": 42,
    "start_time": "2023-12-08T17:58:48.046Z"
   },
   {
    "duration": 100,
    "start_time": "2023-12-08T17:58:48.089Z"
   },
   {
    "duration": 80,
    "start_time": "2023-12-08T17:58:48.191Z"
   },
   {
    "duration": 23,
    "start_time": "2023-12-08T17:58:48.273Z"
   },
   {
    "duration": 25,
    "start_time": "2023-12-08T17:58:48.298Z"
   },
   {
    "duration": 41,
    "start_time": "2023-12-08T17:58:48.326Z"
   },
   {
    "duration": 48,
    "start_time": "2023-12-08T17:58:48.368Z"
   },
   {
    "duration": 23,
    "start_time": "2023-12-08T17:58:48.418Z"
   },
   {
    "duration": 389,
    "start_time": "2023-12-08T17:58:48.442Z"
   },
   {
    "duration": 359,
    "start_time": "2023-12-08T17:58:48.833Z"
   },
   {
    "duration": 278,
    "start_time": "2023-12-08T17:58:49.193Z"
   },
   {
    "duration": 438,
    "start_time": "2023-12-08T17:58:49.473Z"
   },
   {
    "duration": 337,
    "start_time": "2023-12-08T17:58:49.913Z"
   },
   {
    "duration": 336,
    "start_time": "2023-12-08T17:58:50.252Z"
   },
   {
    "duration": 17,
    "start_time": "2023-12-08T17:58:50.590Z"
   },
   {
    "duration": 190,
    "start_time": "2023-12-08T17:58:50.608Z"
   },
   {
    "duration": 9,
    "start_time": "2023-12-08T17:58:50.800Z"
   },
   {
    "duration": 193,
    "start_time": "2023-12-08T17:58:50.810Z"
   },
   {
    "duration": 4,
    "start_time": "2023-12-08T17:58:51.007Z"
   },
   {
    "duration": 255,
    "start_time": "2023-12-08T17:58:51.013Z"
   },
   {
    "duration": 196,
    "start_time": "2023-12-08T17:58:51.270Z"
   },
   {
    "duration": 12,
    "start_time": "2023-12-08T17:58:51.468Z"
   },
   {
    "duration": 26,
    "start_time": "2023-12-08T17:58:51.482Z"
   },
   {
    "duration": 56,
    "start_time": "2023-12-08T17:58:51.512Z"
   },
   {
    "duration": 14,
    "start_time": "2023-12-08T17:58:51.570Z"
   },
   {
    "duration": 253,
    "start_time": "2023-12-08T18:11:41.052Z"
   },
   {
    "duration": 207,
    "start_time": "2023-12-08T18:13:12.889Z"
   },
   {
    "duration": 243,
    "start_time": "2023-12-08T18:17:08.609Z"
   },
   {
    "duration": 172,
    "start_time": "2023-12-08T18:17:44.715Z"
   },
   {
    "duration": 190,
    "start_time": "2023-12-08T18:18:14.610Z"
   },
   {
    "duration": 165,
    "start_time": "2023-12-08T18:18:51.375Z"
   },
   {
    "duration": 169,
    "start_time": "2023-12-08T18:20:30.452Z"
   },
   {
    "duration": 12,
    "start_time": "2023-12-08T18:22:47.499Z"
   },
   {
    "duration": 11,
    "start_time": "2023-12-08T18:23:53.579Z"
   },
   {
    "duration": 34,
    "start_time": "2023-12-08T18:25:30.944Z"
   },
   {
    "duration": 45,
    "start_time": "2023-12-08T18:27:53.352Z"
   },
   {
    "duration": 70,
    "start_time": "2023-12-08T18:29:37.698Z"
   },
   {
    "duration": 13,
    "start_time": "2023-12-08T18:30:01.041Z"
   },
   {
    "duration": 24,
    "start_time": "2023-12-08T18:31:19.705Z"
   },
   {
    "duration": 20,
    "start_time": "2023-12-08T18:31:43.464Z"
   },
   {
    "duration": 162,
    "start_time": "2023-12-08T19:01:25.658Z"
   },
   {
    "duration": 12,
    "start_time": "2023-12-08T19:01:31.876Z"
   },
   {
    "duration": 32,
    "start_time": "2023-12-08T19:07:16.306Z"
   },
   {
    "duration": 16,
    "start_time": "2023-12-08T19:11:02.093Z"
   },
   {
    "duration": 474,
    "start_time": "2023-12-08T21:02:15.732Z"
   },
   {
    "duration": 1142,
    "start_time": "2023-12-08T21:25:25.235Z"
   },
   {
    "duration": 38,
    "start_time": "2023-12-08T21:25:26.379Z"
   },
   {
    "duration": 3,
    "start_time": "2023-12-08T21:25:26.419Z"
   },
   {
    "duration": 18,
    "start_time": "2023-12-08T21:25:26.424Z"
   },
   {
    "duration": 17,
    "start_time": "2023-12-08T21:25:26.445Z"
   },
   {
    "duration": 53,
    "start_time": "2023-12-08T21:25:26.465Z"
   },
   {
    "duration": 27,
    "start_time": "2023-12-08T21:25:26.520Z"
   },
   {
    "duration": 16,
    "start_time": "2023-12-08T21:25:26.550Z"
   },
   {
    "duration": 27,
    "start_time": "2023-12-08T21:25:26.569Z"
   },
   {
    "duration": 27,
    "start_time": "2023-12-08T21:25:26.599Z"
   },
   {
    "duration": 18,
    "start_time": "2023-12-08T21:25:26.627Z"
   },
   {
    "duration": 22,
    "start_time": "2023-12-08T21:25:26.647Z"
   },
   {
    "duration": 322,
    "start_time": "2023-12-08T21:25:26.671Z"
   },
   {
    "duration": 366,
    "start_time": "2023-12-08T21:25:26.995Z"
   },
   {
    "duration": 294,
    "start_time": "2023-12-08T21:25:27.363Z"
   },
   {
    "duration": 349,
    "start_time": "2023-12-08T21:25:27.659Z"
   },
   {
    "duration": 304,
    "start_time": "2023-12-08T21:25:28.009Z"
   },
   {
    "duration": 411,
    "start_time": "2023-12-08T21:25:28.315Z"
   },
   {
    "duration": 16,
    "start_time": "2023-12-08T21:25:28.729Z"
   },
   {
    "duration": 187,
    "start_time": "2023-12-08T21:25:28.747Z"
   },
   {
    "duration": 6,
    "start_time": "2023-12-08T21:25:28.936Z"
   },
   {
    "duration": 197,
    "start_time": "2023-12-08T21:25:28.944Z"
   },
   {
    "duration": 5,
    "start_time": "2023-12-08T21:25:29.143Z"
   },
   {
    "duration": 259,
    "start_time": "2023-12-08T21:25:29.150Z"
   },
   {
    "duration": 174,
    "start_time": "2023-12-08T21:25:29.411Z"
   },
   {
    "duration": 24,
    "start_time": "2023-12-08T21:25:29.586Z"
   },
   {
    "duration": 18,
    "start_time": "2023-12-08T21:25:29.611Z"
   },
   {
    "duration": 30,
    "start_time": "2023-12-08T21:25:29.632Z"
   },
   {
    "duration": 14,
    "start_time": "2023-12-08T21:25:29.664Z"
   },
   {
    "duration": 45,
    "start_time": "2023-12-09T10:07:48.204Z"
   },
   {
    "duration": 1299,
    "start_time": "2023-12-09T10:10:14.496Z"
   },
   {
    "duration": 80,
    "start_time": "2023-12-09T10:10:15.797Z"
   },
   {
    "duration": 3,
    "start_time": "2023-12-09T10:10:15.879Z"
   },
   {
    "duration": 17,
    "start_time": "2023-12-09T10:10:15.884Z"
   },
   {
    "duration": 11,
    "start_time": "2023-12-09T10:10:15.902Z"
   },
   {
    "duration": 83,
    "start_time": "2023-12-09T10:10:15.914Z"
   },
   {
    "duration": 61,
    "start_time": "2023-12-09T10:10:15.998Z"
   },
   {
    "duration": 11,
    "start_time": "2023-12-09T10:10:16.061Z"
   },
   {
    "duration": 21,
    "start_time": "2023-12-09T10:10:16.073Z"
   },
   {
    "duration": 21,
    "start_time": "2023-12-09T10:10:16.096Z"
   },
   {
    "duration": 18,
    "start_time": "2023-12-09T10:10:16.118Z"
   },
   {
    "duration": 13,
    "start_time": "2023-12-09T10:10:16.137Z"
   },
   {
    "duration": 3,
    "start_time": "2023-12-09T10:10:16.153Z"
   },
   {
    "duration": 274,
    "start_time": "2023-12-09T10:10:16.158Z"
   },
   {
    "duration": 327,
    "start_time": "2023-12-09T10:10:16.433Z"
   },
   {
    "duration": 252,
    "start_time": "2023-12-09T10:10:16.762Z"
   },
   {
    "duration": 428,
    "start_time": "2023-12-09T10:10:17.016Z"
   },
   {
    "duration": 326,
    "start_time": "2023-12-09T10:10:17.446Z"
   },
   {
    "duration": 323,
    "start_time": "2023-12-09T10:10:17.773Z"
   },
   {
    "duration": 10,
    "start_time": "2023-12-09T10:10:18.097Z"
   },
   {
    "duration": 168,
    "start_time": "2023-12-09T10:10:18.109Z"
   },
   {
    "duration": 5,
    "start_time": "2023-12-09T10:10:18.278Z"
   },
   {
    "duration": 187,
    "start_time": "2023-12-09T10:10:18.284Z"
   },
   {
    "duration": 5,
    "start_time": "2023-12-09T10:10:18.473Z"
   },
   {
    "duration": 254,
    "start_time": "2023-12-09T10:10:18.480Z"
   },
   {
    "duration": 174,
    "start_time": "2023-12-09T10:10:18.736Z"
   },
   {
    "duration": 22,
    "start_time": "2023-12-09T10:10:18.912Z"
   },
   {
    "duration": 10,
    "start_time": "2023-12-09T10:10:18.937Z"
   },
   {
    "duration": 33,
    "start_time": "2023-12-09T10:10:18.949Z"
   },
   {
    "duration": 15,
    "start_time": "2023-12-09T10:10:18.984Z"
   },
   {
    "duration": 5,
    "start_time": "2023-12-09T10:10:31.645Z"
   },
   {
    "duration": 4,
    "start_time": "2023-12-09T10:11:02.076Z"
   },
   {
    "duration": 4,
    "start_time": "2023-12-09T10:11:30.555Z"
   },
   {
    "duration": 3,
    "start_time": "2023-12-09T10:11:45.825Z"
   },
   {
    "duration": 4,
    "start_time": "2023-12-09T10:15:18.910Z"
   },
   {
    "duration": 4,
    "start_time": "2023-12-09T10:15:44.067Z"
   },
   {
    "duration": 5,
    "start_time": "2023-12-09T10:16:58.797Z"
   },
   {
    "duration": 110,
    "start_time": "2023-12-09T10:30:11.096Z"
   },
   {
    "duration": 5,
    "start_time": "2023-12-09T10:30:22.329Z"
   },
   {
    "duration": 6,
    "start_time": "2023-12-09T10:30:34.686Z"
   },
   {
    "duration": 7,
    "start_time": "2023-12-09T10:35:38.551Z"
   },
   {
    "duration": 7,
    "start_time": "2023-12-09T10:36:13.908Z"
   },
   {
    "duration": 10,
    "start_time": "2023-12-09T10:52:38.389Z"
   },
   {
    "duration": 11,
    "start_time": "2023-12-09T10:52:57.220Z"
   },
   {
    "duration": 7,
    "start_time": "2023-12-09T10:53:04.924Z"
   },
   {
    "duration": 9,
    "start_time": "2023-12-09T10:53:28.596Z"
   },
   {
    "duration": 7,
    "start_time": "2023-12-09T10:54:05.807Z"
   },
   {
    "duration": 13,
    "start_time": "2023-12-09T10:54:19.864Z"
   },
   {
    "duration": 17,
    "start_time": "2023-12-09T10:54:42.491Z"
   },
   {
    "duration": 19,
    "start_time": "2023-12-09T10:54:47.925Z"
   },
   {
    "duration": 16,
    "start_time": "2023-12-09T10:55:00.188Z"
   },
   {
    "duration": 15,
    "start_time": "2023-12-09T10:55:12.016Z"
   },
   {
    "duration": 10,
    "start_time": "2023-12-09T10:56:33.247Z"
   },
   {
    "duration": 25,
    "start_time": "2023-12-09T10:56:36.939Z"
   },
   {
    "duration": 29,
    "start_time": "2023-12-09T10:56:48.744Z"
   },
   {
    "duration": 18,
    "start_time": "2023-12-09T10:58:05.838Z"
   },
   {
    "duration": 13,
    "start_time": "2023-12-09T11:01:18.552Z"
   },
   {
    "duration": 10,
    "start_time": "2023-12-09T11:01:25.516Z"
   },
   {
    "duration": 12,
    "start_time": "2023-12-09T11:21:25.519Z"
   },
   {
    "duration": 29,
    "start_time": "2023-12-09T11:26:01.355Z"
   },
   {
    "duration": 29,
    "start_time": "2023-12-09T11:26:31.085Z"
   },
   {
    "duration": 12,
    "start_time": "2023-12-09T11:28:29.298Z"
   },
   {
    "duration": 30,
    "start_time": "2023-12-09T11:28:30.191Z"
   },
   {
    "duration": 12,
    "start_time": "2023-12-09T11:28:38.755Z"
   },
   {
    "duration": 1100,
    "start_time": "2023-12-09T11:28:50.522Z"
   },
   {
    "duration": 37,
    "start_time": "2023-12-09T11:28:51.623Z"
   },
   {
    "duration": 3,
    "start_time": "2023-12-09T11:28:51.661Z"
   },
   {
    "duration": 26,
    "start_time": "2023-12-09T11:28:51.665Z"
   },
   {
    "duration": 12,
    "start_time": "2023-12-09T11:28:51.693Z"
   },
   {
    "duration": 73,
    "start_time": "2023-12-09T11:28:51.706Z"
   },
   {
    "duration": 21,
    "start_time": "2023-12-09T11:28:51.781Z"
   },
   {
    "duration": 11,
    "start_time": "2023-12-09T11:28:51.803Z"
   },
   {
    "duration": 24,
    "start_time": "2023-12-09T11:28:51.815Z"
   },
   {
    "duration": 23,
    "start_time": "2023-12-09T11:28:51.840Z"
   },
   {
    "duration": 39,
    "start_time": "2023-12-09T11:28:51.865Z"
   },
   {
    "duration": 19,
    "start_time": "2023-12-09T11:28:51.906Z"
   },
   {
    "duration": 26,
    "start_time": "2023-12-09T11:28:51.927Z"
   },
   {
    "duration": 22,
    "start_time": "2023-12-09T11:28:51.956Z"
   },
   {
    "duration": 21,
    "start_time": "2023-12-09T11:28:51.979Z"
   },
   {
    "duration": 29,
    "start_time": "2023-12-09T11:28:52.002Z"
   },
   {
    "duration": 14,
    "start_time": "2023-12-09T11:28:52.033Z"
   },
   {
    "duration": 22,
    "start_time": "2023-12-09T11:28:52.048Z"
   },
   {
    "duration": 280,
    "start_time": "2023-12-09T11:28:52.071Z"
   },
   {
    "duration": 328,
    "start_time": "2023-12-09T11:28:52.353Z"
   },
   {
    "duration": 267,
    "start_time": "2023-12-09T11:28:52.683Z"
   },
   {
    "duration": 351,
    "start_time": "2023-12-09T11:28:52.952Z"
   },
   {
    "duration": 283,
    "start_time": "2023-12-09T11:28:53.305Z"
   },
   {
    "duration": 353,
    "start_time": "2023-12-09T11:28:53.589Z"
   },
   {
    "duration": 10,
    "start_time": "2023-12-09T11:28:53.944Z"
   },
   {
    "duration": 182,
    "start_time": "2023-12-09T11:28:53.956Z"
   },
   {
    "duration": 5,
    "start_time": "2023-12-09T11:28:54.139Z"
   },
   {
    "duration": 186,
    "start_time": "2023-12-09T11:28:54.146Z"
   },
   {
    "duration": 8,
    "start_time": "2023-12-09T11:28:54.335Z"
   },
   {
    "duration": 232,
    "start_time": "2023-12-09T11:28:54.345Z"
   },
   {
    "duration": 142,
    "start_time": "2023-12-09T11:28:54.578Z"
   },
   {
    "duration": 16,
    "start_time": "2023-12-09T11:28:54.722Z"
   },
   {
    "duration": 51,
    "start_time": "2023-12-09T11:28:54.740Z"
   },
   {
    "duration": 39,
    "start_time": "2023-12-09T11:28:54.793Z"
   },
   {
    "duration": 13,
    "start_time": "2023-12-09T11:28:54.833Z"
   },
   {
    "duration": 6,
    "start_time": "2023-12-09T11:29:29.226Z"
   },
   {
    "duration": 5,
    "start_time": "2023-12-09T11:33:06.252Z"
   },
   {
    "duration": 817,
    "start_time": "2023-12-09T11:34:58.105Z"
   },
   {
    "duration": 8,
    "start_time": "2023-12-09T11:35:15.553Z"
   },
   {
    "duration": 7,
    "start_time": "2023-12-09T11:35:25.458Z"
   },
   {
    "duration": 58,
    "start_time": "2023-12-09T11:36:24.401Z"
   },
   {
    "duration": 54,
    "start_time": "2023-12-09T11:36:36.236Z"
   },
   {
    "duration": 401,
    "start_time": "2023-12-09T11:42:36.140Z"
   },
   {
    "duration": 1104,
    "start_time": "2023-12-09T11:44:36.095Z"
   },
   {
    "duration": 37,
    "start_time": "2023-12-09T11:44:37.201Z"
   },
   {
    "duration": 3,
    "start_time": "2023-12-09T11:44:37.240Z"
   },
   {
    "duration": 13,
    "start_time": "2023-12-09T11:44:37.244Z"
   },
   {
    "duration": 11,
    "start_time": "2023-12-09T11:44:37.259Z"
   },
   {
    "duration": 46,
    "start_time": "2023-12-09T11:44:37.271Z"
   },
   {
    "duration": 20,
    "start_time": "2023-12-09T11:44:37.318Z"
   },
   {
    "duration": 16,
    "start_time": "2023-12-09T11:44:37.340Z"
   },
   {
    "duration": 14,
    "start_time": "2023-12-09T11:44:37.358Z"
   },
   {
    "duration": 13,
    "start_time": "2023-12-09T11:44:37.374Z"
   },
   {
    "duration": 13,
    "start_time": "2023-12-09T11:44:37.389Z"
   },
   {
    "duration": 21,
    "start_time": "2023-12-09T11:44:37.404Z"
   },
   {
    "duration": 6,
    "start_time": "2023-12-09T11:44:37.426Z"
   },
   {
    "duration": 4,
    "start_time": "2023-12-09T11:44:37.435Z"
   },
   {
    "duration": 8,
    "start_time": "2023-12-09T11:44:37.440Z"
   },
   {
    "duration": 8,
    "start_time": "2023-12-09T11:44:37.450Z"
   },
   {
    "duration": 26,
    "start_time": "2023-12-09T11:44:37.460Z"
   },
   {
    "duration": 6,
    "start_time": "2023-12-09T11:44:37.488Z"
   },
   {
    "duration": 311,
    "start_time": "2023-12-09T11:44:37.495Z"
   },
   {
    "duration": 5,
    "start_time": "2023-12-09T11:44:37.808Z"
   },
   {
    "duration": 318,
    "start_time": "2023-12-09T11:44:37.814Z"
   },
   {
    "duration": 246,
    "start_time": "2023-12-09T11:44:38.134Z"
   },
   {
    "duration": 308,
    "start_time": "2023-12-09T11:44:38.382Z"
   },
   {
    "duration": 284,
    "start_time": "2023-12-09T11:44:38.692Z"
   },
   {
    "duration": 344,
    "start_time": "2023-12-09T11:44:38.979Z"
   },
   {
    "duration": 16,
    "start_time": "2023-12-09T11:44:39.325Z"
   },
   {
    "duration": 182,
    "start_time": "2023-12-09T11:44:39.343Z"
   },
   {
    "duration": 6,
    "start_time": "2023-12-09T11:44:39.530Z"
   },
   {
    "duration": 178,
    "start_time": "2023-12-09T11:44:39.537Z"
   },
   {
    "duration": 14,
    "start_time": "2023-12-09T11:44:39.717Z"
   },
   {
    "duration": 221,
    "start_time": "2023-12-09T11:44:39.733Z"
   },
   {
    "duration": 135,
    "start_time": "2023-12-09T11:44:39.956Z"
   },
   {
    "duration": 10,
    "start_time": "2023-12-09T11:44:40.093Z"
   },
   {
    "duration": 143,
    "start_time": "2023-12-09T11:44:40.105Z"
   },
   {
    "duration": 31,
    "start_time": "2023-12-09T11:44:40.250Z"
   },
   {
    "duration": 14,
    "start_time": "2023-12-09T11:44:40.282Z"
   },
   {
    "duration": 9,
    "start_time": "2023-12-09T11:48:13.887Z"
   },
   {
    "duration": 32,
    "start_time": "2023-12-09T11:48:17.491Z"
   },
   {
    "duration": 14,
    "start_time": "2023-12-09T11:48:32.043Z"
   },
   {
    "duration": 1037,
    "start_time": "2023-12-09T11:51:50.651Z"
   },
   {
    "duration": 38,
    "start_time": "2023-12-09T11:51:51.690Z"
   },
   {
    "duration": 27,
    "start_time": "2023-12-09T11:51:51.730Z"
   },
   {
    "duration": 46,
    "start_time": "2023-12-09T11:51:51.760Z"
   },
   {
    "duration": 12,
    "start_time": "2023-12-09T11:51:51.808Z"
   },
   {
    "duration": 56,
    "start_time": "2023-12-09T11:51:51.822Z"
   },
   {
    "duration": 22,
    "start_time": "2023-12-09T11:51:51.879Z"
   },
   {
    "duration": 25,
    "start_time": "2023-12-09T11:51:51.902Z"
   },
   {
    "duration": 42,
    "start_time": "2023-12-09T11:51:51.929Z"
   },
   {
    "duration": 35,
    "start_time": "2023-12-09T11:51:51.974Z"
   },
   {
    "duration": 11,
    "start_time": "2023-12-09T11:51:52.010Z"
   },
   {
    "duration": 14,
    "start_time": "2023-12-09T11:51:52.023Z"
   },
   {
    "duration": 6,
    "start_time": "2023-12-09T11:51:52.039Z"
   },
   {
    "duration": 6,
    "start_time": "2023-12-09T11:51:52.046Z"
   },
   {
    "duration": 7,
    "start_time": "2023-12-09T11:51:52.054Z"
   },
   {
    "duration": 10,
    "start_time": "2023-12-09T11:51:52.063Z"
   },
   {
    "duration": 11,
    "start_time": "2023-12-09T11:51:52.075Z"
   },
   {
    "duration": 6,
    "start_time": "2023-12-09T11:51:52.088Z"
   },
   {
    "duration": 299,
    "start_time": "2023-12-09T11:51:52.096Z"
   },
   {
    "duration": 5,
    "start_time": "2023-12-09T11:51:52.396Z"
   },
   {
    "duration": 332,
    "start_time": "2023-12-09T11:51:52.402Z"
   },
   {
    "duration": 237,
    "start_time": "2023-12-09T11:51:52.735Z"
   },
   {
    "duration": 325,
    "start_time": "2023-12-09T11:51:52.975Z"
   },
   {
    "duration": 282,
    "start_time": "2023-12-09T11:51:53.302Z"
   },
   {
    "duration": 337,
    "start_time": "2023-12-09T11:51:53.585Z"
   },
   {
    "duration": 14,
    "start_time": "2023-12-09T11:51:53.924Z"
   },
   {
    "duration": 190,
    "start_time": "2023-12-09T11:51:53.940Z"
   },
   {
    "duration": 5,
    "start_time": "2023-12-09T11:51:54.134Z"
   },
   {
    "duration": 174,
    "start_time": "2023-12-09T11:51:54.141Z"
   },
   {
    "duration": 14,
    "start_time": "2023-12-09T11:51:54.316Z"
   },
   {
    "duration": 220,
    "start_time": "2023-12-09T11:51:54.332Z"
   },
   {
    "duration": 149,
    "start_time": "2023-12-09T11:51:54.553Z"
   },
   {
    "duration": 11,
    "start_time": "2023-12-09T11:51:54.704Z"
   },
   {
    "duration": 11,
    "start_time": "2023-12-09T11:51:54.732Z"
   },
   {
    "duration": 29,
    "start_time": "2023-12-09T11:51:54.745Z"
   },
   {
    "duration": 13,
    "start_time": "2023-12-09T11:51:54.775Z"
   },
   {
    "duration": 1124,
    "start_time": "2023-12-09T11:53:58.682Z"
   },
   {
    "duration": 37,
    "start_time": "2023-12-09T11:53:59.809Z"
   },
   {
    "duration": 3,
    "start_time": "2023-12-09T11:53:59.848Z"
   },
   {
    "duration": 19,
    "start_time": "2023-12-09T11:53:59.853Z"
   },
   {
    "duration": 12,
    "start_time": "2023-12-09T11:53:59.875Z"
   },
   {
    "duration": 45,
    "start_time": "2023-12-09T11:53:59.889Z"
   },
   {
    "duration": 22,
    "start_time": "2023-12-09T11:53:59.936Z"
   },
   {
    "duration": 11,
    "start_time": "2023-12-09T11:53:59.959Z"
   },
   {
    "duration": 12,
    "start_time": "2023-12-09T11:53:59.971Z"
   },
   {
    "duration": 16,
    "start_time": "2023-12-09T11:53:59.985Z"
   },
   {
    "duration": 48,
    "start_time": "2023-12-09T11:54:00.003Z"
   },
   {
    "duration": 34,
    "start_time": "2023-12-09T11:54:00.053Z"
   },
   {
    "duration": 20,
    "start_time": "2023-12-09T11:54:00.088Z"
   },
   {
    "duration": 50,
    "start_time": "2023-12-09T11:54:00.111Z"
   },
   {
    "duration": 28,
    "start_time": "2023-12-09T11:54:00.163Z"
   },
   {
    "duration": 64,
    "start_time": "2023-12-09T11:54:00.193Z"
   },
   {
    "duration": 24,
    "start_time": "2023-12-09T11:54:00.258Z"
   },
   {
    "duration": 25,
    "start_time": "2023-12-09T11:54:00.283Z"
   },
   {
    "duration": 292,
    "start_time": "2023-12-09T11:54:00.310Z"
   },
   {
    "duration": 5,
    "start_time": "2023-12-09T11:54:00.603Z"
   },
   {
    "duration": 342,
    "start_time": "2023-12-09T11:54:00.609Z"
   },
   {
    "duration": 270,
    "start_time": "2023-12-09T11:54:00.952Z"
   },
   {
    "duration": 337,
    "start_time": "2023-12-09T11:54:01.230Z"
   },
   {
    "duration": 284,
    "start_time": "2023-12-09T11:54:01.568Z"
   },
   {
    "duration": 380,
    "start_time": "2023-12-09T11:54:01.854Z"
   },
   {
    "duration": 11,
    "start_time": "2023-12-09T11:54:02.236Z"
   },
   {
    "duration": 248,
    "start_time": "2023-12-09T11:54:02.249Z"
   },
   {
    "duration": 5,
    "start_time": "2023-12-09T11:54:02.499Z"
   },
   {
    "duration": 183,
    "start_time": "2023-12-09T11:54:02.506Z"
   },
   {
    "duration": 5,
    "start_time": "2023-12-09T11:54:02.691Z"
   },
   {
    "duration": 216,
    "start_time": "2023-12-09T11:54:02.698Z"
   },
   {
    "duration": 152,
    "start_time": "2023-12-09T11:54:02.916Z"
   },
   {
    "duration": 11,
    "start_time": "2023-12-09T11:54:03.070Z"
   },
   {
    "duration": 37,
    "start_time": "2023-12-09T11:54:03.083Z"
   },
   {
    "duration": 70,
    "start_time": "2023-12-09T11:54:03.122Z"
   },
   {
    "duration": 46,
    "start_time": "2023-12-09T11:54:03.195Z"
   },
   {
    "duration": 1118,
    "start_time": "2023-12-09T11:55:30.418Z"
   },
   {
    "duration": 38,
    "start_time": "2023-12-09T11:55:31.538Z"
   },
   {
    "duration": 164,
    "start_time": "2023-12-09T11:55:31.577Z"
   },
   {
    "duration": 116,
    "start_time": "2023-12-09T11:55:31.744Z"
   },
   {
    "duration": 46,
    "start_time": "2023-12-09T11:55:31.862Z"
   },
   {
    "duration": 68,
    "start_time": "2023-12-09T11:55:31.909Z"
   },
   {
    "duration": 22,
    "start_time": "2023-12-09T11:55:31.978Z"
   },
   {
    "duration": 50,
    "start_time": "2023-12-09T11:55:32.001Z"
   },
   {
    "duration": 27,
    "start_time": "2023-12-09T11:55:32.053Z"
   },
   {
    "duration": 43,
    "start_time": "2023-12-09T11:55:32.083Z"
   },
   {
    "duration": 127,
    "start_time": "2023-12-09T11:55:32.128Z"
   },
   {
    "duration": 61,
    "start_time": "2023-12-09T11:55:32.257Z"
   },
   {
    "duration": 55,
    "start_time": "2023-12-09T11:55:32.319Z"
   },
   {
    "duration": 112,
    "start_time": "2023-12-09T11:55:32.375Z"
   },
   {
    "duration": 51,
    "start_time": "2023-12-09T11:55:32.489Z"
   },
   {
    "duration": 32,
    "start_time": "2023-12-09T11:55:32.542Z"
   },
   {
    "duration": 30,
    "start_time": "2023-12-09T11:55:32.576Z"
   },
   {
    "duration": 164,
    "start_time": "2023-12-09T11:55:32.608Z"
   },
   {
    "duration": 279,
    "start_time": "2023-12-09T11:55:32.773Z"
   },
   {
    "duration": 5,
    "start_time": "2023-12-09T11:55:33.054Z"
   },
   {
    "duration": 374,
    "start_time": "2023-12-09T11:55:33.060Z"
   },
   {
    "duration": 255,
    "start_time": "2023-12-09T11:55:33.436Z"
   },
   {
    "duration": 327,
    "start_time": "2023-12-09T11:55:33.693Z"
   },
   {
    "duration": 262,
    "start_time": "2023-12-09T11:55:34.022Z"
   },
   {
    "duration": 353,
    "start_time": "2023-12-09T11:55:34.286Z"
   },
   {
    "duration": 11,
    "start_time": "2023-12-09T11:55:34.641Z"
   },
   {
    "duration": 188,
    "start_time": "2023-12-09T11:55:34.653Z"
   },
   {
    "duration": 5,
    "start_time": "2023-12-09T11:55:34.844Z"
   },
   {
    "duration": 181,
    "start_time": "2023-12-09T11:55:34.850Z"
   },
   {
    "duration": 5,
    "start_time": "2023-12-09T11:55:35.032Z"
   },
   {
    "duration": 249,
    "start_time": "2023-12-09T11:55:35.038Z"
   },
   {
    "duration": 148,
    "start_time": "2023-12-09T11:55:35.288Z"
   },
   {
    "duration": 10,
    "start_time": "2023-12-09T11:55:35.438Z"
   },
   {
    "duration": 28,
    "start_time": "2023-12-09T11:55:35.449Z"
   },
   {
    "duration": 38,
    "start_time": "2023-12-09T11:55:35.478Z"
   },
   {
    "duration": 13,
    "start_time": "2023-12-09T11:55:35.518Z"
   },
   {
    "duration": 52,
    "start_time": "2023-12-10T14:41:08.642Z"
   },
   {
    "duration": 1209,
    "start_time": "2024-03-14T12:58:09.115Z"
   },
   {
    "duration": 79,
    "start_time": "2024-03-14T12:58:10.326Z"
   },
   {
    "duration": 2,
    "start_time": "2024-03-14T12:58:10.406Z"
   },
   {
    "duration": 12,
    "start_time": "2024-03-14T12:58:10.410Z"
   },
   {
    "duration": 10,
    "start_time": "2024-03-14T12:58:10.423Z"
   },
   {
    "duration": 87,
    "start_time": "2024-03-14T12:58:10.434Z"
   },
   {
    "duration": 61,
    "start_time": "2024-03-14T12:58:10.523Z"
   },
   {
    "duration": 10,
    "start_time": "2024-03-14T12:58:10.586Z"
   },
   {
    "duration": 12,
    "start_time": "2024-03-14T12:58:10.598Z"
   },
   {
    "duration": 14,
    "start_time": "2024-03-14T12:58:10.612Z"
   },
   {
    "duration": 9,
    "start_time": "2024-03-14T12:58:10.627Z"
   },
   {
    "duration": 8,
    "start_time": "2024-03-14T12:58:10.637Z"
   },
   {
    "duration": 8,
    "start_time": "2024-03-14T12:58:10.647Z"
   },
   {
    "duration": 4,
    "start_time": "2024-03-14T12:58:10.671Z"
   },
   {
    "duration": 7,
    "start_time": "2024-03-14T12:58:10.677Z"
   },
   {
    "duration": 10,
    "start_time": "2024-03-14T12:58:10.685Z"
   },
   {
    "duration": 10,
    "start_time": "2024-03-14T12:58:10.697Z"
   },
   {
    "duration": 6,
    "start_time": "2024-03-14T12:58:10.708Z"
   },
   {
    "duration": 291,
    "start_time": "2024-03-14T12:58:10.715Z"
   },
   {
    "duration": 4,
    "start_time": "2024-03-14T12:58:11.008Z"
   },
   {
    "duration": 329,
    "start_time": "2024-03-14T12:58:11.013Z"
   },
   {
    "duration": 241,
    "start_time": "2024-03-14T12:58:11.343Z"
   },
   {
    "duration": 362,
    "start_time": "2024-03-14T12:58:11.585Z"
   },
   {
    "duration": 307,
    "start_time": "2024-03-14T12:58:11.948Z"
   },
   {
    "duration": 368,
    "start_time": "2024-03-14T12:58:12.257Z"
   },
   {
    "duration": 12,
    "start_time": "2024-03-14T12:58:12.627Z"
   },
   {
    "duration": 180,
    "start_time": "2024-03-14T12:58:12.640Z"
   },
   {
    "duration": 5,
    "start_time": "2024-03-14T12:58:12.822Z"
   },
   {
    "duration": 166,
    "start_time": "2024-03-14T12:58:12.828Z"
   },
   {
    "duration": 5,
    "start_time": "2024-03-14T12:58:12.995Z"
   },
   {
    "duration": 201,
    "start_time": "2024-03-14T12:58:13.001Z"
   },
   {
    "duration": 144,
    "start_time": "2024-03-14T12:58:13.204Z"
   },
   {
    "duration": 16,
    "start_time": "2024-03-14T12:58:13.349Z"
   },
   {
    "duration": 23,
    "start_time": "2024-03-14T12:58:13.367Z"
   },
   {
    "duration": 50,
    "start_time": "2024-03-14T12:58:13.391Z"
   },
   {
    "duration": 13,
    "start_time": "2024-03-14T12:58:13.443Z"
   }
  ],
  "kernelspec": {
   "display_name": "Python 3 (ipykernel)",
   "language": "python",
   "name": "python3"
  },
  "language_info": {
   "codemirror_mode": {
    "name": "ipython",
    "version": 3
   },
   "file_extension": ".py",
   "mimetype": "text/x-python",
   "name": "python",
   "nbconvert_exporter": "python",
   "pygments_lexer": "ipython3",
   "version": "3.10.9"
  },
  "toc": {
   "base_numbering": 1,
   "nav_menu": {},
   "number_sections": true,
   "sideBar": true,
   "skip_h1_title": true,
   "title_cell": "Table of Contents",
   "title_sidebar": "Contents",
   "toc_cell": false,
   "toc_position": {},
   "toc_section_display": true,
   "toc_window_display": false
  }
 },
 "nbformat": 4,
 "nbformat_minor": 2
}
