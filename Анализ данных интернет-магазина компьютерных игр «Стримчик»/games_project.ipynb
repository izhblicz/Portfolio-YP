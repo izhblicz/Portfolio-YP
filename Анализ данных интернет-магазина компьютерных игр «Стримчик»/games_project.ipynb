{
 "cells": [
  {
   "cell_type": "markdown",
   "metadata": {},
   "source": [
    "# Сборный проект\n",
    "# Анализ данных интернет-магазина компьютерных игр «Стримчик»\n",
    "\n",
    "**Описание проекта**\n",
    "Вы работаете в интернет-магазине «Стримчик», который продаёт по всему миру компьютерные игры. Из открытых источников доступны исторические данные о продажах игр, оценки пользователей и экспертов, жанры и платформы (например, Xbox или PlayStation). Вам нужно выявить определяющие успешность игры закономерности. Это позволит сделать ставку на потенциально популярный продукт и спланировать рекламные кампании.\n",
    "\n",
    "Перед вами данные до 2016 года. Представим, что сейчас декабрь 2016 г., и вы планируете кампанию на 2017-й. Нужно отработать принцип работы с данными. Неважно, прогнозируете ли вы продажи на 2017 год по данным 2016-го или же 2027-й — по данным 2026 года.\n",
    "\n",
    "В наборе данных попадается аббревиатура ESRB (Entertainment Software Rating Board) — это ассоциация, определяющая возрастной рейтинг компьютерных игр. ESRB оценивает игровой контент и присваивает ему подходящую возрастную категорию, например, «Для взрослых», «Для детей младшего возраста» или «Для подростков».\n",
    "\n",
    "**Описание данных**\n",
    "- Name — название игры;\n",
    "- Platform — платформа;\n",
    "- Year_of_Release — год выпуска;\n",
    "- Genre — жанр игры;\n",
    "- NA_sales — продажи в Северной Америке (миллионы проданных копий);\n",
    "- EU_sales — продажи в Европе (миллионы проданных копий);\n",
    "- JP_sales — продажи в Японии (миллионы проданных копий);\n",
    "- Other_sales — продажи в других странах (миллионы проданных копий);\n",
    "- Critic_Score — оценка критиков (максимум 100);\n",
    "- User_Score — оценка пользователей (максимум 10);\n",
    "- Rating — рейтинг от организации ESRB (англ. Entertainment Software Rating Board). Эта ассоциация определяет рейтинг компьютерных игр и присваивает им подходящую возрастную категорию.\n",
    "\n",
    "Данные за 2016 год могут быть неполными."
   ]
  },
  {
   "cell_type": "code",
   "execution_count": 1,
   "metadata": {},
   "outputs": [],
   "source": [
    "# импортирую библиотеки\n",
    "import pandas as pd\n",
    "import numpy as np\n",
    "from scipy import stats as st\n",
    "import matplotlib.pyplot as plt\n",
    "import seaborn as sns"
   ]
  },
  {
   "cell_type": "markdown",
   "metadata": {},
   "source": [
    "#### Шаг 1. Загрузка данных и знакомство с ними"
   ]
  },
  {
   "cell_type": "code",
   "execution_count": 2,
   "metadata": {},
   "outputs": [],
   "source": [
    "# открываю файл с данными\n",
    "data = pd.read_csv('/datasets/games.csv')"
   ]
  },
  {
   "cell_type": "code",
   "execution_count": 3,
   "metadata": {},
   "outputs": [
    {
     "data": {
      "text/html": [
       "<div>\n",
       "<style scoped>\n",
       "    .dataframe tbody tr th:only-of-type {\n",
       "        vertical-align: middle;\n",
       "    }\n",
       "\n",
       "    .dataframe tbody tr th {\n",
       "        vertical-align: top;\n",
       "    }\n",
       "\n",
       "    .dataframe thead th {\n",
       "        text-align: right;\n",
       "    }\n",
       "</style>\n",
       "<table border=\"1\" class=\"dataframe\">\n",
       "  <thead>\n",
       "    <tr style=\"text-align: right;\">\n",
       "      <th></th>\n",
       "      <th>Name</th>\n",
       "      <th>Platform</th>\n",
       "      <th>Year_of_Release</th>\n",
       "      <th>Genre</th>\n",
       "      <th>NA_sales</th>\n",
       "      <th>EU_sales</th>\n",
       "      <th>JP_sales</th>\n",
       "      <th>Other_sales</th>\n",
       "      <th>Critic_Score</th>\n",
       "      <th>User_Score</th>\n",
       "      <th>Rating</th>\n",
       "    </tr>\n",
       "  </thead>\n",
       "  <tbody>\n",
       "    <tr>\n",
       "      <th>0</th>\n",
       "      <td>Wii Sports</td>\n",
       "      <td>Wii</td>\n",
       "      <td>2006.0</td>\n",
       "      <td>Sports</td>\n",
       "      <td>41.36</td>\n",
       "      <td>28.96</td>\n",
       "      <td>3.77</td>\n",
       "      <td>8.45</td>\n",
       "      <td>76.0</td>\n",
       "      <td>8</td>\n",
       "      <td>E</td>\n",
       "    </tr>\n",
       "    <tr>\n",
       "      <th>1</th>\n",
       "      <td>Super Mario Bros.</td>\n",
       "      <td>NES</td>\n",
       "      <td>1985.0</td>\n",
       "      <td>Platform</td>\n",
       "      <td>29.08</td>\n",
       "      <td>3.58</td>\n",
       "      <td>6.81</td>\n",
       "      <td>0.77</td>\n",
       "      <td>NaN</td>\n",
       "      <td>NaN</td>\n",
       "      <td>NaN</td>\n",
       "    </tr>\n",
       "    <tr>\n",
       "      <th>2</th>\n",
       "      <td>Mario Kart Wii</td>\n",
       "      <td>Wii</td>\n",
       "      <td>2008.0</td>\n",
       "      <td>Racing</td>\n",
       "      <td>15.68</td>\n",
       "      <td>12.76</td>\n",
       "      <td>3.79</td>\n",
       "      <td>3.29</td>\n",
       "      <td>82.0</td>\n",
       "      <td>8.3</td>\n",
       "      <td>E</td>\n",
       "    </tr>\n",
       "    <tr>\n",
       "      <th>3</th>\n",
       "      <td>Wii Sports Resort</td>\n",
       "      <td>Wii</td>\n",
       "      <td>2009.0</td>\n",
       "      <td>Sports</td>\n",
       "      <td>15.61</td>\n",
       "      <td>10.93</td>\n",
       "      <td>3.28</td>\n",
       "      <td>2.95</td>\n",
       "      <td>80.0</td>\n",
       "      <td>8</td>\n",
       "      <td>E</td>\n",
       "    </tr>\n",
       "    <tr>\n",
       "      <th>4</th>\n",
       "      <td>Pokemon Red/Pokemon Blue</td>\n",
       "      <td>GB</td>\n",
       "      <td>1996.0</td>\n",
       "      <td>Role-Playing</td>\n",
       "      <td>11.27</td>\n",
       "      <td>8.89</td>\n",
       "      <td>10.22</td>\n",
       "      <td>1.00</td>\n",
       "      <td>NaN</td>\n",
       "      <td>NaN</td>\n",
       "      <td>NaN</td>\n",
       "    </tr>\n",
       "    <tr>\n",
       "      <th>5</th>\n",
       "      <td>Tetris</td>\n",
       "      <td>GB</td>\n",
       "      <td>1989.0</td>\n",
       "      <td>Puzzle</td>\n",
       "      <td>23.20</td>\n",
       "      <td>2.26</td>\n",
       "      <td>4.22</td>\n",
       "      <td>0.58</td>\n",
       "      <td>NaN</td>\n",
       "      <td>NaN</td>\n",
       "      <td>NaN</td>\n",
       "    </tr>\n",
       "    <tr>\n",
       "      <th>6</th>\n",
       "      <td>New Super Mario Bros.</td>\n",
       "      <td>DS</td>\n",
       "      <td>2006.0</td>\n",
       "      <td>Platform</td>\n",
       "      <td>11.28</td>\n",
       "      <td>9.14</td>\n",
       "      <td>6.50</td>\n",
       "      <td>2.88</td>\n",
       "      <td>89.0</td>\n",
       "      <td>8.5</td>\n",
       "      <td>E</td>\n",
       "    </tr>\n",
       "    <tr>\n",
       "      <th>7</th>\n",
       "      <td>Wii Play</td>\n",
       "      <td>Wii</td>\n",
       "      <td>2006.0</td>\n",
       "      <td>Misc</td>\n",
       "      <td>13.96</td>\n",
       "      <td>9.18</td>\n",
       "      <td>2.93</td>\n",
       "      <td>2.84</td>\n",
       "      <td>58.0</td>\n",
       "      <td>6.6</td>\n",
       "      <td>E</td>\n",
       "    </tr>\n",
       "    <tr>\n",
       "      <th>8</th>\n",
       "      <td>New Super Mario Bros. Wii</td>\n",
       "      <td>Wii</td>\n",
       "      <td>2009.0</td>\n",
       "      <td>Platform</td>\n",
       "      <td>14.44</td>\n",
       "      <td>6.94</td>\n",
       "      <td>4.70</td>\n",
       "      <td>2.24</td>\n",
       "      <td>87.0</td>\n",
       "      <td>8.4</td>\n",
       "      <td>E</td>\n",
       "    </tr>\n",
       "    <tr>\n",
       "      <th>9</th>\n",
       "      <td>Duck Hunt</td>\n",
       "      <td>NES</td>\n",
       "      <td>1984.0</td>\n",
       "      <td>Shooter</td>\n",
       "      <td>26.93</td>\n",
       "      <td>0.63</td>\n",
       "      <td>0.28</td>\n",
       "      <td>0.47</td>\n",
       "      <td>NaN</td>\n",
       "      <td>NaN</td>\n",
       "      <td>NaN</td>\n",
       "    </tr>\n",
       "    <tr>\n",
       "      <th>10</th>\n",
       "      <td>Nintendogs</td>\n",
       "      <td>DS</td>\n",
       "      <td>2005.0</td>\n",
       "      <td>Simulation</td>\n",
       "      <td>9.05</td>\n",
       "      <td>10.95</td>\n",
       "      <td>1.93</td>\n",
       "      <td>2.74</td>\n",
       "      <td>NaN</td>\n",
       "      <td>NaN</td>\n",
       "      <td>NaN</td>\n",
       "    </tr>\n",
       "    <tr>\n",
       "      <th>11</th>\n",
       "      <td>Mario Kart DS</td>\n",
       "      <td>DS</td>\n",
       "      <td>2005.0</td>\n",
       "      <td>Racing</td>\n",
       "      <td>9.71</td>\n",
       "      <td>7.47</td>\n",
       "      <td>4.13</td>\n",
       "      <td>1.90</td>\n",
       "      <td>91.0</td>\n",
       "      <td>8.6</td>\n",
       "      <td>E</td>\n",
       "    </tr>\n",
       "    <tr>\n",
       "      <th>12</th>\n",
       "      <td>Pokemon Gold/Pokemon Silver</td>\n",
       "      <td>GB</td>\n",
       "      <td>1999.0</td>\n",
       "      <td>Role-Playing</td>\n",
       "      <td>9.00</td>\n",
       "      <td>6.18</td>\n",
       "      <td>7.20</td>\n",
       "      <td>0.71</td>\n",
       "      <td>NaN</td>\n",
       "      <td>NaN</td>\n",
       "      <td>NaN</td>\n",
       "    </tr>\n",
       "    <tr>\n",
       "      <th>13</th>\n",
       "      <td>Wii Fit</td>\n",
       "      <td>Wii</td>\n",
       "      <td>2007.0</td>\n",
       "      <td>Sports</td>\n",
       "      <td>8.92</td>\n",
       "      <td>8.03</td>\n",
       "      <td>3.60</td>\n",
       "      <td>2.15</td>\n",
       "      <td>80.0</td>\n",
       "      <td>7.7</td>\n",
       "      <td>E</td>\n",
       "    </tr>\n",
       "    <tr>\n",
       "      <th>14</th>\n",
       "      <td>Kinect Adventures!</td>\n",
       "      <td>X360</td>\n",
       "      <td>2010.0</td>\n",
       "      <td>Misc</td>\n",
       "      <td>15.00</td>\n",
       "      <td>4.89</td>\n",
       "      <td>0.24</td>\n",
       "      <td>1.69</td>\n",
       "      <td>61.0</td>\n",
       "      <td>6.3</td>\n",
       "      <td>E</td>\n",
       "    </tr>\n",
       "    <tr>\n",
       "      <th>15</th>\n",
       "      <td>Wii Fit Plus</td>\n",
       "      <td>Wii</td>\n",
       "      <td>2009.0</td>\n",
       "      <td>Sports</td>\n",
       "      <td>9.01</td>\n",
       "      <td>8.49</td>\n",
       "      <td>2.53</td>\n",
       "      <td>1.77</td>\n",
       "      <td>80.0</td>\n",
       "      <td>7.4</td>\n",
       "      <td>E</td>\n",
       "    </tr>\n",
       "    <tr>\n",
       "      <th>16</th>\n",
       "      <td>Grand Theft Auto V</td>\n",
       "      <td>PS3</td>\n",
       "      <td>2013.0</td>\n",
       "      <td>Action</td>\n",
       "      <td>7.02</td>\n",
       "      <td>9.09</td>\n",
       "      <td>0.98</td>\n",
       "      <td>3.96</td>\n",
       "      <td>97.0</td>\n",
       "      <td>8.2</td>\n",
       "      <td>M</td>\n",
       "    </tr>\n",
       "    <tr>\n",
       "      <th>17</th>\n",
       "      <td>Grand Theft Auto: San Andreas</td>\n",
       "      <td>PS2</td>\n",
       "      <td>2004.0</td>\n",
       "      <td>Action</td>\n",
       "      <td>9.43</td>\n",
       "      <td>0.40</td>\n",
       "      <td>0.41</td>\n",
       "      <td>10.57</td>\n",
       "      <td>95.0</td>\n",
       "      <td>9</td>\n",
       "      <td>M</td>\n",
       "    </tr>\n",
       "    <tr>\n",
       "      <th>18</th>\n",
       "      <td>Super Mario World</td>\n",
       "      <td>SNES</td>\n",
       "      <td>1990.0</td>\n",
       "      <td>Platform</td>\n",
       "      <td>12.78</td>\n",
       "      <td>3.75</td>\n",
       "      <td>3.54</td>\n",
       "      <td>0.55</td>\n",
       "      <td>NaN</td>\n",
       "      <td>NaN</td>\n",
       "      <td>NaN</td>\n",
       "    </tr>\n",
       "    <tr>\n",
       "      <th>19</th>\n",
       "      <td>Brain Age: Train Your Brain in Minutes a Day</td>\n",
       "      <td>DS</td>\n",
       "      <td>2005.0</td>\n",
       "      <td>Misc</td>\n",
       "      <td>4.74</td>\n",
       "      <td>9.20</td>\n",
       "      <td>4.16</td>\n",
       "      <td>2.04</td>\n",
       "      <td>77.0</td>\n",
       "      <td>7.9</td>\n",
       "      <td>E</td>\n",
       "    </tr>\n",
       "  </tbody>\n",
       "</table>\n",
       "</div>"
      ],
      "text/plain": [
       "                                            Name Platform  Year_of_Release  \\\n",
       "0                                     Wii Sports      Wii           2006.0   \n",
       "1                              Super Mario Bros.      NES           1985.0   \n",
       "2                                 Mario Kart Wii      Wii           2008.0   \n",
       "3                              Wii Sports Resort      Wii           2009.0   \n",
       "4                       Pokemon Red/Pokemon Blue       GB           1996.0   \n",
       "5                                         Tetris       GB           1989.0   \n",
       "6                          New Super Mario Bros.       DS           2006.0   \n",
       "7                                       Wii Play      Wii           2006.0   \n",
       "8                      New Super Mario Bros. Wii      Wii           2009.0   \n",
       "9                                      Duck Hunt      NES           1984.0   \n",
       "10                                    Nintendogs       DS           2005.0   \n",
       "11                                 Mario Kart DS       DS           2005.0   \n",
       "12                   Pokemon Gold/Pokemon Silver       GB           1999.0   \n",
       "13                                       Wii Fit      Wii           2007.0   \n",
       "14                            Kinect Adventures!     X360           2010.0   \n",
       "15                                  Wii Fit Plus      Wii           2009.0   \n",
       "16                            Grand Theft Auto V      PS3           2013.0   \n",
       "17                 Grand Theft Auto: San Andreas      PS2           2004.0   \n",
       "18                             Super Mario World     SNES           1990.0   \n",
       "19  Brain Age: Train Your Brain in Minutes a Day       DS           2005.0   \n",
       "\n",
       "           Genre  NA_sales  EU_sales  JP_sales  Other_sales  Critic_Score  \\\n",
       "0         Sports     41.36     28.96      3.77         8.45          76.0   \n",
       "1       Platform     29.08      3.58      6.81         0.77           NaN   \n",
       "2         Racing     15.68     12.76      3.79         3.29          82.0   \n",
       "3         Sports     15.61     10.93      3.28         2.95          80.0   \n",
       "4   Role-Playing     11.27      8.89     10.22         1.00           NaN   \n",
       "5         Puzzle     23.20      2.26      4.22         0.58           NaN   \n",
       "6       Platform     11.28      9.14      6.50         2.88          89.0   \n",
       "7           Misc     13.96      9.18      2.93         2.84          58.0   \n",
       "8       Platform     14.44      6.94      4.70         2.24          87.0   \n",
       "9        Shooter     26.93      0.63      0.28         0.47           NaN   \n",
       "10    Simulation      9.05     10.95      1.93         2.74           NaN   \n",
       "11        Racing      9.71      7.47      4.13         1.90          91.0   \n",
       "12  Role-Playing      9.00      6.18      7.20         0.71           NaN   \n",
       "13        Sports      8.92      8.03      3.60         2.15          80.0   \n",
       "14          Misc     15.00      4.89      0.24         1.69          61.0   \n",
       "15        Sports      9.01      8.49      2.53         1.77          80.0   \n",
       "16        Action      7.02      9.09      0.98         3.96          97.0   \n",
       "17        Action      9.43      0.40      0.41        10.57          95.0   \n",
       "18      Platform     12.78      3.75      3.54         0.55           NaN   \n",
       "19          Misc      4.74      9.20      4.16         2.04          77.0   \n",
       "\n",
       "   User_Score Rating  \n",
       "0           8      E  \n",
       "1         NaN    NaN  \n",
       "2         8.3      E  \n",
       "3           8      E  \n",
       "4         NaN    NaN  \n",
       "5         NaN    NaN  \n",
       "6         8.5      E  \n",
       "7         6.6      E  \n",
       "8         8.4      E  \n",
       "9         NaN    NaN  \n",
       "10        NaN    NaN  \n",
       "11        8.6      E  \n",
       "12        NaN    NaN  \n",
       "13        7.7      E  \n",
       "14        6.3      E  \n",
       "15        7.4      E  \n",
       "16        8.2      M  \n",
       "17          9      M  \n",
       "18        NaN    NaN  \n",
       "19        7.9      E  "
      ]
     },
     "execution_count": 3,
     "metadata": {},
     "output_type": "execute_result"
    }
   ],
   "source": [
    "# Выведу первые 20 строк\n",
    "data.head(20)"
   ]
  },
  {
   "cell_type": "code",
   "execution_count": 4,
   "metadata": {},
   "outputs": [
    {
     "name": "stdout",
     "output_type": "stream",
     "text": [
      "<class 'pandas.core.frame.DataFrame'>\n",
      "RangeIndex: 16715 entries, 0 to 16714\n",
      "Data columns (total 11 columns):\n",
      " #   Column           Non-Null Count  Dtype  \n",
      "---  ------           --------------  -----  \n",
      " 0   Name             16713 non-null  object \n",
      " 1   Platform         16715 non-null  object \n",
      " 2   Year_of_Release  16446 non-null  float64\n",
      " 3   Genre            16713 non-null  object \n",
      " 4   NA_sales         16715 non-null  float64\n",
      " 5   EU_sales         16715 non-null  float64\n",
      " 6   JP_sales         16715 non-null  float64\n",
      " 7   Other_sales      16715 non-null  float64\n",
      " 8   Critic_Score     8137 non-null   float64\n",
      " 9   User_Score       10014 non-null  object \n",
      " 10  Rating           9949 non-null   object \n",
      "dtypes: float64(6), object(5)\n",
      "memory usage: 1.4+ MB\n"
     ]
    }
   ],
   "source": [
    "# вывожу информацию о файле data\n",
    "data.info()"
   ]
  },
  {
   "cell_type": "code",
   "execution_count": 5,
   "metadata": {},
   "outputs": [
    {
     "data": {
      "text/html": [
       "<div>\n",
       "<style scoped>\n",
       "    .dataframe tbody tr th:only-of-type {\n",
       "        vertical-align: middle;\n",
       "    }\n",
       "\n",
       "    .dataframe tbody tr th {\n",
       "        vertical-align: top;\n",
       "    }\n",
       "\n",
       "    .dataframe thead th {\n",
       "        text-align: right;\n",
       "    }\n",
       "</style>\n",
       "<table border=\"1\" class=\"dataframe\">\n",
       "  <thead>\n",
       "    <tr style=\"text-align: right;\">\n",
       "      <th></th>\n",
       "      <th>Year_of_Release</th>\n",
       "      <th>NA_sales</th>\n",
       "      <th>EU_sales</th>\n",
       "      <th>JP_sales</th>\n",
       "      <th>Other_sales</th>\n",
       "      <th>Critic_Score</th>\n",
       "    </tr>\n",
       "  </thead>\n",
       "  <tbody>\n",
       "    <tr>\n",
       "      <th>count</th>\n",
       "      <td>16446.000000</td>\n",
       "      <td>16715.000000</td>\n",
       "      <td>16715.000000</td>\n",
       "      <td>16715.000000</td>\n",
       "      <td>16715.000000</td>\n",
       "      <td>8137.000000</td>\n",
       "    </tr>\n",
       "    <tr>\n",
       "      <th>mean</th>\n",
       "      <td>2006.484616</td>\n",
       "      <td>0.263377</td>\n",
       "      <td>0.145060</td>\n",
       "      <td>0.077617</td>\n",
       "      <td>0.047342</td>\n",
       "      <td>68.967679</td>\n",
       "    </tr>\n",
       "    <tr>\n",
       "      <th>std</th>\n",
       "      <td>5.877050</td>\n",
       "      <td>0.813604</td>\n",
       "      <td>0.503339</td>\n",
       "      <td>0.308853</td>\n",
       "      <td>0.186731</td>\n",
       "      <td>13.938165</td>\n",
       "    </tr>\n",
       "    <tr>\n",
       "      <th>min</th>\n",
       "      <td>1980.000000</td>\n",
       "      <td>0.000000</td>\n",
       "      <td>0.000000</td>\n",
       "      <td>0.000000</td>\n",
       "      <td>0.000000</td>\n",
       "      <td>13.000000</td>\n",
       "    </tr>\n",
       "    <tr>\n",
       "      <th>25%</th>\n",
       "      <td>2003.000000</td>\n",
       "      <td>0.000000</td>\n",
       "      <td>0.000000</td>\n",
       "      <td>0.000000</td>\n",
       "      <td>0.000000</td>\n",
       "      <td>60.000000</td>\n",
       "    </tr>\n",
       "    <tr>\n",
       "      <th>50%</th>\n",
       "      <td>2007.000000</td>\n",
       "      <td>0.080000</td>\n",
       "      <td>0.020000</td>\n",
       "      <td>0.000000</td>\n",
       "      <td>0.010000</td>\n",
       "      <td>71.000000</td>\n",
       "    </tr>\n",
       "    <tr>\n",
       "      <th>75%</th>\n",
       "      <td>2010.000000</td>\n",
       "      <td>0.240000</td>\n",
       "      <td>0.110000</td>\n",
       "      <td>0.040000</td>\n",
       "      <td>0.030000</td>\n",
       "      <td>79.000000</td>\n",
       "    </tr>\n",
       "    <tr>\n",
       "      <th>max</th>\n",
       "      <td>2016.000000</td>\n",
       "      <td>41.360000</td>\n",
       "      <td>28.960000</td>\n",
       "      <td>10.220000</td>\n",
       "      <td>10.570000</td>\n",
       "      <td>98.000000</td>\n",
       "    </tr>\n",
       "  </tbody>\n",
       "</table>\n",
       "</div>"
      ],
      "text/plain": [
       "       Year_of_Release      NA_sales      EU_sales      JP_sales  \\\n",
       "count     16446.000000  16715.000000  16715.000000  16715.000000   \n",
       "mean       2006.484616      0.263377      0.145060      0.077617   \n",
       "std           5.877050      0.813604      0.503339      0.308853   \n",
       "min        1980.000000      0.000000      0.000000      0.000000   \n",
       "25%        2003.000000      0.000000      0.000000      0.000000   \n",
       "50%        2007.000000      0.080000      0.020000      0.000000   \n",
       "75%        2010.000000      0.240000      0.110000      0.040000   \n",
       "max        2016.000000     41.360000     28.960000     10.220000   \n",
       "\n",
       "        Other_sales  Critic_Score  \n",
       "count  16715.000000   8137.000000  \n",
       "mean       0.047342     68.967679  \n",
       "std        0.186731     13.938165  \n",
       "min        0.000000     13.000000  \n",
       "25%        0.000000     60.000000  \n",
       "50%        0.010000     71.000000  \n",
       "75%        0.030000     79.000000  \n",
       "max       10.570000     98.000000  "
      ]
     },
     "execution_count": 5,
     "metadata": {},
     "output_type": "execute_result"
    }
   ],
   "source": [
    "# вывожу список характерных значений для столбцов\n",
    "data.describe()"
   ]
  },
  {
   "cell_type": "markdown",
   "metadata": {},
   "source": [
    "**Вывод:** По первому взгляду на данные можно сказать, что мы имеем данные с 1980 по 2016 гг., большое количество пропусков содержится в столбцах с рейтингом и оценками пользователей и критиков. Также можно отметить, что многие игры не продавались совсем, так как квантили 25% по столбцам с продажами равен нулю, а квантили 50% близки к нулю."
   ]
  },
  {
   "cell_type": "markdown",
   "metadata": {},
   "source": [
    "#### Шаг 2. Подготовка данных"
   ]
  },
  {
   "cell_type": "markdown",
   "metadata": {},
   "source": [
    "##### Замена названия столбцов (приведение к нижнему регистру)"
   ]
  },
  {
   "cell_type": "code",
   "execution_count": 6,
   "metadata": {},
   "outputs": [
    {
     "data": {
      "text/html": [
       "<div>\n",
       "<style scoped>\n",
       "    .dataframe tbody tr th:only-of-type {\n",
       "        vertical-align: middle;\n",
       "    }\n",
       "\n",
       "    .dataframe tbody tr th {\n",
       "        vertical-align: top;\n",
       "    }\n",
       "\n",
       "    .dataframe thead th {\n",
       "        text-align: right;\n",
       "    }\n",
       "</style>\n",
       "<table border=\"1\" class=\"dataframe\">\n",
       "  <thead>\n",
       "    <tr style=\"text-align: right;\">\n",
       "      <th></th>\n",
       "      <th>name</th>\n",
       "      <th>platform</th>\n",
       "      <th>year_of_release</th>\n",
       "      <th>genre</th>\n",
       "      <th>na_sales</th>\n",
       "      <th>eu_sales</th>\n",
       "      <th>jp_sales</th>\n",
       "      <th>other_sales</th>\n",
       "      <th>critic_score</th>\n",
       "      <th>user_score</th>\n",
       "      <th>rating</th>\n",
       "    </tr>\n",
       "  </thead>\n",
       "  <tbody>\n",
       "    <tr>\n",
       "      <th>0</th>\n",
       "      <td>Wii Sports</td>\n",
       "      <td>Wii</td>\n",
       "      <td>2006.0</td>\n",
       "      <td>Sports</td>\n",
       "      <td>41.36</td>\n",
       "      <td>28.96</td>\n",
       "      <td>3.77</td>\n",
       "      <td>8.45</td>\n",
       "      <td>76.0</td>\n",
       "      <td>8</td>\n",
       "      <td>E</td>\n",
       "    </tr>\n",
       "    <tr>\n",
       "      <th>1</th>\n",
       "      <td>Super Mario Bros.</td>\n",
       "      <td>NES</td>\n",
       "      <td>1985.0</td>\n",
       "      <td>Platform</td>\n",
       "      <td>29.08</td>\n",
       "      <td>3.58</td>\n",
       "      <td>6.81</td>\n",
       "      <td>0.77</td>\n",
       "      <td>NaN</td>\n",
       "      <td>NaN</td>\n",
       "      <td>NaN</td>\n",
       "    </tr>\n",
       "    <tr>\n",
       "      <th>2</th>\n",
       "      <td>Mario Kart Wii</td>\n",
       "      <td>Wii</td>\n",
       "      <td>2008.0</td>\n",
       "      <td>Racing</td>\n",
       "      <td>15.68</td>\n",
       "      <td>12.76</td>\n",
       "      <td>3.79</td>\n",
       "      <td>3.29</td>\n",
       "      <td>82.0</td>\n",
       "      <td>8.3</td>\n",
       "      <td>E</td>\n",
       "    </tr>\n",
       "    <tr>\n",
       "      <th>3</th>\n",
       "      <td>Wii Sports Resort</td>\n",
       "      <td>Wii</td>\n",
       "      <td>2009.0</td>\n",
       "      <td>Sports</td>\n",
       "      <td>15.61</td>\n",
       "      <td>10.93</td>\n",
       "      <td>3.28</td>\n",
       "      <td>2.95</td>\n",
       "      <td>80.0</td>\n",
       "      <td>8</td>\n",
       "      <td>E</td>\n",
       "    </tr>\n",
       "    <tr>\n",
       "      <th>4</th>\n",
       "      <td>Pokemon Red/Pokemon Blue</td>\n",
       "      <td>GB</td>\n",
       "      <td>1996.0</td>\n",
       "      <td>Role-Playing</td>\n",
       "      <td>11.27</td>\n",
       "      <td>8.89</td>\n",
       "      <td>10.22</td>\n",
       "      <td>1.00</td>\n",
       "      <td>NaN</td>\n",
       "      <td>NaN</td>\n",
       "      <td>NaN</td>\n",
       "    </tr>\n",
       "  </tbody>\n",
       "</table>\n",
       "</div>"
      ],
      "text/plain": [
       "                       name platform  year_of_release         genre  na_sales  \\\n",
       "0                Wii Sports      Wii           2006.0        Sports     41.36   \n",
       "1         Super Mario Bros.      NES           1985.0      Platform     29.08   \n",
       "2            Mario Kart Wii      Wii           2008.0        Racing     15.68   \n",
       "3         Wii Sports Resort      Wii           2009.0        Sports     15.61   \n",
       "4  Pokemon Red/Pokemon Blue       GB           1996.0  Role-Playing     11.27   \n",
       "\n",
       "   eu_sales  jp_sales  other_sales  critic_score user_score rating  \n",
       "0     28.96      3.77         8.45          76.0          8      E  \n",
       "1      3.58      6.81         0.77           NaN        NaN    NaN  \n",
       "2     12.76      3.79         3.29          82.0        8.3      E  \n",
       "3     10.93      3.28         2.95          80.0          8      E  \n",
       "4      8.89     10.22         1.00           NaN        NaN    NaN  "
      ]
     },
     "execution_count": 6,
     "metadata": {},
     "output_type": "execute_result"
    }
   ],
   "source": [
    "data.columns = data.columns.str.lower()\n",
    "data.head()"
   ]
  },
  {
   "cell_type": "markdown",
   "metadata": {},
   "source": [
    "##### Работа с пропусками"
   ]
  },
  {
   "cell_type": "code",
   "execution_count": 7,
   "metadata": {},
   "outputs": [
    {
     "data": {
      "text/plain": [
       "name                  2\n",
       "platform              0\n",
       "year_of_release     269\n",
       "genre                 2\n",
       "na_sales              0\n",
       "eu_sales              0\n",
       "jp_sales              0\n",
       "other_sales           0\n",
       "critic_score       8578\n",
       "user_score         6701\n",
       "rating             6766\n",
       "dtype: int64"
      ]
     },
     "execution_count": 7,
     "metadata": {},
     "output_type": "execute_result"
    }
   ],
   "source": [
    "# выведу количество пропусков\n",
    "data.isna().sum()"
   ]
  },
  {
   "cell_type": "markdown",
   "metadata": {},
   "source": [
    "В столбце с названием игры и жанром есть по два пропуска, эти строки можно просто удалить, установить название проблематично, а удаление двух строк на дальнейший анализ не повлияет.\n",
    "\n",
    "В столбце с годом выхода пропусков меньше 10%, удалю эти строки, в исследование они бы не попали.\n",
    "\n",
    "В столбцах с оценками критиков и пользователей пропуски оставлю, tbd(\"To Be Determined\" - т.е., оценка будет определена позже) заменю на NaN, чтобы датафрейм был более однообразным. Замена медианным значением может сильно исказить картину при анализе.\n",
    "\n",
    "Пропуски в столбце с возрастным рейтингом придётся заменю на \"unknown\", так как их нечем заменить, а их доля велика."
   ]
  },
  {
   "cell_type": "code",
   "execution_count": 8,
   "metadata": {},
   "outputs": [],
   "source": [
    "# удаляю строки с пропусками названия и жанра\n",
    "data.dropna(subset = ['name', 'genre'], inplace=True)"
   ]
  },
  {
   "cell_type": "code",
   "execution_count": 9,
   "metadata": {},
   "outputs": [],
   "source": [
    "# удаляю строки с пропусками с годом выхода\n",
    "data.dropna(subset = ['year_of_release'], inplace=True)"
   ]
  },
  {
   "cell_type": "code",
   "execution_count": 10,
   "metadata": {},
   "outputs": [],
   "source": [
    "# Заменяю пропуски и tbd оценки пользователей на нереальное значение\n",
    "data.loc[data['user_score'] =='tbd','user_score'] = np.nan"
   ]
  },
  {
   "cell_type": "code",
   "execution_count": 11,
   "metadata": {},
   "outputs": [],
   "source": [
    "data.loc[data['rating'].isna(), 'rating'] = 'unknown'"
   ]
  },
  {
   "cell_type": "code",
   "execution_count": 12,
   "metadata": {},
   "outputs": [
    {
     "data": {
      "text/plain": [
       "name                  0\n",
       "platform              0\n",
       "year_of_release       0\n",
       "genre                 0\n",
       "na_sales              0\n",
       "eu_sales              0\n",
       "jp_sales              0\n",
       "other_sales           0\n",
       "critic_score       8461\n",
       "user_score         8981\n",
       "rating                0\n",
       "dtype: int64"
      ]
     },
     "execution_count": 12,
     "metadata": {},
     "output_type": "execute_result"
    }
   ],
   "source": [
    "# Проверю наличие пропусков\n",
    "data.isna().sum()"
   ]
  },
  {
   "cell_type": "markdown",
   "metadata": {},
   "source": [
    "##### Преобразование данных в нужные типы"
   ]
  },
  {
   "cell_type": "markdown",
   "metadata": {},
   "source": [
    "Необходимо поменять тип данных в столбце `year_of_release` на int и в столбце `user_score` на float. Год выхода не может быть вещественным числом, а оценка пользователей строкой."
   ]
  },
  {
   "cell_type": "code",
   "execution_count": 13,
   "metadata": {
    "scrolled": true
   },
   "outputs": [
    {
     "name": "stdout",
     "output_type": "stream",
     "text": [
      "<class 'pandas.core.frame.DataFrame'>\n",
      "Int64Index: 16444 entries, 0 to 16714\n",
      "Data columns (total 11 columns):\n",
      " #   Column           Non-Null Count  Dtype  \n",
      "---  ------           --------------  -----  \n",
      " 0   name             16444 non-null  object \n",
      " 1   platform         16444 non-null  object \n",
      " 2   year_of_release  16444 non-null  int64  \n",
      " 3   genre            16444 non-null  object \n",
      " 4   na_sales         16444 non-null  float64\n",
      " 5   eu_sales         16444 non-null  float64\n",
      " 6   jp_sales         16444 non-null  float64\n",
      " 7   other_sales      16444 non-null  float64\n",
      " 8   critic_score     7983 non-null   float64\n",
      " 9   user_score       7463 non-null   float64\n",
      " 10  rating           16444 non-null  object \n",
      "dtypes: float64(6), int64(1), object(4)\n",
      "memory usage: 1.5+ MB\n"
     ]
    }
   ],
   "source": [
    "data['year_of_release'] = data['year_of_release'].astype('int')\n",
    "data['user_score'] = data['user_score'].astype('float')\n",
    "data.info()"
   ]
  },
  {
   "cell_type": "markdown",
   "metadata": {},
   "source": [
    "##### Добавление столбца с суммарными продажами во всех регионах"
   ]
  },
  {
   "cell_type": "code",
   "execution_count": 14,
   "metadata": {},
   "outputs": [
    {
     "data": {
      "text/html": [
       "<div>\n",
       "<style scoped>\n",
       "    .dataframe tbody tr th:only-of-type {\n",
       "        vertical-align: middle;\n",
       "    }\n",
       "\n",
       "    .dataframe tbody tr th {\n",
       "        vertical-align: top;\n",
       "    }\n",
       "\n",
       "    .dataframe thead th {\n",
       "        text-align: right;\n",
       "    }\n",
       "</style>\n",
       "<table border=\"1\" class=\"dataframe\">\n",
       "  <thead>\n",
       "    <tr style=\"text-align: right;\">\n",
       "      <th></th>\n",
       "      <th>name</th>\n",
       "      <th>platform</th>\n",
       "      <th>year_of_release</th>\n",
       "      <th>genre</th>\n",
       "      <th>na_sales</th>\n",
       "      <th>eu_sales</th>\n",
       "      <th>jp_sales</th>\n",
       "      <th>other_sales</th>\n",
       "      <th>critic_score</th>\n",
       "      <th>user_score</th>\n",
       "      <th>rating</th>\n",
       "      <th>sum_sales</th>\n",
       "    </tr>\n",
       "  </thead>\n",
       "  <tbody>\n",
       "    <tr>\n",
       "      <th>0</th>\n",
       "      <td>Wii Sports</td>\n",
       "      <td>Wii</td>\n",
       "      <td>2006</td>\n",
       "      <td>Sports</td>\n",
       "      <td>41.36</td>\n",
       "      <td>28.96</td>\n",
       "      <td>3.77</td>\n",
       "      <td>8.45</td>\n",
       "      <td>76.0</td>\n",
       "      <td>8.0</td>\n",
       "      <td>E</td>\n",
       "      <td>82.54</td>\n",
       "    </tr>\n",
       "    <tr>\n",
       "      <th>1</th>\n",
       "      <td>Super Mario Bros.</td>\n",
       "      <td>NES</td>\n",
       "      <td>1985</td>\n",
       "      <td>Platform</td>\n",
       "      <td>29.08</td>\n",
       "      <td>3.58</td>\n",
       "      <td>6.81</td>\n",
       "      <td>0.77</td>\n",
       "      <td>NaN</td>\n",
       "      <td>NaN</td>\n",
       "      <td>unknown</td>\n",
       "      <td>40.24</td>\n",
       "    </tr>\n",
       "    <tr>\n",
       "      <th>2</th>\n",
       "      <td>Mario Kart Wii</td>\n",
       "      <td>Wii</td>\n",
       "      <td>2008</td>\n",
       "      <td>Racing</td>\n",
       "      <td>15.68</td>\n",
       "      <td>12.76</td>\n",
       "      <td>3.79</td>\n",
       "      <td>3.29</td>\n",
       "      <td>82.0</td>\n",
       "      <td>8.3</td>\n",
       "      <td>E</td>\n",
       "      <td>35.52</td>\n",
       "    </tr>\n",
       "    <tr>\n",
       "      <th>3</th>\n",
       "      <td>Wii Sports Resort</td>\n",
       "      <td>Wii</td>\n",
       "      <td>2009</td>\n",
       "      <td>Sports</td>\n",
       "      <td>15.61</td>\n",
       "      <td>10.93</td>\n",
       "      <td>3.28</td>\n",
       "      <td>2.95</td>\n",
       "      <td>80.0</td>\n",
       "      <td>8.0</td>\n",
       "      <td>E</td>\n",
       "      <td>32.77</td>\n",
       "    </tr>\n",
       "    <tr>\n",
       "      <th>4</th>\n",
       "      <td>Pokemon Red/Pokemon Blue</td>\n",
       "      <td>GB</td>\n",
       "      <td>1996</td>\n",
       "      <td>Role-Playing</td>\n",
       "      <td>11.27</td>\n",
       "      <td>8.89</td>\n",
       "      <td>10.22</td>\n",
       "      <td>1.00</td>\n",
       "      <td>NaN</td>\n",
       "      <td>NaN</td>\n",
       "      <td>unknown</td>\n",
       "      <td>31.38</td>\n",
       "    </tr>\n",
       "  </tbody>\n",
       "</table>\n",
       "</div>"
      ],
      "text/plain": [
       "                       name platform  year_of_release         genre  na_sales  \\\n",
       "0                Wii Sports      Wii             2006        Sports     41.36   \n",
       "1         Super Mario Bros.      NES             1985      Platform     29.08   \n",
       "2            Mario Kart Wii      Wii             2008        Racing     15.68   \n",
       "3         Wii Sports Resort      Wii             2009        Sports     15.61   \n",
       "4  Pokemon Red/Pokemon Blue       GB             1996  Role-Playing     11.27   \n",
       "\n",
       "   eu_sales  jp_sales  other_sales  critic_score  user_score   rating  \\\n",
       "0     28.96      3.77         8.45          76.0         8.0        E   \n",
       "1      3.58      6.81         0.77           NaN         NaN  unknown   \n",
       "2     12.76      3.79         3.29          82.0         8.3        E   \n",
       "3     10.93      3.28         2.95          80.0         8.0        E   \n",
       "4      8.89     10.22         1.00           NaN         NaN  unknown   \n",
       "\n",
       "   sum_sales  \n",
       "0      82.54  \n",
       "1      40.24  \n",
       "2      35.52  \n",
       "3      32.77  \n",
       "4      31.38  "
      ]
     },
     "execution_count": 14,
     "metadata": {},
     "output_type": "execute_result"
    }
   ],
   "source": [
    "data['sum_sales'] = data['na_sales'] + data['eu_sales'] + data['jp_sales'] + data['other_sales']\n",
    "data.head()"
   ]
  },
  {
   "cell_type": "markdown",
   "metadata": {},
   "source": [
    "##### Работа с дубликатами"
   ]
  },
  {
   "cell_type": "code",
   "execution_count": 15,
   "metadata": {},
   "outputs": [
    {
     "data": {
      "text/plain": [
       "0"
      ]
     },
     "execution_count": 15,
     "metadata": {},
     "output_type": "execute_result"
    }
   ],
   "source": [
    "# ищу явные дубликаты\n",
    "data.duplicated().sum()"
   ]
  },
  {
   "cell_type": "code",
   "execution_count": 16,
   "metadata": {},
   "outputs": [
    {
     "data": {
      "text/html": [
       "<div>\n",
       "<style scoped>\n",
       "    .dataframe tbody tr th:only-of-type {\n",
       "        vertical-align: middle;\n",
       "    }\n",
       "\n",
       "    .dataframe tbody tr th {\n",
       "        vertical-align: top;\n",
       "    }\n",
       "\n",
       "    .dataframe thead th {\n",
       "        text-align: right;\n",
       "    }\n",
       "</style>\n",
       "<table border=\"1\" class=\"dataframe\">\n",
       "  <thead>\n",
       "    <tr style=\"text-align: right;\">\n",
       "      <th></th>\n",
       "      <th>name</th>\n",
       "      <th>platform</th>\n",
       "      <th>year_of_release</th>\n",
       "      <th>genre</th>\n",
       "      <th>na_sales</th>\n",
       "      <th>eu_sales</th>\n",
       "      <th>jp_sales</th>\n",
       "      <th>other_sales</th>\n",
       "      <th>critic_score</th>\n",
       "      <th>user_score</th>\n",
       "      <th>rating</th>\n",
       "      <th>sum_sales</th>\n",
       "    </tr>\n",
       "  </thead>\n",
       "  <tbody>\n",
       "    <tr>\n",
       "      <th>1591</th>\n",
       "      <td>need for speed: most wanted</td>\n",
       "      <td>X360</td>\n",
       "      <td>2005</td>\n",
       "      <td>Racing</td>\n",
       "      <td>1.0</td>\n",
       "      <td>0.13</td>\n",
       "      <td>0.02</td>\n",
       "      <td>0.10</td>\n",
       "      <td>83.0</td>\n",
       "      <td>8.5</td>\n",
       "      <td>T</td>\n",
       "      <td>1.25</td>\n",
       "    </tr>\n",
       "    <tr>\n",
       "      <th>11715</th>\n",
       "      <td>need for speed: most wanted</td>\n",
       "      <td>PC</td>\n",
       "      <td>2012</td>\n",
       "      <td>Racing</td>\n",
       "      <td>0.0</td>\n",
       "      <td>0.06</td>\n",
       "      <td>0.00</td>\n",
       "      <td>0.02</td>\n",
       "      <td>82.0</td>\n",
       "      <td>8.5</td>\n",
       "      <td>T</td>\n",
       "      <td>0.08</td>\n",
       "    </tr>\n",
       "    <tr>\n",
       "      <th>16230</th>\n",
       "      <td>madden nfl 13</td>\n",
       "      <td>PS3</td>\n",
       "      <td>2012</td>\n",
       "      <td>Sports</td>\n",
       "      <td>0.0</td>\n",
       "      <td>0.01</td>\n",
       "      <td>0.00</td>\n",
       "      <td>0.00</td>\n",
       "      <td>83.0</td>\n",
       "      <td>5.5</td>\n",
       "      <td>E</td>\n",
       "      <td>0.01</td>\n",
       "    </tr>\n",
       "  </tbody>\n",
       "</table>\n",
       "</div>"
      ],
      "text/plain": [
       "                              name platform  year_of_release   genre  \\\n",
       "1591   need for speed: most wanted     X360             2005  Racing   \n",
       "11715  need for speed: most wanted       PC             2012  Racing   \n",
       "16230                madden nfl 13      PS3             2012  Sports   \n",
       "\n",
       "       na_sales  eu_sales  jp_sales  other_sales  critic_score  user_score  \\\n",
       "1591        1.0      0.13      0.02         0.10          83.0         8.5   \n",
       "11715       0.0      0.06      0.00         0.02          82.0         8.5   \n",
       "16230       0.0      0.01      0.00         0.00          83.0         5.5   \n",
       "\n",
       "      rating  sum_sales  \n",
       "1591       T       1.25  \n",
       "11715      T       0.08  \n",
       "16230      E       0.01  "
      ]
     },
     "execution_count": 16,
     "metadata": {},
     "output_type": "execute_result"
    }
   ],
   "source": [
    "# обработаю неявные дубликаты\n",
    "data['name'] = data['name'].str.lower()\n",
    "data[data.duplicated(subset = ['name', 'platform'])]"
   ]
  },
  {
   "cell_type": "markdown",
   "metadata": {},
   "source": [
    "По выбранным параметрам выпало три неявных дубликата, но need for speed: most wanted таким не является, так как это две разные игры, в 2012 году был перезапуск, а значит остаётся один неявный дубликат. "
   ]
  },
  {
   "cell_type": "code",
   "execution_count": 17,
   "metadata": {},
   "outputs": [
    {
     "data": {
      "text/html": [
       "<div>\n",
       "<style scoped>\n",
       "    .dataframe tbody tr th:only-of-type {\n",
       "        vertical-align: middle;\n",
       "    }\n",
       "\n",
       "    .dataframe tbody tr th {\n",
       "        vertical-align: top;\n",
       "    }\n",
       "\n",
       "    .dataframe thead th {\n",
       "        text-align: right;\n",
       "    }\n",
       "</style>\n",
       "<table border=\"1\" class=\"dataframe\">\n",
       "  <thead>\n",
       "    <tr style=\"text-align: right;\">\n",
       "      <th></th>\n",
       "      <th>name</th>\n",
       "      <th>platform</th>\n",
       "      <th>year_of_release</th>\n",
       "      <th>genre</th>\n",
       "      <th>na_sales</th>\n",
       "      <th>eu_sales</th>\n",
       "      <th>jp_sales</th>\n",
       "      <th>other_sales</th>\n",
       "      <th>critic_score</th>\n",
       "      <th>user_score</th>\n",
       "      <th>rating</th>\n",
       "      <th>sum_sales</th>\n",
       "    </tr>\n",
       "  </thead>\n",
       "  <tbody>\n",
       "  </tbody>\n",
       "</table>\n",
       "</div>"
      ],
      "text/plain": [
       "Empty DataFrame\n",
       "Columns: [name, platform, year_of_release, genre, na_sales, eu_sales, jp_sales, other_sales, critic_score, user_score, rating, sum_sales]\n",
       "Index: []"
      ]
     },
     "execution_count": 17,
     "metadata": {},
     "output_type": "execute_result"
    }
   ],
   "source": [
    "data.drop_duplicates(subset = ['name', 'platform', 'year_of_release'], inplace = True)\n",
    "data[data.duplicated(subset = ['name', 'platform', 'year_of_release'])]"
   ]
  },
  {
   "cell_type": "markdown",
   "metadata": {},
   "source": [
    "**Вывод:** В ходе предобработки данных названия столбцов были приведены к нижнему регистру, удалены строки с пропусками в названиях, жанрах игр(2 строки) и с годом выпуска(269 строк), пропуски в столбцах `critic_score` и `user_score` были оставлены, значениями `tbd` в столбце `user_score` заменены на NaN, заменять их нечем, а так датафрейм будет более однообразным. Пропуски в столбце `rating` заменил на \"unknown\", так как их нечем заменить, а их доля велика.\n",
    "\n",
    "Явных дубликатов найдено не было, был найден один неявный дубликат.\n",
    "\n",
    "Пропуски в годе выпуска вызваны скорей всего тем, что их просто не заполнили, в столбцах `critic_score` и `user_score` могут быть связаны с отсутствием оценок пользователей и критиков, а в столбце `rating` с тем, что ESRB не сформировала рейтинг для данной игры, эта организация занимается формированием рейтинга в США и Канаде, есть также организации в Европе(PEGI) и Японии(CERO)."
   ]
  },
  {
   "cell_type": "markdown",
   "metadata": {},
   "source": [
    "#### Исследовательский анализ данных"
   ]
  },
  {
   "cell_type": "markdown",
   "metadata": {},
   "source": [
    "##### Распределение игр по году выпуска"
   ]
  },
  {
   "cell_type": "code",
   "execution_count": 18,
   "metadata": {},
   "outputs": [
    {
     "data": {
      "text/html": [
       "<div>\n",
       "<style scoped>\n",
       "    .dataframe tbody tr th:only-of-type {\n",
       "        vertical-align: middle;\n",
       "    }\n",
       "\n",
       "    .dataframe tbody tr th {\n",
       "        vertical-align: top;\n",
       "    }\n",
       "\n",
       "    .dataframe thead th {\n",
       "        text-align: right;\n",
       "    }\n",
       "</style>\n",
       "<table border=\"1\" class=\"dataframe\">\n",
       "  <thead>\n",
       "    <tr style=\"text-align: right;\">\n",
       "      <th></th>\n",
       "      <th>count</th>\n",
       "    </tr>\n",
       "    <tr>\n",
       "      <th>year_of_release</th>\n",
       "      <th></th>\n",
       "    </tr>\n",
       "  </thead>\n",
       "  <tbody>\n",
       "    <tr>\n",
       "      <th>1980</th>\n",
       "      <td>9</td>\n",
       "    </tr>\n",
       "    <tr>\n",
       "      <th>1981</th>\n",
       "      <td>46</td>\n",
       "    </tr>\n",
       "    <tr>\n",
       "      <th>1982</th>\n",
       "      <td>36</td>\n",
       "    </tr>\n",
       "    <tr>\n",
       "      <th>1983</th>\n",
       "      <td>17</td>\n",
       "    </tr>\n",
       "    <tr>\n",
       "      <th>1984</th>\n",
       "      <td>14</td>\n",
       "    </tr>\n",
       "    <tr>\n",
       "      <th>1985</th>\n",
       "      <td>14</td>\n",
       "    </tr>\n",
       "    <tr>\n",
       "      <th>1986</th>\n",
       "      <td>21</td>\n",
       "    </tr>\n",
       "    <tr>\n",
       "      <th>1987</th>\n",
       "      <td>16</td>\n",
       "    </tr>\n",
       "    <tr>\n",
       "      <th>1988</th>\n",
       "      <td>15</td>\n",
       "    </tr>\n",
       "    <tr>\n",
       "      <th>1989</th>\n",
       "      <td>17</td>\n",
       "    </tr>\n",
       "    <tr>\n",
       "      <th>1990</th>\n",
       "      <td>16</td>\n",
       "    </tr>\n",
       "    <tr>\n",
       "      <th>1991</th>\n",
       "      <td>41</td>\n",
       "    </tr>\n",
       "    <tr>\n",
       "      <th>1992</th>\n",
       "      <td>43</td>\n",
       "    </tr>\n",
       "    <tr>\n",
       "      <th>1993</th>\n",
       "      <td>60</td>\n",
       "    </tr>\n",
       "    <tr>\n",
       "      <th>1994</th>\n",
       "      <td>121</td>\n",
       "    </tr>\n",
       "    <tr>\n",
       "      <th>1995</th>\n",
       "      <td>219</td>\n",
       "    </tr>\n",
       "    <tr>\n",
       "      <th>1996</th>\n",
       "      <td>263</td>\n",
       "    </tr>\n",
       "    <tr>\n",
       "      <th>1997</th>\n",
       "      <td>289</td>\n",
       "    </tr>\n",
       "    <tr>\n",
       "      <th>1998</th>\n",
       "      <td>379</td>\n",
       "    </tr>\n",
       "    <tr>\n",
       "      <th>1999</th>\n",
       "      <td>338</td>\n",
       "    </tr>\n",
       "    <tr>\n",
       "      <th>2000</th>\n",
       "      <td>350</td>\n",
       "    </tr>\n",
       "    <tr>\n",
       "      <th>2001</th>\n",
       "      <td>482</td>\n",
       "    </tr>\n",
       "    <tr>\n",
       "      <th>2002</th>\n",
       "      <td>829</td>\n",
       "    </tr>\n",
       "    <tr>\n",
       "      <th>2003</th>\n",
       "      <td>775</td>\n",
       "    </tr>\n",
       "    <tr>\n",
       "      <th>2004</th>\n",
       "      <td>762</td>\n",
       "    </tr>\n",
       "    <tr>\n",
       "      <th>2005</th>\n",
       "      <td>939</td>\n",
       "    </tr>\n",
       "    <tr>\n",
       "      <th>2006</th>\n",
       "      <td>1006</td>\n",
       "    </tr>\n",
       "    <tr>\n",
       "      <th>2007</th>\n",
       "      <td>1197</td>\n",
       "    </tr>\n",
       "    <tr>\n",
       "      <th>2008</th>\n",
       "      <td>1427</td>\n",
       "    </tr>\n",
       "    <tr>\n",
       "      <th>2009</th>\n",
       "      <td>1426</td>\n",
       "    </tr>\n",
       "    <tr>\n",
       "      <th>2010</th>\n",
       "      <td>1255</td>\n",
       "    </tr>\n",
       "    <tr>\n",
       "      <th>2011</th>\n",
       "      <td>1136</td>\n",
       "    </tr>\n",
       "    <tr>\n",
       "      <th>2012</th>\n",
       "      <td>652</td>\n",
       "    </tr>\n",
       "    <tr>\n",
       "      <th>2013</th>\n",
       "      <td>544</td>\n",
       "    </tr>\n",
       "    <tr>\n",
       "      <th>2014</th>\n",
       "      <td>581</td>\n",
       "    </tr>\n",
       "    <tr>\n",
       "      <th>2015</th>\n",
       "      <td>606</td>\n",
       "    </tr>\n",
       "    <tr>\n",
       "      <th>2016</th>\n",
       "      <td>502</td>\n",
       "    </tr>\n",
       "  </tbody>\n",
       "</table>\n",
       "</div>"
      ],
      "text/plain": [
       "                 count\n",
       "year_of_release       \n",
       "1980                 9\n",
       "1981                46\n",
       "1982                36\n",
       "1983                17\n",
       "1984                14\n",
       "1985                14\n",
       "1986                21\n",
       "1987                16\n",
       "1988                15\n",
       "1989                17\n",
       "1990                16\n",
       "1991                41\n",
       "1992                43\n",
       "1993                60\n",
       "1994               121\n",
       "1995               219\n",
       "1996               263\n",
       "1997               289\n",
       "1998               379\n",
       "1999               338\n",
       "2000               350\n",
       "2001               482\n",
       "2002               829\n",
       "2003               775\n",
       "2004               762\n",
       "2005               939\n",
       "2006              1006\n",
       "2007              1197\n",
       "2008              1427\n",
       "2009              1426\n",
       "2010              1255\n",
       "2011              1136\n",
       "2012               652\n",
       "2013               544\n",
       "2014               581\n",
       "2015               606\n",
       "2016               502"
      ]
     },
     "execution_count": 18,
     "metadata": {},
     "output_type": "execute_result"
    }
   ],
   "source": [
    "# посчитаю количество игр по годам\n",
    "distribution_by_years = data.pivot_table(index = 'year_of_release', values = 'name', aggfunc = 'count')\n",
    "distribution_by_years.columns = ['count']\n",
    "distribution_by_years"
   ]
  },
  {
   "cell_type": "code",
   "execution_count": 19,
   "metadata": {},
   "outputs": [
    {
     "data": {
      "image/png": "[encoded data removed]",
      "text/plain": [
       "<Figure size 1440x1080 with 1 Axes>"
      ]
     },
     "metadata": {
      "needs_background": "light"
     },
     "output_type": "display_data"
    }
   ],
   "source": [
    "# визуализирую распределение по годам\n",
    "plt.rcParams['figure.figsize'] = (20, 15)\n",
    "sns.barplot(x = distribution_by_years.index, y = distribution_by_years['count'])\n",
    "plt.xlabel('Год выпуска')\n",
    "plt.ylabel('Выпущено игр, шт.')\n",
    "plt.grid()\n",
    "plt.title('Распределение игр по году выпуска')\n",
    "plt.xticks(fontsize=8)\n",
    "plt.yticks(fontsize=8);"
   ]
  },
  {
   "cell_type": "markdown",
   "metadata": {},
   "source": [
    "По графику можно сказать, что пик выхода игр пришёлся на период с 2007 по 2010 гг., до 1994 г. выходило меньше ста игр в год."
   ]
  },
  {
   "cell_type": "markdown",
   "metadata": {},
   "source": [
    "##### Аналаиз платформ по количеству продаж игр в разные годы"
   ]
  },
  {
   "cell_type": "code",
   "execution_count": 20,
   "metadata": {},
   "outputs": [
    {
     "data": {
      "text/html": [
       "<div>\n",
       "<style scoped>\n",
       "    .dataframe tbody tr th:only-of-type {\n",
       "        vertical-align: middle;\n",
       "    }\n",
       "\n",
       "    .dataframe tbody tr th {\n",
       "        vertical-align: top;\n",
       "    }\n",
       "\n",
       "    .dataframe thead th {\n",
       "        text-align: right;\n",
       "    }\n",
       "</style>\n",
       "<table border=\"1\" class=\"dataframe\">\n",
       "  <thead>\n",
       "    <tr style=\"text-align: right;\">\n",
       "      <th></th>\n",
       "      <th>eu_sales</th>\n",
       "      <th>jp_sales</th>\n",
       "      <th>na_sales</th>\n",
       "      <th>sum_sales</th>\n",
       "    </tr>\n",
       "    <tr>\n",
       "      <th>platform</th>\n",
       "      <th></th>\n",
       "      <th></th>\n",
       "      <th></th>\n",
       "      <th></th>\n",
       "    </tr>\n",
       "  </thead>\n",
       "  <tbody>\n",
       "    <tr>\n",
       "      <th>PS2</th>\n",
       "      <td>332.63</td>\n",
       "      <td>137.54</td>\n",
       "      <td>572.92</td>\n",
       "      <td>1233.56</td>\n",
       "    </tr>\n",
       "    <tr>\n",
       "      <th>X360</th>\n",
       "      <td>268.32</td>\n",
       "      <td>12.30</td>\n",
       "      <td>595.74</td>\n",
       "      <td>961.24</td>\n",
       "    </tr>\n",
       "    <tr>\n",
       "      <th>PS3</th>\n",
       "      <td>327.20</td>\n",
       "      <td>79.41</td>\n",
       "      <td>390.13</td>\n",
       "      <td>931.33</td>\n",
       "    </tr>\n",
       "    <tr>\n",
       "      <th>Wii</th>\n",
       "      <td>258.32</td>\n",
       "      <td>68.28</td>\n",
       "      <td>486.87</td>\n",
       "      <td>891.18</td>\n",
       "    </tr>\n",
       "    <tr>\n",
       "      <th>DS</th>\n",
       "      <td>188.41</td>\n",
       "      <td>175.02</td>\n",
       "      <td>380.31</td>\n",
       "      <td>802.78</td>\n",
       "    </tr>\n",
       "  </tbody>\n",
       "</table>\n",
       "</div>"
      ],
      "text/plain": [
       "          eu_sales  jp_sales  na_sales  sum_sales\n",
       "platform                                         \n",
       "PS2         332.63    137.54    572.92    1233.56\n",
       "X360        268.32     12.30    595.74     961.24\n",
       "PS3         327.20     79.41    390.13     931.33\n",
       "Wii         258.32     68.28    486.87     891.18\n",
       "DS          188.41    175.02    380.31     802.78"
      ]
     },
     "execution_count": 20,
     "metadata": {},
     "output_type": "execute_result"
    }
   ],
   "source": [
    "# выделю платформы с наибольшими суммарными продажами игр\n",
    "top_platforms = data.pivot_table(index = 'platform',values = ['sum_sales', 'na_sales', 'eu_sales', 'jp_sales'], aggfunc = 'sum').nlargest(5, 'sum_sales')\n",
    "top_platforms"
   ]
  },
  {
   "cell_type": "code",
   "execution_count": 21,
   "metadata": {},
   "outputs": [
    {
     "data": {
      "text/html": [
       "<div>\n",
       "<style scoped>\n",
       "    .dataframe tbody tr th:only-of-type {\n",
       "        vertical-align: middle;\n",
       "    }\n",
       "\n",
       "    .dataframe tbody tr th {\n",
       "        vertical-align: top;\n",
       "    }\n",
       "\n",
       "    .dataframe thead th {\n",
       "        text-align: right;\n",
       "    }\n",
       "</style>\n",
       "<table border=\"1\" class=\"dataframe\">\n",
       "  <thead>\n",
       "    <tr style=\"text-align: right;\">\n",
       "      <th>platform</th>\n",
       "      <th>2600</th>\n",
       "      <th>3DO</th>\n",
       "      <th>3DS</th>\n",
       "      <th>DC</th>\n",
       "      <th>DS</th>\n",
       "      <th>GB</th>\n",
       "      <th>GBA</th>\n",
       "      <th>GC</th>\n",
       "      <th>GEN</th>\n",
       "      <th>GG</th>\n",
       "      <th>...</th>\n",
       "      <th>SAT</th>\n",
       "      <th>SCD</th>\n",
       "      <th>SNES</th>\n",
       "      <th>TG16</th>\n",
       "      <th>WS</th>\n",
       "      <th>Wii</th>\n",
       "      <th>WiiU</th>\n",
       "      <th>X360</th>\n",
       "      <th>XB</th>\n",
       "      <th>XOne</th>\n",
       "    </tr>\n",
       "    <tr>\n",
       "      <th>year_of_release</th>\n",
       "      <th></th>\n",
       "      <th></th>\n",
       "      <th></th>\n",
       "      <th></th>\n",
       "      <th></th>\n",
       "      <th></th>\n",
       "      <th></th>\n",
       "      <th></th>\n",
       "      <th></th>\n",
       "      <th></th>\n",
       "      <th></th>\n",
       "      <th></th>\n",
       "      <th></th>\n",
       "      <th></th>\n",
       "      <th></th>\n",
       "      <th></th>\n",
       "      <th></th>\n",
       "      <th></th>\n",
       "      <th></th>\n",
       "      <th></th>\n",
       "      <th></th>\n",
       "    </tr>\n",
       "  </thead>\n",
       "  <tbody>\n",
       "    <tr>\n",
       "      <th>1980</th>\n",
       "      <td>11.38</td>\n",
       "      <td>0.00</td>\n",
       "      <td>0.00</td>\n",
       "      <td>0.00</td>\n",
       "      <td>0.00</td>\n",
       "      <td>0.00</td>\n",
       "      <td>0.00</td>\n",
       "      <td>0.00</td>\n",
       "      <td>0.00</td>\n",
       "      <td>0.00</td>\n",
       "      <td>...</td>\n",
       "      <td>0.00</td>\n",
       "      <td>0.00</td>\n",
       "      <td>0.00</td>\n",
       "      <td>0.00</td>\n",
       "      <td>0.00</td>\n",
       "      <td>0.00</td>\n",
       "      <td>0.00</td>\n",
       "      <td>0.00</td>\n",
       "      <td>0.00</td>\n",
       "      <td>0.00</td>\n",
       "    </tr>\n",
       "    <tr>\n",
       "      <th>1981</th>\n",
       "      <td>35.68</td>\n",
       "      <td>0.00</td>\n",
       "      <td>0.00</td>\n",
       "      <td>0.00</td>\n",
       "      <td>0.00</td>\n",
       "      <td>0.00</td>\n",
       "      <td>0.00</td>\n",
       "      <td>0.00</td>\n",
       "      <td>0.00</td>\n",
       "      <td>0.00</td>\n",
       "      <td>...</td>\n",
       "      <td>0.00</td>\n",
       "      <td>0.00</td>\n",
       "      <td>0.00</td>\n",
       "      <td>0.00</td>\n",
       "      <td>0.00</td>\n",
       "      <td>0.00</td>\n",
       "      <td>0.00</td>\n",
       "      <td>0.00</td>\n",
       "      <td>0.00</td>\n",
       "      <td>0.00</td>\n",
       "    </tr>\n",
       "    <tr>\n",
       "      <th>1982</th>\n",
       "      <td>28.88</td>\n",
       "      <td>0.00</td>\n",
       "      <td>0.00</td>\n",
       "      <td>0.00</td>\n",
       "      <td>0.00</td>\n",
       "      <td>0.00</td>\n",
       "      <td>0.00</td>\n",
       "      <td>0.00</td>\n",
       "      <td>0.00</td>\n",
       "      <td>0.00</td>\n",
       "      <td>...</td>\n",
       "      <td>0.00</td>\n",
       "      <td>0.00</td>\n",
       "      <td>0.00</td>\n",
       "      <td>0.00</td>\n",
       "      <td>0.00</td>\n",
       "      <td>0.00</td>\n",
       "      <td>0.00</td>\n",
       "      <td>0.00</td>\n",
       "      <td>0.00</td>\n",
       "      <td>0.00</td>\n",
       "    </tr>\n",
       "    <tr>\n",
       "      <th>1983</th>\n",
       "      <td>5.84</td>\n",
       "      <td>0.00</td>\n",
       "      <td>0.00</td>\n",
       "      <td>0.00</td>\n",
       "      <td>0.00</td>\n",
       "      <td>0.00</td>\n",
       "      <td>0.00</td>\n",
       "      <td>0.00</td>\n",
       "      <td>0.00</td>\n",
       "      <td>0.00</td>\n",
       "      <td>...</td>\n",
       "      <td>0.00</td>\n",
       "      <td>0.00</td>\n",
       "      <td>0.00</td>\n",
       "      <td>0.00</td>\n",
       "      <td>0.00</td>\n",
       "      <td>0.00</td>\n",
       "      <td>0.00</td>\n",
       "      <td>0.00</td>\n",
       "      <td>0.00</td>\n",
       "      <td>0.00</td>\n",
       "    </tr>\n",
       "    <tr>\n",
       "      <th>1984</th>\n",
       "      <td>0.27</td>\n",
       "      <td>0.00</td>\n",
       "      <td>0.00</td>\n",
       "      <td>0.00</td>\n",
       "      <td>0.00</td>\n",
       "      <td>0.00</td>\n",
       "      <td>0.00</td>\n",
       "      <td>0.00</td>\n",
       "      <td>0.00</td>\n",
       "      <td>0.00</td>\n",
       "      <td>...</td>\n",
       "      <td>0.00</td>\n",
       "      <td>0.00</td>\n",
       "      <td>0.00</td>\n",
       "      <td>0.00</td>\n",
       "      <td>0.00</td>\n",
       "      <td>0.00</td>\n",
       "      <td>0.00</td>\n",
       "      <td>0.00</td>\n",
       "      <td>0.00</td>\n",
       "      <td>0.00</td>\n",
       "    </tr>\n",
       "    <tr>\n",
       "      <th>1985</th>\n",
       "      <td>0.45</td>\n",
       "      <td>0.00</td>\n",
       "      <td>0.00</td>\n",
       "      <td>0.00</td>\n",
       "      <td>0.02</td>\n",
       "      <td>0.00</td>\n",
       "      <td>0.00</td>\n",
       "      <td>0.00</td>\n",
       "      <td>0.00</td>\n",
       "      <td>0.00</td>\n",
       "      <td>...</td>\n",
       "      <td>0.00</td>\n",
       "      <td>0.00</td>\n",
       "      <td>0.00</td>\n",
       "      <td>0.00</td>\n",
       "      <td>0.00</td>\n",
       "      <td>0.00</td>\n",
       "      <td>0.00</td>\n",
       "      <td>0.00</td>\n",
       "      <td>0.00</td>\n",
       "      <td>0.00</td>\n",
       "    </tr>\n",
       "    <tr>\n",
       "      <th>1986</th>\n",
       "      <td>0.67</td>\n",
       "      <td>0.00</td>\n",
       "      <td>0.00</td>\n",
       "      <td>0.00</td>\n",
       "      <td>0.00</td>\n",
       "      <td>0.00</td>\n",
       "      <td>0.00</td>\n",
       "      <td>0.00</td>\n",
       "      <td>0.00</td>\n",
       "      <td>0.00</td>\n",
       "      <td>...</td>\n",
       "      <td>0.00</td>\n",
       "      <td>0.00</td>\n",
       "      <td>0.00</td>\n",
       "      <td>0.00</td>\n",
       "      <td>0.00</td>\n",
       "      <td>0.00</td>\n",
       "      <td>0.00</td>\n",
       "      <td>0.00</td>\n",
       "      <td>0.00</td>\n",
       "      <td>0.00</td>\n",
       "    </tr>\n",
       "    <tr>\n",
       "      <th>1987</th>\n",
       "      <td>1.94</td>\n",
       "      <td>0.00</td>\n",
       "      <td>0.00</td>\n",
       "      <td>0.00</td>\n",
       "      <td>0.00</td>\n",
       "      <td>0.00</td>\n",
       "      <td>0.00</td>\n",
       "      <td>0.00</td>\n",
       "      <td>0.00</td>\n",
       "      <td>0.00</td>\n",
       "      <td>...</td>\n",
       "      <td>0.00</td>\n",
       "      <td>0.00</td>\n",
       "      <td>0.00</td>\n",
       "      <td>0.00</td>\n",
       "      <td>0.00</td>\n",
       "      <td>0.00</td>\n",
       "      <td>0.00</td>\n",
       "      <td>0.00</td>\n",
       "      <td>0.00</td>\n",
       "      <td>0.00</td>\n",
       "    </tr>\n",
       "    <tr>\n",
       "      <th>1988</th>\n",
       "      <td>0.74</td>\n",
       "      <td>0.00</td>\n",
       "      <td>0.00</td>\n",
       "      <td>0.00</td>\n",
       "      <td>0.00</td>\n",
       "      <td>1.43</td>\n",
       "      <td>0.00</td>\n",
       "      <td>0.00</td>\n",
       "      <td>0.00</td>\n",
       "      <td>0.00</td>\n",
       "      <td>...</td>\n",
       "      <td>0.00</td>\n",
       "      <td>0.00</td>\n",
       "      <td>0.00</td>\n",
       "      <td>0.00</td>\n",
       "      <td>0.00</td>\n",
       "      <td>0.00</td>\n",
       "      <td>0.00</td>\n",
       "      <td>0.00</td>\n",
       "      <td>0.00</td>\n",
       "      <td>0.00</td>\n",
       "    </tr>\n",
       "    <tr>\n",
       "      <th>1989</th>\n",
       "      <td>0.63</td>\n",
       "      <td>0.00</td>\n",
       "      <td>0.00</td>\n",
       "      <td>0.00</td>\n",
       "      <td>0.00</td>\n",
       "      <td>64.97</td>\n",
       "      <td>0.00</td>\n",
       "      <td>0.00</td>\n",
       "      <td>0.00</td>\n",
       "      <td>0.00</td>\n",
       "      <td>...</td>\n",
       "      <td>0.00</td>\n",
       "      <td>0.00</td>\n",
       "      <td>0.00</td>\n",
       "      <td>0.00</td>\n",
       "      <td>0.00</td>\n",
       "      <td>0.00</td>\n",
       "      <td>0.00</td>\n",
       "      <td>0.00</td>\n",
       "      <td>0.00</td>\n",
       "      <td>0.00</td>\n",
       "    </tr>\n",
       "    <tr>\n",
       "      <th>1990</th>\n",
       "      <td>0.00</td>\n",
       "      <td>0.00</td>\n",
       "      <td>0.00</td>\n",
       "      <td>0.00</td>\n",
       "      <td>0.00</td>\n",
       "      <td>4.89</td>\n",
       "      <td>0.00</td>\n",
       "      <td>0.00</td>\n",
       "      <td>2.60</td>\n",
       "      <td>0.00</td>\n",
       "      <td>...</td>\n",
       "      <td>0.00</td>\n",
       "      <td>0.00</td>\n",
       "      <td>26.15</td>\n",
       "      <td>0.00</td>\n",
       "      <td>0.00</td>\n",
       "      <td>0.00</td>\n",
       "      <td>0.00</td>\n",
       "      <td>0.00</td>\n",
       "      <td>0.00</td>\n",
       "      <td>0.00</td>\n",
       "    </tr>\n",
       "    <tr>\n",
       "      <th>1991</th>\n",
       "      <td>0.00</td>\n",
       "      <td>0.00</td>\n",
       "      <td>0.00</td>\n",
       "      <td>0.00</td>\n",
       "      <td>0.00</td>\n",
       "      <td>5.57</td>\n",
       "      <td>0.00</td>\n",
       "      <td>0.00</td>\n",
       "      <td>4.33</td>\n",
       "      <td>0.00</td>\n",
       "      <td>...</td>\n",
       "      <td>0.00</td>\n",
       "      <td>0.00</td>\n",
       "      <td>16.22</td>\n",
       "      <td>0.00</td>\n",
       "      <td>0.00</td>\n",
       "      <td>0.00</td>\n",
       "      <td>0.00</td>\n",
       "      <td>0.00</td>\n",
       "      <td>0.00</td>\n",
       "      <td>0.00</td>\n",
       "    </tr>\n",
       "    <tr>\n",
       "      <th>1992</th>\n",
       "      <td>0.00</td>\n",
       "      <td>0.00</td>\n",
       "      <td>0.00</td>\n",
       "      <td>0.00</td>\n",
       "      <td>0.00</td>\n",
       "      <td>25.49</td>\n",
       "      <td>0.00</td>\n",
       "      <td>0.00</td>\n",
       "      <td>12.64</td>\n",
       "      <td>0.04</td>\n",
       "      <td>...</td>\n",
       "      <td>0.00</td>\n",
       "      <td>0.00</td>\n",
       "      <td>32.98</td>\n",
       "      <td>0.00</td>\n",
       "      <td>0.00</td>\n",
       "      <td>0.00</td>\n",
       "      <td>0.00</td>\n",
       "      <td>0.00</td>\n",
       "      <td>0.00</td>\n",
       "      <td>0.00</td>\n",
       "    </tr>\n",
       "    <tr>\n",
       "      <th>1993</th>\n",
       "      <td>0.00</td>\n",
       "      <td>0.00</td>\n",
       "      <td>0.00</td>\n",
       "      <td>0.00</td>\n",
       "      <td>0.00</td>\n",
       "      <td>0.00</td>\n",
       "      <td>0.00</td>\n",
       "      <td>0.00</td>\n",
       "      <td>0.65</td>\n",
       "      <td>0.00</td>\n",
       "      <td>...</td>\n",
       "      <td>0.00</td>\n",
       "      <td>1.50</td>\n",
       "      <td>40.02</td>\n",
       "      <td>0.00</td>\n",
       "      <td>0.00</td>\n",
       "      <td>0.00</td>\n",
       "      <td>0.00</td>\n",
       "      <td>0.00</td>\n",
       "      <td>0.00</td>\n",
       "      <td>0.00</td>\n",
       "    </tr>\n",
       "    <tr>\n",
       "      <th>1994</th>\n",
       "      <td>0.00</td>\n",
       "      <td>0.02</td>\n",
       "      <td>0.00</td>\n",
       "      <td>0.00</td>\n",
       "      <td>0.00</td>\n",
       "      <td>12.18</td>\n",
       "      <td>0.00</td>\n",
       "      <td>0.00</td>\n",
       "      <td>8.13</td>\n",
       "      <td>0.00</td>\n",
       "      <td>...</td>\n",
       "      <td>3.65</td>\n",
       "      <td>0.36</td>\n",
       "      <td>35.08</td>\n",
       "      <td>0.00</td>\n",
       "      <td>0.00</td>\n",
       "      <td>0.00</td>\n",
       "      <td>0.00</td>\n",
       "      <td>0.00</td>\n",
       "      <td>0.00</td>\n",
       "      <td>0.00</td>\n",
       "    </tr>\n",
       "    <tr>\n",
       "      <th>1995</th>\n",
       "      <td>0.00</td>\n",
       "      <td>0.08</td>\n",
       "      <td>0.00</td>\n",
       "      <td>0.00</td>\n",
       "      <td>0.00</td>\n",
       "      <td>3.60</td>\n",
       "      <td>0.00</td>\n",
       "      <td>0.00</td>\n",
       "      <td>0.00</td>\n",
       "      <td>0.00</td>\n",
       "      <td>...</td>\n",
       "      <td>11.57</td>\n",
       "      <td>0.00</td>\n",
       "      <td>32.20</td>\n",
       "      <td>0.16</td>\n",
       "      <td>0.00</td>\n",
       "      <td>0.00</td>\n",
       "      <td>0.00</td>\n",
       "      <td>0.00</td>\n",
       "      <td>0.00</td>\n",
       "      <td>0.00</td>\n",
       "    </tr>\n",
       "    <tr>\n",
       "      <th>1996</th>\n",
       "      <td>0.00</td>\n",
       "      <td>0.00</td>\n",
       "      <td>0.00</td>\n",
       "      <td>0.00</td>\n",
       "      <td>0.00</td>\n",
       "      <td>36.03</td>\n",
       "      <td>0.00</td>\n",
       "      <td>0.00</td>\n",
       "      <td>0.00</td>\n",
       "      <td>0.00</td>\n",
       "      <td>...</td>\n",
       "      <td>7.69</td>\n",
       "      <td>0.00</td>\n",
       "      <td>15.92</td>\n",
       "      <td>0.00</td>\n",
       "      <td>0.00</td>\n",
       "      <td>0.00</td>\n",
       "      <td>0.00</td>\n",
       "      <td>0.00</td>\n",
       "      <td>0.00</td>\n",
       "      <td>0.00</td>\n",
       "    </tr>\n",
       "    <tr>\n",
       "      <th>1997</th>\n",
       "      <td>0.00</td>\n",
       "      <td>0.00</td>\n",
       "      <td>0.00</td>\n",
       "      <td>0.00</td>\n",
       "      <td>0.00</td>\n",
       "      <td>6.37</td>\n",
       "      <td>0.00</td>\n",
       "      <td>0.00</td>\n",
       "      <td>0.00</td>\n",
       "      <td>0.00</td>\n",
       "      <td>...</td>\n",
       "      <td>6.77</td>\n",
       "      <td>0.00</td>\n",
       "      <td>0.99</td>\n",
       "      <td>0.00</td>\n",
       "      <td>0.00</td>\n",
       "      <td>0.00</td>\n",
       "      <td>0.00</td>\n",
       "      <td>0.00</td>\n",
       "      <td>0.00</td>\n",
       "      <td>0.00</td>\n",
       "    </tr>\n",
       "    <tr>\n",
       "      <th>1998</th>\n",
       "      <td>0.00</td>\n",
       "      <td>0.00</td>\n",
       "      <td>0.00</td>\n",
       "      <td>3.38</td>\n",
       "      <td>0.00</td>\n",
       "      <td>26.90</td>\n",
       "      <td>0.00</td>\n",
       "      <td>0.00</td>\n",
       "      <td>0.00</td>\n",
       "      <td>0.00</td>\n",
       "      <td>...</td>\n",
       "      <td>3.82</td>\n",
       "      <td>0.00</td>\n",
       "      <td>0.22</td>\n",
       "      <td>0.00</td>\n",
       "      <td>0.00</td>\n",
       "      <td>0.00</td>\n",
       "      <td>0.00</td>\n",
       "      <td>0.00</td>\n",
       "      <td>0.00</td>\n",
       "      <td>0.00</td>\n",
       "    </tr>\n",
       "    <tr>\n",
       "      <th>1999</th>\n",
       "      <td>0.00</td>\n",
       "      <td>0.00</td>\n",
       "      <td>0.00</td>\n",
       "      <td>5.16</td>\n",
       "      <td>0.00</td>\n",
       "      <td>38.00</td>\n",
       "      <td>0.00</td>\n",
       "      <td>0.00</td>\n",
       "      <td>0.00</td>\n",
       "      <td>0.00</td>\n",
       "      <td>...</td>\n",
       "      <td>0.09</td>\n",
       "      <td>0.00</td>\n",
       "      <td>0.26</td>\n",
       "      <td>0.00</td>\n",
       "      <td>0.46</td>\n",
       "      <td>0.00</td>\n",
       "      <td>0.00</td>\n",
       "      <td>0.00</td>\n",
       "      <td>0.00</td>\n",
       "      <td>0.00</td>\n",
       "    </tr>\n",
       "    <tr>\n",
       "      <th>2000</th>\n",
       "      <td>0.00</td>\n",
       "      <td>0.00</td>\n",
       "      <td>0.00</td>\n",
       "      <td>5.99</td>\n",
       "      <td>0.00</td>\n",
       "      <td>19.76</td>\n",
       "      <td>0.07</td>\n",
       "      <td>0.00</td>\n",
       "      <td>0.00</td>\n",
       "      <td>0.00</td>\n",
       "      <td>...</td>\n",
       "      <td>0.00</td>\n",
       "      <td>0.00</td>\n",
       "      <td>0.00</td>\n",
       "      <td>0.00</td>\n",
       "      <td>0.68</td>\n",
       "      <td>0.00</td>\n",
       "      <td>0.00</td>\n",
       "      <td>0.00</td>\n",
       "      <td>0.99</td>\n",
       "      <td>0.00</td>\n",
       "    </tr>\n",
       "    <tr>\n",
       "      <th>2001</th>\n",
       "      <td>0.00</td>\n",
       "      <td>0.00</td>\n",
       "      <td>0.00</td>\n",
       "      <td>1.07</td>\n",
       "      <td>0.00</td>\n",
       "      <td>9.24</td>\n",
       "      <td>61.53</td>\n",
       "      <td>26.34</td>\n",
       "      <td>0.00</td>\n",
       "      <td>0.00</td>\n",
       "      <td>...</td>\n",
       "      <td>0.00</td>\n",
       "      <td>0.00</td>\n",
       "      <td>0.00</td>\n",
       "      <td>0.00</td>\n",
       "      <td>0.28</td>\n",
       "      <td>0.00</td>\n",
       "      <td>0.00</td>\n",
       "      <td>0.00</td>\n",
       "      <td>22.26</td>\n",
       "      <td>0.00</td>\n",
       "    </tr>\n",
       "    <tr>\n",
       "      <th>2002</th>\n",
       "      <td>0.00</td>\n",
       "      <td>0.00</td>\n",
       "      <td>0.00</td>\n",
       "      <td>0.29</td>\n",
       "      <td>0.00</td>\n",
       "      <td>0.00</td>\n",
       "      <td>74.16</td>\n",
       "      <td>51.81</td>\n",
       "      <td>0.00</td>\n",
       "      <td>0.00</td>\n",
       "      <td>...</td>\n",
       "      <td>0.00</td>\n",
       "      <td>0.00</td>\n",
       "      <td>0.00</td>\n",
       "      <td>0.00</td>\n",
       "      <td>0.00</td>\n",
       "      <td>0.00</td>\n",
       "      <td>0.00</td>\n",
       "      <td>0.00</td>\n",
       "      <td>48.01</td>\n",
       "      <td>0.00</td>\n",
       "    </tr>\n",
       "    <tr>\n",
       "      <th>2003</th>\n",
       "      <td>0.00</td>\n",
       "      <td>0.00</td>\n",
       "      <td>0.00</td>\n",
       "      <td>0.00</td>\n",
       "      <td>0.00</td>\n",
       "      <td>0.00</td>\n",
       "      <td>56.67</td>\n",
       "      <td>50.61</td>\n",
       "      <td>0.00</td>\n",
       "      <td>0.00</td>\n",
       "      <td>...</td>\n",
       "      <td>0.00</td>\n",
       "      <td>0.00</td>\n",
       "      <td>0.00</td>\n",
       "      <td>0.00</td>\n",
       "      <td>0.00</td>\n",
       "      <td>0.00</td>\n",
       "      <td>0.00</td>\n",
       "      <td>0.00</td>\n",
       "      <td>55.04</td>\n",
       "      <td>0.00</td>\n",
       "    </tr>\n",
       "    <tr>\n",
       "      <th>2004</th>\n",
       "      <td>0.00</td>\n",
       "      <td>0.00</td>\n",
       "      <td>0.00</td>\n",
       "      <td>0.00</td>\n",
       "      <td>17.27</td>\n",
       "      <td>0.00</td>\n",
       "      <td>77.91</td>\n",
       "      <td>28.82</td>\n",
       "      <td>0.00</td>\n",
       "      <td>0.00</td>\n",
       "      <td>...</td>\n",
       "      <td>0.00</td>\n",
       "      <td>0.00</td>\n",
       "      <td>0.00</td>\n",
       "      <td>0.00</td>\n",
       "      <td>0.00</td>\n",
       "      <td>0.00</td>\n",
       "      <td>0.00</td>\n",
       "      <td>0.00</td>\n",
       "      <td>65.42</td>\n",
       "      <td>0.00</td>\n",
       "    </tr>\n",
       "    <tr>\n",
       "      <th>2005</th>\n",
       "      <td>0.00</td>\n",
       "      <td>0.00</td>\n",
       "      <td>0.00</td>\n",
       "      <td>0.00</td>\n",
       "      <td>130.14</td>\n",
       "      <td>0.00</td>\n",
       "      <td>33.86</td>\n",
       "      <td>27.62</td>\n",
       "      <td>0.00</td>\n",
       "      <td>0.00</td>\n",
       "      <td>...</td>\n",
       "      <td>0.00</td>\n",
       "      <td>0.00</td>\n",
       "      <td>0.00</td>\n",
       "      <td>0.00</td>\n",
       "      <td>0.00</td>\n",
       "      <td>0.00</td>\n",
       "      <td>0.00</td>\n",
       "      <td>8.25</td>\n",
       "      <td>49.08</td>\n",
       "      <td>0.00</td>\n",
       "    </tr>\n",
       "    <tr>\n",
       "      <th>2006</th>\n",
       "      <td>0.00</td>\n",
       "      <td>0.00</td>\n",
       "      <td>0.00</td>\n",
       "      <td>0.00</td>\n",
       "      <td>119.81</td>\n",
       "      <td>0.00</td>\n",
       "      <td>5.28</td>\n",
       "      <td>11.26</td>\n",
       "      <td>0.00</td>\n",
       "      <td>0.00</td>\n",
       "      <td>...</td>\n",
       "      <td>0.00</td>\n",
       "      <td>0.00</td>\n",
       "      <td>0.00</td>\n",
       "      <td>0.00</td>\n",
       "      <td>0.00</td>\n",
       "      <td>137.15</td>\n",
       "      <td>0.00</td>\n",
       "      <td>51.62</td>\n",
       "      <td>10.04</td>\n",
       "      <td>0.00</td>\n",
       "    </tr>\n",
       "    <tr>\n",
       "      <th>2007</th>\n",
       "      <td>0.00</td>\n",
       "      <td>0.00</td>\n",
       "      <td>0.00</td>\n",
       "      <td>0.02</td>\n",
       "      <td>146.94</td>\n",
       "      <td>0.00</td>\n",
       "      <td>3.40</td>\n",
       "      <td>0.27</td>\n",
       "      <td>0.00</td>\n",
       "      <td>0.00</td>\n",
       "      <td>...</td>\n",
       "      <td>0.00</td>\n",
       "      <td>0.00</td>\n",
       "      <td>0.00</td>\n",
       "      <td>0.00</td>\n",
       "      <td>0.00</td>\n",
       "      <td>152.77</td>\n",
       "      <td>0.00</td>\n",
       "      <td>95.41</td>\n",
       "      <td>0.55</td>\n",
       "      <td>0.00</td>\n",
       "    </tr>\n",
       "    <tr>\n",
       "      <th>2008</th>\n",
       "      <td>0.00</td>\n",
       "      <td>0.00</td>\n",
       "      <td>0.00</td>\n",
       "      <td>0.04</td>\n",
       "      <td>145.31</td>\n",
       "      <td>0.00</td>\n",
       "      <td>0.00</td>\n",
       "      <td>0.00</td>\n",
       "      <td>0.00</td>\n",
       "      <td>0.00</td>\n",
       "      <td>...</td>\n",
       "      <td>0.00</td>\n",
       "      <td>0.00</td>\n",
       "      <td>0.00</td>\n",
       "      <td>0.00</td>\n",
       "      <td>0.00</td>\n",
       "      <td>171.32</td>\n",
       "      <td>0.00</td>\n",
       "      <td>135.26</td>\n",
       "      <td>0.18</td>\n",
       "      <td>0.00</td>\n",
       "    </tr>\n",
       "    <tr>\n",
       "      <th>2009</th>\n",
       "      <td>0.00</td>\n",
       "      <td>0.00</td>\n",
       "      <td>0.00</td>\n",
       "      <td>0.00</td>\n",
       "      <td>119.54</td>\n",
       "      <td>0.00</td>\n",
       "      <td>0.00</td>\n",
       "      <td>0.00</td>\n",
       "      <td>0.00</td>\n",
       "      <td>0.00</td>\n",
       "      <td>...</td>\n",
       "      <td>0.00</td>\n",
       "      <td>0.00</td>\n",
       "      <td>0.00</td>\n",
       "      <td>0.00</td>\n",
       "      <td>0.00</td>\n",
       "      <td>206.97</td>\n",
       "      <td>0.00</td>\n",
       "      <td>120.29</td>\n",
       "      <td>0.00</td>\n",
       "      <td>0.00</td>\n",
       "    </tr>\n",
       "    <tr>\n",
       "      <th>2010</th>\n",
       "      <td>0.00</td>\n",
       "      <td>0.00</td>\n",
       "      <td>0.00</td>\n",
       "      <td>0.00</td>\n",
       "      <td>85.02</td>\n",
       "      <td>0.00</td>\n",
       "      <td>0.00</td>\n",
       "      <td>0.00</td>\n",
       "      <td>0.00</td>\n",
       "      <td>0.00</td>\n",
       "      <td>...</td>\n",
       "      <td>0.00</td>\n",
       "      <td>0.00</td>\n",
       "      <td>0.00</td>\n",
       "      <td>0.00</td>\n",
       "      <td>0.00</td>\n",
       "      <td>127.95</td>\n",
       "      <td>0.00</td>\n",
       "      <td>170.03</td>\n",
       "      <td>0.00</td>\n",
       "      <td>0.00</td>\n",
       "    </tr>\n",
       "    <tr>\n",
       "      <th>2011</th>\n",
       "      <td>0.00</td>\n",
       "      <td>0.00</td>\n",
       "      <td>63.20</td>\n",
       "      <td>0.00</td>\n",
       "      <td>26.18</td>\n",
       "      <td>0.00</td>\n",
       "      <td>0.00</td>\n",
       "      <td>0.00</td>\n",
       "      <td>0.00</td>\n",
       "      <td>0.00</td>\n",
       "      <td>...</td>\n",
       "      <td>0.00</td>\n",
       "      <td>0.00</td>\n",
       "      <td>0.00</td>\n",
       "      <td>0.00</td>\n",
       "      <td>0.00</td>\n",
       "      <td>59.65</td>\n",
       "      <td>0.00</td>\n",
       "      <td>143.84</td>\n",
       "      <td>0.00</td>\n",
       "      <td>0.00</td>\n",
       "    </tr>\n",
       "    <tr>\n",
       "      <th>2012</th>\n",
       "      <td>0.00</td>\n",
       "      <td>0.00</td>\n",
       "      <td>51.36</td>\n",
       "      <td>0.00</td>\n",
       "      <td>11.01</td>\n",
       "      <td>0.00</td>\n",
       "      <td>0.00</td>\n",
       "      <td>0.00</td>\n",
       "      <td>0.00</td>\n",
       "      <td>0.00</td>\n",
       "      <td>...</td>\n",
       "      <td>0.00</td>\n",
       "      <td>0.00</td>\n",
       "      <td>0.00</td>\n",
       "      <td>0.00</td>\n",
       "      <td>0.00</td>\n",
       "      <td>21.71</td>\n",
       "      <td>17.56</td>\n",
       "      <td>99.74</td>\n",
       "      <td>0.00</td>\n",
       "      <td>0.00</td>\n",
       "    </tr>\n",
       "    <tr>\n",
       "      <th>2013</th>\n",
       "      <td>0.00</td>\n",
       "      <td>0.00</td>\n",
       "      <td>56.57</td>\n",
       "      <td>0.00</td>\n",
       "      <td>1.54</td>\n",
       "      <td>0.00</td>\n",
       "      <td>0.00</td>\n",
       "      <td>0.00</td>\n",
       "      <td>0.00</td>\n",
       "      <td>0.00</td>\n",
       "      <td>...</td>\n",
       "      <td>0.00</td>\n",
       "      <td>0.00</td>\n",
       "      <td>0.00</td>\n",
       "      <td>0.00</td>\n",
       "      <td>0.00</td>\n",
       "      <td>8.59</td>\n",
       "      <td>21.65</td>\n",
       "      <td>88.58</td>\n",
       "      <td>0.00</td>\n",
       "      <td>18.96</td>\n",
       "    </tr>\n",
       "    <tr>\n",
       "      <th>2014</th>\n",
       "      <td>0.00</td>\n",
       "      <td>0.00</td>\n",
       "      <td>43.76</td>\n",
       "      <td>0.00</td>\n",
       "      <td>0.00</td>\n",
       "      <td>0.00</td>\n",
       "      <td>0.00</td>\n",
       "      <td>0.00</td>\n",
       "      <td>0.00</td>\n",
       "      <td>0.00</td>\n",
       "      <td>...</td>\n",
       "      <td>0.00</td>\n",
       "      <td>0.00</td>\n",
       "      <td>0.00</td>\n",
       "      <td>0.00</td>\n",
       "      <td>0.00</td>\n",
       "      <td>3.75</td>\n",
       "      <td>22.03</td>\n",
       "      <td>34.74</td>\n",
       "      <td>0.00</td>\n",
       "      <td>54.07</td>\n",
       "    </tr>\n",
       "    <tr>\n",
       "      <th>2015</th>\n",
       "      <td>0.00</td>\n",
       "      <td>0.00</td>\n",
       "      <td>27.78</td>\n",
       "      <td>0.00</td>\n",
       "      <td>0.00</td>\n",
       "      <td>0.00</td>\n",
       "      <td>0.00</td>\n",
       "      <td>0.00</td>\n",
       "      <td>0.00</td>\n",
       "      <td>0.00</td>\n",
       "      <td>...</td>\n",
       "      <td>0.00</td>\n",
       "      <td>0.00</td>\n",
       "      <td>0.00</td>\n",
       "      <td>0.00</td>\n",
       "      <td>0.00</td>\n",
       "      <td>1.14</td>\n",
       "      <td>16.35</td>\n",
       "      <td>11.96</td>\n",
       "      <td>0.00</td>\n",
       "      <td>60.14</td>\n",
       "    </tr>\n",
       "    <tr>\n",
       "      <th>2016</th>\n",
       "      <td>0.00</td>\n",
       "      <td>0.00</td>\n",
       "      <td>15.14</td>\n",
       "      <td>0.00</td>\n",
       "      <td>0.00</td>\n",
       "      <td>0.00</td>\n",
       "      <td>0.00</td>\n",
       "      <td>0.00</td>\n",
       "      <td>0.00</td>\n",
       "      <td>0.00</td>\n",
       "      <td>...</td>\n",
       "      <td>0.00</td>\n",
       "      <td>0.00</td>\n",
       "      <td>0.00</td>\n",
       "      <td>0.00</td>\n",
       "      <td>0.00</td>\n",
       "      <td>0.18</td>\n",
       "      <td>4.60</td>\n",
       "      <td>1.52</td>\n",
       "      <td>0.00</td>\n",
       "      <td>26.15</td>\n",
       "    </tr>\n",
       "  </tbody>\n",
       "</table>\n",
       "<p>37 rows × 31 columns</p>\n",
       "</div>"
      ],
      "text/plain": [
       "platform          2600   3DO    3DS    DC      DS     GB    GBA     GC    GEN  \\\n",
       "year_of_release                                                                 \n",
       "1980             11.38  0.00   0.00  0.00    0.00   0.00   0.00   0.00   0.00   \n",
       "1981             35.68  0.00   0.00  0.00    0.00   0.00   0.00   0.00   0.00   \n",
       "1982             28.88  0.00   0.00  0.00    0.00   0.00   0.00   0.00   0.00   \n",
       "1983              5.84  0.00   0.00  0.00    0.00   0.00   0.00   0.00   0.00   \n",
       "1984              0.27  0.00   0.00  0.00    0.00   0.00   0.00   0.00   0.00   \n",
       "1985              0.45  0.00   0.00  0.00    0.02   0.00   0.00   0.00   0.00   \n",
       "1986              0.67  0.00   0.00  0.00    0.00   0.00   0.00   0.00   0.00   \n",
       "1987              1.94  0.00   0.00  0.00    0.00   0.00   0.00   0.00   0.00   \n",
       "1988              0.74  0.00   0.00  0.00    0.00   1.43   0.00   0.00   0.00   \n",
       "1989              0.63  0.00   0.00  0.00    0.00  64.97   0.00   0.00   0.00   \n",
       "1990              0.00  0.00   0.00  0.00    0.00   4.89   0.00   0.00   2.60   \n",
       "1991              0.00  0.00   0.00  0.00    0.00   5.57   0.00   0.00   4.33   \n",
       "1992              0.00  0.00   0.00  0.00    0.00  25.49   0.00   0.00  12.64   \n",
       "1993              0.00  0.00   0.00  0.00    0.00   0.00   0.00   0.00   0.65   \n",
       "1994              0.00  0.02   0.00  0.00    0.00  12.18   0.00   0.00   8.13   \n",
       "1995              0.00  0.08   0.00  0.00    0.00   3.60   0.00   0.00   0.00   \n",
       "1996              0.00  0.00   0.00  0.00    0.00  36.03   0.00   0.00   0.00   \n",
       "1997              0.00  0.00   0.00  0.00    0.00   6.37   0.00   0.00   0.00   \n",
       "1998              0.00  0.00   0.00  3.38    0.00  26.90   0.00   0.00   0.00   \n",
       "1999              0.00  0.00   0.00  5.16    0.00  38.00   0.00   0.00   0.00   \n",
       "2000              0.00  0.00   0.00  5.99    0.00  19.76   0.07   0.00   0.00   \n",
       "2001              0.00  0.00   0.00  1.07    0.00   9.24  61.53  26.34   0.00   \n",
       "2002              0.00  0.00   0.00  0.29    0.00   0.00  74.16  51.81   0.00   \n",
       "2003              0.00  0.00   0.00  0.00    0.00   0.00  56.67  50.61   0.00   \n",
       "2004              0.00  0.00   0.00  0.00   17.27   0.00  77.91  28.82   0.00   \n",
       "2005              0.00  0.00   0.00  0.00  130.14   0.00  33.86  27.62   0.00   \n",
       "2006              0.00  0.00   0.00  0.00  119.81   0.00   5.28  11.26   0.00   \n",
       "2007              0.00  0.00   0.00  0.02  146.94   0.00   3.40   0.27   0.00   \n",
       "2008              0.00  0.00   0.00  0.04  145.31   0.00   0.00   0.00   0.00   \n",
       "2009              0.00  0.00   0.00  0.00  119.54   0.00   0.00   0.00   0.00   \n",
       "2010              0.00  0.00   0.00  0.00   85.02   0.00   0.00   0.00   0.00   \n",
       "2011              0.00  0.00  63.20  0.00   26.18   0.00   0.00   0.00   0.00   \n",
       "2012              0.00  0.00  51.36  0.00   11.01   0.00   0.00   0.00   0.00   \n",
       "2013              0.00  0.00  56.57  0.00    1.54   0.00   0.00   0.00   0.00   \n",
       "2014              0.00  0.00  43.76  0.00    0.00   0.00   0.00   0.00   0.00   \n",
       "2015              0.00  0.00  27.78  0.00    0.00   0.00   0.00   0.00   0.00   \n",
       "2016              0.00  0.00  15.14  0.00    0.00   0.00   0.00   0.00   0.00   \n",
       "\n",
       "platform           GG  ...    SAT   SCD   SNES  TG16    WS     Wii   WiiU  \\\n",
       "year_of_release        ...                                                  \n",
       "1980             0.00  ...   0.00  0.00   0.00  0.00  0.00    0.00   0.00   \n",
       "1981             0.00  ...   0.00  0.00   0.00  0.00  0.00    0.00   0.00   \n",
       "1982             0.00  ...   0.00  0.00   0.00  0.00  0.00    0.00   0.00   \n",
       "1983             0.00  ...   0.00  0.00   0.00  0.00  0.00    0.00   0.00   \n",
       "1984             0.00  ...   0.00  0.00   0.00  0.00  0.00    0.00   0.00   \n",
       "1985             0.00  ...   0.00  0.00   0.00  0.00  0.00    0.00   0.00   \n",
       "1986             0.00  ...   0.00  0.00   0.00  0.00  0.00    0.00   0.00   \n",
       "1987             0.00  ...   0.00  0.00   0.00  0.00  0.00    0.00   0.00   \n",
       "1988             0.00  ...   0.00  0.00   0.00  0.00  0.00    0.00   0.00   \n",
       "1989             0.00  ...   0.00  0.00   0.00  0.00  0.00    0.00   0.00   \n",
       "1990             0.00  ...   0.00  0.00  26.15  0.00  0.00    0.00   0.00   \n",
       "1991             0.00  ...   0.00  0.00  16.22  0.00  0.00    0.00   0.00   \n",
       "1992             0.04  ...   0.00  0.00  32.98  0.00  0.00    0.00   0.00   \n",
       "1993             0.00  ...   0.00  1.50  40.02  0.00  0.00    0.00   0.00   \n",
       "1994             0.00  ...   3.65  0.36  35.08  0.00  0.00    0.00   0.00   \n",
       "1995             0.00  ...  11.57  0.00  32.20  0.16  0.00    0.00   0.00   \n",
       "1996             0.00  ...   7.69  0.00  15.92  0.00  0.00    0.00   0.00   \n",
       "1997             0.00  ...   6.77  0.00   0.99  0.00  0.00    0.00   0.00   \n",
       "1998             0.00  ...   3.82  0.00   0.22  0.00  0.00    0.00   0.00   \n",
       "1999             0.00  ...   0.09  0.00   0.26  0.00  0.46    0.00   0.00   \n",
       "2000             0.00  ...   0.00  0.00   0.00  0.00  0.68    0.00   0.00   \n",
       "2001             0.00  ...   0.00  0.00   0.00  0.00  0.28    0.00   0.00   \n",
       "2002             0.00  ...   0.00  0.00   0.00  0.00  0.00    0.00   0.00   \n",
       "2003             0.00  ...   0.00  0.00   0.00  0.00  0.00    0.00   0.00   \n",
       "2004             0.00  ...   0.00  0.00   0.00  0.00  0.00    0.00   0.00   \n",
       "2005             0.00  ...   0.00  0.00   0.00  0.00  0.00    0.00   0.00   \n",
       "2006             0.00  ...   0.00  0.00   0.00  0.00  0.00  137.15   0.00   \n",
       "2007             0.00  ...   0.00  0.00   0.00  0.00  0.00  152.77   0.00   \n",
       "2008             0.00  ...   0.00  0.00   0.00  0.00  0.00  171.32   0.00   \n",
       "2009             0.00  ...   0.00  0.00   0.00  0.00  0.00  206.97   0.00   \n",
       "2010             0.00  ...   0.00  0.00   0.00  0.00  0.00  127.95   0.00   \n",
       "2011             0.00  ...   0.00  0.00   0.00  0.00  0.00   59.65   0.00   \n",
       "2012             0.00  ...   0.00  0.00   0.00  0.00  0.00   21.71  17.56   \n",
       "2013             0.00  ...   0.00  0.00   0.00  0.00  0.00    8.59  21.65   \n",
       "2014             0.00  ...   0.00  0.00   0.00  0.00  0.00    3.75  22.03   \n",
       "2015             0.00  ...   0.00  0.00   0.00  0.00  0.00    1.14  16.35   \n",
       "2016             0.00  ...   0.00  0.00   0.00  0.00  0.00    0.18   4.60   \n",
       "\n",
       "platform           X360     XB   XOne  \n",
       "year_of_release                        \n",
       "1980               0.00   0.00   0.00  \n",
       "1981               0.00   0.00   0.00  \n",
       "1982               0.00   0.00   0.00  \n",
       "1983               0.00   0.00   0.00  \n",
       "1984               0.00   0.00   0.00  \n",
       "1985               0.00   0.00   0.00  \n",
       "1986               0.00   0.00   0.00  \n",
       "1987               0.00   0.00   0.00  \n",
       "1988               0.00   0.00   0.00  \n",
       "1989               0.00   0.00   0.00  \n",
       "1990               0.00   0.00   0.00  \n",
       "1991               0.00   0.00   0.00  \n",
       "1992               0.00   0.00   0.00  \n",
       "1993               0.00   0.00   0.00  \n",
       "1994               0.00   0.00   0.00  \n",
       "1995               0.00   0.00   0.00  \n",
       "1996               0.00   0.00   0.00  \n",
       "1997               0.00   0.00   0.00  \n",
       "1998               0.00   0.00   0.00  \n",
       "1999               0.00   0.00   0.00  \n",
       "2000               0.00   0.99   0.00  \n",
       "2001               0.00  22.26   0.00  \n",
       "2002               0.00  48.01   0.00  \n",
       "2003               0.00  55.04   0.00  \n",
       "2004               0.00  65.42   0.00  \n",
       "2005               8.25  49.08   0.00  \n",
       "2006              51.62  10.04   0.00  \n",
       "2007              95.41   0.55   0.00  \n",
       "2008             135.26   0.18   0.00  \n",
       "2009             120.29   0.00   0.00  \n",
       "2010             170.03   0.00   0.00  \n",
       "2011             143.84   0.00   0.00  \n",
       "2012              99.74   0.00   0.00  \n",
       "2013              88.58   0.00  18.96  \n",
       "2014              34.74   0.00  54.07  \n",
       "2015              11.96   0.00  60.14  \n",
       "2016               1.52   0.00  26.15  \n",
       "\n",
       "[37 rows x 31 columns]"
      ]
     },
     "execution_count": 21,
     "metadata": {},
     "output_type": "execute_result"
    }
   ],
   "source": [
    "# создам датафрейм с агрегированными данными с наименованиями платформ, общим количеством продаж и годом выпуска\n",
    "platforms = data.pivot_table(index = 'year_of_release', columns = 'platform', values = 'sum_sales', aggfunc = 'sum')\n",
    "# в полученном датафрейме много пропусков, так как многие платформы \"живут\" несколько, логично будет заменить их нулями\n",
    "platforms.fillna(0, inplace=True)\n",
    "platforms"
   ]
  },
  {
   "cell_type": "code",
   "execution_count": 22,
   "metadata": {
    "scrolled": false
   },
   "outputs": [
    {
     "name": "stderr",
     "output_type": "stream",
     "text": [
      "/opt/conda/lib/python3.9/site-packages/pandas/core/frame.py:4308: SettingWithCopyWarning: \n",
      "A value is trying to be set on a copy of a slice from a DataFrame\n",
      "\n",
      "See the caveats in the documentation: https://pandas.pydata.org/pandas-docs/stable/user_guide/indexing.html#returning-a-view-versus-a-copy\n",
      "  return super().drop(\n"
     ]
    },
    {
     "data": {
      "text/html": [
       "<div>\n",
       "<style scoped>\n",
       "    .dataframe tbody tr th:only-of-type {\n",
       "        vertical-align: middle;\n",
       "    }\n",
       "\n",
       "    .dataframe tbody tr th {\n",
       "        vertical-align: top;\n",
       "    }\n",
       "\n",
       "    .dataframe thead th {\n",
       "        text-align: right;\n",
       "    }\n",
       "</style>\n",
       "<table border=\"1\" class=\"dataframe\">\n",
       "  <thead>\n",
       "    <tr style=\"text-align: right;\">\n",
       "      <th>platform</th>\n",
       "      <th>DS</th>\n",
       "      <th>PS2</th>\n",
       "      <th>PS3</th>\n",
       "      <th>Wii</th>\n",
       "      <th>X360</th>\n",
       "    </tr>\n",
       "    <tr>\n",
       "      <th>year_of_release</th>\n",
       "      <th></th>\n",
       "      <th></th>\n",
       "      <th></th>\n",
       "      <th></th>\n",
       "      <th></th>\n",
       "    </tr>\n",
       "  </thead>\n",
       "  <tbody>\n",
       "    <tr>\n",
       "      <th>2000</th>\n",
       "      <td>0.00</td>\n",
       "      <td>39.17</td>\n",
       "      <td>0.00</td>\n",
       "      <td>0.00</td>\n",
       "      <td>0.00</td>\n",
       "    </tr>\n",
       "    <tr>\n",
       "      <th>2001</th>\n",
       "      <td>0.00</td>\n",
       "      <td>166.43</td>\n",
       "      <td>0.00</td>\n",
       "      <td>0.00</td>\n",
       "      <td>0.00</td>\n",
       "    </tr>\n",
       "    <tr>\n",
       "      <th>2002</th>\n",
       "      <td>0.00</td>\n",
       "      <td>205.38</td>\n",
       "      <td>0.00</td>\n",
       "      <td>0.00</td>\n",
       "      <td>0.00</td>\n",
       "    </tr>\n",
       "    <tr>\n",
       "      <th>2003</th>\n",
       "      <td>0.00</td>\n",
       "      <td>184.31</td>\n",
       "      <td>0.00</td>\n",
       "      <td>0.00</td>\n",
       "      <td>0.00</td>\n",
       "    </tr>\n",
       "    <tr>\n",
       "      <th>2004</th>\n",
       "      <td>17.27</td>\n",
       "      <td>211.81</td>\n",
       "      <td>0.00</td>\n",
       "      <td>0.00</td>\n",
       "      <td>0.00</td>\n",
       "    </tr>\n",
       "    <tr>\n",
       "      <th>2005</th>\n",
       "      <td>130.14</td>\n",
       "      <td>160.66</td>\n",
       "      <td>0.00</td>\n",
       "      <td>0.00</td>\n",
       "      <td>8.25</td>\n",
       "    </tr>\n",
       "    <tr>\n",
       "      <th>2006</th>\n",
       "      <td>119.81</td>\n",
       "      <td>103.42</td>\n",
       "      <td>20.96</td>\n",
       "      <td>137.15</td>\n",
       "      <td>51.62</td>\n",
       "    </tr>\n",
       "    <tr>\n",
       "      <th>2007</th>\n",
       "      <td>146.94</td>\n",
       "      <td>75.99</td>\n",
       "      <td>73.19</td>\n",
       "      <td>152.77</td>\n",
       "      <td>95.41</td>\n",
       "    </tr>\n",
       "    <tr>\n",
       "      <th>2008</th>\n",
       "      <td>145.31</td>\n",
       "      <td>53.90</td>\n",
       "      <td>118.52</td>\n",
       "      <td>171.32</td>\n",
       "      <td>135.26</td>\n",
       "    </tr>\n",
       "    <tr>\n",
       "      <th>2009</th>\n",
       "      <td>119.54</td>\n",
       "      <td>26.40</td>\n",
       "      <td>130.93</td>\n",
       "      <td>206.97</td>\n",
       "      <td>120.29</td>\n",
       "    </tr>\n",
       "    <tr>\n",
       "      <th>2010</th>\n",
       "      <td>85.02</td>\n",
       "      <td>5.64</td>\n",
       "      <td>142.17</td>\n",
       "      <td>127.95</td>\n",
       "      <td>170.03</td>\n",
       "    </tr>\n",
       "    <tr>\n",
       "      <th>2011</th>\n",
       "      <td>26.18</td>\n",
       "      <td>0.45</td>\n",
       "      <td>156.78</td>\n",
       "      <td>59.65</td>\n",
       "      <td>143.84</td>\n",
       "    </tr>\n",
       "    <tr>\n",
       "      <th>2012</th>\n",
       "      <td>11.01</td>\n",
       "      <td>0.00</td>\n",
       "      <td>107.35</td>\n",
       "      <td>21.71</td>\n",
       "      <td>99.74</td>\n",
       "    </tr>\n",
       "    <tr>\n",
       "      <th>2013</th>\n",
       "      <td>1.54</td>\n",
       "      <td>0.00</td>\n",
       "      <td>113.25</td>\n",
       "      <td>8.59</td>\n",
       "      <td>88.58</td>\n",
       "    </tr>\n",
       "    <tr>\n",
       "      <th>2014</th>\n",
       "      <td>0.00</td>\n",
       "      <td>0.00</td>\n",
       "      <td>47.76</td>\n",
       "      <td>3.75</td>\n",
       "      <td>34.74</td>\n",
       "    </tr>\n",
       "    <tr>\n",
       "      <th>2015</th>\n",
       "      <td>0.00</td>\n",
       "      <td>0.00</td>\n",
       "      <td>16.82</td>\n",
       "      <td>1.14</td>\n",
       "      <td>11.96</td>\n",
       "    </tr>\n",
       "    <tr>\n",
       "      <th>2016</th>\n",
       "      <td>0.00</td>\n",
       "      <td>0.00</td>\n",
       "      <td>3.60</td>\n",
       "      <td>0.18</td>\n",
       "      <td>1.52</td>\n",
       "    </tr>\n",
       "  </tbody>\n",
       "</table>\n",
       "</div>"
      ],
      "text/plain": [
       "platform             DS     PS2     PS3     Wii    X360\n",
       "year_of_release                                        \n",
       "2000               0.00   39.17    0.00    0.00    0.00\n",
       "2001               0.00  166.43    0.00    0.00    0.00\n",
       "2002               0.00  205.38    0.00    0.00    0.00\n",
       "2003               0.00  184.31    0.00    0.00    0.00\n",
       "2004              17.27  211.81    0.00    0.00    0.00\n",
       "2005             130.14  160.66    0.00    0.00    8.25\n",
       "2006             119.81  103.42   20.96  137.15   51.62\n",
       "2007             146.94   75.99   73.19  152.77   95.41\n",
       "2008             145.31   53.90  118.52  171.32  135.26\n",
       "2009             119.54   26.40  130.93  206.97  120.29\n",
       "2010              85.02    5.64  142.17  127.95  170.03\n",
       "2011              26.18    0.45  156.78   59.65  143.84\n",
       "2012              11.01    0.00  107.35   21.71   99.74\n",
       "2013               1.54    0.00  113.25    8.59   88.58\n",
       "2014               0.00    0.00   47.76    3.75   34.74\n",
       "2015               0.00    0.00   16.82    1.14   11.96\n",
       "2016               0.00    0.00    3.60    0.18    1.52"
      ]
     },
     "execution_count": 22,
     "metadata": {},
     "output_type": "execute_result"
    }
   ],
   "source": [
    "top_platforms_years = platforms.query('index > 1999')\n",
    "for x in platforms.columns:\n",
    "    if x not in top_platforms.index:\n",
    "        top_platforms_years.drop(x, axis=1, inplace=True)\n",
    "top_platforms_years"
   ]
  },
  {
   "cell_type": "code",
   "execution_count": 23,
   "metadata": {},
   "outputs": [
    {
     "data": {
      "image/png": "[encoded data removed]",
      "text/plain": [
       "<Figure size 1080x648 with 1 Axes>"
      ]
     },
     "metadata": {
      "needs_background": "light"
     },
     "output_type": "display_data"
    }
   ],
   "source": [
    "# визуализирую \n",
    "plt.rcParams['figure.figsize'] = (15, 9)\n",
    "sns.barplot(x = top_platforms_years.index, y = top_platforms_years['DS'], label = 'DS', color = 'b')\n",
    "sns.barplot(x = top_platforms_years.index, y = top_platforms_years['PS2'], label = 'PS2', color = 'c')\n",
    "sns.barplot(x = top_platforms_years.index, y = top_platforms_years['PS3'], label = 'PS3', color = 'g')\n",
    "sns.barplot(x = top_platforms_years.index, y = top_platforms_years['Wii'], label = 'Wii', color = 'y')\n",
    "sns.barplot(x = top_platforms_years.index, y = top_platforms_years['X360'], label = 'X360', color = 'r')\n",
    "plt.xlabel('Год выпуска')\n",
    "plt.ylabel('Продано игр, млн.шт.')\n",
    "plt.grid()\n",
    "plt.legend()\n",
    "plt.title('Распределение игр по платформам и году выпуска')\n",
    "plt.xticks(fontsize=8)\n",
    "plt.yticks(fontsize=8);"
   ]
  },
  {
   "cell_type": "markdown",
   "metadata": {},
   "source": [
    "Самые популярные платформы за всё время PS2, PS3, X360, Wii и DS постепнно набирали свою популярность и также постепенно её теряли, к 2016 г. утратили свою популярность."
   ]
  },
  {
   "cell_type": "code",
   "execution_count": 24,
   "metadata": {},
   "outputs": [
    {
     "data": {
      "text/html": [
       "<div>\n",
       "<style scoped>\n",
       "    .dataframe tbody tr th:only-of-type {\n",
       "        vertical-align: middle;\n",
       "    }\n",
       "\n",
       "    .dataframe tbody tr th {\n",
       "        vertical-align: top;\n",
       "    }\n",
       "\n",
       "    .dataframe thead th {\n",
       "        text-align: right;\n",
       "    }\n",
       "</style>\n",
       "<table border=\"1\" class=\"dataframe\">\n",
       "  <thead>\n",
       "    <tr style=\"text-align: right;\">\n",
       "      <th></th>\n",
       "      <th>life_years</th>\n",
       "    </tr>\n",
       "    <tr>\n",
       "      <th>platform</th>\n",
       "      <th></th>\n",
       "    </tr>\n",
       "  </thead>\n",
       "  <tbody>\n",
       "    <tr>\n",
       "      <th>2600</th>\n",
       "      <td>10</td>\n",
       "    </tr>\n",
       "    <tr>\n",
       "      <th>3DO</th>\n",
       "      <td>2</td>\n",
       "    </tr>\n",
       "    <tr>\n",
       "      <th>3DS</th>\n",
       "      <td>6</td>\n",
       "    </tr>\n",
       "    <tr>\n",
       "      <th>DC</th>\n",
       "      <td>7</td>\n",
       "    </tr>\n",
       "    <tr>\n",
       "      <th>DS</th>\n",
       "      <td>11</td>\n",
       "    </tr>\n",
       "    <tr>\n",
       "      <th>GB</th>\n",
       "      <td>13</td>\n",
       "    </tr>\n",
       "    <tr>\n",
       "      <th>GBA</th>\n",
       "      <td>8</td>\n",
       "    </tr>\n",
       "    <tr>\n",
       "      <th>GC</th>\n",
       "      <td>7</td>\n",
       "    </tr>\n",
       "    <tr>\n",
       "      <th>GEN</th>\n",
       "      <td>5</td>\n",
       "    </tr>\n",
       "    <tr>\n",
       "      <th>GG</th>\n",
       "      <td>1</td>\n",
       "    </tr>\n",
       "    <tr>\n",
       "      <th>N64</th>\n",
       "      <td>7</td>\n",
       "    </tr>\n",
       "    <tr>\n",
       "      <th>NES</th>\n",
       "      <td>12</td>\n",
       "    </tr>\n",
       "    <tr>\n",
       "      <th>NG</th>\n",
       "      <td>4</td>\n",
       "    </tr>\n",
       "    <tr>\n",
       "      <th>PC</th>\n",
       "      <td>26</td>\n",
       "    </tr>\n",
       "    <tr>\n",
       "      <th>PCFX</th>\n",
       "      <td>1</td>\n",
       "    </tr>\n",
       "    <tr>\n",
       "      <th>PS</th>\n",
       "      <td>10</td>\n",
       "    </tr>\n",
       "    <tr>\n",
       "      <th>PS2</th>\n",
       "      <td>12</td>\n",
       "    </tr>\n",
       "    <tr>\n",
       "      <th>PS3</th>\n",
       "      <td>11</td>\n",
       "    </tr>\n",
       "    <tr>\n",
       "      <th>PS4</th>\n",
       "      <td>4</td>\n",
       "    </tr>\n",
       "    <tr>\n",
       "      <th>PSP</th>\n",
       "      <td>12</td>\n",
       "    </tr>\n",
       "    <tr>\n",
       "      <th>PSV</th>\n",
       "      <td>6</td>\n",
       "    </tr>\n",
       "    <tr>\n",
       "      <th>SAT</th>\n",
       "      <td>6</td>\n",
       "    </tr>\n",
       "    <tr>\n",
       "      <th>SCD</th>\n",
       "      <td>2</td>\n",
       "    </tr>\n",
       "    <tr>\n",
       "      <th>SNES</th>\n",
       "      <td>10</td>\n",
       "    </tr>\n",
       "    <tr>\n",
       "      <th>TG16</th>\n",
       "      <td>1</td>\n",
       "    </tr>\n",
       "    <tr>\n",
       "      <th>WS</th>\n",
       "      <td>3</td>\n",
       "    </tr>\n",
       "    <tr>\n",
       "      <th>Wii</th>\n",
       "      <td>11</td>\n",
       "    </tr>\n",
       "    <tr>\n",
       "      <th>WiiU</th>\n",
       "      <td>5</td>\n",
       "    </tr>\n",
       "    <tr>\n",
       "      <th>X360</th>\n",
       "      <td>12</td>\n",
       "    </tr>\n",
       "    <tr>\n",
       "      <th>XB</th>\n",
       "      <td>9</td>\n",
       "    </tr>\n",
       "    <tr>\n",
       "      <th>XOne</th>\n",
       "      <td>4</td>\n",
       "    </tr>\n",
       "  </tbody>\n",
       "</table>\n",
       "</div>"
      ],
      "text/plain": [
       "          life_years\n",
       "platform            \n",
       "2600              10\n",
       "3DO                2\n",
       "3DS                6\n",
       "DC                 7\n",
       "DS                11\n",
       "GB                13\n",
       "GBA                8\n",
       "GC                 7\n",
       "GEN                5\n",
       "GG                 1\n",
       "N64                7\n",
       "NES               12\n",
       "NG                 4\n",
       "PC                26\n",
       "PCFX               1\n",
       "PS                10\n",
       "PS2               12\n",
       "PS3               11\n",
       "PS4                4\n",
       "PSP               12\n",
       "PSV                6\n",
       "SAT                6\n",
       "SCD                2\n",
       "SNES              10\n",
       "TG16               1\n",
       "WS                 3\n",
       "Wii               11\n",
       "WiiU               5\n",
       "X360              12\n",
       "XB                 9\n",
       "XOne               4"
      ]
     },
     "execution_count": 24,
     "metadata": {},
     "output_type": "execute_result"
    }
   ],
   "source": [
    "# Выведу список с числом лет, которое продавались игры на разные платформы\n",
    "life_years = np.count_nonzero(platforms, axis = 0)\n",
    "life_years = pd.DataFrame(data = life_years, index = platforms.columns)\n",
    "life_years.columns = ['life_years']\n",
    "life_years"
   ]
  },
  {
   "cell_type": "code",
   "execution_count": 25,
   "metadata": {},
   "outputs": [
    {
     "data": {
      "text/html": [
       "<div>\n",
       "<style scoped>\n",
       "    .dataframe tbody tr th:only-of-type {\n",
       "        vertical-align: middle;\n",
       "    }\n",
       "\n",
       "    .dataframe tbody tr th {\n",
       "        vertical-align: top;\n",
       "    }\n",
       "\n",
       "    .dataframe thead th {\n",
       "        text-align: right;\n",
       "    }\n",
       "</style>\n",
       "<table border=\"1\" class=\"dataframe\">\n",
       "  <thead>\n",
       "    <tr style=\"text-align: right;\">\n",
       "      <th></th>\n",
       "      <th>life_years</th>\n",
       "    </tr>\n",
       "  </thead>\n",
       "  <tbody>\n",
       "    <tr>\n",
       "      <th>count</th>\n",
       "      <td>31.000000</td>\n",
       "    </tr>\n",
       "    <tr>\n",
       "      <th>mean</th>\n",
       "      <td>7.677419</td>\n",
       "    </tr>\n",
       "    <tr>\n",
       "      <th>std</th>\n",
       "      <td>5.081910</td>\n",
       "    </tr>\n",
       "    <tr>\n",
       "      <th>min</th>\n",
       "      <td>1.000000</td>\n",
       "    </tr>\n",
       "    <tr>\n",
       "      <th>25%</th>\n",
       "      <td>4.000000</td>\n",
       "    </tr>\n",
       "    <tr>\n",
       "      <th>50%</th>\n",
       "      <td>7.000000</td>\n",
       "    </tr>\n",
       "    <tr>\n",
       "      <th>75%</th>\n",
       "      <td>11.000000</td>\n",
       "    </tr>\n",
       "    <tr>\n",
       "      <th>max</th>\n",
       "      <td>26.000000</td>\n",
       "    </tr>\n",
       "  </tbody>\n",
       "</table>\n",
       "</div>"
      ],
      "text/plain": [
       "       life_years\n",
       "count   31.000000\n",
       "mean     7.677419\n",
       "std      5.081910\n",
       "min      1.000000\n",
       "25%      4.000000\n",
       "50%      7.000000\n",
       "75%     11.000000\n",
       "max     26.000000"
      ]
     },
     "execution_count": 25,
     "metadata": {},
     "output_type": "execute_result"
    }
   ],
   "source": [
    "# вывожу список характерных значений\n",
    "life_years.describe()"
   ]
  },
  {
   "cell_type": "code",
   "execution_count": 26,
   "metadata": {},
   "outputs": [
    {
     "data": {
      "image/png": "[encoded data removed]",
      "text/plain": [
       "<Figure size 1080x648 with 1 Axes>"
      ]
     },
     "metadata": {
      "needs_background": "light"
     },
     "output_type": "display_data"
    }
   ],
   "source": [
    "# построю диаграмму размаха по годам жизни платформ\n",
    "plt.boxplot(life_years)\n",
    "plt.title('Годы жизни платформ')\n",
    "plt.ylabel('Лет')\n",
    "plt.yticks(np.arange(min(life_years['life_years']), max(life_years['life_years']) + 1, 1.0)) \n",
    "plt.grid();"
   ]
  },
  {
   "cell_type": "markdown",
   "metadata": {},
   "source": [
    "Нормальная продолжительность жизни платформы составляет от 4 до 11 лет, медианная и средняя продолжительности в районе 7-7.6 лет. Максимальная продолжительность 26 лет, но это ПК, который постоянно обновляется без изменения названия платформы."
   ]
  },
  {
   "cell_type": "markdown",
   "metadata": {},
   "source": [
    "##### Выбор актуального периода для прогноза 2017 года"
   ]
  },
  {
   "cell_type": "markdown",
   "metadata": {},
   "source": [
    "В качестве актуального я бы взял период с 2014 по 2016 гг., так как игровая индустрия является очень динамичной, если взять больше, то можно захватить уже отжившие своё платформы."
   ]
  },
  {
   "cell_type": "code",
   "execution_count": 27,
   "metadata": {},
   "outputs": [
    {
     "data": {
      "text/html": [
       "<div>\n",
       "<style scoped>\n",
       "    .dataframe tbody tr th:only-of-type {\n",
       "        vertical-align: middle;\n",
       "    }\n",
       "\n",
       "    .dataframe tbody tr th {\n",
       "        vertical-align: top;\n",
       "    }\n",
       "\n",
       "    .dataframe thead th {\n",
       "        text-align: right;\n",
       "    }\n",
       "</style>\n",
       "<table border=\"1\" class=\"dataframe\">\n",
       "  <thead>\n",
       "    <tr style=\"text-align: right;\">\n",
       "      <th></th>\n",
       "      <th>name</th>\n",
       "      <th>platform</th>\n",
       "      <th>year_of_release</th>\n",
       "      <th>genre</th>\n",
       "      <th>na_sales</th>\n",
       "      <th>eu_sales</th>\n",
       "      <th>jp_sales</th>\n",
       "      <th>other_sales</th>\n",
       "      <th>critic_score</th>\n",
       "      <th>user_score</th>\n",
       "      <th>rating</th>\n",
       "      <th>sum_sales</th>\n",
       "    </tr>\n",
       "  </thead>\n",
       "  <tbody>\n",
       "    <tr>\n",
       "      <th>31</th>\n",
       "      <td>call of duty: black ops 3</td>\n",
       "      <td>PS4</td>\n",
       "      <td>2015</td>\n",
       "      <td>Shooter</td>\n",
       "      <td>6.03</td>\n",
       "      <td>5.86</td>\n",
       "      <td>0.36</td>\n",
       "      <td>2.38</td>\n",
       "      <td>NaN</td>\n",
       "      <td>NaN</td>\n",
       "      <td>unknown</td>\n",
       "      <td>14.63</td>\n",
       "    </tr>\n",
       "    <tr>\n",
       "      <th>42</th>\n",
       "      <td>grand theft auto v</td>\n",
       "      <td>PS4</td>\n",
       "      <td>2014</td>\n",
       "      <td>Action</td>\n",
       "      <td>3.96</td>\n",
       "      <td>6.31</td>\n",
       "      <td>0.38</td>\n",
       "      <td>1.97</td>\n",
       "      <td>97.0</td>\n",
       "      <td>8.3</td>\n",
       "      <td>M</td>\n",
       "      <td>12.62</td>\n",
       "    </tr>\n",
       "    <tr>\n",
       "      <th>47</th>\n",
       "      <td>pokemon omega ruby/pokemon alpha sapphire</td>\n",
       "      <td>3DS</td>\n",
       "      <td>2014</td>\n",
       "      <td>Role-Playing</td>\n",
       "      <td>4.35</td>\n",
       "      <td>3.49</td>\n",
       "      <td>3.10</td>\n",
       "      <td>0.74</td>\n",
       "      <td>NaN</td>\n",
       "      <td>NaN</td>\n",
       "      <td>unknown</td>\n",
       "      <td>11.68</td>\n",
       "    </tr>\n",
       "    <tr>\n",
       "      <th>77</th>\n",
       "      <td>fifa 16</td>\n",
       "      <td>PS4</td>\n",
       "      <td>2015</td>\n",
       "      <td>Sports</td>\n",
       "      <td>1.12</td>\n",
       "      <td>6.12</td>\n",
       "      <td>0.06</td>\n",
       "      <td>1.28</td>\n",
       "      <td>82.0</td>\n",
       "      <td>4.3</td>\n",
       "      <td>E</td>\n",
       "      <td>8.58</td>\n",
       "    </tr>\n",
       "    <tr>\n",
       "      <th>87</th>\n",
       "      <td>star wars battlefront (2015)</td>\n",
       "      <td>PS4</td>\n",
       "      <td>2015</td>\n",
       "      <td>Shooter</td>\n",
       "      <td>2.99</td>\n",
       "      <td>3.49</td>\n",
       "      <td>0.22</td>\n",
       "      <td>1.28</td>\n",
       "      <td>NaN</td>\n",
       "      <td>NaN</td>\n",
       "      <td>unknown</td>\n",
       "      <td>7.98</td>\n",
       "    </tr>\n",
       "    <tr>\n",
       "      <th>92</th>\n",
       "      <td>call of duty: advanced warfare</td>\n",
       "      <td>PS4</td>\n",
       "      <td>2014</td>\n",
       "      <td>Shooter</td>\n",
       "      <td>2.81</td>\n",
       "      <td>3.48</td>\n",
       "      <td>0.14</td>\n",
       "      <td>1.23</td>\n",
       "      <td>83.0</td>\n",
       "      <td>5.7</td>\n",
       "      <td>M</td>\n",
       "      <td>7.66</td>\n",
       "    </tr>\n",
       "    <tr>\n",
       "      <th>94</th>\n",
       "      <td>fifa 17</td>\n",
       "      <td>PS4</td>\n",
       "      <td>2016</td>\n",
       "      <td>Sports</td>\n",
       "      <td>0.66</td>\n",
       "      <td>5.75</td>\n",
       "      <td>0.08</td>\n",
       "      <td>1.11</td>\n",
       "      <td>85.0</td>\n",
       "      <td>5.0</td>\n",
       "      <td>E</td>\n",
       "      <td>7.60</td>\n",
       "    </tr>\n",
       "    <tr>\n",
       "      <th>96</th>\n",
       "      <td>super smash bros. for wii u and 3ds</td>\n",
       "      <td>3DS</td>\n",
       "      <td>2014</td>\n",
       "      <td>Fighting</td>\n",
       "      <td>3.27</td>\n",
       "      <td>1.37</td>\n",
       "      <td>2.43</td>\n",
       "      <td>0.48</td>\n",
       "      <td>NaN</td>\n",
       "      <td>NaN</td>\n",
       "      <td>unknown</td>\n",
       "      <td>7.55</td>\n",
       "    </tr>\n",
       "    <tr>\n",
       "      <th>99</th>\n",
       "      <td>call of duty: black ops 3</td>\n",
       "      <td>XOne</td>\n",
       "      <td>2015</td>\n",
       "      <td>Shooter</td>\n",
       "      <td>4.59</td>\n",
       "      <td>2.11</td>\n",
       "      <td>0.01</td>\n",
       "      <td>0.68</td>\n",
       "      <td>NaN</td>\n",
       "      <td>NaN</td>\n",
       "      <td>unknown</td>\n",
       "      <td>7.39</td>\n",
       "    </tr>\n",
       "    <tr>\n",
       "      <th>105</th>\n",
       "      <td>fallout 4</td>\n",
       "      <td>PS4</td>\n",
       "      <td>2015</td>\n",
       "      <td>Role-Playing</td>\n",
       "      <td>2.53</td>\n",
       "      <td>3.27</td>\n",
       "      <td>0.24</td>\n",
       "      <td>1.13</td>\n",
       "      <td>87.0</td>\n",
       "      <td>6.5</td>\n",
       "      <td>M</td>\n",
       "      <td>7.17</td>\n",
       "    </tr>\n",
       "    <tr>\n",
       "      <th>108</th>\n",
       "      <td>pokemon sun/moon</td>\n",
       "      <td>3DS</td>\n",
       "      <td>2016</td>\n",
       "      <td>Role-Playing</td>\n",
       "      <td>2.98</td>\n",
       "      <td>1.45</td>\n",
       "      <td>2.26</td>\n",
       "      <td>0.45</td>\n",
       "      <td>NaN</td>\n",
       "      <td>NaN</td>\n",
       "      <td>unknown</td>\n",
       "      <td>7.14</td>\n",
       "    </tr>\n",
       "    <tr>\n",
       "      <th>110</th>\n",
       "      <td>mario kart 8</td>\n",
       "      <td>WiiU</td>\n",
       "      <td>2014</td>\n",
       "      <td>Racing</td>\n",
       "      <td>3.15</td>\n",
       "      <td>2.15</td>\n",
       "      <td>1.28</td>\n",
       "      <td>0.51</td>\n",
       "      <td>88.0</td>\n",
       "      <td>9.1</td>\n",
       "      <td>E</td>\n",
       "      <td>7.09</td>\n",
       "    </tr>\n",
       "    <tr>\n",
       "      <th>143</th>\n",
       "      <td>fifa 15</td>\n",
       "      <td>PS4</td>\n",
       "      <td>2014</td>\n",
       "      <td>Sports</td>\n",
       "      <td>0.80</td>\n",
       "      <td>4.33</td>\n",
       "      <td>0.05</td>\n",
       "      <td>0.90</td>\n",
       "      <td>82.0</td>\n",
       "      <td>5.7</td>\n",
       "      <td>E</td>\n",
       "      <td>6.08</td>\n",
       "    </tr>\n",
       "    <tr>\n",
       "      <th>154</th>\n",
       "      <td>destiny</td>\n",
       "      <td>PS4</td>\n",
       "      <td>2014</td>\n",
       "      <td>Shooter</td>\n",
       "      <td>2.49</td>\n",
       "      <td>2.07</td>\n",
       "      <td>0.16</td>\n",
       "      <td>0.92</td>\n",
       "      <td>76.0</td>\n",
       "      <td>6.1</td>\n",
       "      <td>T</td>\n",
       "      <td>5.64</td>\n",
       "    </tr>\n",
       "    <tr>\n",
       "      <th>165</th>\n",
       "      <td>grand theft auto v</td>\n",
       "      <td>XOne</td>\n",
       "      <td>2014</td>\n",
       "      <td>Action</td>\n",
       "      <td>2.81</td>\n",
       "      <td>2.19</td>\n",
       "      <td>0.00</td>\n",
       "      <td>0.47</td>\n",
       "      <td>97.0</td>\n",
       "      <td>7.9</td>\n",
       "      <td>M</td>\n",
       "      <td>5.47</td>\n",
       "    </tr>\n",
       "    <tr>\n",
       "      <th>171</th>\n",
       "      <td>uncharted 4: a thief's end</td>\n",
       "      <td>PS4</td>\n",
       "      <td>2016</td>\n",
       "      <td>Shooter</td>\n",
       "      <td>1.85</td>\n",
       "      <td>2.50</td>\n",
       "      <td>0.19</td>\n",
       "      <td>0.85</td>\n",
       "      <td>93.0</td>\n",
       "      <td>7.9</td>\n",
       "      <td>T</td>\n",
       "      <td>5.39</td>\n",
       "    </tr>\n",
       "    <tr>\n",
       "      <th>179</th>\n",
       "      <td>call of duty: advanced warfare</td>\n",
       "      <td>XOne</td>\n",
       "      <td>2014</td>\n",
       "      <td>Shooter</td>\n",
       "      <td>3.22</td>\n",
       "      <td>1.55</td>\n",
       "      <td>0.01</td>\n",
       "      <td>0.48</td>\n",
       "      <td>81.0</td>\n",
       "      <td>5.4</td>\n",
       "      <td>M</td>\n",
       "      <td>5.26</td>\n",
       "    </tr>\n",
       "    <tr>\n",
       "      <th>180</th>\n",
       "      <td>minecraft</td>\n",
       "      <td>PS3</td>\n",
       "      <td>2014</td>\n",
       "      <td>Misc</td>\n",
       "      <td>2.03</td>\n",
       "      <td>2.37</td>\n",
       "      <td>0.00</td>\n",
       "      <td>0.87</td>\n",
       "      <td>NaN</td>\n",
       "      <td>NaN</td>\n",
       "      <td>unknown</td>\n",
       "      <td>5.27</td>\n",
       "    </tr>\n",
       "    <tr>\n",
       "      <th>216</th>\n",
       "      <td>super smash bros. for wii u and 3ds</td>\n",
       "      <td>WiiU</td>\n",
       "      <td>2014</td>\n",
       "      <td>Fighting</td>\n",
       "      <td>2.60</td>\n",
       "      <td>1.08</td>\n",
       "      <td>0.81</td>\n",
       "      <td>0.38</td>\n",
       "      <td>NaN</td>\n",
       "      <td>NaN</td>\n",
       "      <td>unknown</td>\n",
       "      <td>4.87</td>\n",
       "    </tr>\n",
       "    <tr>\n",
       "      <th>225</th>\n",
       "      <td>the last of us</td>\n",
       "      <td>PS4</td>\n",
       "      <td>2014</td>\n",
       "      <td>Action</td>\n",
       "      <td>1.88</td>\n",
       "      <td>2.00</td>\n",
       "      <td>0.07</td>\n",
       "      <td>0.77</td>\n",
       "      <td>NaN</td>\n",
       "      <td>NaN</td>\n",
       "      <td>unknown</td>\n",
       "      <td>4.72</td>\n",
       "    </tr>\n",
       "  </tbody>\n",
       "</table>\n",
       "</div>"
      ],
      "text/plain": [
       "                                          name platform  year_of_release  \\\n",
       "31                   call of duty: black ops 3      PS4             2015   \n",
       "42                          grand theft auto v      PS4             2014   \n",
       "47   pokemon omega ruby/pokemon alpha sapphire      3DS             2014   \n",
       "77                                     fifa 16      PS4             2015   \n",
       "87                star wars battlefront (2015)      PS4             2015   \n",
       "92              call of duty: advanced warfare      PS4             2014   \n",
       "94                                     fifa 17      PS4             2016   \n",
       "96         super smash bros. for wii u and 3ds      3DS             2014   \n",
       "99                   call of duty: black ops 3     XOne             2015   \n",
       "105                                  fallout 4      PS4             2015   \n",
       "108                           pokemon sun/moon      3DS             2016   \n",
       "110                               mario kart 8     WiiU             2014   \n",
       "143                                    fifa 15      PS4             2014   \n",
       "154                                    destiny      PS4             2014   \n",
       "165                         grand theft auto v     XOne             2014   \n",
       "171                 uncharted 4: a thief's end      PS4             2016   \n",
       "179             call of duty: advanced warfare     XOne             2014   \n",
       "180                                  minecraft      PS3             2014   \n",
       "216        super smash bros. for wii u and 3ds     WiiU             2014   \n",
       "225                             the last of us      PS4             2014   \n",
       "\n",
       "            genre  na_sales  eu_sales  jp_sales  other_sales  critic_score  \\\n",
       "31        Shooter      6.03      5.86      0.36         2.38           NaN   \n",
       "42         Action      3.96      6.31      0.38         1.97          97.0   \n",
       "47   Role-Playing      4.35      3.49      3.10         0.74           NaN   \n",
       "77         Sports      1.12      6.12      0.06         1.28          82.0   \n",
       "87        Shooter      2.99      3.49      0.22         1.28           NaN   \n",
       "92        Shooter      2.81      3.48      0.14         1.23          83.0   \n",
       "94         Sports      0.66      5.75      0.08         1.11          85.0   \n",
       "96       Fighting      3.27      1.37      2.43         0.48           NaN   \n",
       "99        Shooter      4.59      2.11      0.01         0.68           NaN   \n",
       "105  Role-Playing      2.53      3.27      0.24         1.13          87.0   \n",
       "108  Role-Playing      2.98      1.45      2.26         0.45           NaN   \n",
       "110        Racing      3.15      2.15      1.28         0.51          88.0   \n",
       "143        Sports      0.80      4.33      0.05         0.90          82.0   \n",
       "154       Shooter      2.49      2.07      0.16         0.92          76.0   \n",
       "165        Action      2.81      2.19      0.00         0.47          97.0   \n",
       "171       Shooter      1.85      2.50      0.19         0.85          93.0   \n",
       "179       Shooter      3.22      1.55      0.01         0.48          81.0   \n",
       "180          Misc      2.03      2.37      0.00         0.87           NaN   \n",
       "216      Fighting      2.60      1.08      0.81         0.38           NaN   \n",
       "225        Action      1.88      2.00      0.07         0.77           NaN   \n",
       "\n",
       "     user_score   rating  sum_sales  \n",
       "31          NaN  unknown      14.63  \n",
       "42          8.3        M      12.62  \n",
       "47          NaN  unknown      11.68  \n",
       "77          4.3        E       8.58  \n",
       "87          NaN  unknown       7.98  \n",
       "92          5.7        M       7.66  \n",
       "94          5.0        E       7.60  \n",
       "96          NaN  unknown       7.55  \n",
       "99          NaN  unknown       7.39  \n",
       "105         6.5        M       7.17  \n",
       "108         NaN  unknown       7.14  \n",
       "110         9.1        E       7.09  \n",
       "143         5.7        E       6.08  \n",
       "154         6.1        T       5.64  \n",
       "165         7.9        M       5.47  \n",
       "171         7.9        T       5.39  \n",
       "179         5.4        M       5.26  \n",
       "180         NaN  unknown       5.27  \n",
       "216         NaN  unknown       4.87  \n",
       "225         NaN  unknown       4.72  "
      ]
     },
     "execution_count": 27,
     "metadata": {},
     "output_type": "execute_result"
    }
   ],
   "source": [
    "# сделаю срез с основного датафрейма\n",
    "actual_data = data.query('year_of_release > 2013 and platform != \"PSP\"')\n",
    "actual_data.head(20)"
   ]
  },
  {
   "cell_type": "markdown",
   "metadata": {},
   "source": [
    "##### Анализ актуального периода, определение потенциально прибыльных платформ."
   ]
  },
  {
   "cell_type": "code",
   "execution_count": 28,
   "metadata": {},
   "outputs": [
    {
     "data": {
      "text/html": [
       "<div>\n",
       "<style scoped>\n",
       "    .dataframe tbody tr th:only-of-type {\n",
       "        vertical-align: middle;\n",
       "    }\n",
       "\n",
       "    .dataframe tbody tr th {\n",
       "        vertical-align: top;\n",
       "    }\n",
       "\n",
       "    .dataframe thead th {\n",
       "        text-align: right;\n",
       "    }\n",
       "</style>\n",
       "<table border=\"1\" class=\"dataframe\">\n",
       "  <thead>\n",
       "    <tr style=\"text-align: right;\">\n",
       "      <th>platform</th>\n",
       "      <th>3DS</th>\n",
       "      <th>PC</th>\n",
       "      <th>PS3</th>\n",
       "      <th>PS4</th>\n",
       "      <th>PSV</th>\n",
       "      <th>Wii</th>\n",
       "      <th>WiiU</th>\n",
       "      <th>X360</th>\n",
       "      <th>XOne</th>\n",
       "    </tr>\n",
       "    <tr>\n",
       "      <th>year_of_release</th>\n",
       "      <th></th>\n",
       "      <th></th>\n",
       "      <th></th>\n",
       "      <th></th>\n",
       "      <th></th>\n",
       "      <th></th>\n",
       "      <th></th>\n",
       "      <th></th>\n",
       "      <th></th>\n",
       "    </tr>\n",
       "  </thead>\n",
       "  <tbody>\n",
       "    <tr>\n",
       "      <th>2014</th>\n",
       "      <td>43.76</td>\n",
       "      <td>13.28</td>\n",
       "      <td>47.76</td>\n",
       "      <td>100.00</td>\n",
       "      <td>11.90</td>\n",
       "      <td>3.75</td>\n",
       "      <td>22.03</td>\n",
       "      <td>34.74</td>\n",
       "      <td>54.07</td>\n",
       "    </tr>\n",
       "    <tr>\n",
       "      <th>2015</th>\n",
       "      <td>27.78</td>\n",
       "      <td>8.52</td>\n",
       "      <td>16.82</td>\n",
       "      <td>118.90</td>\n",
       "      <td>6.25</td>\n",
       "      <td>1.14</td>\n",
       "      <td>16.35</td>\n",
       "      <td>11.96</td>\n",
       "      <td>60.14</td>\n",
       "    </tr>\n",
       "    <tr>\n",
       "      <th>2016</th>\n",
       "      <td>15.14</td>\n",
       "      <td>5.25</td>\n",
       "      <td>3.60</td>\n",
       "      <td>69.25</td>\n",
       "      <td>4.25</td>\n",
       "      <td>0.18</td>\n",
       "      <td>4.60</td>\n",
       "      <td>1.52</td>\n",
       "      <td>26.15</td>\n",
       "    </tr>\n",
       "  </tbody>\n",
       "</table>\n",
       "</div>"
      ],
      "text/plain": [
       "platform           3DS     PC    PS3     PS4    PSV   Wii   WiiU   X360   XOne\n",
       "year_of_release                                                               \n",
       "2014             43.76  13.28  47.76  100.00  11.90  3.75  22.03  34.74  54.07\n",
       "2015             27.78   8.52  16.82  118.90   6.25  1.14  16.35  11.96  60.14\n",
       "2016             15.14   5.25   3.60   69.25   4.25  0.18   4.60   1.52  26.15"
      ]
     },
     "execution_count": 28,
     "metadata": {},
     "output_type": "execute_result"
    }
   ],
   "source": [
    "actual_platforms = actual_data.pivot_table(index = 'year_of_release', columns = 'platform', values = 'sum_sales', aggfunc = 'sum')\n",
    "actual_platforms.fillna(0, inplace = True)\n",
    "actual_platforms"
   ]
  },
  {
   "cell_type": "code",
   "execution_count": 29,
   "metadata": {
    "scrolled": false
   },
   "outputs": [
    {
     "data": {
      "image/png": "[encoded data removed]",
      "text/plain": [
       "<Figure size 1080x648 with 1 Axes>"
      ]
     },
     "metadata": {
      "needs_background": "light"
     },
     "output_type": "display_data"
    }
   ],
   "source": [
    "actual_platforms.plot(kind = 'bar')\n",
    "plt.xlabel('Год выпуска')\n",
    "plt.ylabel('Продано игр, млн.шт.')\n",
    "plt.grid()\n",
    "plt.legend()\n",
    "plt.title('Распределение игр по платформам и году выпуска за актуальный период');"
   ]
  },
  {
   "cell_type": "markdown",
   "metadata": {},
   "source": [
    "По графику видно, что самыми прибыльными платформами являются Playstation 4, Xbox One, в 2015 году у этих платформ был пик, так как на них вышла очень популярная GTA 5, продажи игр по остальным платформам стабильно падают."
   ]
  },
  {
   "cell_type": "markdown",
   "metadata": {},
   "source": [
    "##### Построение диаграммы размаха по глобальным продажам игр в разбивке по платформам."
   ]
  },
  {
   "cell_type": "code",
   "execution_count": 30,
   "metadata": {},
   "outputs": [
    {
     "data": {
      "image/png": "[encoded data removed]",
      "text/plain": [
       "<Figure size 1080x648 with 1 Axes>"
      ]
     },
     "metadata": {
      "needs_background": "light"
     },
     "output_type": "display_data"
    }
   ],
   "source": [
    "sns.boxplot(x = actual_data['sum_sales'], y = actual_data['platform'])\n",
    "plt.title('Диаграмма размаха по глобальным продажам игр в разбивке по платформам')\n",
    "plt.xlabel('Млн. копий')\n",
    "plt.xlim(0, 5) \n",
    "plt.grid();"
   ]
  },
  {
   "cell_type": "code",
   "execution_count": 31,
   "metadata": {},
   "outputs": [
    {
     "data": {
      "image/png": "[encoded data removed]",
      "text/plain": [
       "<Figure size 1080x648 with 1 Axes>"
      ]
     },
     "metadata": {
      "needs_background": "light"
     },
     "output_type": "display_data"
    }
   ],
   "source": [
    "sns.boxplot(x = actual_data['sum_sales'], y = actual_data['platform'])\n",
    "plt.title('Диаграмма размаха по глобальным продажам игр в разбивке по платформам')\n",
    "plt.xlabel('Млн. копий')\n",
    "plt.xlim(0, 1)\n",
    "plt.grid();"
   ]
  },
  {
   "cell_type": "markdown",
   "metadata": {},
   "source": [
    "По диаграмме размаха видно много выбросов почти у всех платформ, это может свидетельствовать о том, что выходит большое количество популярных игр. Также видно, что у всех платформ кроме XOne медиана меньше 0,2 млн. копий, т.е. у большинства платформ половина игр продаётся тиражами меньше двухсот тысяч копий, у PC вообще 75% игр продаётся меньше 200 тыс. копий."
   ]
  },
  {
   "cell_type": "markdown",
   "metadata": {},
   "source": [
    "##### Влияние на продажи внутри одной популярной платформы отзывов пользователей и критиков."
   ]
  },
  {
   "cell_type": "markdown",
   "metadata": {},
   "source": [
    "В качестве популярной платформы возьму PS4, так как она является лидером по продажам в последние несколько актуальных лет."
   ]
  },
  {
   "cell_type": "code",
   "execution_count": 32,
   "metadata": {},
   "outputs": [
    {
     "data": {
      "text/html": [
       "<div>\n",
       "<style scoped>\n",
       "    .dataframe tbody tr th:only-of-type {\n",
       "        vertical-align: middle;\n",
       "    }\n",
       "\n",
       "    .dataframe tbody tr th {\n",
       "        vertical-align: top;\n",
       "    }\n",
       "\n",
       "    .dataframe thead th {\n",
       "        text-align: right;\n",
       "    }\n",
       "</style>\n",
       "<table border=\"1\" class=\"dataframe\">\n",
       "  <thead>\n",
       "    <tr style=\"text-align: right;\">\n",
       "      <th></th>\n",
       "      <th>name</th>\n",
       "      <th>platform</th>\n",
       "      <th>year_of_release</th>\n",
       "      <th>genre</th>\n",
       "      <th>na_sales</th>\n",
       "      <th>eu_sales</th>\n",
       "      <th>jp_sales</th>\n",
       "      <th>other_sales</th>\n",
       "      <th>critic_score</th>\n",
       "      <th>user_score</th>\n",
       "      <th>rating</th>\n",
       "      <th>sum_sales</th>\n",
       "    </tr>\n",
       "  </thead>\n",
       "  <tbody>\n",
       "    <tr>\n",
       "      <th>31</th>\n",
       "      <td>call of duty: black ops 3</td>\n",
       "      <td>PS4</td>\n",
       "      <td>2015</td>\n",
       "      <td>Shooter</td>\n",
       "      <td>6.03</td>\n",
       "      <td>5.86</td>\n",
       "      <td>0.36</td>\n",
       "      <td>2.38</td>\n",
       "      <td>NaN</td>\n",
       "      <td>NaN</td>\n",
       "      <td>unknown</td>\n",
       "      <td>14.63</td>\n",
       "    </tr>\n",
       "    <tr>\n",
       "      <th>42</th>\n",
       "      <td>grand theft auto v</td>\n",
       "      <td>PS4</td>\n",
       "      <td>2014</td>\n",
       "      <td>Action</td>\n",
       "      <td>3.96</td>\n",
       "      <td>6.31</td>\n",
       "      <td>0.38</td>\n",
       "      <td>1.97</td>\n",
       "      <td>97.0</td>\n",
       "      <td>8.3</td>\n",
       "      <td>M</td>\n",
       "      <td>12.62</td>\n",
       "    </tr>\n",
       "    <tr>\n",
       "      <th>77</th>\n",
       "      <td>fifa 16</td>\n",
       "      <td>PS4</td>\n",
       "      <td>2015</td>\n",
       "      <td>Sports</td>\n",
       "      <td>1.12</td>\n",
       "      <td>6.12</td>\n",
       "      <td>0.06</td>\n",
       "      <td>1.28</td>\n",
       "      <td>82.0</td>\n",
       "      <td>4.3</td>\n",
       "      <td>E</td>\n",
       "      <td>8.58</td>\n",
       "    </tr>\n",
       "    <tr>\n",
       "      <th>87</th>\n",
       "      <td>star wars battlefront (2015)</td>\n",
       "      <td>PS4</td>\n",
       "      <td>2015</td>\n",
       "      <td>Shooter</td>\n",
       "      <td>2.99</td>\n",
       "      <td>3.49</td>\n",
       "      <td>0.22</td>\n",
       "      <td>1.28</td>\n",
       "      <td>NaN</td>\n",
       "      <td>NaN</td>\n",
       "      <td>unknown</td>\n",
       "      <td>7.98</td>\n",
       "    </tr>\n",
       "    <tr>\n",
       "      <th>92</th>\n",
       "      <td>call of duty: advanced warfare</td>\n",
       "      <td>PS4</td>\n",
       "      <td>2014</td>\n",
       "      <td>Shooter</td>\n",
       "      <td>2.81</td>\n",
       "      <td>3.48</td>\n",
       "      <td>0.14</td>\n",
       "      <td>1.23</td>\n",
       "      <td>83.0</td>\n",
       "      <td>5.7</td>\n",
       "      <td>M</td>\n",
       "      <td>7.66</td>\n",
       "    </tr>\n",
       "    <tr>\n",
       "      <th>...</th>\n",
       "      <td>...</td>\n",
       "      <td>...</td>\n",
       "      <td>...</td>\n",
       "      <td>...</td>\n",
       "      <td>...</td>\n",
       "      <td>...</td>\n",
       "      <td>...</td>\n",
       "      <td>...</td>\n",
       "      <td>...</td>\n",
       "      <td>...</td>\n",
       "      <td>...</td>\n",
       "      <td>...</td>\n",
       "    </tr>\n",
       "    <tr>\n",
       "      <th>16500</th>\n",
       "      <td>root letter</td>\n",
       "      <td>PS4</td>\n",
       "      <td>2016</td>\n",
       "      <td>Adventure</td>\n",
       "      <td>0.00</td>\n",
       "      <td>0.00</td>\n",
       "      <td>0.01</td>\n",
       "      <td>0.00</td>\n",
       "      <td>69.0</td>\n",
       "      <td>7.5</td>\n",
       "      <td>unknown</td>\n",
       "      <td>0.01</td>\n",
       "    </tr>\n",
       "    <tr>\n",
       "      <th>16503</th>\n",
       "      <td>shin hayarigami 2</td>\n",
       "      <td>PS4</td>\n",
       "      <td>2016</td>\n",
       "      <td>Adventure</td>\n",
       "      <td>0.00</td>\n",
       "      <td>0.00</td>\n",
       "      <td>0.01</td>\n",
       "      <td>0.00</td>\n",
       "      <td>NaN</td>\n",
       "      <td>NaN</td>\n",
       "      <td>unknown</td>\n",
       "      <td>0.01</td>\n",
       "    </tr>\n",
       "    <tr>\n",
       "      <th>16526</th>\n",
       "      <td>dungeons 2</td>\n",
       "      <td>PS4</td>\n",
       "      <td>2016</td>\n",
       "      <td>Role-Playing</td>\n",
       "      <td>0.01</td>\n",
       "      <td>0.00</td>\n",
       "      <td>0.00</td>\n",
       "      <td>0.00</td>\n",
       "      <td>61.0</td>\n",
       "      <td>7.9</td>\n",
       "      <td>T</td>\n",
       "      <td>0.01</td>\n",
       "    </tr>\n",
       "    <tr>\n",
       "      <th>16530</th>\n",
       "      <td>carmageddon: max damage</td>\n",
       "      <td>PS4</td>\n",
       "      <td>2016</td>\n",
       "      <td>Action</td>\n",
       "      <td>0.01</td>\n",
       "      <td>0.00</td>\n",
       "      <td>0.00</td>\n",
       "      <td>0.00</td>\n",
       "      <td>51.0</td>\n",
       "      <td>5.5</td>\n",
       "      <td>M</td>\n",
       "      <td>0.01</td>\n",
       "    </tr>\n",
       "    <tr>\n",
       "      <th>16585</th>\n",
       "      <td>farming 2017 - the simulation</td>\n",
       "      <td>PS4</td>\n",
       "      <td>2016</td>\n",
       "      <td>Simulation</td>\n",
       "      <td>0.00</td>\n",
       "      <td>0.01</td>\n",
       "      <td>0.00</td>\n",
       "      <td>0.00</td>\n",
       "      <td>NaN</td>\n",
       "      <td>NaN</td>\n",
       "      <td>unknown</td>\n",
       "      <td>0.01</td>\n",
       "    </tr>\n",
       "  </tbody>\n",
       "</table>\n",
       "<p>376 rows × 12 columns</p>\n",
       "</div>"
      ],
      "text/plain": [
       "                                 name platform  year_of_release         genre  \\\n",
       "31          call of duty: black ops 3      PS4             2015       Shooter   \n",
       "42                 grand theft auto v      PS4             2014        Action   \n",
       "77                            fifa 16      PS4             2015        Sports   \n",
       "87       star wars battlefront (2015)      PS4             2015       Shooter   \n",
       "92     call of duty: advanced warfare      PS4             2014       Shooter   \n",
       "...                               ...      ...              ...           ...   \n",
       "16500                     root letter      PS4             2016     Adventure   \n",
       "16503               shin hayarigami 2      PS4             2016     Adventure   \n",
       "16526                      dungeons 2      PS4             2016  Role-Playing   \n",
       "16530         carmageddon: max damage      PS4             2016        Action   \n",
       "16585   farming 2017 - the simulation      PS4             2016    Simulation   \n",
       "\n",
       "       na_sales  eu_sales  jp_sales  other_sales  critic_score  user_score  \\\n",
       "31         6.03      5.86      0.36         2.38           NaN         NaN   \n",
       "42         3.96      6.31      0.38         1.97          97.0         8.3   \n",
       "77         1.12      6.12      0.06         1.28          82.0         4.3   \n",
       "87         2.99      3.49      0.22         1.28           NaN         NaN   \n",
       "92         2.81      3.48      0.14         1.23          83.0         5.7   \n",
       "...         ...       ...       ...          ...           ...         ...   \n",
       "16500      0.00      0.00      0.01         0.00          69.0         7.5   \n",
       "16503      0.00      0.00      0.01         0.00           NaN         NaN   \n",
       "16526      0.01      0.00      0.00         0.00          61.0         7.9   \n",
       "16530      0.01      0.00      0.00         0.00          51.0         5.5   \n",
       "16585      0.00      0.01      0.00         0.00           NaN         NaN   \n",
       "\n",
       "        rating  sum_sales  \n",
       "31     unknown      14.63  \n",
       "42           M      12.62  \n",
       "77           E       8.58  \n",
       "87     unknown       7.98  \n",
       "92           M       7.66  \n",
       "...        ...        ...  \n",
       "16500  unknown       0.01  \n",
       "16503  unknown       0.01  \n",
       "16526        T       0.01  \n",
       "16530        M       0.01  \n",
       "16585  unknown       0.01  \n",
       "\n",
       "[376 rows x 12 columns]"
      ]
     },
     "execution_count": 32,
     "metadata": {},
     "output_type": "execute_result"
    }
   ],
   "source": [
    "ps4 = actual_data.query('year_of_release > 2013 and platform == \"PS4\"')\n",
    "ps4"
   ]
  },
  {
   "cell_type": "code",
   "execution_count": 33,
   "metadata": {},
   "outputs": [
    {
     "name": "stdout",
     "output_type": "stream",
     "text": [
      "Коэффициент корреляции между отзывами критиков и продажами равен: 0.403\n"
     ]
    },
    {
     "data": {
      "image/png": "[encoded data removed]",
      "text/plain": [
       "<Figure size 1080x648 with 1 Axes>"
      ]
     },
     "metadata": {
      "needs_background": "light"
     },
     "output_type": "display_data"
    }
   ],
   "source": [
    "print('Коэффициент корреляции между отзывами критиков и продажами равен:',round(ps4['critic_score'].corr(ps4['sum_sales']), 3))\n",
    "\n",
    "ps4.plot(x = 'critic_score', y = 'sum_sales', kind = 'scatter')\n",
    "plt.title('Диаграмма рассеяния оценки критиков и продаж')\n",
    "plt.xlabel('Оценка критиков')\n",
    "plt.ylabel('Продажи, млн. копий') \n",
    "plt.grid();"
   ]
  },
  {
   "cell_type": "code",
   "execution_count": 34,
   "metadata": {},
   "outputs": [
    {
     "name": "stdout",
     "output_type": "stream",
     "text": [
      "Коэффициент корреляции между отзывами пользователей и продажами равен: -0.04\n"
     ]
    },
    {
     "data": {
      "image/png": "[encoded data removed]",
      "text/plain": [
       "<Figure size 1080x648 with 1 Axes>"
      ]
     },
     "metadata": {
      "needs_background": "light"
     },
     "output_type": "display_data"
    }
   ],
   "source": [
    "print('Коэффициент корреляции между отзывами пользователей и продажами равен:',round(ps4['user_score'].corr(ps4['sum_sales']), 3))\n",
    "\n",
    "ps4.plot(x = 'user_score', y = 'sum_sales', kind = 'scatter')\n",
    "plt.title('Диаграмма рассеяния оценки пользователей и продаж')\n",
    "plt.xlabel('Оценка пользователей')\n",
    "plt.ylabel('Продажи, млн. копий') \n",
    "plt.grid();"
   ]
  },
  {
   "cell_type": "markdown",
   "metadata": {},
   "source": [
    "Корреляция между продажами и оценкой критиков есть, но она слабая, между оценкой пользователей и продажами корреляция очень мала, а это значит, что оценка пользователей не влияет на продажи.\n",
    "\n",
    "Далее проверю это у других популярных платформ."
   ]
  },
  {
   "cell_type": "code",
   "execution_count": 35,
   "metadata": {
    "scrolled": false
   },
   "outputs": [
    {
     "name": "stdout",
     "output_type": "stream",
     "text": [
      "X360:\n",
      "Коэффициент корреляции между отзывами пользователей и продажами равен: -0.138\n",
      "Коэффициент корреляции между отзывами критиков и продажами равен: 0.526\n",
      "XOne:\n",
      "Коэффициент корреляции между отзывами пользователей и продажами равен: -0.07\n",
      "Коэффициент корреляции между отзывами критиков и продажами равен: 0.429\n",
      "PS3:\n",
      "Коэффициент корреляции между отзывами пользователей и продажами равен: -0.167\n",
      "Коэффициент корреляции между отзывами критиков и продажами равен: 0.447\n",
      "3DS:\n",
      "Коэффициент корреляции между отзывами пользователей и продажами равен: 0.215\n",
      "Коэффициент корреляции между отзывами критиков и продажами равен: 0.314\n"
     ]
    },
    {
     "data": {
      "image/png": "[encoded data removed]",
      "text/plain": [
       "<Figure size 1080x648 with 1 Axes>"
      ]
     },
     "metadata": {
      "needs_background": "light"
     },
     "output_type": "display_data"
    },
    {
     "data": {
      "image/png": "[encoded data removed]",
      "text/plain": [
       "<Figure size 1080x648 with 1 Axes>"
      ]
     },
     "metadata": {
      "needs_background": "light"
     },
     "output_type": "display_data"
    },
    {
     "data": {
      "image/png": "[encoded data removed]",
      "text/plain": [
       "<Figure size 1080x648 with 1 Axes>"
      ]
     },
     "metadata": {
      "needs_background": "light"
     },
     "output_type": "display_data"
    },
    {
     "data": {
      "image/png": "[encoded data removed]",
      "text/plain": [
       "<Figure size 1080x648 with 1 Axes>"
      ]
     },
     "metadata": {
      "needs_background": "light"
     },
     "output_type": "display_data"
    },
    {
     "data": {
      "image/png": "[encoded data removed]",
      "text/plain": [
       "<Figure size 1080x648 with 1 Axes>"
      ]
     },
     "metadata": {
      "needs_background": "light"
     },
     "output_type": "display_data"
    },
    {
     "data": {
      "image/png": "[encoded data removed]",
      "text/plain": [
       "<Figure size 1080x648 with 1 Axes>"
      ]
     },
     "metadata": {
      "needs_background": "light"
     },
     "output_type": "display_data"
    },
    {
     "data": {
      "image/png": "[encoded data removed]",
      "text/plain": [
       "<Figure size 1080x648 with 1 Axes>"
      ]
     },
     "metadata": {
      "needs_background": "light"
     },
     "output_type": "display_data"
    },
    {
     "data": {
      "image/png": "[encoded data removed]",
      "text/plain": [
       "<Figure size 1080x648 with 1 Axes>"
      ]
     },
     "metadata": {
      "needs_background": "light"
     },
     "output_type": "display_data"
    }
   ],
   "source": [
    "for x in ['X360', 'XOne', 'PS3', '3DS']:\n",
    "    print(f'{x}:')\n",
    "    top = actual_data.query('platform == @x and (critic_score != 105) and (user_score != 15)')\n",
    "    print('Коэффициент корреляции между отзывами пользователей и продажами равен:',round(top['user_score'].corr(top['sum_sales']), 3))\n",
    "    top.plot(x = 'user_score', y = 'sum_sales', kind = 'scatter')\n",
    "    plt.title(x)\n",
    "    plt.xlabel('Оценка пользователей')\n",
    "    plt.ylabel('Продажи, млн. копий') \n",
    "    plt.grid()\n",
    "    print('Коэффициент корреляции между отзывами критиков и продажами равен:',round(top['critic_score'].corr(top['sum_sales']), 3))\n",
    "    top.plot(x = 'critic_score', y = 'sum_sales', kind = 'scatter')\n",
    "    plt.title(x)\n",
    "    plt.title(x)\n",
    "    plt.xlabel('Оценка критиков')\n",
    "    plt.ylabel('Продажи, млн. копий') \n",
    "    plt.grid()"
   ]
  },
  {
   "cell_type": "markdown",
   "metadata": {},
   "source": [
    "С остальными популярными платформами ситуация похожая, оценки критиков на продажи влияют, но слабо, а пользовательские оценки не влияют совсем, только у Nintendo 3DS пользовательские оценки влияют немного больше на продажи игр."
   ]
  },
  {
   "cell_type": "markdown",
   "metadata": {},
   "source": [
    "##### Распределение игр по жанрам."
   ]
  },
  {
   "cell_type": "code",
   "execution_count": 36,
   "metadata": {},
   "outputs": [],
   "source": [
    "# сделаю сводные таблицы по жанрам и отсортирую по убыванию\n",
    "genres_count = actual_data.pivot_table(index = 'genre', values = 'sum_sales', aggfunc = 'count').sort_values(by = 'sum_sales', ascending = False)\n",
    "genres_sum = actual_data.pivot_table(index = 'genre', values = 'sum_sales', aggfunc = 'sum').sort_values(by = 'sum_sales', ascending = False)\n",
    "genres_mean = actual_data.pivot_table(index = 'genre', values = 'sum_sales', aggfunc = 'mean').sort_values(by = 'sum_sales', ascending = False)\n",
    "genres_median = actual_data.pivot_table(index = 'genre', values = 'sum_sales', aggfunc = 'median').sort_values(by = 'sum_sales', ascending = False)"
   ]
  },
  {
   "cell_type": "code",
   "execution_count": 37,
   "metadata": {
    "scrolled": false
   },
   "outputs": [
    {
     "data": {
      "image/png": "[encoded data removed]",
      "text/plain": [
       "<Figure size 1080x648 with 1 Axes>"
      ]
     },
     "metadata": {
      "needs_background": "light"
     },
     "output_type": "display_data"
    },
    {
     "data": {
      "image/png": "[encoded data removed]",
      "text/plain": [
       "<Figure size 1080x648 with 1 Axes>"
      ]
     },
     "metadata": {
      "needs_background": "light"
     },
     "output_type": "display_data"
    },
    {
     "data": {
      "image/png": "[encoded data removed]",
      "text/plain": [
       "<Figure size 1080x648 with 1 Axes>"
      ]
     },
     "metadata": {
      "needs_background": "light"
     },
     "output_type": "display_data"
    },
    {
     "data": {
      "image/png": "[encoded data removed]",
      "text/plain": [
       "<Figure size 1080x648 with 1 Axes>"
      ]
     },
     "metadata": {
      "needs_background": "light"
     },
     "output_type": "display_data"
    },
    {
     "data": {
      "image/png": "[encoded data removed]",
      "text/plain": [
       "<Figure size 1080x648 with 1 Axes>"
      ]
     },
     "metadata": {
      "needs_background": "light"
     },
     "output_type": "display_data"
    },
    {
     "data": {
      "image/png": "[encoded data removed]",
      "text/plain": [
       "<Figure size 1080x648 with 1 Axes>"
      ]
     },
     "metadata": {
      "needs_background": "light"
     },
     "output_type": "display_data"
    }
   ],
   "source": [
    "# визуализирую распределение по жанрам\n",
    "genres_count.plot(kind = 'bar')\n",
    "plt.xlabel('Жанр')\n",
    "plt.ylabel('Количество игр')\n",
    "plt.grid()\n",
    "plt.title('Распределение игр по жанрам за актуальный период')\n",
    "plt.show()\n",
    "\n",
    "genres_sum.plot(kind = 'bar')\n",
    "plt.xlabel('Жанр')\n",
    "plt.ylabel('Продано копий, млн. шт.')\n",
    "plt.grid()\n",
    "plt.title('Распределение игр по жанрам и продажам за актуальный период')\n",
    "plt.show()\n",
    "\n",
    "genres_mean.plot(kind = 'bar')\n",
    "plt.xlabel('Жанр')\n",
    "plt.ylabel('Среднее значение по продажам, млн. шт.')\n",
    "plt.grid()\n",
    "plt.title('Распределение игр по жанрам и средним значениям продаж за актуальный период')\n",
    "plt.show()\n",
    "\n",
    "genres_median.plot(kind = 'bar')\n",
    "plt.xlabel('Жанр')\n",
    "plt.ylabel('Медианное значение по продажам, млн. шт.')\n",
    "plt.grid()\n",
    "plt.title('Распределение игр по жанрам и медианным значениям продаж за актуальный период')\n",
    "plt.show()\n",
    "\n",
    "# построю диаграмму размаха по медианным значениям\n",
    "sns.boxplot(x = actual_data['sum_sales'], y = actual_data['genre'])\n",
    "plt.ylabel('Жанр')\n",
    "plt.xlabel('Продано копий, млн. шт.')\n",
    "plt.grid()\n",
    "plt.title('Распределение игр по жанрам и продажам за актуальный период')\n",
    "plt.show()\n",
    "\n",
    "sns.boxplot(x = actual_data['sum_sales'], y = actual_data['genre'])\n",
    "plt.ylabel('Жанр')\n",
    "plt.xlabel('Продано копий, млн. шт.')\n",
    "plt.xlim(0, 4)\n",
    "plt.grid()\n",
    "plt.title('Распределение игр по жанрам и продажам за актуальный период')\n",
    "plt.show()"
   ]
  },
  {
   "cell_type": "markdown",
   "metadata": {},
   "source": [
    "Топ жанров по количеству выпущенных игр за актуальный период:\n",
    "- Action;\n",
    "- Role-Playing;\n",
    "- Adventure;\n",
    "- Sports;\n",
    "- Shooter.\n",
    "\n",
    "Топ жанров по количеству проданных игр за актуальный период:\n",
    "- Action;\n",
    "- Shooter;\n",
    "- Sports;\n",
    "- Role-Playing;\n",
    "- Misc.\n",
    "\n",
    "Игры жанра `Action` является самым продаваемыми и выпускаемыми. Можно отметить, что при относительно небольшом количестве выпущенных игр жанра `Shooter` по продажам они вышли на второе место, а третий по выпускаемости `Adventure` вообще не попал в топ по продажам.\n",
    "Самыми непопулярными жанрами являются стратегии и головоломки.\n",
    "\n",
    "По медианным и средним значениям складывается иная картина, в топе оказались шутеры, спортивные и платформеры. А игры жанра `Action` даже не попадают в топ-5, это значит, что далеко не все игры данного жанра интересны людям.\n",
    "\n",
    "По диаграмме размаха можно сказать, что игры жанра `Action` так хорошо продаются только за счёт бестселлеров, основная масса продаётся хуже, чем `Shooter`, `Sports`, `Role-Playing`, `Fighting`, `Platform`, `Misc` и `Simulator`. Также можно сказать, что шутеры продаются равномерно, больше игр пользуются успехом у игроков и не так сильно общие продажи зависят от бестселлеров. "
   ]
  },
  {
   "cell_type": "markdown",
   "metadata": {},
   "source": [
    "**Вывод:** \n",
    "- Пик выхода игр пришёлся на период с 2007 по 2010 гг., до 1994 г. выходило меньше ста игр в год;\n",
    "- Самые популярные платформы за всё время PS2, PS3, X360, Wii и DS постепнно набирали свою популярность и также постепенно её теряли, к 2016 г. утратили свою популярность;\n",
    "- Нормальная продолжительность жизни платформы составляет от 4 до 11 лет, медианная и средняя продолжительности в районе 7.7 лет;\n",
    "- В качестве актуального я бы взял период с 2014 по 2016 гг;\n",
    "- В актуальном периоде самыми прибыльными платформами являются Playstation 4, Xbox One, в 2015 году у этих платформ был пик, так как на них вышла очень популярная GTA 5, продажи игр по остальным платформам стабильно падают, Playstation Portable на 2016 год является мертвой платформой;\n",
    "- Наблюдается прямая зависимость между отзывов критиков и продажами, зависимость между отзывами пользователей и продажами практически отсутствует;\n",
    "- Игры жанра Action является самым популярными и выпускаемыми;\n",
    "- По диаграмме размаха можно сказать, что игры жанра Action так хорошо продаются только за счёт бестселлеров, основная масса продаётся хуже, чем игры большинства жанров."
   ]
  },
  {
   "cell_type": "markdown",
   "metadata": {},
   "source": [
    "#### Портрет пользователя каждого региона"
   ]
  },
  {
   "cell_type": "markdown",
   "metadata": {},
   "source": [
    "##### Популярные платформы по регионам"
   ]
  },
  {
   "cell_type": "code",
   "execution_count": 38,
   "metadata": {},
   "outputs": [
    {
     "data": {
      "text/html": [
       "<div>\n",
       "<style scoped>\n",
       "    .dataframe tbody tr th:only-of-type {\n",
       "        vertical-align: middle;\n",
       "    }\n",
       "\n",
       "    .dataframe tbody tr th {\n",
       "        vertical-align: top;\n",
       "    }\n",
       "\n",
       "    .dataframe thead th {\n",
       "        text-align: right;\n",
       "    }\n",
       "</style>\n",
       "<table border=\"1\" class=\"dataframe\">\n",
       "  <thead>\n",
       "    <tr style=\"text-align: right;\">\n",
       "      <th></th>\n",
       "      <th>eu_sales</th>\n",
       "      <th>jp_sales</th>\n",
       "      <th>na_sales</th>\n",
       "    </tr>\n",
       "    <tr>\n",
       "      <th>platform</th>\n",
       "      <th></th>\n",
       "      <th></th>\n",
       "      <th></th>\n",
       "    </tr>\n",
       "  </thead>\n",
       "  <tbody>\n",
       "    <tr>\n",
       "      <th>3DS</th>\n",
       "      <td>16.12</td>\n",
       "      <td>44.24</td>\n",
       "      <td>22.64</td>\n",
       "    </tr>\n",
       "    <tr>\n",
       "      <th>PC</th>\n",
       "      <td>17.97</td>\n",
       "      <td>0.00</td>\n",
       "      <td>7.23</td>\n",
       "    </tr>\n",
       "    <tr>\n",
       "      <th>PS3</th>\n",
       "      <td>25.54</td>\n",
       "      <td>11.22</td>\n",
       "      <td>22.05</td>\n",
       "    </tr>\n",
       "    <tr>\n",
       "      <th>PS4</th>\n",
       "      <td>130.04</td>\n",
       "      <td>15.02</td>\n",
       "      <td>98.61</td>\n",
       "    </tr>\n",
       "    <tr>\n",
       "      <th>PSV</th>\n",
       "      <td>3.53</td>\n",
       "      <td>14.54</td>\n",
       "      <td>2.52</td>\n",
       "    </tr>\n",
       "    <tr>\n",
       "      <th>Wii</th>\n",
       "      <td>2.59</td>\n",
       "      <td>0.00</td>\n",
       "      <td>2.08</td>\n",
       "    </tr>\n",
       "    <tr>\n",
       "      <th>WiiU</th>\n",
       "      <td>13.15</td>\n",
       "      <td>7.31</td>\n",
       "      <td>19.36</td>\n",
       "    </tr>\n",
       "    <tr>\n",
       "      <th>X360</th>\n",
       "      <td>15.49</td>\n",
       "      <td>0.08</td>\n",
       "      <td>28.30</td>\n",
       "    </tr>\n",
       "    <tr>\n",
       "      <th>XOne</th>\n",
       "      <td>46.25</td>\n",
       "      <td>0.32</td>\n",
       "      <td>81.27</td>\n",
       "    </tr>\n",
       "  </tbody>\n",
       "</table>\n",
       "</div>"
      ],
      "text/plain": [
       "          eu_sales  jp_sales  na_sales\n",
       "platform                              \n",
       "3DS          16.12     44.24     22.64\n",
       "PC           17.97      0.00      7.23\n",
       "PS3          25.54     11.22     22.05\n",
       "PS4         130.04     15.02     98.61\n",
       "PSV           3.53     14.54      2.52\n",
       "Wii           2.59      0.00      2.08\n",
       "WiiU         13.15      7.31     19.36\n",
       "X360         15.49      0.08     28.30\n",
       "XOne         46.25      0.32     81.27"
      ]
     },
     "execution_count": 38,
     "metadata": {},
     "output_type": "execute_result"
    }
   ],
   "source": [
    "region_platforms = actual_data. pivot_table(index = 'platform', values = ['na_sales', 'eu_sales', 'jp_sales'], aggfunc = 'sum')\n",
    "region_platforms"
   ]
  },
  {
   "cell_type": "code",
   "execution_count": 39,
   "metadata": {},
   "outputs": [
    {
     "data": {
      "image/png": "[encoded data removed]",
      "text/plain": [
       "<Figure size 1080x648 with 1 Axes>"
      ]
     },
     "metadata": {
      "needs_background": "light"
     },
     "output_type": "display_data"
    }
   ],
   "source": [
    "region_platforms.plot(kind = 'bar')\n",
    "plt.xlabel('Платформа')\n",
    "plt.ylabel('Продано игр, млн.шт.')\n",
    "plt.grid()\n",
    "plt.legend()\n",
    "plt.title('Распределение игр по платформам и регионам за актуальный период');"
   ]
  },
  {
   "cell_type": "markdown",
   "metadata": {},
   "source": [
    "В Европе и Северной Америке предпочтения по платформам схожи, в Японии же картина совершенно другая, не самая популярная в других регионах Nintendo 3DS тут самая популярная платформа, а PC там вообще не воспринимается игровой платформой.\n",
    "\n",
    "Европейский топ платформ:\n",
    "- PS4;\n",
    "- XOne;\n",
    "- PS3;\n",
    "- PC;\n",
    "- 3DS.\n",
    "\n",
    "\n",
    "Североамериканский топ платформ:\n",
    "- PS4;\n",
    "- XOne;\n",
    "- X360;\n",
    "- 3DS;\n",
    "- PS3.\n",
    "\n",
    "Японский топ платформ:\n",
    "- 3DS;\n",
    "- PS4;\n",
    "- PSV;\n",
    "- PS3;\n",
    "- WiiU."
   ]
  },
  {
   "cell_type": "markdown",
   "metadata": {},
   "source": [
    "##### Популярные жанры по регионам"
   ]
  },
  {
   "cell_type": "code",
   "execution_count": 40,
   "metadata": {},
   "outputs": [
    {
     "data": {
      "text/html": [
       "<div>\n",
       "<style scoped>\n",
       "    .dataframe tbody tr th:only-of-type {\n",
       "        vertical-align: middle;\n",
       "    }\n",
       "\n",
       "    .dataframe tbody tr th {\n",
       "        vertical-align: top;\n",
       "    }\n",
       "\n",
       "    .dataframe thead th {\n",
       "        text-align: right;\n",
       "    }\n",
       "</style>\n",
       "<table border=\"1\" class=\"dataframe\">\n",
       "  <thead>\n",
       "    <tr style=\"text-align: right;\">\n",
       "      <th></th>\n",
       "      <th>eu_sales</th>\n",
       "      <th>jp_sales</th>\n",
       "      <th>na_sales</th>\n",
       "    </tr>\n",
       "    <tr>\n",
       "      <th>genre</th>\n",
       "      <th></th>\n",
       "      <th></th>\n",
       "      <th></th>\n",
       "    </tr>\n",
       "  </thead>\n",
       "  <tbody>\n",
       "    <tr>\n",
       "      <th>Action</th>\n",
       "      <td>74.68</td>\n",
       "      <td>29.38</td>\n",
       "      <td>72.53</td>\n",
       "    </tr>\n",
       "    <tr>\n",
       "      <th>Adventure</th>\n",
       "      <td>6.49</td>\n",
       "      <td>3.55</td>\n",
       "      <td>5.64</td>\n",
       "    </tr>\n",
       "    <tr>\n",
       "      <th>Fighting</th>\n",
       "      <td>6.69</td>\n",
       "      <td>6.37</td>\n",
       "      <td>12.43</td>\n",
       "    </tr>\n",
       "    <tr>\n",
       "      <th>Misc</th>\n",
       "      <td>12.86</td>\n",
       "      <td>5.59</td>\n",
       "      <td>15.05</td>\n",
       "    </tr>\n",
       "    <tr>\n",
       "      <th>Platform</th>\n",
       "      <td>6.80</td>\n",
       "      <td>2.69</td>\n",
       "      <td>6.79</td>\n",
       "    </tr>\n",
       "    <tr>\n",
       "      <th>Puzzle</th>\n",
       "      <td>0.52</td>\n",
       "      <td>0.93</td>\n",
       "      <td>0.65</td>\n",
       "    </tr>\n",
       "    <tr>\n",
       "      <th>Racing</th>\n",
       "      <td>14.13</td>\n",
       "      <td>1.76</td>\n",
       "      <td>8.74</td>\n",
       "    </tr>\n",
       "    <tr>\n",
       "      <th>Role-Playing</th>\n",
       "      <td>28.17</td>\n",
       "      <td>31.16</td>\n",
       "      <td>33.47</td>\n",
       "    </tr>\n",
       "    <tr>\n",
       "      <th>Shooter</th>\n",
       "      <td>65.52</td>\n",
       "      <td>4.87</td>\n",
       "      <td>79.02</td>\n",
       "    </tr>\n",
       "    <tr>\n",
       "      <th>Simulation</th>\n",
       "      <td>7.30</td>\n",
       "      <td>2.31</td>\n",
       "      <td>2.63</td>\n",
       "    </tr>\n",
       "    <tr>\n",
       "      <th>Sports</th>\n",
       "      <td>45.73</td>\n",
       "      <td>3.17</td>\n",
       "      <td>46.13</td>\n",
       "    </tr>\n",
       "    <tr>\n",
       "      <th>Strategy</th>\n",
       "      <td>1.79</td>\n",
       "      <td>0.95</td>\n",
       "      <td>0.98</td>\n",
       "    </tr>\n",
       "  </tbody>\n",
       "</table>\n",
       "</div>"
      ],
      "text/plain": [
       "              eu_sales  jp_sales  na_sales\n",
       "genre                                     \n",
       "Action           74.68     29.38     72.53\n",
       "Adventure         6.49      3.55      5.64\n",
       "Fighting          6.69      6.37     12.43\n",
       "Misc             12.86      5.59     15.05\n",
       "Platform          6.80      2.69      6.79\n",
       "Puzzle            0.52      0.93      0.65\n",
       "Racing           14.13      1.76      8.74\n",
       "Role-Playing     28.17     31.16     33.47\n",
       "Shooter          65.52      4.87     79.02\n",
       "Simulation        7.30      2.31      2.63\n",
       "Sports           45.73      3.17     46.13\n",
       "Strategy          1.79      0.95      0.98"
      ]
     },
     "execution_count": 40,
     "metadata": {},
     "output_type": "execute_result"
    }
   ],
   "source": [
    "region_genre = actual_data. pivot_table(index = 'genre', values = ['na_sales', 'eu_sales', 'jp_sales'], aggfunc = 'sum')\n",
    "region_genre"
   ]
  },
  {
   "cell_type": "code",
   "execution_count": 41,
   "metadata": {},
   "outputs": [
    {
     "data": {
      "image/png": "[encoded data removed]",
      "text/plain": [
       "<Figure size 1080x648 with 1 Axes>"
      ]
     },
     "metadata": {
      "needs_background": "light"
     },
     "output_type": "display_data"
    }
   ],
   "source": [
    "region_genre.plot(kind = 'bar')\n",
    "plt.xlabel('Жанр')\n",
    "plt.ylabel('Продано игр, млн.шт.')\n",
    "plt.grid()\n",
    "plt.legend()\n",
    "plt.title('Распределение игр по жанрам и регионам за актуальный период');"
   ]
  },
  {
   "cell_type": "markdown",
   "metadata": {},
   "source": [
    "С жанрами ситуация похожая, в Европе и Северной Америке топ практически совпадает, а в Японии предпочтения опять отличные от остальных, лидируют в стране восходящего солнца ролевые игры.\n",
    "\n",
    "Европейский топ жанров:\n",
    "- Action;\n",
    "- Shooter;\n",
    "- Sports;\n",
    "- Role-Playing;\n",
    "- Racing.\n",
    "\n",
    "Североамериканский топ жанров:\n",
    "- Shooter;\n",
    "- Action;\n",
    "- Sports;\n",
    "- Role-Playing;\n",
    "- Misc.\n",
    "\n",
    "Японский топ жанров:\n",
    "- Role-Playing;\n",
    "- Action;\n",
    "- Fighting;\n",
    "- Misc;\n",
    "- Shooter."
   ]
  },
  {
   "cell_type": "markdown",
   "metadata": {},
   "source": [
    "##### Влияние рейтинга ESRB на продажи в отдельном регионе"
   ]
  },
  {
   "cell_type": "code",
   "execution_count": 42,
   "metadata": {},
   "outputs": [
    {
     "data": {
      "text/html": [
       "<div>\n",
       "<style scoped>\n",
       "    .dataframe tbody tr th:only-of-type {\n",
       "        vertical-align: middle;\n",
       "    }\n",
       "\n",
       "    .dataframe tbody tr th {\n",
       "        vertical-align: top;\n",
       "    }\n",
       "\n",
       "    .dataframe thead th {\n",
       "        text-align: right;\n",
       "    }\n",
       "</style>\n",
       "<table border=\"1\" class=\"dataframe\">\n",
       "  <thead>\n",
       "    <tr style=\"text-align: right;\">\n",
       "      <th></th>\n",
       "      <th>eu_sales</th>\n",
       "      <th>jp_sales</th>\n",
       "      <th>na_sales</th>\n",
       "    </tr>\n",
       "    <tr>\n",
       "      <th>rating</th>\n",
       "      <th></th>\n",
       "      <th></th>\n",
       "      <th></th>\n",
       "    </tr>\n",
       "  </thead>\n",
       "  <tbody>\n",
       "    <tr>\n",
       "      <th>E</th>\n",
       "      <td>58.06</td>\n",
       "      <td>8.94</td>\n",
       "      <td>50.74</td>\n",
       "    </tr>\n",
       "    <tr>\n",
       "      <th>E10+</th>\n",
       "      <td>26.16</td>\n",
       "      <td>4.46</td>\n",
       "      <td>33.23</td>\n",
       "    </tr>\n",
       "    <tr>\n",
       "      <th>M</th>\n",
       "      <td>93.44</td>\n",
       "      <td>8.01</td>\n",
       "      <td>96.42</td>\n",
       "    </tr>\n",
       "    <tr>\n",
       "      <th>T</th>\n",
       "      <td>34.07</td>\n",
       "      <td>14.78</td>\n",
       "      <td>38.95</td>\n",
       "    </tr>\n",
       "    <tr>\n",
       "      <th>unknown</th>\n",
       "      <td>58.95</td>\n",
       "      <td>56.54</td>\n",
       "      <td>64.72</td>\n",
       "    </tr>\n",
       "  </tbody>\n",
       "</table>\n",
       "</div>"
      ],
      "text/plain": [
       "         eu_sales  jp_sales  na_sales\n",
       "rating                               \n",
       "E           58.06      8.94     50.74\n",
       "E10+        26.16      4.46     33.23\n",
       "M           93.44      8.01     96.42\n",
       "T           34.07     14.78     38.95\n",
       "unknown     58.95     56.54     64.72"
      ]
     },
     "execution_count": 42,
     "metadata": {},
     "output_type": "execute_result"
    }
   ],
   "source": [
    "region_rating = actual_data. pivot_table(index = 'rating', values = ['na_sales', 'eu_sales', 'jp_sales'], aggfunc = 'sum')\n",
    "region_rating"
   ]
  },
  {
   "cell_type": "code",
   "execution_count": 43,
   "metadata": {},
   "outputs": [
    {
     "data": {
      "image/png": "[encoded data removed]",
      "text/plain": [
       "<Figure size 1080x648 with 1 Axes>"
      ]
     },
     "metadata": {
      "needs_background": "light"
     },
     "output_type": "display_data"
    }
   ],
   "source": [
    "region_rating.plot(kind = 'bar')\n",
    "plt.xlabel('Рейтинг ESRB')\n",
    "plt.ylabel('Продано игр, млн.шт.')\n",
    "plt.grid()\n",
    "plt.legend()\n",
    "plt.title('Распределение игр по рейтингу ESRB и регионам за актуальный период');"
   ]
  },
  {
   "cell_type": "markdown",
   "metadata": {},
   "source": [
    "И опять игроки из Европы и Северной Америки имеют схожие предпочтения, а игроки из Японии отличаются. В Европе и СА популярны игры с рейтингом «M» («Mature») — «Для взрослых», а также «E» («Everyone») — «Для всех» и «T» («Teen») — «Подросткам», а игры с неустановленным рейтингом занимают второе место.В Японии также с сильным отрывом лидируют игры с неустановленным возрастным рейтингом.\n",
    "\n",
    "Европейский топ по рейтингу ESRB:\n",
    "- «M» («Mature») — «Для взрослых»;\n",
    "- Рейтинг неустановлен;\n",
    "- «E» («Everyone») — «Для всех»;\n",
    "- «T» («Teen») — «Подросткам»;\n",
    "- «E10+» («Everyone 10 and older») — «Для всех от 10 лет и старше».\n",
    "\n",
    "Североамериканский топ по рейтингу ESRB:\n",
    "- «M» («Mature») — «Для взрослых»;\n",
    "- Рейтинг неустановлен;\n",
    "- «E» («Everyone») — «Для всех»;\n",
    "- «T» («Teen») — «Подросткам»;\n",
    "- «E10+» («Everyone 10 and older») — «Для всех от 10 лет и старше».\n",
    "\n",
    "Японский топ по рейтингу ESRB:\n",
    "- Рейтинг неустановлен;\n",
    "- «T» («Teen») — «Подросткам»;\n",
    "-  «E» («Everyone») — «Для всех»;\n",
    "- «M» («Mature») — «Для взрослых»;\n",
    "- «E10+» («Everyone 10 and older») — «Для всех от 10 лет и старше»."
   ]
  },
  {
   "cell_type": "markdown",
   "metadata": {},
   "source": [
    "**Вывод:**\n",
    "Портрет европпейского игрока: отдают предпочтение стационарным консолям PS4, XOne и PS3, из портативны консолей предпочитают 3DS, часть игроков предпочитают PC. Топ жанров: Action, Shooter, Sports, Role-Playing, Racing. Чаще всего играют в игры с рейтингом «M» или неустановленным.\n",
    "\n",
    "Портрет североамериканского игрока: также отдают предпочтение стационарным консолям PS4, XOne, X360 и PS3, из портативных консолей выбирают 3DS. Любимые жанры практически полностью совпадают с европейскими, но вместо Racing американцы выбирают Misc и чаще предпочитают шутеры экшенам. Также чаще всего играют в игры с рейтингом «M» или неустановленным.\n",
    "\n",
    "Портрет японского игрока: японцы отдают предпочтение японским консолям, в портативным 3DS и PSV, из стационарных выбирают WiiU, PS3 и PS4. Любимые жанры также отличаются: Role-Playing, Action, Misc, Fighting и Shooter. Для большей части купленных японцами игр возрастной рейтинг неустановлен."
   ]
  },
  {
   "cell_type": "markdown",
   "metadata": {},
   "source": [
    "#### Проверка гипотез"
   ]
  },
  {
   "cell_type": "markdown",
   "metadata": {},
   "source": [
    "##### Одинаковы ли средние пользовательские рейтинги платформ Xbox One и PC?"
   ]
  },
  {
   "cell_type": "markdown",
   "metadata": {},
   "source": [
    "Сформулирую гипотезу:\n",
    "- $H_0:$ средние пользовательские рейтинги платформ Xbox One и PC одинаковы\n",
    "- $H_1:$ средние пользовательские рейтинги платформ Xbox One и PC различаются\n",
    "\n",
    "Уровень статистической значимости возьму 5%."
   ]
  },
  {
   "cell_type": "code",
   "execution_count": 44,
   "metadata": {},
   "outputs": [
    {
     "name": "stdout",
     "output_type": "stream",
     "text": [
      "p-значение: 0.11601398086668832\n",
      "Не получилось отвергнуть нулевую гипотезу\n"
     ]
    }
   ],
   "source": [
    "pc_rating = actual_data.query('platform == \"PC\" and user_score < 15')\n",
    "xone_rating = actual_data.query('platform == \"XOne\" and user_score < 15')\n",
    "\n",
    "# проверю гипотезу\n",
    "alpha = 0.05\n",
    "results = st.ttest_ind(pc_rating['user_score'], xone_rating['user_score'], equal_var=False)\n",
    "print('p-значение:', results.pvalue)\n",
    "if (results.pvalue < alpha):\n",
    "    print('Отвергаю нулевую гипотезу')\n",
    "else:\n",
    "    print('Не получилось отвергнуть нулевую гипотезу')"
   ]
  },
  {
   "cell_type": "code",
   "execution_count": 45,
   "metadata": {},
   "outputs": [
    {
     "data": {
      "text/html": [
       "<div>\n",
       "<style scoped>\n",
       "    .dataframe tbody tr th:only-of-type {\n",
       "        vertical-align: middle;\n",
       "    }\n",
       "\n",
       "    .dataframe tbody tr th {\n",
       "        vertical-align: top;\n",
       "    }\n",
       "\n",
       "    .dataframe thead th {\n",
       "        text-align: right;\n",
       "    }\n",
       "</style>\n",
       "<table border=\"1\" class=\"dataframe\">\n",
       "  <thead>\n",
       "    <tr style=\"text-align: right;\">\n",
       "      <th></th>\n",
       "      <th>user_score</th>\n",
       "    </tr>\n",
       "    <tr>\n",
       "      <th>platform</th>\n",
       "      <th></th>\n",
       "    </tr>\n",
       "  </thead>\n",
       "  <tbody>\n",
       "    <tr>\n",
       "      <th>PC</th>\n",
       "      <td>6.298361</td>\n",
       "    </tr>\n",
       "    <tr>\n",
       "      <th>XOne</th>\n",
       "      <td>6.594545</td>\n",
       "    </tr>\n",
       "  </tbody>\n",
       "</table>\n",
       "</div>"
      ],
      "text/plain": [
       "          user_score\n",
       "platform            \n",
       "PC          6.298361\n",
       "XOne        6.594545"
      ]
     },
     "execution_count": 45,
     "metadata": {},
     "output_type": "execute_result"
    }
   ],
   "source": [
    "# выведу средние значения\n",
    "mean_rating = actual_data.query('platform == [\"PC\", \"XOne\"] and user_score < 15').pivot_table(index = 'platform', values = 'user_score', aggfunc = 'mean')\n",
    "mean_rating"
   ]
  },
  {
   "cell_type": "markdown",
   "metadata": {},
   "source": [
    "Отвергнуть нулевую гипотезу не получилось, а это значит, что средние оценки пользователей платформ одинаковы."
   ]
  },
  {
   "cell_type": "markdown",
   "metadata": {},
   "source": [
    "##### Разные ли средние пользовательские рейтинги жанров Action и Sports разные?"
   ]
  },
  {
   "cell_type": "markdown",
   "metadata": {},
   "source": [
    "Сформулирую гипотезу:\n",
    "- $H_0:$ средние пользовательские рейтинги жанров Action и Sports одинаковы\n",
    "- $H_1:$ средние пользовательские рейтинги жанров Action и Sports различаются\n",
    "\n",
    "Уровень статистической значимости возьму 5%."
   ]
  },
  {
   "cell_type": "code",
   "execution_count": 46,
   "metadata": {},
   "outputs": [
    {
     "name": "stdout",
     "output_type": "stream",
     "text": [
      "p-значение: 1.1825550382644557e-14\n",
      "Отвергаю нулевую гипотезу\n"
     ]
    }
   ],
   "source": [
    "action_rating = actual_data.query('genre == \"Action\" and user_score < 15')\n",
    "sports_rating = actual_data.query('genre == \"Sports\" and user_score < 15')\n",
    "\n",
    "# проверю гипотезу\n",
    "alpha = 0.05\n",
    "results = st.ttest_ind(action_rating['user_score'], sports_rating['user_score'], equal_var=False)\n",
    "print('p-значение:', results.pvalue)\n",
    "if (results.pvalue < alpha):\n",
    "    print('Отвергаю нулевую гипотезу')\n",
    "else:\n",
    "    print('Не получилось отвергнуть нулевую гипотезу')"
   ]
  },
  {
   "cell_type": "code",
   "execution_count": 47,
   "metadata": {},
   "outputs": [
    {
     "data": {
      "text/html": [
       "<div>\n",
       "<style scoped>\n",
       "    .dataframe tbody tr th:only-of-type {\n",
       "        vertical-align: middle;\n",
       "    }\n",
       "\n",
       "    .dataframe tbody tr th {\n",
       "        vertical-align: top;\n",
       "    }\n",
       "\n",
       "    .dataframe thead th {\n",
       "        text-align: right;\n",
       "    }\n",
       "</style>\n",
       "<table border=\"1\" class=\"dataframe\">\n",
       "  <thead>\n",
       "    <tr style=\"text-align: right;\">\n",
       "      <th></th>\n",
       "      <th>user_score</th>\n",
       "    </tr>\n",
       "    <tr>\n",
       "      <th>genre</th>\n",
       "      <th></th>\n",
       "    </tr>\n",
       "  </thead>\n",
       "  <tbody>\n",
       "    <tr>\n",
       "      <th>Action</th>\n",
       "      <td>6.760606</td>\n",
       "    </tr>\n",
       "    <tr>\n",
       "      <th>Sports</th>\n",
       "      <td>5.225197</td>\n",
       "    </tr>\n",
       "  </tbody>\n",
       "</table>\n",
       "</div>"
      ],
      "text/plain": [
       "        user_score\n",
       "genre             \n",
       "Action    6.760606\n",
       "Sports    5.225197"
      ]
     },
     "execution_count": 47,
     "metadata": {},
     "output_type": "execute_result"
    }
   ],
   "source": [
    "# выведу средние значения\n",
    "genre_rating = actual_data.query('genre == [\"Action\", \"Sports\"] and user_score < 15'). pivot_table(index = 'genre', values = 'user_score', aggfunc = 'mean')\n",
    "genre_rating"
   ]
  },
  {
   "cell_type": "markdown",
   "metadata": {},
   "source": [
    "Нулевая гипотеза отвергнута, а это значит, что средние пользовательские рейтинги жанров Action и Sports разные."
   ]
  },
  {
   "cell_type": "markdown",
   "metadata": {},
   "source": [
    "**Вывод:** В данном пункте была осуществленна проверка двух гипотиз, из которых можно сделать следующие выводы:\n",
    "-  средние пользовательские рейтинги платформ Xbox One и PC одинаковы;\n",
    "- средние пользовательские рейтинги жанров Action и Sports различаются."
   ]
  },
  {
   "cell_type": "markdown",
   "metadata": {},
   "source": [
    "#### Общий вывод"
   ]
  },
  {
   "cell_type": "markdown",
   "metadata": {},
   "source": [
    "Задачей данного проекта было проанализировать данные интернет-магазина «Стримчик» и выявить определяющие успешность игры закономерности. Это позволит сделать ставку на потенциально популярный продукт и спланировать рекламные кампании.\n",
    "\n",
    "В ходе предобработки данных названия столбцов были приведены к нижнему регистру, удалены строки с пропусками в названиях, жанрах игр(2 строки) и с годом выпуска(269 строк), пропуски в столбцах `critic_score` и `user_score` были оставлены, значениями tbd в столбце user_score заменены на NaN, заменять их нечем, а так датафрейм будет более однообразным. Пропуски в столбце `rating` заменил на \"unknown\", так как их нечем заменить, а их доля велика. Также был найден и удалён один неявный дубликат.\n",
    "\n",
    "В ходе исследовательского анализа было выявлено следующее:\n",
    "- Пик выхода игр пришёлся на период с 2007 по 2010 гг., до 1994 г. выходило меньше ста игр в год;\n",
    "- Самые популярные платформы за всё время PS2, PS3, X360, Wii и DS постепнно набирали свою популярность и также постепенно её теряли, к 2016 г. утратили свою популярность;\n",
    "- Нормальная продолжительность жизни платформы составляет от 4 до 11 лет, медианная и средняя продолжительности в районе 7.7 лет;\n",
    "- В качестве актуального я бы взял период с 2014 по 2016 гг;\n",
    "- В актуальном периоде самыми прибыльными платформами являются Playstation 4, Xbox One, в 2015 году у этих платформ был пик, так как на них вышла очень популярная GTA 5, продажи игр по остальным платформам стабильно падают, Playstation Portable на 2016 год является мертвой платформой;\n",
    "- Наблюдается прямая зависимость между отзывов критиков и продажами, зависимость между отзывами пользователей и продажами практически отсутствует;\n",
    "- Игры жанра Action является самым популярными и выпускаемыми. \n",
    "\n",
    "В четвёртом пункте пункте был составлен портрет пользователя каждого региона:\n",
    "Портрет европпейского игрока: отдают предпочтение стационарным консолям PS4, XOne и PS3, из портативны консолей предпочитают 3DS, часть игроков предпочитают PC. Топ жанров: Action, Shooter, Sports, Role-Playing, Racing. Чаще всего играют в игры с рейтингом «M» или неустановленным.\n",
    "\n",
    "Портрет североамериканского игрока: также отдают предпочтение стационарным консолям PS4, XOne, X360 и PS3, из портативных консолей выбирают 3DS. Любимые жанры практически полностью совпадают с европейскими, но вместо Racing американцы выбирают Misc и чаще предпочитают шутеры экшенам. Также чаще всего играют в игры с рейтингом «M» или неустановленным.\n",
    "\n",
    "Портрет японского игрока: японцы отдают предпочтение японским консолям, в портативным 3DS и PSV, из стационарных выбирают WiiU, PS3 и PS4. Любимые жанры также отличаются: Role-Playing, Action, Misc, Fighting и Shooter. Для большей части купленных японцами игр возрастной рейтинг неустановлен.\n",
    "\n",
    "А также была проведена проверка гипотез, из которых следуют следующие выводы:\n",
    "* средние пользовательские рейтинги платформ Xbox One и PC одинаковы;\n",
    "* средние пользовательские рейтинги жанров Action и Sports различаются.\n",
    "\n",
    "По итогу работы можно сформулировать следующие закономерности, определяющие успешность игры:\n",
    "\n",
    "- Жанр `Action` или `Shooter`;\n",
    "- Возрастной рейтинг «M»;\n",
    "- Современные платформы PS4 или Xbox One;\n",
    "\n",
    "Эти закономерности действуют на Европейский и Североамериканский рынки, для Японского сложно определить, так как большинство игр не имеют возрастного рейтинга ESRB, в Японии действует своя система рейтинга, которая не представлена в исходных данных."
   ]
  }
 ],
 "metadata": {
  "ExecuteTimeLog": [
   {
    "duration": 976,
    "start_time": "2023-08-16T18:19:07.856Z"
   },
   {
    "duration": 182,
    "start_time": "2023-08-16T18:29:18.996Z"
   },
   {
    "duration": 115,
    "start_time": "2023-08-16T18:29:39.497Z"
   },
   {
    "duration": 13,
    "start_time": "2023-08-16T18:31:49.310Z"
   },
   {
    "duration": 26,
    "start_time": "2023-08-16T18:32:39.423Z"
   },
   {
    "duration": 13,
    "start_time": "2023-08-16T18:49:51.514Z"
   },
   {
    "duration": 114,
    "start_time": "2023-08-16T19:27:40.260Z"
   },
   {
    "duration": 29,
    "start_time": "2023-08-16T19:27:49.697Z"
   },
   {
    "duration": 15,
    "start_time": "2023-08-16T19:41:58.156Z"
   },
   {
    "duration": 32,
    "start_time": "2023-08-16T20:08:50.311Z"
   },
   {
    "duration": 12,
    "start_time": "2023-08-16T20:09:10.079Z"
   },
   {
    "duration": 14,
    "start_time": "2023-08-16T20:45:18.495Z"
   },
   {
    "duration": 11,
    "start_time": "2023-08-16T21:16:51.467Z"
   },
   {
    "duration": 7,
    "start_time": "2023-08-16T21:16:58.911Z"
   },
   {
    "duration": 12,
    "start_time": "2023-08-16T21:17:45.477Z"
   },
   {
    "duration": 8,
    "start_time": "2023-08-16T21:22:18.206Z"
   },
   {
    "duration": 12,
    "start_time": "2023-08-16T21:37:26.288Z"
   },
   {
    "duration": 1139,
    "start_time": "2023-08-16T21:37:48.226Z"
   },
   {
    "duration": 151,
    "start_time": "2023-08-16T21:37:49.367Z"
   },
   {
    "duration": 13,
    "start_time": "2023-08-16T21:37:49.519Z"
   },
   {
    "duration": 62,
    "start_time": "2023-08-16T21:37:49.534Z"
   },
   {
    "duration": 12,
    "start_time": "2023-08-16T21:37:49.600Z"
   },
   {
    "duration": 9,
    "start_time": "2023-08-16T21:37:49.614Z"
   },
   {
    "duration": 8,
    "start_time": "2023-08-16T21:37:49.625Z"
   },
   {
    "duration": 128,
    "start_time": "2023-08-16T21:37:49.634Z"
   },
   {
    "duration": 0,
    "start_time": "2023-08-16T21:37:49.764Z"
   },
   {
    "duration": 8,
    "start_time": "2023-08-16T21:39:14.089Z"
   },
   {
    "duration": 7,
    "start_time": "2023-08-16T21:39:18.728Z"
   },
   {
    "duration": 12,
    "start_time": "2023-08-16T21:41:18.701Z"
   },
   {
    "duration": 14,
    "start_time": "2023-08-16T21:41:39.975Z"
   },
   {
    "duration": 8,
    "start_time": "2023-08-16T21:41:57.197Z"
   },
   {
    "duration": 19,
    "start_time": "2023-08-16T21:42:28.848Z"
   },
   {
    "duration": 1048,
    "start_time": "2023-08-16T21:43:03.873Z"
   },
   {
    "duration": 139,
    "start_time": "2023-08-16T21:43:04.923Z"
   },
   {
    "duration": 20,
    "start_time": "2023-08-16T21:43:05.070Z"
   },
   {
    "duration": 28,
    "start_time": "2023-08-16T21:43:05.092Z"
   },
   {
    "duration": 12,
    "start_time": "2023-08-16T21:43:05.122Z"
   },
   {
    "duration": 15,
    "start_time": "2023-08-16T21:43:05.136Z"
   },
   {
    "duration": 13,
    "start_time": "2023-08-16T21:43:05.153Z"
   },
   {
    "duration": 124,
    "start_time": "2023-08-16T21:43:05.168Z"
   },
   {
    "duration": 0,
    "start_time": "2023-08-16T21:43:05.293Z"
   },
   {
    "duration": 0,
    "start_time": "2023-08-16T21:43:05.295Z"
   },
   {
    "duration": 8,
    "start_time": "2023-08-16T21:44:49.506Z"
   },
   {
    "duration": 9,
    "start_time": "2023-08-16T21:45:00.018Z"
   },
   {
    "duration": 106,
    "start_time": "2023-08-16T21:45:05.927Z"
   },
   {
    "duration": 17,
    "start_time": "2023-08-16T21:45:09.488Z"
   },
   {
    "duration": 26,
    "start_time": "2023-08-16T21:45:11.509Z"
   },
   {
    "duration": 20,
    "start_time": "2023-08-16T21:45:13.971Z"
   },
   {
    "duration": 9,
    "start_time": "2023-08-16T21:45:15.737Z"
   },
   {
    "duration": 15,
    "start_time": "2023-08-16T21:45:18.373Z"
   },
   {
    "duration": 14,
    "start_time": "2023-08-16T21:45:20.574Z"
   },
   {
    "duration": 8,
    "start_time": "2023-08-16T21:45:23.192Z"
   },
   {
    "duration": 9,
    "start_time": "2023-08-16T21:45:30.435Z"
   },
   {
    "duration": 8,
    "start_time": "2023-08-16T21:45:47.822Z"
   },
   {
    "duration": 10,
    "start_time": "2023-08-16T21:46:10.211Z"
   },
   {
    "duration": 1102,
    "start_time": "2023-08-16T21:47:49.144Z"
   },
   {
    "duration": 159,
    "start_time": "2023-08-16T21:47:50.247Z"
   },
   {
    "duration": 14,
    "start_time": "2023-08-16T21:47:50.407Z"
   },
   {
    "duration": 71,
    "start_time": "2023-08-16T21:47:50.422Z"
   },
   {
    "duration": 14,
    "start_time": "2023-08-16T21:47:50.495Z"
   },
   {
    "duration": 9,
    "start_time": "2023-08-16T21:47:50.511Z"
   },
   {
    "duration": 8,
    "start_time": "2023-08-16T21:47:50.522Z"
   },
   {
    "duration": 4,
    "start_time": "2023-08-16T21:47:50.532Z"
   },
   {
    "duration": 50,
    "start_time": "2023-08-16T21:47:50.537Z"
   },
   {
    "duration": 107,
    "start_time": "2023-08-16T21:47:50.588Z"
   },
   {
    "duration": 10,
    "start_time": "2023-08-16T21:48:24.428Z"
   },
   {
    "duration": 5,
    "start_time": "2023-08-16T21:48:25.801Z"
   },
   {
    "duration": 19,
    "start_time": "2023-08-16T21:48:27.689Z"
   },
   {
    "duration": 5,
    "start_time": "2023-08-16T21:50:35.374Z"
   },
   {
    "duration": 5,
    "start_time": "2023-08-16T21:51:21.575Z"
   },
   {
    "duration": 10,
    "start_time": "2023-08-16T21:52:53.174Z"
   },
   {
    "duration": 16,
    "start_time": "2023-08-16T21:52:59.282Z"
   },
   {
    "duration": 8,
    "start_time": "2023-08-16T21:53:31.493Z"
   },
   {
    "duration": 13,
    "start_time": "2023-08-16T21:53:33.292Z"
   },
   {
    "duration": 11,
    "start_time": "2023-08-16T21:55:34.983Z"
   },
   {
    "duration": 16,
    "start_time": "2023-08-16T21:55:36.894Z"
   },
   {
    "duration": 7,
    "start_time": "2023-08-16T22:03:09.970Z"
   },
   {
    "duration": 25,
    "start_time": "2023-08-16T22:03:36.941Z"
   },
   {
    "duration": 24,
    "start_time": "2023-08-16T22:10:39.291Z"
   },
   {
    "duration": 1335,
    "start_time": "2023-08-17T06:39:42.861Z"
   },
   {
    "duration": 169,
    "start_time": "2023-08-17T06:39:44.198Z"
   },
   {
    "duration": 16,
    "start_time": "2023-08-17T06:39:44.369Z"
   },
   {
    "duration": 30,
    "start_time": "2023-08-17T06:39:44.387Z"
   },
   {
    "duration": 15,
    "start_time": "2023-08-17T06:39:44.419Z"
   },
   {
    "duration": 16,
    "start_time": "2023-08-17T06:39:44.435Z"
   },
   {
    "duration": 22,
    "start_time": "2023-08-17T06:39:44.453Z"
   },
   {
    "duration": 8,
    "start_time": "2023-08-17T06:39:44.477Z"
   },
   {
    "duration": 15,
    "start_time": "2023-08-17T06:39:44.487Z"
   },
   {
    "duration": 9,
    "start_time": "2023-08-17T06:39:44.504Z"
   },
   {
    "duration": 26,
    "start_time": "2023-08-17T06:39:44.515Z"
   },
   {
    "duration": 26,
    "start_time": "2023-08-17T06:39:44.543Z"
   },
   {
    "duration": 153,
    "start_time": "2023-08-17T07:27:29.430Z"
   },
   {
    "duration": 16,
    "start_time": "2023-08-17T07:27:50.421Z"
   },
   {
    "duration": 14,
    "start_time": "2023-08-17T07:28:03.573Z"
   },
   {
    "duration": 15,
    "start_time": "2023-08-17T07:28:17.389Z"
   },
   {
    "duration": 379,
    "start_time": "2023-08-17T07:31:34.259Z"
   },
   {
    "duration": 19,
    "start_time": "2023-08-17T08:20:41.572Z"
   },
   {
    "duration": 1624,
    "start_time": "2023-08-17T08:21:21.685Z"
   },
   {
    "duration": 383,
    "start_time": "2023-08-17T08:22:35.689Z"
   },
   {
    "duration": 105,
    "start_time": "2023-08-17T08:22:52.961Z"
   },
   {
    "duration": 64,
    "start_time": "2023-08-17T08:23:21.872Z"
   },
   {
    "duration": 10,
    "start_time": "2023-08-17T08:30:07.144Z"
   },
   {
    "duration": 7,
    "start_time": "2023-08-17T08:30:36.776Z"
   },
   {
    "duration": 8,
    "start_time": "2023-08-17T08:33:46.942Z"
   },
   {
    "duration": 31,
    "start_time": "2023-08-17T08:34:03.009Z"
   },
   {
    "duration": 7,
    "start_time": "2023-08-17T08:35:41.493Z"
   },
   {
    "duration": 18,
    "start_time": "2023-08-17T08:36:05.796Z"
   },
   {
    "duration": 14,
    "start_time": "2023-08-17T08:36:15.124Z"
   },
   {
    "duration": 56,
    "start_time": "2023-08-17T08:36:36.396Z"
   },
   {
    "duration": 57,
    "start_time": "2023-08-17T08:36:43.827Z"
   },
   {
    "duration": 18,
    "start_time": "2023-08-17T08:37:04.331Z"
   },
   {
    "duration": 17,
    "start_time": "2023-08-17T08:38:18.684Z"
   },
   {
    "duration": 20,
    "start_time": "2023-08-17T08:38:29.706Z"
   },
   {
    "duration": 22,
    "start_time": "2023-08-17T08:39:52.951Z"
   },
   {
    "duration": 14,
    "start_time": "2023-08-17T08:40:04.253Z"
   },
   {
    "duration": 373,
    "start_time": "2023-08-17T08:40:33.176Z"
   },
   {
    "duration": 546,
    "start_time": "2023-08-17T08:52:40.015Z"
   },
   {
    "duration": 510,
    "start_time": "2023-08-17T08:52:48.228Z"
   },
   {
    "duration": 424,
    "start_time": "2023-08-17T08:56:42.593Z"
   },
   {
    "duration": 409,
    "start_time": "2023-08-17T08:56:59.755Z"
   },
   {
    "duration": 397,
    "start_time": "2023-08-17T08:57:27.026Z"
   },
   {
    "duration": 430,
    "start_time": "2023-08-17T08:58:02.808Z"
   },
   {
    "duration": 429,
    "start_time": "2023-08-17T08:59:52.967Z"
   },
   {
    "duration": 543,
    "start_time": "2023-08-17T09:00:03.359Z"
   },
   {
    "duration": 470,
    "start_time": "2023-08-17T09:05:13.830Z"
   },
   {
    "duration": 482,
    "start_time": "2023-08-17T09:05:23.252Z"
   },
   {
    "duration": 481,
    "start_time": "2023-08-17T09:05:29.922Z"
   },
   {
    "duration": 430,
    "start_time": "2023-08-17T09:05:37.948Z"
   },
   {
    "duration": 606,
    "start_time": "2023-08-17T09:05:50.429Z"
   },
   {
    "duration": 425,
    "start_time": "2023-08-17T09:06:03.835Z"
   },
   {
    "duration": 439,
    "start_time": "2023-08-17T09:06:22.574Z"
   },
   {
    "duration": 453,
    "start_time": "2023-08-17T09:29:11.410Z"
   },
   {
    "duration": 433,
    "start_time": "2023-08-17T09:29:19.494Z"
   },
   {
    "duration": 457,
    "start_time": "2023-08-17T09:31:37.170Z"
   },
   {
    "duration": 616,
    "start_time": "2023-08-17T09:31:49.217Z"
   },
   {
    "duration": 61,
    "start_time": "2023-08-17T12:00:57.051Z"
   },
   {
    "duration": 61,
    "start_time": "2023-08-17T12:01:42.030Z"
   },
   {
    "duration": 65,
    "start_time": "2023-08-17T12:16:03.815Z"
   },
   {
    "duration": 18,
    "start_time": "2023-08-17T12:23:00.517Z"
   },
   {
    "duration": 19,
    "start_time": "2023-08-17T12:34:33.221Z"
   },
   {
    "duration": 17,
    "start_time": "2023-08-17T12:38:47.548Z"
   },
   {
    "duration": 1481,
    "start_time": "2023-08-17T12:39:24.818Z"
   },
   {
    "duration": 16,
    "start_time": "2023-08-17T12:39:37.723Z"
   },
   {
    "duration": 1712,
    "start_time": "2023-08-17T12:45:41.474Z"
   },
   {
    "duration": 20,
    "start_time": "2023-08-17T12:46:36.850Z"
   },
   {
    "duration": 26,
    "start_time": "2023-08-17T12:51:47.537Z"
   },
   {
    "duration": 1416,
    "start_time": "2023-08-17T17:44:42.668Z"
   },
   {
    "duration": 215,
    "start_time": "2023-08-17T17:44:44.086Z"
   },
   {
    "duration": 15,
    "start_time": "2023-08-17T17:44:44.303Z"
   },
   {
    "duration": 31,
    "start_time": "2023-08-17T17:44:44.321Z"
   },
   {
    "duration": 22,
    "start_time": "2023-08-17T17:44:44.353Z"
   },
   {
    "duration": 12,
    "start_time": "2023-08-17T17:44:44.377Z"
   },
   {
    "duration": 55,
    "start_time": "2023-08-17T17:44:44.390Z"
   },
   {
    "duration": 18,
    "start_time": "2023-08-17T17:44:44.446Z"
   },
   {
    "duration": 16,
    "start_time": "2023-08-17T17:44:44.466Z"
   },
   {
    "duration": 10,
    "start_time": "2023-08-17T17:44:44.485Z"
   },
   {
    "duration": 27,
    "start_time": "2023-08-17T17:44:44.497Z"
   },
   {
    "duration": 17,
    "start_time": "2023-08-17T17:44:44.526Z"
   },
   {
    "duration": 42,
    "start_time": "2023-08-17T17:44:44.545Z"
   },
   {
    "duration": 491,
    "start_time": "2023-08-17T17:44:44.589Z"
   },
   {
    "duration": 23,
    "start_time": "2023-08-17T17:44:45.082Z"
   },
   {
    "duration": 86,
    "start_time": "2023-08-17T17:44:45.107Z"
   },
   {
    "duration": 27,
    "start_time": "2023-08-17T19:22:47.070Z"
   },
   {
    "duration": 155,
    "start_time": "2023-08-17T19:26:28.846Z"
   },
   {
    "duration": 19,
    "start_time": "2023-08-17T19:26:51.368Z"
   },
   {
    "duration": 37,
    "start_time": "2023-08-17T19:28:05.088Z"
   },
   {
    "duration": 24,
    "start_time": "2023-08-17T19:28:19.614Z"
   },
   {
    "duration": 32,
    "start_time": "2023-08-17T19:28:38.452Z"
   },
   {
    "duration": 18,
    "start_time": "2023-08-17T19:28:49.783Z"
   },
   {
    "duration": 46,
    "start_time": "2023-08-17T19:30:03.926Z"
   },
   {
    "duration": 33,
    "start_time": "2023-08-17T19:30:16.084Z"
   },
   {
    "duration": 27,
    "start_time": "2023-08-17T19:30:23.161Z"
   },
   {
    "duration": 28,
    "start_time": "2023-08-17T19:43:56.904Z"
   },
   {
    "duration": 23,
    "start_time": "2023-08-17T19:44:38.836Z"
   },
   {
    "duration": 20,
    "start_time": "2023-08-17T19:45:29.383Z"
   },
   {
    "duration": 30,
    "start_time": "2023-08-17T20:03:12.664Z"
   },
   {
    "duration": 23,
    "start_time": "2023-08-17T20:03:36.711Z"
   },
   {
    "duration": 27,
    "start_time": "2023-08-17T20:10:54.369Z"
   },
   {
    "duration": 6,
    "start_time": "2023-08-17T20:11:19.661Z"
   },
   {
    "duration": 1064,
    "start_time": "2023-08-17T20:16:15.621Z"
   },
   {
    "duration": 1125,
    "start_time": "2023-08-17T20:17:06.795Z"
   },
   {
    "duration": 17,
    "start_time": "2023-08-17T20:17:31.256Z"
   },
   {
    "duration": 13,
    "start_time": "2023-08-17T20:17:38.044Z"
   },
   {
    "duration": 14,
    "start_time": "2023-08-17T20:18:22.469Z"
   },
   {
    "duration": 1241,
    "start_time": "2023-08-17T20:19:44.272Z"
   },
   {
    "duration": 88,
    "start_time": "2023-08-17T20:19:45.515Z"
   },
   {
    "duration": 17,
    "start_time": "2023-08-17T20:19:45.605Z"
   },
   {
    "duration": 48,
    "start_time": "2023-08-17T20:19:45.625Z"
   },
   {
    "duration": 23,
    "start_time": "2023-08-17T20:19:45.675Z"
   },
   {
    "duration": 16,
    "start_time": "2023-08-17T20:19:45.700Z"
   },
   {
    "duration": 11,
    "start_time": "2023-08-17T20:19:45.718Z"
   },
   {
    "duration": 6,
    "start_time": "2023-08-17T20:19:45.730Z"
   },
   {
    "duration": 30,
    "start_time": "2023-08-17T20:19:45.737Z"
   },
   {
    "duration": 9,
    "start_time": "2023-08-17T20:19:45.771Z"
   },
   {
    "duration": 20,
    "start_time": "2023-08-17T20:19:45.782Z"
   },
   {
    "duration": 24,
    "start_time": "2023-08-17T20:19:45.805Z"
   },
   {
    "duration": 45,
    "start_time": "2023-08-17T20:19:45.831Z"
   },
   {
    "duration": 500,
    "start_time": "2023-08-17T20:19:45.878Z"
   },
   {
    "duration": 20,
    "start_time": "2023-08-17T20:19:46.380Z"
   },
   {
    "duration": 90,
    "start_time": "2023-08-17T20:19:46.402Z"
   },
   {
    "duration": 127,
    "start_time": "2023-08-17T20:19:46.494Z"
   },
   {
    "duration": 10,
    "start_time": "2023-08-17T20:29:41.677Z"
   },
   {
    "duration": 72,
    "start_time": "2023-08-17T20:30:12.761Z"
   },
   {
    "duration": 17,
    "start_time": "2023-08-17T20:30:47.440Z"
   },
   {
    "duration": 3,
    "start_time": "2023-08-17T20:31:12.683Z"
   },
   {
    "duration": 4,
    "start_time": "2023-08-17T20:31:24.418Z"
   },
   {
    "duration": 21,
    "start_time": "2023-08-17T20:32:34.352Z"
   },
   {
    "duration": 19,
    "start_time": "2023-08-17T20:37:00.292Z"
   },
   {
    "duration": 507,
    "start_time": "2023-08-17T21:21:15.004Z"
   },
   {
    "duration": 635,
    "start_time": "2023-08-17T21:25:10.592Z"
   },
   {
    "duration": 27,
    "start_time": "2023-08-17T21:28:43.427Z"
   },
   {
    "duration": 25,
    "start_time": "2023-08-17T21:29:32.203Z"
   },
   {
    "duration": 450,
    "start_time": "2023-08-17T21:29:54.058Z"
   },
   {
    "duration": 388,
    "start_time": "2023-08-17T21:30:07.796Z"
   },
   {
    "duration": 400,
    "start_time": "2023-08-17T21:30:17.645Z"
   },
   {
    "duration": 427,
    "start_time": "2023-08-17T21:30:25.307Z"
   },
   {
    "duration": 490,
    "start_time": "2023-08-17T21:30:40.656Z"
   },
   {
    "duration": 707,
    "start_time": "2023-08-17T21:31:01.424Z"
   },
   {
    "duration": 536,
    "start_time": "2023-08-17T21:35:35.846Z"
   },
   {
    "duration": 516,
    "start_time": "2023-08-17T21:37:43.201Z"
   },
   {
    "duration": 714,
    "start_time": "2023-08-17T21:38:04.737Z"
   },
   {
    "duration": 534,
    "start_time": "2023-08-17T21:39:00.867Z"
   },
   {
    "duration": 535,
    "start_time": "2023-08-17T21:43:07.805Z"
   },
   {
    "duration": 623,
    "start_time": "2023-08-17T21:43:18.109Z"
   },
   {
    "duration": 1257,
    "start_time": "2023-08-18T09:27:49.894Z"
   },
   {
    "duration": 115,
    "start_time": "2023-08-18T09:27:51.153Z"
   },
   {
    "duration": 14,
    "start_time": "2023-08-18T09:27:51.271Z"
   },
   {
    "duration": 41,
    "start_time": "2023-08-18T09:27:51.287Z"
   },
   {
    "duration": 19,
    "start_time": "2023-08-18T09:27:51.330Z"
   },
   {
    "duration": 27,
    "start_time": "2023-08-18T09:27:51.350Z"
   },
   {
    "duration": 28,
    "start_time": "2023-08-18T09:27:51.379Z"
   },
   {
    "duration": 21,
    "start_time": "2023-08-18T09:27:51.409Z"
   },
   {
    "duration": 22,
    "start_time": "2023-08-18T09:27:51.431Z"
   },
   {
    "duration": 30,
    "start_time": "2023-08-18T09:27:51.455Z"
   },
   {
    "duration": 27,
    "start_time": "2023-08-18T09:27:51.487Z"
   },
   {
    "duration": 30,
    "start_time": "2023-08-18T09:27:51.516Z"
   },
   {
    "duration": 39,
    "start_time": "2023-08-18T09:27:51.547Z"
   },
   {
    "duration": 412,
    "start_time": "2023-08-18T09:27:51.588Z"
   },
   {
    "duration": 18,
    "start_time": "2023-08-18T09:27:52.002Z"
   },
   {
    "duration": 61,
    "start_time": "2023-08-18T09:27:52.034Z"
   },
   {
    "duration": 42,
    "start_time": "2023-08-18T09:27:52.097Z"
   },
   {
    "duration": 524,
    "start_time": "2023-08-18T09:27:52.141Z"
   },
   {
    "duration": 100,
    "start_time": "2023-08-18T09:31:24.951Z"
   },
   {
    "duration": 14,
    "start_time": "2023-08-18T09:34:36.788Z"
   },
   {
    "duration": 22,
    "start_time": "2023-08-18T10:30:38.973Z"
   },
   {
    "duration": 10,
    "start_time": "2023-08-18T10:31:10.534Z"
   },
   {
    "duration": 9,
    "start_time": "2023-08-18T10:31:48.922Z"
   },
   {
    "duration": 6,
    "start_time": "2023-08-18T10:33:08.939Z"
   },
   {
    "duration": 10,
    "start_time": "2023-08-18T10:34:18.457Z"
   },
   {
    "duration": 9,
    "start_time": "2023-08-18T10:34:29.623Z"
   },
   {
    "duration": 9,
    "start_time": "2023-08-18T10:40:44.728Z"
   },
   {
    "duration": 9,
    "start_time": "2023-08-18T10:41:29.646Z"
   },
   {
    "duration": 8,
    "start_time": "2023-08-18T10:41:40.718Z"
   },
   {
    "duration": 4,
    "start_time": "2023-08-18T10:42:52.270Z"
   },
   {
    "duration": 5,
    "start_time": "2023-08-18T10:42:57.512Z"
   },
   {
    "duration": 5,
    "start_time": "2023-08-18T10:44:00.838Z"
   },
   {
    "duration": 83,
    "start_time": "2023-08-18T10:45:20.839Z"
   },
   {
    "duration": 59,
    "start_time": "2023-08-18T10:45:38.232Z"
   },
   {
    "duration": 4,
    "start_time": "2023-08-18T10:45:48.693Z"
   },
   {
    "duration": 127,
    "start_time": "2023-08-18T10:59:15.633Z"
   },
   {
    "duration": 125,
    "start_time": "2023-08-18T11:00:10.698Z"
   },
   {
    "duration": 129,
    "start_time": "2023-08-18T11:03:56.961Z"
   },
   {
    "duration": 209,
    "start_time": "2023-08-18T11:04:22.421Z"
   },
   {
    "duration": 12,
    "start_time": "2023-08-18T11:05:24.423Z"
   },
   {
    "duration": 10,
    "start_time": "2023-08-18T11:07:32.306Z"
   },
   {
    "duration": 11,
    "start_time": "2023-08-18T11:07:41.940Z"
   },
   {
    "duration": 9,
    "start_time": "2023-08-18T11:07:49.623Z"
   },
   {
    "duration": 10,
    "start_time": "2023-08-18T11:14:00.525Z"
   },
   {
    "duration": 3,
    "start_time": "2023-08-18T11:14:08.912Z"
   },
   {
    "duration": 7,
    "start_time": "2023-08-18T11:14:15.355Z"
   },
   {
    "duration": 3,
    "start_time": "2023-08-18T11:15:29.970Z"
   },
   {
    "duration": 8,
    "start_time": "2023-08-18T11:15:41.227Z"
   },
   {
    "duration": 12,
    "start_time": "2023-08-18T11:16:20.605Z"
   },
   {
    "duration": 9,
    "start_time": "2023-08-18T11:17:23.858Z"
   },
   {
    "duration": 8,
    "start_time": "2023-08-18T11:17:35.555Z"
   },
   {
    "duration": 224,
    "start_time": "2023-08-18T11:17:40.015Z"
   },
   {
    "duration": 195,
    "start_time": "2023-08-18T11:18:37.026Z"
   },
   {
    "duration": 502,
    "start_time": "2023-08-18T11:54:31.669Z"
   },
   {
    "duration": 33,
    "start_time": "2023-08-18T12:19:44.465Z"
   },
   {
    "duration": 24,
    "start_time": "2023-08-18T13:07:31.913Z"
   },
   {
    "duration": 7,
    "start_time": "2023-08-18T13:08:00.996Z"
   },
   {
    "duration": 22,
    "start_time": "2023-08-18T13:08:30.699Z"
   },
   {
    "duration": 19,
    "start_time": "2023-08-18T13:08:47.883Z"
   },
   {
    "duration": 1318,
    "start_time": "2023-08-18T17:24:01.100Z"
   },
   {
    "duration": 311,
    "start_time": "2023-08-18T17:24:02.420Z"
   },
   {
    "duration": 14,
    "start_time": "2023-08-18T17:24:02.733Z"
   },
   {
    "duration": 33,
    "start_time": "2023-08-18T17:24:02.749Z"
   },
   {
    "duration": 16,
    "start_time": "2023-08-18T17:24:02.784Z"
   },
   {
    "duration": 11,
    "start_time": "2023-08-18T17:24:02.802Z"
   },
   {
    "duration": 19,
    "start_time": "2023-08-18T17:24:02.815Z"
   },
   {
    "duration": 24,
    "start_time": "2023-08-18T17:24:02.836Z"
   },
   {
    "duration": 30,
    "start_time": "2023-08-18T17:24:02.862Z"
   },
   {
    "duration": 48,
    "start_time": "2023-08-18T17:24:02.894Z"
   },
   {
    "duration": 19,
    "start_time": "2023-08-18T17:24:02.944Z"
   },
   {
    "duration": 17,
    "start_time": "2023-08-18T17:24:02.965Z"
   },
   {
    "duration": 16,
    "start_time": "2023-08-18T17:24:02.983Z"
   },
   {
    "duration": 455,
    "start_time": "2023-08-18T17:24:03.001Z"
   },
   {
    "duration": 19,
    "start_time": "2023-08-18T17:24:03.458Z"
   },
   {
    "duration": 82,
    "start_time": "2023-08-18T17:24:03.478Z"
   },
   {
    "duration": 29,
    "start_time": "2023-08-18T17:24:03.562Z"
   },
   {
    "duration": 644,
    "start_time": "2023-08-18T17:24:03.592Z"
   },
   {
    "duration": 8,
    "start_time": "2023-08-18T17:24:04.238Z"
   },
   {
    "duration": 13,
    "start_time": "2023-08-18T17:24:04.256Z"
   },
   {
    "duration": 123,
    "start_time": "2023-08-18T17:24:04.272Z"
   },
   {
    "duration": 19,
    "start_time": "2023-08-18T17:24:04.397Z"
   },
   {
    "duration": 1192,
    "start_time": "2023-08-18T17:25:46.154Z"
   },
   {
    "duration": 100,
    "start_time": "2023-08-18T17:25:47.348Z"
   },
   {
    "duration": 17,
    "start_time": "2023-08-18T17:25:47.450Z"
   },
   {
    "duration": 38,
    "start_time": "2023-08-18T17:25:47.469Z"
   },
   {
    "duration": 17,
    "start_time": "2023-08-18T17:25:47.509Z"
   },
   {
    "duration": 30,
    "start_time": "2023-08-18T17:25:47.528Z"
   },
   {
    "duration": 16,
    "start_time": "2023-08-18T17:25:47.560Z"
   },
   {
    "duration": 36,
    "start_time": "2023-08-18T17:25:47.578Z"
   },
   {
    "duration": 29,
    "start_time": "2023-08-18T17:25:47.616Z"
   },
   {
    "duration": 23,
    "start_time": "2023-08-18T17:25:47.647Z"
   },
   {
    "duration": 44,
    "start_time": "2023-08-18T17:25:47.671Z"
   },
   {
    "duration": 23,
    "start_time": "2023-08-18T17:25:47.717Z"
   },
   {
    "duration": 29,
    "start_time": "2023-08-18T17:25:47.742Z"
   },
   {
    "duration": 464,
    "start_time": "2023-08-18T17:25:47.775Z"
   },
   {
    "duration": 33,
    "start_time": "2023-08-18T17:25:48.242Z"
   },
   {
    "duration": 91,
    "start_time": "2023-08-18T17:25:48.277Z"
   },
   {
    "duration": 32,
    "start_time": "2023-08-18T17:25:48.371Z"
   },
   {
    "duration": 639,
    "start_time": "2023-08-18T17:25:48.406Z"
   },
   {
    "duration": 14,
    "start_time": "2023-08-18T17:25:49.047Z"
   },
   {
    "duration": 31,
    "start_time": "2023-08-18T17:25:49.063Z"
   },
   {
    "duration": 155,
    "start_time": "2023-08-18T17:25:49.096Z"
   },
   {
    "duration": 23,
    "start_time": "2023-08-18T17:25:49.256Z"
   },
   {
    "duration": 10,
    "start_time": "2023-08-18T17:26:51.895Z"
   },
   {
    "duration": 106,
    "start_time": "2023-08-18T17:26:56.542Z"
   },
   {
    "duration": 15,
    "start_time": "2023-08-18T17:27:00.745Z"
   },
   {
    "duration": 9,
    "start_time": "2023-08-18T17:27:05.410Z"
   },
   {
    "duration": 1501,
    "start_time": "2023-08-19T08:50:43.890Z"
   },
   {
    "duration": 163,
    "start_time": "2023-08-19T08:50:45.394Z"
   },
   {
    "duration": 33,
    "start_time": "2023-08-19T08:50:45.561Z"
   },
   {
    "duration": 42,
    "start_time": "2023-08-19T08:50:45.597Z"
   },
   {
    "duration": 25,
    "start_time": "2023-08-19T08:50:45.641Z"
   },
   {
    "duration": 25,
    "start_time": "2023-08-19T08:50:45.668Z"
   },
   {
    "duration": 9,
    "start_time": "2023-08-19T08:50:45.695Z"
   },
   {
    "duration": 7,
    "start_time": "2023-08-19T08:50:45.706Z"
   },
   {
    "duration": 6,
    "start_time": "2023-08-19T08:50:45.714Z"
   },
   {
    "duration": 9,
    "start_time": "2023-08-19T08:50:45.721Z"
   },
   {
    "duration": 68,
    "start_time": "2023-08-19T08:50:45.731Z"
   },
   {
    "duration": 21,
    "start_time": "2023-08-19T08:50:45.805Z"
   },
   {
    "duration": 24,
    "start_time": "2023-08-19T08:50:45.828Z"
   },
   {
    "duration": 672,
    "start_time": "2023-08-19T08:50:45.858Z"
   },
   {
    "duration": 31,
    "start_time": "2023-08-19T08:50:46.532Z"
   },
   {
    "duration": 110,
    "start_time": "2023-08-19T08:50:46.565Z"
   },
   {
    "duration": 41,
    "start_time": "2023-08-19T08:50:46.680Z"
   },
   {
    "duration": 813,
    "start_time": "2023-08-19T08:50:46.723Z"
   },
   {
    "duration": 16,
    "start_time": "2023-08-19T08:50:47.538Z"
   },
   {
    "duration": 22,
    "start_time": "2023-08-19T08:50:47.555Z"
   },
   {
    "duration": 140,
    "start_time": "2023-08-19T08:50:47.579Z"
   },
   {
    "duration": 29,
    "start_time": "2023-08-19T08:50:47.721Z"
   },
   {
    "duration": 25,
    "start_time": "2023-08-19T08:51:14.218Z"
   },
   {
    "duration": 1240,
    "start_time": "2023-08-19T09:01:10.444Z"
   },
   {
    "duration": 81,
    "start_time": "2023-08-19T09:01:11.686Z"
   },
   {
    "duration": 24,
    "start_time": "2023-08-19T09:01:11.769Z"
   },
   {
    "duration": 28,
    "start_time": "2023-08-19T09:01:11.795Z"
   },
   {
    "duration": 34,
    "start_time": "2023-08-19T09:01:11.825Z"
   },
   {
    "duration": 27,
    "start_time": "2023-08-19T09:01:11.861Z"
   },
   {
    "duration": 18,
    "start_time": "2023-08-19T09:01:11.890Z"
   },
   {
    "duration": 6,
    "start_time": "2023-08-19T09:01:11.909Z"
   },
   {
    "duration": 6,
    "start_time": "2023-08-19T09:01:11.916Z"
   },
   {
    "duration": 11,
    "start_time": "2023-08-19T09:01:11.925Z"
   },
   {
    "duration": 40,
    "start_time": "2023-08-19T09:01:11.937Z"
   },
   {
    "duration": 16,
    "start_time": "2023-08-19T09:01:11.979Z"
   },
   {
    "duration": 15,
    "start_time": "2023-08-19T09:01:11.997Z"
   },
   {
    "duration": 490,
    "start_time": "2023-08-19T09:01:12.014Z"
   },
   {
    "duration": 19,
    "start_time": "2023-08-19T09:01:12.506Z"
   },
   {
    "duration": 95,
    "start_time": "2023-08-19T09:01:12.527Z"
   },
   {
    "duration": 52,
    "start_time": "2023-08-19T09:01:12.624Z"
   },
   {
    "duration": 632,
    "start_time": "2023-08-19T09:01:12.679Z"
   },
   {
    "duration": 74,
    "start_time": "2023-08-19T09:01:13.312Z"
   },
   {
    "duration": 8,
    "start_time": "2023-08-19T09:01:13.387Z"
   },
   {
    "duration": 71,
    "start_time": "2023-08-19T09:01:13.396Z"
   },
   {
    "duration": 287,
    "start_time": "2023-08-19T09:01:13.470Z"
   },
   {
    "duration": 29,
    "start_time": "2023-08-19T09:01:13.759Z"
   },
   {
    "duration": 48,
    "start_time": "2023-08-19T09:02:20.996Z"
   },
   {
    "duration": 127,
    "start_time": "2023-08-19T09:03:30.713Z"
   },
   {
    "duration": 28,
    "start_time": "2023-08-19T09:03:38.591Z"
   },
   {
    "duration": 29,
    "start_time": "2023-08-19T09:12:58.206Z"
   },
   {
    "duration": 15,
    "start_time": "2023-08-19T09:13:03.580Z"
   },
   {
    "duration": 30,
    "start_time": "2023-08-19T09:13:36.066Z"
   },
   {
    "duration": 30,
    "start_time": "2023-08-19T09:35:12.424Z"
   },
   {
    "duration": 24,
    "start_time": "2023-08-19T09:35:51.870Z"
   },
   {
    "duration": 27,
    "start_time": "2023-08-19T09:40:32.420Z"
   },
   {
    "duration": 465,
    "start_time": "2023-08-19T09:41:53.202Z"
   },
   {
    "duration": 286,
    "start_time": "2023-08-19T09:42:28.321Z"
   },
   {
    "duration": 197,
    "start_time": "2023-08-19T09:43:17.991Z"
   },
   {
    "duration": 491,
    "start_time": "2023-08-19T09:48:58.093Z"
   },
   {
    "duration": 483,
    "start_time": "2023-08-19T09:49:09.504Z"
   },
   {
    "duration": 204,
    "start_time": "2023-08-19T09:49:32.348Z"
   },
   {
    "duration": 190,
    "start_time": "2023-08-19T09:49:44.828Z"
   },
   {
    "duration": 202,
    "start_time": "2023-08-19T09:50:44.827Z"
   },
   {
    "duration": 316,
    "start_time": "2023-08-19T09:51:00.594Z"
   },
   {
    "duration": 194,
    "start_time": "2023-08-19T09:51:12.746Z"
   },
   {
    "duration": 273,
    "start_time": "2023-08-19T09:51:26.073Z"
   },
   {
    "duration": 253,
    "start_time": "2023-08-19T09:51:52.976Z"
   },
   {
    "duration": 314,
    "start_time": "2023-08-19T09:52:08.790Z"
   },
   {
    "duration": 326,
    "start_time": "2023-08-19T09:52:23.469Z"
   },
   {
    "duration": 367,
    "start_time": "2023-08-19T09:52:52.713Z"
   },
   {
    "duration": 459,
    "start_time": "2023-08-19T09:53:05.333Z"
   },
   {
    "duration": 554,
    "start_time": "2023-08-19T09:53:18.816Z"
   },
   {
    "duration": 300,
    "start_time": "2023-08-19T09:54:31.016Z"
   },
   {
    "duration": 519,
    "start_time": "2023-08-19T09:55:39.005Z"
   },
   {
    "duration": 587,
    "start_time": "2023-08-19T09:56:04.667Z"
   },
   {
    "duration": 504,
    "start_time": "2023-08-19T09:56:49.642Z"
   },
   {
    "duration": 524,
    "start_time": "2023-08-19T09:57:46.838Z"
   },
   {
    "duration": 389,
    "start_time": "2023-08-19T09:57:53.130Z"
   },
   {
    "duration": 423,
    "start_time": "2023-08-19T09:57:56.466Z"
   },
   {
    "duration": 587,
    "start_time": "2023-08-19T09:59:03.594Z"
   },
   {
    "duration": 340,
    "start_time": "2023-08-19T10:01:33.439Z"
   },
   {
    "duration": 560,
    "start_time": "2023-08-19T10:01:49.414Z"
   },
   {
    "duration": 532,
    "start_time": "2023-08-19T10:04:04.220Z"
   },
   {
    "duration": 614,
    "start_time": "2023-08-19T10:06:06.810Z"
   },
   {
    "duration": 334,
    "start_time": "2023-08-19T10:07:56.006Z"
   },
   {
    "duration": 547,
    "start_time": "2023-08-19T10:08:18.608Z"
   },
   {
    "duration": 1297,
    "start_time": "2023-08-19T10:08:48.314Z"
   },
   {
    "duration": 80,
    "start_time": "2023-08-19T10:08:49.613Z"
   },
   {
    "duration": 14,
    "start_time": "2023-08-19T10:08:49.696Z"
   },
   {
    "duration": 44,
    "start_time": "2023-08-19T10:08:49.712Z"
   },
   {
    "duration": 20,
    "start_time": "2023-08-19T10:08:49.758Z"
   },
   {
    "duration": 11,
    "start_time": "2023-08-19T10:08:49.782Z"
   },
   {
    "duration": 11,
    "start_time": "2023-08-19T10:08:49.795Z"
   },
   {
    "duration": 12,
    "start_time": "2023-08-19T10:08:49.808Z"
   },
   {
    "duration": 10,
    "start_time": "2023-08-19T10:08:49.821Z"
   },
   {
    "duration": 20,
    "start_time": "2023-08-19T10:08:49.834Z"
   },
   {
    "duration": 31,
    "start_time": "2023-08-19T10:08:49.857Z"
   },
   {
    "duration": 18,
    "start_time": "2023-08-19T10:08:49.890Z"
   },
   {
    "duration": 21,
    "start_time": "2023-08-19T10:08:49.911Z"
   },
   {
    "duration": 456,
    "start_time": "2023-08-19T10:08:49.934Z"
   },
   {
    "duration": 25,
    "start_time": "2023-08-19T10:08:50.392Z"
   },
   {
    "duration": 95,
    "start_time": "2023-08-19T10:08:50.420Z"
   },
   {
    "duration": 51,
    "start_time": "2023-08-19T10:08:50.517Z"
   },
   {
    "duration": 585,
    "start_time": "2023-08-19T10:08:50.576Z"
   },
   {
    "duration": 18,
    "start_time": "2023-08-19T10:08:51.162Z"
   },
   {
    "duration": 11,
    "start_time": "2023-08-19T10:08:51.182Z"
   },
   {
    "duration": 245,
    "start_time": "2023-08-19T10:08:51.195Z"
   },
   {
    "duration": 43,
    "start_time": "2023-08-19T10:08:51.442Z"
   },
   {
    "duration": 41,
    "start_time": "2023-08-19T10:08:51.487Z"
   },
   {
    "duration": 596,
    "start_time": "2023-08-19T10:08:51.530Z"
   },
   {
    "duration": 725,
    "start_time": "2023-08-19T10:09:19.412Z"
   },
   {
    "duration": 496,
    "start_time": "2023-08-19T10:10:05.130Z"
   },
   {
    "duration": 489,
    "start_time": "2023-08-19T10:11:29.050Z"
   },
   {
    "duration": 556,
    "start_time": "2023-08-19T10:12:18.677Z"
   },
   {
    "duration": 720,
    "start_time": "2023-08-19T10:14:32.683Z"
   },
   {
    "duration": 615,
    "start_time": "2023-08-19T10:14:48.500Z"
   },
   {
    "duration": 117,
    "start_time": "2023-08-19T10:15:01.156Z"
   },
   {
    "duration": 785,
    "start_time": "2023-08-19T10:15:08.476Z"
   },
   {
    "duration": 447,
    "start_time": "2023-08-19T10:15:28.558Z"
   },
   {
    "duration": 494,
    "start_time": "2023-08-19T10:17:38.292Z"
   },
   {
    "duration": 576,
    "start_time": "2023-08-19T10:18:18.321Z"
   },
   {
    "duration": 25,
    "start_time": "2023-08-19T10:18:51.216Z"
   },
   {
    "duration": 30,
    "start_time": "2023-08-19T10:19:22.285Z"
   },
   {
    "duration": 467,
    "start_time": "2023-08-19T10:19:33.437Z"
   },
   {
    "duration": 492,
    "start_time": "2023-08-19T10:20:08.994Z"
   },
   {
    "duration": 509,
    "start_time": "2023-08-19T10:20:33.576Z"
   },
   {
    "duration": 492,
    "start_time": "2023-08-19T10:21:34.690Z"
   },
   {
    "duration": 593,
    "start_time": "2023-08-19T10:21:52.173Z"
   },
   {
    "duration": 15,
    "start_time": "2023-08-19T10:22:29.861Z"
   },
   {
    "duration": 16,
    "start_time": "2023-08-19T10:22:42.063Z"
   },
   {
    "duration": 20,
    "start_time": "2023-08-19T10:23:11.004Z"
   },
   {
    "duration": 13,
    "start_time": "2023-08-19T10:23:27.000Z"
   },
   {
    "duration": 526,
    "start_time": "2023-08-19T10:23:41.297Z"
   },
   {
    "duration": 443,
    "start_time": "2023-08-19T10:24:32.309Z"
   },
   {
    "duration": 409,
    "start_time": "2023-08-19T10:24:49.571Z"
   },
   {
    "duration": 269,
    "start_time": "2023-08-19T10:26:45.300Z"
   },
   {
    "duration": 221,
    "start_time": "2023-08-19T10:27:02.213Z"
   },
   {
    "duration": 230,
    "start_time": "2023-08-19T10:27:11.301Z"
   },
   {
    "duration": 281,
    "start_time": "2023-08-19T10:27:24.429Z"
   },
   {
    "duration": 357,
    "start_time": "2023-08-19T10:27:44.746Z"
   },
   {
    "duration": 379,
    "start_time": "2023-08-19T10:27:57.575Z"
   },
   {
    "duration": 355,
    "start_time": "2023-08-19T10:28:15.483Z"
   },
   {
    "duration": 367,
    "start_time": "2023-08-19T10:28:29.904Z"
   },
   {
    "duration": 366,
    "start_time": "2023-08-19T10:30:08.719Z"
   },
   {
    "duration": 354,
    "start_time": "2023-08-19T10:30:23.424Z"
   },
   {
    "duration": 342,
    "start_time": "2023-08-19T10:31:37.204Z"
   },
   {
    "duration": 492,
    "start_time": "2023-08-19T10:31:54.405Z"
   },
   {
    "duration": 379,
    "start_time": "2023-08-19T10:34:48.520Z"
   },
   {
    "duration": 376,
    "start_time": "2023-08-19T10:35:42.626Z"
   },
   {
    "duration": 377,
    "start_time": "2023-08-19T10:36:29.432Z"
   },
   {
    "duration": 341,
    "start_time": "2023-08-19T10:36:45.099Z"
   },
   {
    "duration": 338,
    "start_time": "2023-08-19T10:37:49.042Z"
   },
   {
    "duration": 473,
    "start_time": "2023-08-19T10:38:45.521Z"
   },
   {
    "duration": 447,
    "start_time": "2023-08-19T10:39:28.941Z"
   },
   {
    "duration": 362,
    "start_time": "2023-08-19T10:39:52.965Z"
   },
   {
    "duration": 367,
    "start_time": "2023-08-19T10:41:15.510Z"
   },
   {
    "duration": 364,
    "start_time": "2023-08-19T10:43:44.218Z"
   },
   {
    "duration": 468,
    "start_time": "2023-08-19T10:44:48.447Z"
   },
   {
    "duration": 369,
    "start_time": "2023-08-19T10:46:34.073Z"
   },
   {
    "duration": 386,
    "start_time": "2023-08-19T10:46:49.036Z"
   },
   {
    "duration": 394,
    "start_time": "2023-08-19T10:47:04.175Z"
   },
   {
    "duration": 379,
    "start_time": "2023-08-19T10:50:05.144Z"
   },
   {
    "duration": 361,
    "start_time": "2023-08-19T10:51:12.117Z"
   },
   {
    "duration": 12,
    "start_time": "2023-08-19T11:13:54.013Z"
   },
   {
    "duration": 114,
    "start_time": "2023-08-19T11:14:25.751Z"
   },
   {
    "duration": 3763,
    "start_time": "2023-08-19T11:15:53.902Z"
   },
   {
    "duration": 12,
    "start_time": "2023-08-19T11:18:37.175Z"
   },
   {
    "duration": 438,
    "start_time": "2023-08-19T11:19:11.426Z"
   },
   {
    "duration": 158,
    "start_time": "2023-08-19T11:31:15.384Z"
   },
   {
    "duration": 300,
    "start_time": "2023-08-19T11:34:09.017Z"
   },
   {
    "duration": 306,
    "start_time": "2023-08-19T11:36:16.828Z"
   },
   {
    "duration": 243,
    "start_time": "2023-08-19T11:38:34.364Z"
   },
   {
    "duration": 290,
    "start_time": "2023-08-19T11:40:26.885Z"
   },
   {
    "duration": 289,
    "start_time": "2023-08-19T11:40:52.409Z"
   },
   {
    "duration": 183,
    "start_time": "2023-08-19T11:41:00.658Z"
   },
   {
    "duration": 284,
    "start_time": "2023-08-19T11:41:12.048Z"
   },
   {
    "duration": 345,
    "start_time": "2023-08-19T11:41:20.508Z"
   },
   {
    "duration": 321,
    "start_time": "2023-08-19T11:41:29.602Z"
   },
   {
    "duration": 293,
    "start_time": "2023-08-19T11:41:36.886Z"
   },
   {
    "duration": 317,
    "start_time": "2023-08-19T11:42:14.804Z"
   },
   {
    "duration": 10,
    "start_time": "2023-08-19T11:42:59.820Z"
   },
   {
    "duration": 9,
    "start_time": "2023-08-19T11:43:06.745Z"
   },
   {
    "duration": 1661,
    "start_time": "2023-08-19T11:43:20.163Z"
   },
   {
    "duration": 1978,
    "start_time": "2023-08-19T11:43:47.450Z"
   },
   {
    "duration": 1510,
    "start_time": "2023-08-19T11:43:52.728Z"
   },
   {
    "duration": 466,
    "start_time": "2023-08-19T11:44:11.241Z"
   },
   {
    "duration": 327,
    "start_time": "2023-08-19T11:44:19.902Z"
   },
   {
    "duration": 360,
    "start_time": "2023-08-19T12:05:05.455Z"
   },
   {
    "duration": 301,
    "start_time": "2023-08-19T12:05:25.522Z"
   },
   {
    "duration": 310,
    "start_time": "2023-08-19T12:05:36.804Z"
   },
   {
    "duration": 321,
    "start_time": "2023-08-19T12:05:49.618Z"
   },
   {
    "duration": 331,
    "start_time": "2023-08-19T12:06:10.062Z"
   },
   {
    "duration": 3,
    "start_time": "2023-08-19T12:39:09.812Z"
   },
   {
    "duration": 3,
    "start_time": "2023-08-19T12:39:12.787Z"
   },
   {
    "duration": 316,
    "start_time": "2023-08-19T12:42:11.693Z"
   },
   {
    "duration": 565,
    "start_time": "2023-08-19T12:47:42.083Z"
   },
   {
    "duration": 9,
    "start_time": "2023-08-19T12:47:59.349Z"
   },
   {
    "duration": 10,
    "start_time": "2023-08-19T12:49:04.804Z"
   },
   {
    "duration": 11,
    "start_time": "2023-08-19T12:50:02.299Z"
   },
   {
    "duration": 364,
    "start_time": "2023-08-19T12:50:15.105Z"
   },
   {
    "duration": 790,
    "start_time": "2023-08-19T12:50:45.007Z"
   },
   {
    "duration": 988,
    "start_time": "2023-08-19T12:51:51.796Z"
   },
   {
    "duration": 600,
    "start_time": "2023-08-19T12:53:18.557Z"
   },
   {
    "duration": 161,
    "start_time": "2023-08-19T12:55:39.719Z"
   },
   {
    "duration": 564,
    "start_time": "2023-08-19T12:55:56.740Z"
   },
   {
    "duration": 24766,
    "start_time": "2023-08-19T12:56:18.777Z"
   },
   {
    "duration": 5050,
    "start_time": "2023-08-19T12:56:54.222Z"
   },
   {
    "duration": 373,
    "start_time": "2023-08-19T12:57:08.343Z"
   },
   {
    "duration": 473,
    "start_time": "2023-08-19T12:57:28.457Z"
   },
   {
    "duration": 286,
    "start_time": "2023-08-19T12:59:32.845Z"
   },
   {
    "duration": 355,
    "start_time": "2023-08-19T12:59:56.484Z"
   },
   {
    "duration": 5,
    "start_time": "2023-08-19T13:08:06.253Z"
   },
   {
    "duration": 310,
    "start_time": "2023-08-19T13:08:13.058Z"
   },
   {
    "duration": 305,
    "start_time": "2023-08-19T13:08:23.917Z"
   },
   {
    "duration": 299,
    "start_time": "2023-08-19T13:08:38.343Z"
   },
   {
    "duration": 373,
    "start_time": "2023-08-19T13:10:50.960Z"
   },
   {
    "duration": 309,
    "start_time": "2023-08-19T13:11:05.506Z"
   },
   {
    "duration": 269,
    "start_time": "2023-08-19T13:11:51.222Z"
   },
   {
    "duration": 285,
    "start_time": "2023-08-19T13:11:58.851Z"
   },
   {
    "duration": 5,
    "start_time": "2023-08-19T13:15:32.664Z"
   },
   {
    "duration": 277,
    "start_time": "2023-08-19T13:15:37.688Z"
   },
   {
    "duration": 395,
    "start_time": "2023-08-19T13:16:06.754Z"
   },
   {
    "duration": 277,
    "start_time": "2023-08-19T13:16:22.688Z"
   },
   {
    "duration": 324,
    "start_time": "2023-08-19T13:16:29.176Z"
   },
   {
    "duration": 1473,
    "start_time": "2023-08-19T16:15:31.918Z"
   },
   {
    "duration": 119,
    "start_time": "2023-08-19T16:15:33.393Z"
   },
   {
    "duration": 18,
    "start_time": "2023-08-19T16:15:33.514Z"
   },
   {
    "duration": 143,
    "start_time": "2023-08-19T16:15:33.534Z"
   },
   {
    "duration": 70,
    "start_time": "2023-08-19T16:15:33.679Z"
   },
   {
    "duration": 70,
    "start_time": "2023-08-19T16:15:33.751Z"
   },
   {
    "duration": 43,
    "start_time": "2023-08-19T16:15:33.822Z"
   },
   {
    "duration": 53,
    "start_time": "2023-08-19T16:15:33.866Z"
   },
   {
    "duration": 25,
    "start_time": "2023-08-19T16:15:33.920Z"
   },
   {
    "duration": 15,
    "start_time": "2023-08-19T16:15:33.948Z"
   },
   {
    "duration": 26,
    "start_time": "2023-08-19T16:15:33.965Z"
   },
   {
    "duration": 60,
    "start_time": "2023-08-19T16:15:33.992Z"
   },
   {
    "duration": 26,
    "start_time": "2023-08-19T16:15:34.054Z"
   },
   {
    "duration": 445,
    "start_time": "2023-08-19T16:15:34.082Z"
   },
   {
    "duration": 22,
    "start_time": "2023-08-19T16:15:34.529Z"
   },
   {
    "duration": 89,
    "start_time": "2023-08-19T16:15:34.553Z"
   },
   {
    "duration": 33,
    "start_time": "2023-08-19T16:15:34.645Z"
   },
   {
    "duration": 545,
    "start_time": "2023-08-19T16:15:34.679Z"
   },
   {
    "duration": 10,
    "start_time": "2023-08-19T16:15:35.227Z"
   },
   {
    "duration": 37,
    "start_time": "2023-08-19T16:15:35.239Z"
   },
   {
    "duration": 235,
    "start_time": "2023-08-19T16:15:35.278Z"
   },
   {
    "duration": 28,
    "start_time": "2023-08-19T16:15:35.514Z"
   },
   {
    "duration": 112,
    "start_time": "2023-08-19T16:15:35.544Z"
   },
   {
    "duration": 440,
    "start_time": "2023-08-19T16:15:35.658Z"
   },
   {
    "duration": 394,
    "start_time": "2023-08-19T16:15:36.100Z"
   },
   {
    "duration": 28,
    "start_time": "2023-08-19T16:50:53.791Z"
   },
   {
    "duration": 25,
    "start_time": "2023-08-19T16:51:54.175Z"
   },
   {
    "duration": 75,
    "start_time": "2023-08-19T17:01:14.547Z"
   },
   {
    "duration": 70,
    "start_time": "2023-08-19T17:03:50.856Z"
   },
   {
    "duration": 90,
    "start_time": "2023-08-19T17:04:16.161Z"
   },
   {
    "duration": 95,
    "start_time": "2023-08-19T17:05:22.607Z"
   },
   {
    "duration": 6,
    "start_time": "2023-08-19T17:05:40.180Z"
   },
   {
    "duration": 167,
    "start_time": "2023-08-19T17:06:15.187Z"
   },
   {
    "duration": 168,
    "start_time": "2023-08-19T17:06:28.973Z"
   },
   {
    "duration": 83,
    "start_time": "2023-08-19T17:09:20.565Z"
   },
   {
    "duration": 112,
    "start_time": "2023-08-19T17:09:49.459Z"
   },
   {
    "duration": 72,
    "start_time": "2023-08-19T17:09:57.687Z"
   },
   {
    "duration": 10,
    "start_time": "2023-08-19T17:10:14.922Z"
   },
   {
    "duration": 85,
    "start_time": "2023-08-19T17:10:24.135Z"
   },
   {
    "duration": 88,
    "start_time": "2023-08-19T17:10:28.962Z"
   },
   {
    "duration": 84,
    "start_time": "2023-08-19T17:12:31.371Z"
   },
   {
    "duration": 5,
    "start_time": "2023-08-19T17:12:43.514Z"
   },
   {
    "duration": 180,
    "start_time": "2023-08-19T17:13:36.438Z"
   },
   {
    "duration": 4,
    "start_time": "2023-08-19T17:13:58.931Z"
   },
   {
    "duration": 95,
    "start_time": "2023-08-19T17:14:34.234Z"
   },
   {
    "duration": 1151,
    "start_time": "2023-08-19T17:14:42.141Z"
   },
   {
    "duration": 74,
    "start_time": "2023-08-19T17:14:43.294Z"
   },
   {
    "duration": 14,
    "start_time": "2023-08-19T17:14:43.370Z"
   },
   {
    "duration": 39,
    "start_time": "2023-08-19T17:14:43.386Z"
   },
   {
    "duration": 14,
    "start_time": "2023-08-19T17:14:43.426Z"
   },
   {
    "duration": 10,
    "start_time": "2023-08-19T17:14:43.441Z"
   },
   {
    "duration": 8,
    "start_time": "2023-08-19T17:14:43.453Z"
   },
   {
    "duration": 8,
    "start_time": "2023-08-19T17:14:43.463Z"
   },
   {
    "duration": 10,
    "start_time": "2023-08-19T17:14:43.472Z"
   },
   {
    "duration": 5,
    "start_time": "2023-08-19T17:14:43.485Z"
   },
   {
    "duration": 39,
    "start_time": "2023-08-19T17:14:43.492Z"
   },
   {
    "duration": 16,
    "start_time": "2023-08-19T17:14:43.533Z"
   },
   {
    "duration": 16,
    "start_time": "2023-08-19T17:14:43.550Z"
   },
   {
    "duration": 424,
    "start_time": "2023-08-19T17:14:43.567Z"
   },
   {
    "duration": 18,
    "start_time": "2023-08-19T17:14:43.992Z"
   },
   {
    "duration": 71,
    "start_time": "2023-08-19T17:14:44.012Z"
   },
   {
    "duration": 45,
    "start_time": "2023-08-19T17:14:44.085Z"
   },
   {
    "duration": 535,
    "start_time": "2023-08-19T17:14:44.132Z"
   },
   {
    "duration": 8,
    "start_time": "2023-08-19T17:14:44.668Z"
   },
   {
    "duration": 61,
    "start_time": "2023-08-19T17:14:44.678Z"
   },
   {
    "duration": 199,
    "start_time": "2023-08-19T17:14:44.741Z"
   },
   {
    "duration": 23,
    "start_time": "2023-08-19T17:14:44.942Z"
   },
   {
    "duration": 23,
    "start_time": "2023-08-19T17:14:44.967Z"
   },
   {
    "duration": 358,
    "start_time": "2023-08-19T17:14:44.992Z"
   },
   {
    "duration": 365,
    "start_time": "2023-08-19T17:14:45.352Z"
   },
   {
    "duration": 32,
    "start_time": "2023-08-19T17:14:45.718Z"
   },
   {
    "duration": 5,
    "start_time": "2023-08-19T17:14:45.752Z"
   },
   {
    "duration": 276,
    "start_time": "2023-08-19T17:14:45.760Z"
   },
   {
    "duration": 90,
    "start_time": "2023-08-19T17:14:46.038Z"
   },
   {
    "duration": 107,
    "start_time": "2023-08-19T17:15:23.084Z"
   },
   {
    "duration": 5,
    "start_time": "2023-08-19T17:16:00.693Z"
   },
   {
    "duration": 4,
    "start_time": "2023-08-19T17:16:07.623Z"
   },
   {
    "duration": 168,
    "start_time": "2023-08-19T17:16:19.839Z"
   },
   {
    "duration": 95,
    "start_time": "2023-08-19T17:16:52.793Z"
   },
   {
    "duration": 188,
    "start_time": "2023-08-19T17:17:04.477Z"
   },
   {
    "duration": 201,
    "start_time": "2023-08-19T17:33:16.172Z"
   },
   {
    "duration": 201,
    "start_time": "2023-08-19T17:33:39.257Z"
   },
   {
    "duration": 213,
    "start_time": "2023-08-19T17:42:44.064Z"
   },
   {
    "duration": 2805,
    "start_time": "2023-08-19T19:39:06.394Z"
   },
   {
    "duration": 3110,
    "start_time": "2023-08-19T19:40:28.695Z"
   },
   {
    "duration": 1511,
    "start_time": "2023-08-19T19:42:49.043Z"
   },
   {
    "duration": 1459,
    "start_time": "2023-08-21T07:15:26.532Z"
   },
   {
    "duration": 262,
    "start_time": "2023-08-21T07:15:27.993Z"
   },
   {
    "duration": 24,
    "start_time": "2023-08-21T07:15:28.257Z"
   },
   {
    "duration": 55,
    "start_time": "2023-08-21T07:15:28.283Z"
   },
   {
    "duration": 15,
    "start_time": "2023-08-21T07:15:28.340Z"
   },
   {
    "duration": 18,
    "start_time": "2023-08-21T07:15:28.363Z"
   },
   {
    "duration": 12,
    "start_time": "2023-08-21T07:15:28.382Z"
   },
   {
    "duration": 4,
    "start_time": "2023-08-21T07:15:28.396Z"
   },
   {
    "duration": 5,
    "start_time": "2023-08-21T07:15:28.402Z"
   },
   {
    "duration": 7,
    "start_time": "2023-08-21T07:15:28.409Z"
   },
   {
    "duration": 17,
    "start_time": "2023-08-21T07:15:28.418Z"
   },
   {
    "duration": 39,
    "start_time": "2023-08-21T07:15:28.437Z"
   },
   {
    "duration": 21,
    "start_time": "2023-08-21T07:15:28.483Z"
   },
   {
    "duration": 505,
    "start_time": "2023-08-21T07:15:28.506Z"
   },
   {
    "duration": 20,
    "start_time": "2023-08-21T07:15:29.013Z"
   },
   {
    "duration": 98,
    "start_time": "2023-08-21T07:15:29.035Z"
   },
   {
    "duration": 59,
    "start_time": "2023-08-21T07:15:29.135Z"
   },
   {
    "duration": 741,
    "start_time": "2023-08-21T07:15:29.196Z"
   },
   {
    "duration": 8,
    "start_time": "2023-08-21T07:15:29.939Z"
   },
   {
    "duration": 28,
    "start_time": "2023-08-21T07:15:29.962Z"
   },
   {
    "duration": 279,
    "start_time": "2023-08-21T07:15:29.993Z"
   },
   {
    "duration": 35,
    "start_time": "2023-08-21T07:15:30.275Z"
   },
   {
    "duration": 70,
    "start_time": "2023-08-21T07:15:30.312Z"
   },
   {
    "duration": 450,
    "start_time": "2023-08-21T07:15:30.383Z"
   },
   {
    "duration": 494,
    "start_time": "2023-08-21T07:15:30.836Z"
   },
   {
    "duration": 48,
    "start_time": "2023-08-21T07:15:31.332Z"
   },
   {
    "duration": 310,
    "start_time": "2023-08-21T07:15:31.382Z"
   },
   {
    "duration": 225,
    "start_time": "2023-08-21T07:15:31.694Z"
   },
   {
    "duration": 1654,
    "start_time": "2023-08-21T07:15:31.921Z"
   },
   {
    "duration": 25,
    "start_time": "2023-08-21T07:25:29.638Z"
   },
   {
    "duration": 15,
    "start_time": "2023-08-21T07:27:13.728Z"
   },
   {
    "duration": 21,
    "start_time": "2023-08-21T07:27:19.790Z"
   },
   {
    "duration": 30,
    "start_time": "2023-08-21T07:29:52.777Z"
   },
   {
    "duration": 427,
    "start_time": "2023-08-21T07:32:21.699Z"
   },
   {
    "duration": 457,
    "start_time": "2023-08-21T07:33:05.227Z"
   },
   {
    "duration": 577,
    "start_time": "2023-08-21T07:33:46.117Z"
   },
   {
    "duration": 618,
    "start_time": "2023-08-21T07:36:03.218Z"
   },
   {
    "duration": 467,
    "start_time": "2023-08-21T07:36:12.908Z"
   },
   {
    "duration": 462,
    "start_time": "2023-08-21T07:36:33.280Z"
   },
   {
    "duration": 18,
    "start_time": "2023-08-21T07:42:18.772Z"
   },
   {
    "duration": 18,
    "start_time": "2023-08-21T07:42:30.574Z"
   },
   {
    "duration": 2215,
    "start_time": "2023-08-21T07:42:40.320Z"
   },
   {
    "duration": 290,
    "start_time": "2023-08-21T07:42:51.894Z"
   },
   {
    "duration": 567,
    "start_time": "2023-08-21T07:47:57.919Z"
   },
   {
    "duration": 363,
    "start_time": "2023-08-21T07:57:59.988Z"
   },
   {
    "duration": 559,
    "start_time": "2023-08-21T07:58:09.985Z"
   },
   {
    "duration": 25,
    "start_time": "2023-08-21T07:58:45.781Z"
   },
   {
    "duration": 529,
    "start_time": "2023-08-21T07:58:54.378Z"
   },
   {
    "duration": 34,
    "start_time": "2023-08-21T10:46:45.827Z"
   },
   {
    "duration": 966,
    "start_time": "2023-08-21T10:50:10.418Z"
   },
   {
    "duration": 18,
    "start_time": "2023-08-21T11:07:44.549Z"
   },
   {
    "duration": 291,
    "start_time": "2023-08-21T11:22:11.257Z"
   },
   {
    "duration": 270,
    "start_time": "2023-08-21T11:23:35.527Z"
   },
   {
    "duration": 68,
    "start_time": "2023-08-21T11:35:59.622Z"
   },
   {
    "duration": 128,
    "start_time": "2023-08-21T11:36:07.119Z"
   },
   {
    "duration": 66,
    "start_time": "2023-08-21T11:36:18.563Z"
   },
   {
    "duration": 66,
    "start_time": "2023-08-21T11:36:23.679Z"
   },
   {
    "duration": 68,
    "start_time": "2023-08-21T11:36:27.849Z"
   },
   {
    "duration": 247,
    "start_time": "2023-08-21T11:37:18.095Z"
   },
   {
    "duration": 268,
    "start_time": "2023-08-21T11:37:40.455Z"
   },
   {
    "duration": 258,
    "start_time": "2023-08-21T11:37:53.367Z"
   },
   {
    "duration": 297,
    "start_time": "2023-08-21T11:38:19.910Z"
   },
   {
    "duration": 284,
    "start_time": "2023-08-21T11:38:52.878Z"
   },
   {
    "duration": 18,
    "start_time": "2023-08-21T11:44:05.021Z"
   },
   {
    "duration": 282,
    "start_time": "2023-08-21T11:50:05.877Z"
   },
   {
    "duration": 17,
    "start_time": "2023-08-21T12:50:30.666Z"
   },
   {
    "duration": 5,
    "start_time": "2023-08-21T12:52:55.121Z"
   },
   {
    "duration": 17,
    "start_time": "2023-08-21T12:53:02.555Z"
   },
   {
    "duration": 9,
    "start_time": "2023-08-21T12:53:28.075Z"
   },
   {
    "duration": 5,
    "start_time": "2023-08-21T12:53:34.955Z"
   },
   {
    "duration": 16,
    "start_time": "2023-08-21T12:53:38.720Z"
   },
   {
    "duration": 1232,
    "start_time": "2023-08-21T12:53:49.568Z"
   },
   {
    "duration": 77,
    "start_time": "2023-08-21T12:53:50.803Z"
   },
   {
    "duration": 16,
    "start_time": "2023-08-21T12:53:50.882Z"
   },
   {
    "duration": 33,
    "start_time": "2023-08-21T12:53:50.900Z"
   },
   {
    "duration": 31,
    "start_time": "2023-08-21T12:53:50.935Z"
   },
   {
    "duration": 14,
    "start_time": "2023-08-21T12:53:50.969Z"
   },
   {
    "duration": 26,
    "start_time": "2023-08-21T12:53:50.985Z"
   },
   {
    "duration": 38,
    "start_time": "2023-08-21T12:53:51.013Z"
   },
   {
    "duration": 15,
    "start_time": "2023-08-21T12:53:51.053Z"
   },
   {
    "duration": 37,
    "start_time": "2023-08-21T12:53:51.070Z"
   },
   {
    "duration": 21,
    "start_time": "2023-08-21T12:53:51.109Z"
   },
   {
    "duration": 28,
    "start_time": "2023-08-21T12:53:51.132Z"
   },
   {
    "duration": 23,
    "start_time": "2023-08-21T12:53:51.161Z"
   },
   {
    "duration": 39,
    "start_time": "2023-08-21T12:53:51.187Z"
   },
   {
    "duration": 435,
    "start_time": "2023-08-21T12:53:51.227Z"
   },
   {
    "duration": 21,
    "start_time": "2023-08-21T12:53:51.663Z"
   },
   {
    "duration": 83,
    "start_time": "2023-08-21T12:53:51.686Z"
   },
   {
    "duration": 33,
    "start_time": "2023-08-21T12:53:51.771Z"
   },
   {
    "duration": 595,
    "start_time": "2023-08-21T12:53:51.806Z"
   },
   {
    "duration": 9,
    "start_time": "2023-08-21T12:53:52.402Z"
   },
   {
    "duration": 13,
    "start_time": "2023-08-21T12:53:52.412Z"
   },
   {
    "duration": 229,
    "start_time": "2023-08-21T12:53:52.426Z"
   },
   {
    "duration": 25,
    "start_time": "2023-08-21T12:53:52.658Z"
   },
   {
    "duration": 28,
    "start_time": "2023-08-21T12:53:52.684Z"
   },
   {
    "duration": 437,
    "start_time": "2023-08-21T12:53:52.713Z"
   },
   {
    "duration": 426,
    "start_time": "2023-08-21T12:53:53.159Z"
   },
   {
    "duration": 27,
    "start_time": "2023-08-21T12:53:53.586Z"
   },
   {
    "duration": 217,
    "start_time": "2023-08-21T12:53:53.615Z"
   },
   {
    "duration": 225,
    "start_time": "2023-08-21T12:53:53.834Z"
   },
   {
    "duration": 1546,
    "start_time": "2023-08-21T12:53:54.061Z"
   },
   {
    "duration": 32,
    "start_time": "2023-08-21T12:53:55.608Z"
   },
   {
    "duration": 974,
    "start_time": "2023-08-21T12:53:55.642Z"
   },
   {
    "duration": 19,
    "start_time": "2023-08-21T12:53:56.617Z"
   },
   {
    "duration": 396,
    "start_time": "2023-08-21T12:53:56.638Z"
   },
   {
    "duration": 25,
    "start_time": "2023-08-21T12:53:57.035Z"
   },
   {
    "duration": 291,
    "start_time": "2023-08-21T12:53:57.061Z"
   },
   {
    "duration": 19,
    "start_time": "2023-08-21T12:53:57.354Z"
   },
   {
    "duration": 243,
    "start_time": "2023-08-21T12:57:02.400Z"
   },
   {
    "duration": 245,
    "start_time": "2023-08-21T12:58:54.638Z"
   },
   {
    "duration": 62,
    "start_time": "2023-08-21T13:28:17.079Z"
   },
   {
    "duration": 10,
    "start_time": "2023-08-21T13:45:00.811Z"
   },
   {
    "duration": 116,
    "start_time": "2023-08-21T13:50:24.795Z"
   },
   {
    "duration": 12,
    "start_time": "2023-08-21T13:50:32.611Z"
   },
   {
    "duration": 11,
    "start_time": "2023-08-21T14:00:18.137Z"
   },
   {
    "duration": 9,
    "start_time": "2023-08-21T14:03:16.638Z"
   },
   {
    "duration": 13,
    "start_time": "2023-08-21T14:03:23.816Z"
   },
   {
    "duration": 1203,
    "start_time": "2023-08-21T14:04:12.385Z"
   },
   {
    "duration": 0,
    "start_time": "2023-08-21T14:04:13.590Z"
   },
   {
    "duration": 13,
    "start_time": "2023-08-21T14:04:32.263Z"
   },
   {
    "duration": 14,
    "start_time": "2023-08-21T14:04:38.128Z"
   },
   {
    "duration": 15,
    "start_time": "2023-08-21T14:05:50.441Z"
   },
   {
    "duration": 93,
    "start_time": "2023-08-21T14:10:40.183Z"
   },
   {
    "duration": 10,
    "start_time": "2023-08-21T14:10:49.239Z"
   },
   {
    "duration": 14,
    "start_time": "2023-08-21T14:11:01.230Z"
   },
   {
    "duration": 15,
    "start_time": "2023-08-21T14:12:10.230Z"
   },
   {
    "duration": 21,
    "start_time": "2023-08-21T14:12:25.046Z"
   },
   {
    "duration": 24,
    "start_time": "2023-08-21T14:13:34.086Z"
   },
   {
    "duration": 16,
    "start_time": "2023-08-21T14:13:59.236Z"
   },
   {
    "duration": 82,
    "start_time": "2023-08-21T14:16:10.533Z"
   },
   {
    "duration": 11,
    "start_time": "2023-08-21T14:22:38.530Z"
   },
   {
    "duration": 11,
    "start_time": "2023-08-21T14:22:46.666Z"
   },
   {
    "duration": 195,
    "start_time": "2023-08-21T14:45:50.140Z"
   },
   {
    "duration": 132,
    "start_time": "2023-08-21T14:46:11.899Z"
   },
   {
    "duration": 1482,
    "start_time": "2023-08-21T14:46:30.651Z"
   },
   {
    "duration": 1481,
    "start_time": "2023-08-21T14:46:48.755Z"
   },
   {
    "duration": 1247,
    "start_time": "2023-08-21T17:23:51.082Z"
   },
   {
    "duration": 121,
    "start_time": "2023-08-21T17:23:52.331Z"
   },
   {
    "duration": 23,
    "start_time": "2023-08-21T17:23:52.454Z"
   },
   {
    "duration": 51,
    "start_time": "2023-08-21T17:23:52.481Z"
   },
   {
    "duration": 18,
    "start_time": "2023-08-21T17:23:52.533Z"
   },
   {
    "duration": 27,
    "start_time": "2023-08-21T17:23:52.553Z"
   },
   {
    "duration": 21,
    "start_time": "2023-08-21T17:23:52.582Z"
   },
   {
    "duration": 20,
    "start_time": "2023-08-21T17:23:52.604Z"
   },
   {
    "duration": 26,
    "start_time": "2023-08-21T17:23:52.625Z"
   },
   {
    "duration": 15,
    "start_time": "2023-08-21T17:23:52.653Z"
   },
   {
    "duration": 35,
    "start_time": "2023-08-21T17:23:52.670Z"
   },
   {
    "duration": 44,
    "start_time": "2023-08-21T17:23:52.707Z"
   },
   {
    "duration": 19,
    "start_time": "2023-08-21T17:23:52.753Z"
   },
   {
    "duration": 48,
    "start_time": "2023-08-21T17:23:52.774Z"
   },
   {
    "duration": 426,
    "start_time": "2023-08-21T17:23:52.824Z"
   },
   {
    "duration": 18,
    "start_time": "2023-08-21T17:23:53.252Z"
   },
   {
    "duration": 79,
    "start_time": "2023-08-21T17:23:53.272Z"
   },
   {
    "duration": 31,
    "start_time": "2023-08-21T17:23:53.353Z"
   },
   {
    "duration": 541,
    "start_time": "2023-08-21T17:23:53.386Z"
   },
   {
    "duration": 12,
    "start_time": "2023-08-21T17:23:53.936Z"
   },
   {
    "duration": 15,
    "start_time": "2023-08-21T17:23:53.949Z"
   },
   {
    "duration": 213,
    "start_time": "2023-08-21T17:23:53.965Z"
   },
   {
    "duration": 22,
    "start_time": "2023-08-21T17:23:54.180Z"
   },
   {
    "duration": 44,
    "start_time": "2023-08-21T17:23:54.204Z"
   },
   {
    "duration": 423,
    "start_time": "2023-08-21T17:23:54.250Z"
   },
   {
    "duration": 421,
    "start_time": "2023-08-21T17:23:54.675Z"
   },
   {
    "duration": 37,
    "start_time": "2023-08-21T17:23:55.098Z"
   },
   {
    "duration": 225,
    "start_time": "2023-08-21T17:23:55.145Z"
   },
   {
    "duration": 198,
    "start_time": "2023-08-21T17:23:55.372Z"
   },
   {
    "duration": 1435,
    "start_time": "2023-08-21T17:23:55.572Z"
   },
   {
    "duration": 44,
    "start_time": "2023-08-21T17:23:57.009Z"
   },
   {
    "duration": 987,
    "start_time": "2023-08-21T17:23:57.055Z"
   },
   {
    "duration": 21,
    "start_time": "2023-08-21T17:23:58.045Z"
   },
   {
    "duration": 407,
    "start_time": "2023-08-21T17:23:58.068Z"
   },
   {
    "duration": 16,
    "start_time": "2023-08-21T17:23:58.476Z"
   },
   {
    "duration": 297,
    "start_time": "2023-08-21T17:23:58.494Z"
   },
   {
    "duration": 15,
    "start_time": "2023-08-21T17:23:58.793Z"
   },
   {
    "duration": 244,
    "start_time": "2023-08-21T17:23:58.809Z"
   },
   {
    "duration": 11,
    "start_time": "2023-08-21T17:23:59.055Z"
   },
   {
    "duration": 55,
    "start_time": "2023-08-21T17:23:59.068Z"
   },
   {
    "duration": 36,
    "start_time": "2023-08-21T17:23:59.125Z"
   },
   {
    "duration": 41,
    "start_time": "2023-08-21T17:23:59.163Z"
   },
   {
    "duration": 1092,
    "start_time": "2023-08-21T18:49:12.676Z"
   },
   {
    "duration": 72,
    "start_time": "2023-08-21T18:49:13.770Z"
   },
   {
    "duration": 13,
    "start_time": "2023-08-21T18:49:13.844Z"
   },
   {
    "duration": 25,
    "start_time": "2023-08-21T18:49:13.859Z"
   },
   {
    "duration": 14,
    "start_time": "2023-08-21T18:49:13.886Z"
   },
   {
    "duration": 22,
    "start_time": "2023-08-21T18:49:13.901Z"
   },
   {
    "duration": 16,
    "start_time": "2023-08-21T18:49:13.925Z"
   },
   {
    "duration": 7,
    "start_time": "2023-08-21T18:49:13.943Z"
   },
   {
    "duration": 6,
    "start_time": "2023-08-21T18:49:13.951Z"
   },
   {
    "duration": 7,
    "start_time": "2023-08-21T18:49:13.960Z"
   },
   {
    "duration": 14,
    "start_time": "2023-08-21T18:49:13.968Z"
   },
   {
    "duration": 25,
    "start_time": "2023-08-21T18:49:13.983Z"
   },
   {
    "duration": 31,
    "start_time": "2023-08-21T18:49:14.010Z"
   },
   {
    "duration": 14,
    "start_time": "2023-08-21T18:49:14.043Z"
   },
   {
    "duration": 421,
    "start_time": "2023-08-21T18:49:14.059Z"
   },
   {
    "duration": 27,
    "start_time": "2023-08-21T18:49:14.483Z"
   },
   {
    "duration": 75,
    "start_time": "2023-08-21T18:49:14.513Z"
   },
   {
    "duration": 31,
    "start_time": "2023-08-21T18:49:14.590Z"
   },
   {
    "duration": 664,
    "start_time": "2023-08-21T18:49:14.635Z"
   },
   {
    "duration": 8,
    "start_time": "2023-08-21T18:49:15.300Z"
   },
   {
    "duration": 25,
    "start_time": "2023-08-21T18:49:15.310Z"
   },
   {
    "duration": 212,
    "start_time": "2023-08-21T18:49:15.336Z"
   },
   {
    "duration": 22,
    "start_time": "2023-08-21T18:49:15.550Z"
   },
   {
    "duration": 23,
    "start_time": "2023-08-21T18:49:15.573Z"
   },
   {
    "duration": 413,
    "start_time": "2023-08-21T18:49:15.597Z"
   },
   {
    "duration": 395,
    "start_time": "2023-08-21T18:49:16.013Z"
   },
   {
    "duration": 33,
    "start_time": "2023-08-21T18:49:16.410Z"
   },
   {
    "duration": 210,
    "start_time": "2023-08-21T18:49:16.449Z"
   },
   {
    "duration": 199,
    "start_time": "2023-08-21T18:49:16.660Z"
   },
   {
    "duration": 1587,
    "start_time": "2023-08-21T18:49:16.861Z"
   },
   {
    "duration": 40,
    "start_time": "2023-08-21T18:49:18.449Z"
   },
   {
    "duration": 942,
    "start_time": "2023-08-21T18:49:18.491Z"
   },
   {
    "duration": 22,
    "start_time": "2023-08-21T18:49:19.435Z"
   },
   {
    "duration": 385,
    "start_time": "2023-08-21T18:49:19.459Z"
   },
   {
    "duration": 17,
    "start_time": "2023-08-21T18:49:19.846Z"
   },
   {
    "duration": 281,
    "start_time": "2023-08-21T18:49:19.865Z"
   },
   {
    "duration": 16,
    "start_time": "2023-08-21T18:49:20.148Z"
   },
   {
    "duration": 246,
    "start_time": "2023-08-21T18:49:20.166Z"
   },
   {
    "duration": 20,
    "start_time": "2023-08-21T18:49:20.413Z"
   },
   {
    "duration": 18,
    "start_time": "2023-08-21T18:49:20.435Z"
   },
   {
    "duration": 15,
    "start_time": "2023-08-21T18:49:20.456Z"
   },
   {
    "duration": 25,
    "start_time": "2023-08-21T18:49:20.473Z"
   },
   {
    "duration": 1386,
    "start_time": "2023-08-21T21:37:14.252Z"
   },
   {
    "duration": 209,
    "start_time": "2023-08-21T21:37:15.639Z"
   },
   {
    "duration": 14,
    "start_time": "2023-08-21T21:37:15.850Z"
   },
   {
    "duration": 31,
    "start_time": "2023-08-21T21:37:15.866Z"
   },
   {
    "duration": 14,
    "start_time": "2023-08-21T21:37:15.898Z"
   },
   {
    "duration": 14,
    "start_time": "2023-08-21T21:37:15.914Z"
   },
   {
    "duration": 10,
    "start_time": "2023-08-21T21:37:15.930Z"
   },
   {
    "duration": 9,
    "start_time": "2023-08-21T21:37:15.942Z"
   },
   {
    "duration": 15,
    "start_time": "2023-08-21T21:37:15.953Z"
   },
   {
    "duration": 5,
    "start_time": "2023-08-21T21:37:15.970Z"
   },
   {
    "duration": 6,
    "start_time": "2023-08-21T21:37:15.977Z"
   },
   {
    "duration": 18,
    "start_time": "2023-08-21T21:37:15.985Z"
   },
   {
    "duration": 19,
    "start_time": "2023-08-21T21:37:16.005Z"
   },
   {
    "duration": 43,
    "start_time": "2023-08-21T21:37:16.027Z"
   },
   {
    "duration": 612,
    "start_time": "2023-08-21T21:37:16.072Z"
   },
   {
    "duration": 23,
    "start_time": "2023-08-21T21:37:16.686Z"
   },
   {
    "duration": 107,
    "start_time": "2023-08-21T21:37:16.711Z"
   },
   {
    "duration": 48,
    "start_time": "2023-08-21T21:37:16.820Z"
   },
   {
    "duration": 814,
    "start_time": "2023-08-21T21:37:16.870Z"
   },
   {
    "duration": 9,
    "start_time": "2023-08-21T21:37:17.685Z"
   },
   {
    "duration": 17,
    "start_time": "2023-08-21T21:37:17.696Z"
   },
   {
    "duration": 415,
    "start_time": "2023-08-21T21:37:17.715Z"
   },
   {
    "duration": 40,
    "start_time": "2023-08-21T21:37:18.132Z"
   },
   {
    "duration": 25,
    "start_time": "2023-08-21T21:37:18.174Z"
   },
   {
    "duration": 628,
    "start_time": "2023-08-21T21:37:18.201Z"
   },
   {
    "duration": 579,
    "start_time": "2023-08-21T21:37:18.830Z"
   },
   {
    "duration": 24,
    "start_time": "2023-08-21T21:37:19.411Z"
   },
   {
    "duration": 433,
    "start_time": "2023-08-21T21:37:19.438Z"
   },
   {
    "duration": 379,
    "start_time": "2023-08-21T21:37:19.873Z"
   },
   {
    "duration": 3058,
    "start_time": "2023-08-21T21:37:20.254Z"
   },
   {
    "duration": 29,
    "start_time": "2023-08-21T21:37:23.367Z"
   },
   {
    "duration": 1862,
    "start_time": "2023-08-21T21:37:23.398Z"
   },
   {
    "duration": 18,
    "start_time": "2023-08-21T21:37:25.266Z"
   },
   {
    "duration": 485,
    "start_time": "2023-08-21T21:37:25.285Z"
   },
   {
    "duration": 16,
    "start_time": "2023-08-21T21:37:25.772Z"
   },
   {
    "duration": 625,
    "start_time": "2023-08-21T21:37:25.789Z"
   },
   {
    "duration": 17,
    "start_time": "2023-08-21T21:37:26.415Z"
   },
   {
    "duration": 470,
    "start_time": "2023-08-21T21:37:26.433Z"
   },
   {
    "duration": 13,
    "start_time": "2023-08-21T21:37:26.905Z"
   },
   {
    "duration": 32,
    "start_time": "2023-08-21T21:37:26.920Z"
   },
   {
    "duration": 28,
    "start_time": "2023-08-21T21:37:26.956Z"
   },
   {
    "duration": 28,
    "start_time": "2023-08-21T21:37:26.986Z"
   },
   {
    "duration": 731,
    "start_time": "2023-08-21T21:50:29.698Z"
   },
   {
    "duration": 1356,
    "start_time": "2023-08-22T07:46:05.136Z"
   },
   {
    "duration": 213,
    "start_time": "2023-08-22T07:46:06.494Z"
   },
   {
    "duration": 15,
    "start_time": "2023-08-22T07:46:06.709Z"
   },
   {
    "duration": 39,
    "start_time": "2023-08-22T07:46:06.726Z"
   },
   {
    "duration": 14,
    "start_time": "2023-08-22T07:46:06.766Z"
   },
   {
    "duration": 26,
    "start_time": "2023-08-22T07:46:06.782Z"
   },
   {
    "duration": 21,
    "start_time": "2023-08-22T07:46:06.810Z"
   },
   {
    "duration": 119,
    "start_time": "2023-08-22T07:46:06.833Z"
   },
   {
    "duration": 0,
    "start_time": "2023-08-22T07:46:06.956Z"
   },
   {
    "duration": 0,
    "start_time": "2023-08-22T07:46:06.958Z"
   },
   {
    "duration": 0,
    "start_time": "2023-08-22T07:46:06.959Z"
   },
   {
    "duration": 0,
    "start_time": "2023-08-22T07:46:06.960Z"
   },
   {
    "duration": 0,
    "start_time": "2023-08-22T07:46:06.961Z"
   },
   {
    "duration": 0,
    "start_time": "2023-08-22T07:46:06.962Z"
   },
   {
    "duration": 0,
    "start_time": "2023-08-22T07:46:06.963Z"
   },
   {
    "duration": 0,
    "start_time": "2023-08-22T07:46:06.964Z"
   },
   {
    "duration": 0,
    "start_time": "2023-08-22T07:46:06.965Z"
   },
   {
    "duration": 0,
    "start_time": "2023-08-22T07:46:06.966Z"
   },
   {
    "duration": 0,
    "start_time": "2023-08-22T07:46:06.967Z"
   },
   {
    "duration": 0,
    "start_time": "2023-08-22T07:46:06.968Z"
   },
   {
    "duration": 0,
    "start_time": "2023-08-22T07:46:06.970Z"
   },
   {
    "duration": 0,
    "start_time": "2023-08-22T07:46:06.971Z"
   },
   {
    "duration": 0,
    "start_time": "2023-08-22T07:46:06.973Z"
   },
   {
    "duration": 0,
    "start_time": "2023-08-22T07:46:06.974Z"
   },
   {
    "duration": 0,
    "start_time": "2023-08-22T07:46:06.976Z"
   },
   {
    "duration": 0,
    "start_time": "2023-08-22T07:46:06.977Z"
   },
   {
    "duration": 0,
    "start_time": "2023-08-22T07:46:06.978Z"
   },
   {
    "duration": 0,
    "start_time": "2023-08-22T07:46:06.980Z"
   },
   {
    "duration": 0,
    "start_time": "2023-08-22T07:46:06.981Z"
   },
   {
    "duration": 0,
    "start_time": "2023-08-22T07:46:06.982Z"
   },
   {
    "duration": 0,
    "start_time": "2023-08-22T07:46:06.983Z"
   },
   {
    "duration": 0,
    "start_time": "2023-08-22T07:46:06.984Z"
   },
   {
    "duration": 0,
    "start_time": "2023-08-22T07:46:06.985Z"
   },
   {
    "duration": 0,
    "start_time": "2023-08-22T07:46:06.987Z"
   },
   {
    "duration": 0,
    "start_time": "2023-08-22T07:46:06.988Z"
   },
   {
    "duration": 0,
    "start_time": "2023-08-22T07:46:06.990Z"
   },
   {
    "duration": 0,
    "start_time": "2023-08-22T07:46:06.991Z"
   },
   {
    "duration": 0,
    "start_time": "2023-08-22T07:46:06.992Z"
   },
   {
    "duration": 0,
    "start_time": "2023-08-22T07:46:07.056Z"
   },
   {
    "duration": 0,
    "start_time": "2023-08-22T07:46:07.058Z"
   },
   {
    "duration": 0,
    "start_time": "2023-08-22T07:46:07.059Z"
   },
   {
    "duration": 0,
    "start_time": "2023-08-22T07:46:07.060Z"
   },
   {
    "duration": 13,
    "start_time": "2023-08-22T07:47:05.140Z"
   },
   {
    "duration": 106,
    "start_time": "2023-08-22T07:48:46.390Z"
   },
   {
    "duration": 10,
    "start_time": "2023-08-22T07:48:53.236Z"
   },
   {
    "duration": 12,
    "start_time": "2023-08-22T07:56:53.985Z"
   },
   {
    "duration": 8,
    "start_time": "2023-08-22T07:57:03.018Z"
   },
   {
    "duration": 7,
    "start_time": "2023-08-22T07:57:10.673Z"
   },
   {
    "duration": 6,
    "start_time": "2023-08-22T07:57:14.602Z"
   },
   {
    "duration": 18,
    "start_time": "2023-08-22T07:57:22.181Z"
   },
   {
    "duration": 16,
    "start_time": "2023-08-22T07:57:30.090Z"
   },
   {
    "duration": 9,
    "start_time": "2023-08-22T07:58:54.886Z"
   },
   {
    "duration": 13,
    "start_time": "2023-08-22T07:59:30.321Z"
   },
   {
    "duration": 16,
    "start_time": "2023-08-22T08:05:04.287Z"
   },
   {
    "duration": 27,
    "start_time": "2023-08-22T08:42:08.334Z"
   },
   {
    "duration": 74,
    "start_time": "2023-08-22T08:42:11.678Z"
   },
   {
    "duration": 1235,
    "start_time": "2023-08-22T08:42:18.322Z"
   },
   {
    "duration": 74,
    "start_time": "2023-08-22T08:42:19.560Z"
   },
   {
    "duration": 13,
    "start_time": "2023-08-22T08:42:19.636Z"
   },
   {
    "duration": 33,
    "start_time": "2023-08-22T08:42:19.651Z"
   },
   {
    "duration": 14,
    "start_time": "2023-08-22T08:42:19.686Z"
   },
   {
    "duration": 12,
    "start_time": "2023-08-22T08:42:19.701Z"
   },
   {
    "duration": 12,
    "start_time": "2023-08-22T08:42:19.715Z"
   },
   {
    "duration": 9,
    "start_time": "2023-08-22T08:42:19.728Z"
   },
   {
    "duration": 6,
    "start_time": "2023-08-22T08:42:19.757Z"
   },
   {
    "duration": 8,
    "start_time": "2023-08-22T08:42:19.766Z"
   },
   {
    "duration": 18,
    "start_time": "2023-08-22T08:42:19.776Z"
   },
   {
    "duration": 21,
    "start_time": "2023-08-22T08:42:19.796Z"
   },
   {
    "duration": 17,
    "start_time": "2023-08-22T08:42:19.818Z"
   },
   {
    "duration": 32,
    "start_time": "2023-08-22T08:42:19.836Z"
   },
   {
    "duration": 22,
    "start_time": "2023-08-22T08:42:19.870Z"
   },
   {
    "duration": 494,
    "start_time": "2023-08-22T08:42:19.893Z"
   },
   {
    "duration": 18,
    "start_time": "2023-08-22T08:42:20.389Z"
   },
   {
    "duration": 107,
    "start_time": "2023-08-22T08:42:20.409Z"
   },
   {
    "duration": 115,
    "start_time": "2023-08-22T08:42:20.517Z"
   },
   {
    "duration": 554,
    "start_time": "2023-08-22T08:42:20.634Z"
   },
   {
    "duration": 8,
    "start_time": "2023-08-22T08:42:21.190Z"
   },
   {
    "duration": 33,
    "start_time": "2023-08-22T08:42:21.200Z"
   },
   {
    "duration": 239,
    "start_time": "2023-08-22T08:42:21.235Z"
   },
   {
    "duration": 25,
    "start_time": "2023-08-22T08:42:21.476Z"
   },
   {
    "duration": 26,
    "start_time": "2023-08-22T08:42:21.503Z"
   },
   {
    "duration": 414,
    "start_time": "2023-08-22T08:42:21.531Z"
   },
   {
    "duration": 411,
    "start_time": "2023-08-22T08:42:21.947Z"
   },
   {
    "duration": 28,
    "start_time": "2023-08-22T08:42:22.362Z"
   },
   {
    "duration": 211,
    "start_time": "2023-08-22T08:42:22.392Z"
   },
   {
    "duration": 200,
    "start_time": "2023-08-22T08:42:22.605Z"
   },
   {
    "duration": 1898,
    "start_time": "2023-08-22T08:42:22.807Z"
   },
   {
    "duration": 44,
    "start_time": "2023-08-22T08:42:24.758Z"
   },
   {
    "duration": 1401,
    "start_time": "2023-08-22T08:42:24.857Z"
   },
   {
    "duration": 17,
    "start_time": "2023-08-22T08:42:26.260Z"
   },
   {
    "duration": 397,
    "start_time": "2023-08-22T08:42:26.279Z"
   },
   {
    "duration": 19,
    "start_time": "2023-08-22T08:42:26.678Z"
   },
   {
    "duration": 288,
    "start_time": "2023-08-22T08:42:26.699Z"
   },
   {
    "duration": 17,
    "start_time": "2023-08-22T08:42:26.989Z"
   },
   {
    "duration": 314,
    "start_time": "2023-08-22T08:42:27.009Z"
   },
   {
    "duration": 12,
    "start_time": "2023-08-22T08:42:27.325Z"
   },
   {
    "duration": 48,
    "start_time": "2023-08-22T08:42:27.339Z"
   },
   {
    "duration": 26,
    "start_time": "2023-08-22T08:42:27.390Z"
   },
   {
    "duration": 20,
    "start_time": "2023-08-22T08:42:27.418Z"
   },
   {
    "duration": 29,
    "start_time": "2023-08-22T08:50:59.203Z"
   },
   {
    "duration": 25,
    "start_time": "2023-08-22T08:51:04.218Z"
   },
   {
    "duration": 1222,
    "start_time": "2023-08-22T08:51:17.679Z"
   },
   {
    "duration": 100,
    "start_time": "2023-08-22T08:51:18.904Z"
   },
   {
    "duration": 18,
    "start_time": "2023-08-22T08:51:19.006Z"
   },
   {
    "duration": 55,
    "start_time": "2023-08-22T08:51:19.027Z"
   },
   {
    "duration": 20,
    "start_time": "2023-08-22T08:51:19.084Z"
   },
   {
    "duration": 12,
    "start_time": "2023-08-22T08:51:19.106Z"
   },
   {
    "duration": 15,
    "start_time": "2023-08-22T08:51:19.120Z"
   },
   {
    "duration": 24,
    "start_time": "2023-08-22T08:51:19.136Z"
   },
   {
    "duration": 31,
    "start_time": "2023-08-22T08:51:19.162Z"
   },
   {
    "duration": 25,
    "start_time": "2023-08-22T08:51:19.196Z"
   },
   {
    "duration": 26,
    "start_time": "2023-08-22T08:51:19.223Z"
   },
   {
    "duration": 18,
    "start_time": "2023-08-22T08:51:19.251Z"
   },
   {
    "duration": 18,
    "start_time": "2023-08-22T08:51:19.270Z"
   },
   {
    "duration": 22,
    "start_time": "2023-08-22T08:51:19.291Z"
   },
   {
    "duration": 45,
    "start_time": "2023-08-22T08:51:19.315Z"
   },
   {
    "duration": 496,
    "start_time": "2023-08-22T08:51:19.363Z"
   },
   {
    "duration": 21,
    "start_time": "2023-08-22T08:51:19.862Z"
   },
   {
    "duration": 80,
    "start_time": "2023-08-22T08:51:19.884Z"
   },
   {
    "duration": 35,
    "start_time": "2023-08-22T08:51:19.966Z"
   },
   {
    "duration": 606,
    "start_time": "2023-08-22T08:51:20.003Z"
   },
   {
    "duration": 10,
    "start_time": "2023-08-22T08:51:20.611Z"
   },
   {
    "duration": 13,
    "start_time": "2023-08-22T08:51:20.622Z"
   },
   {
    "duration": 229,
    "start_time": "2023-08-22T08:51:20.637Z"
   },
   {
    "duration": 25,
    "start_time": "2023-08-22T08:51:20.869Z"
   },
   {
    "duration": 23,
    "start_time": "2023-08-22T08:51:20.896Z"
   },
   {
    "duration": 293,
    "start_time": "2023-08-22T08:51:20.921Z"
   },
   {
    "duration": 378,
    "start_time": "2023-08-22T08:51:21.216Z"
   },
   {
    "duration": 28,
    "start_time": "2023-08-22T08:51:21.597Z"
   },
   {
    "duration": 213,
    "start_time": "2023-08-22T08:51:21.626Z"
   },
   {
    "duration": 207,
    "start_time": "2023-08-22T08:51:21.840Z"
   },
   {
    "duration": 1481,
    "start_time": "2023-08-22T08:51:22.049Z"
   },
   {
    "duration": 41,
    "start_time": "2023-08-22T08:51:23.532Z"
   },
   {
    "duration": 987,
    "start_time": "2023-08-22T08:51:23.575Z"
   },
   {
    "duration": 18,
    "start_time": "2023-08-22T08:51:24.564Z"
   },
   {
    "duration": 366,
    "start_time": "2023-08-22T08:51:24.583Z"
   },
   {
    "duration": 19,
    "start_time": "2023-08-22T08:51:24.951Z"
   },
   {
    "duration": 329,
    "start_time": "2023-08-22T08:51:24.971Z"
   },
   {
    "duration": 17,
    "start_time": "2023-08-22T08:51:25.303Z"
   },
   {
    "duration": 221,
    "start_time": "2023-08-22T08:51:25.321Z"
   },
   {
    "duration": 16,
    "start_time": "2023-08-22T08:51:25.544Z"
   },
   {
    "duration": 37,
    "start_time": "2023-08-22T08:51:25.562Z"
   },
   {
    "duration": 14,
    "start_time": "2023-08-22T08:51:25.601Z"
   },
   {
    "duration": 15,
    "start_time": "2023-08-22T08:51:25.617Z"
   },
   {
    "duration": 39,
    "start_time": "2023-08-22T08:53:36.855Z"
   },
   {
    "duration": 23,
    "start_time": "2023-08-22T08:53:41.305Z"
   },
   {
    "duration": 273,
    "start_time": "2023-08-22T08:53:42.942Z"
   },
   {
    "duration": 23,
    "start_time": "2023-08-22T08:55:13.715Z"
   },
   {
    "duration": 32,
    "start_time": "2023-08-22T08:55:17.777Z"
   },
   {
    "duration": 342,
    "start_time": "2023-08-22T08:55:18.918Z"
   },
   {
    "duration": 227,
    "start_time": "2023-08-22T08:58:36.107Z"
   },
   {
    "duration": 279,
    "start_time": "2023-08-22T08:58:55.330Z"
   },
   {
    "duration": 410,
    "start_time": "2023-08-22T09:00:04.170Z"
   },
   {
    "duration": 302,
    "start_time": "2023-08-22T09:00:11.236Z"
   },
   {
    "duration": 296,
    "start_time": "2023-08-22T09:00:16.996Z"
   },
   {
    "duration": 35,
    "start_time": "2023-08-22T09:02:00.521Z"
   },
   {
    "duration": 40,
    "start_time": "2023-08-22T09:14:30.809Z"
   },
   {
    "duration": 248,
    "start_time": "2023-08-22T09:14:36.951Z"
   },
   {
    "duration": 260,
    "start_time": "2023-08-22T09:14:38.447Z"
   },
   {
    "duration": 1640,
    "start_time": "2023-08-22T09:14:42.199Z"
   },
   {
    "duration": 1805,
    "start_time": "2023-08-22T09:14:45.216Z"
   },
   {
    "duration": 1053,
    "start_time": "2023-08-22T10:17:02.985Z"
   },
   {
    "duration": 110,
    "start_time": "2023-08-22T10:23:53.754Z"
   },
   {
    "duration": 739,
    "start_time": "2023-08-22T10:24:58.385Z"
   },
   {
    "duration": 14,
    "start_time": "2023-08-22T10:25:29.530Z"
   },
   {
    "duration": 234,
    "start_time": "2023-08-22T10:29:12.989Z"
   },
   {
    "duration": 25,
    "start_time": "2023-08-22T10:29:50.224Z"
   },
   {
    "duration": 1160,
    "start_time": "2023-08-22T10:29:54.743Z"
   },
   {
    "duration": 1385,
    "start_time": "2023-08-22T10:33:16.208Z"
   },
   {
    "duration": 1454,
    "start_time": "2023-08-22T10:35:03.972Z"
   },
   {
    "duration": 1824,
    "start_time": "2023-08-22T10:37:04.345Z"
   },
   {
    "duration": 1147,
    "start_time": "2023-08-22T11:58:09.449Z"
   },
   {
    "duration": 78,
    "start_time": "2023-08-22T11:58:10.598Z"
   },
   {
    "duration": 14,
    "start_time": "2023-08-22T11:58:10.677Z"
   },
   {
    "duration": 28,
    "start_time": "2023-08-22T11:58:10.693Z"
   },
   {
    "duration": 35,
    "start_time": "2023-08-22T11:58:10.723Z"
   },
   {
    "duration": 13,
    "start_time": "2023-08-22T11:58:10.760Z"
   },
   {
    "duration": 10,
    "start_time": "2023-08-22T11:58:10.775Z"
   },
   {
    "duration": 16,
    "start_time": "2023-08-22T11:58:10.786Z"
   },
   {
    "duration": 14,
    "start_time": "2023-08-22T11:58:10.804Z"
   },
   {
    "duration": 25,
    "start_time": "2023-08-22T11:58:10.820Z"
   },
   {
    "duration": 20,
    "start_time": "2023-08-22T11:58:10.847Z"
   },
   {
    "duration": 25,
    "start_time": "2023-08-22T11:58:10.869Z"
   },
   {
    "duration": 22,
    "start_time": "2023-08-22T11:58:10.896Z"
   },
   {
    "duration": 23,
    "start_time": "2023-08-22T11:58:10.919Z"
   },
   {
    "duration": 28,
    "start_time": "2023-08-22T11:58:10.944Z"
   },
   {
    "duration": 475,
    "start_time": "2023-08-22T11:58:10.973Z"
   },
   {
    "duration": 20,
    "start_time": "2023-08-22T11:58:11.450Z"
   },
   {
    "duration": 60,
    "start_time": "2023-08-22T11:58:11.472Z"
   },
   {
    "duration": 53,
    "start_time": "2023-08-22T11:58:11.533Z"
   },
   {
    "duration": 561,
    "start_time": "2023-08-22T11:58:11.587Z"
   },
   {
    "duration": 13,
    "start_time": "2023-08-22T11:58:12.149Z"
   },
   {
    "duration": 11,
    "start_time": "2023-08-22T11:58:12.164Z"
   },
   {
    "duration": 223,
    "start_time": "2023-08-22T11:58:12.177Z"
   },
   {
    "duration": 25,
    "start_time": "2023-08-22T11:58:12.402Z"
   },
   {
    "duration": 36,
    "start_time": "2023-08-22T11:58:12.429Z"
   },
   {
    "duration": 292,
    "start_time": "2023-08-22T11:58:12.467Z"
   },
   {
    "duration": 371,
    "start_time": "2023-08-22T11:58:12.761Z"
   },
   {
    "duration": 288,
    "start_time": "2023-08-22T11:58:13.136Z"
   },
   {
    "duration": 36,
    "start_time": "2023-08-22T11:58:13.426Z"
   },
   {
    "duration": 206,
    "start_time": "2023-08-22T11:58:13.463Z"
   },
   {
    "duration": 210,
    "start_time": "2023-08-22T11:58:13.670Z"
   },
   {
    "duration": 1561,
    "start_time": "2023-08-22T11:58:13.882Z"
   },
   {
    "duration": 32,
    "start_time": "2023-08-22T11:58:15.445Z"
   },
   {
    "duration": 1740,
    "start_time": "2023-08-22T11:58:15.479Z"
   },
   {
    "duration": 37,
    "start_time": "2023-08-22T11:58:17.221Z"
   },
   {
    "duration": 281,
    "start_time": "2023-08-22T11:58:17.260Z"
   },
   {
    "duration": 28,
    "start_time": "2023-08-22T11:58:17.544Z"
   },
   {
    "duration": 309,
    "start_time": "2023-08-22T11:58:17.573Z"
   },
   {
    "duration": 17,
    "start_time": "2023-08-22T11:58:17.884Z"
   },
   {
    "duration": 222,
    "start_time": "2023-08-22T11:58:17.903Z"
   },
   {
    "duration": 12,
    "start_time": "2023-08-22T11:58:18.127Z"
   },
   {
    "duration": 28,
    "start_time": "2023-08-22T11:58:18.141Z"
   },
   {
    "duration": 13,
    "start_time": "2023-08-22T11:58:18.171Z"
   },
   {
    "duration": 19,
    "start_time": "2023-08-22T11:58:18.186Z"
   },
   {
    "duration": 1236,
    "start_time": "2023-08-22T14:37:24.592Z"
   },
   {
    "duration": 121,
    "start_time": "2023-08-22T14:37:25.831Z"
   },
   {
    "duration": 14,
    "start_time": "2023-08-22T14:37:25.953Z"
   },
   {
    "duration": 46,
    "start_time": "2023-08-22T14:37:25.970Z"
   },
   {
    "duration": 13,
    "start_time": "2023-08-22T14:37:26.018Z"
   },
   {
    "duration": 22,
    "start_time": "2023-08-22T14:37:26.032Z"
   },
   {
    "duration": 28,
    "start_time": "2023-08-22T14:37:26.055Z"
   },
   {
    "duration": 11,
    "start_time": "2023-08-22T14:37:26.086Z"
   },
   {
    "duration": 12,
    "start_time": "2023-08-22T14:37:26.100Z"
   },
   {
    "duration": 13,
    "start_time": "2023-08-22T14:37:26.118Z"
   },
   {
    "duration": 22,
    "start_time": "2023-08-22T14:37:26.133Z"
   },
   {
    "duration": 35,
    "start_time": "2023-08-22T14:37:26.157Z"
   },
   {
    "duration": 20,
    "start_time": "2023-08-22T14:37:26.194Z"
   },
   {
    "duration": 19,
    "start_time": "2023-08-22T14:37:26.217Z"
   },
   {
    "duration": 29,
    "start_time": "2023-08-22T14:37:26.237Z"
   },
   {
    "duration": 653,
    "start_time": "2023-08-22T14:37:26.269Z"
   },
   {
    "duration": 30,
    "start_time": "2023-08-22T14:37:26.924Z"
   },
   {
    "duration": 89,
    "start_time": "2023-08-22T14:37:26.956Z"
   },
   {
    "duration": 44,
    "start_time": "2023-08-22T14:37:27.047Z"
   },
   {
    "duration": 786,
    "start_time": "2023-08-22T14:37:27.093Z"
   },
   {
    "duration": 8,
    "start_time": "2023-08-22T14:37:27.880Z"
   },
   {
    "duration": 22,
    "start_time": "2023-08-22T14:37:27.890Z"
   },
   {
    "duration": 388,
    "start_time": "2023-08-22T14:37:27.914Z"
   },
   {
    "duration": 24,
    "start_time": "2023-08-22T14:37:28.304Z"
   },
   {
    "duration": 35,
    "start_time": "2023-08-22T14:37:28.330Z"
   },
   {
    "duration": 526,
    "start_time": "2023-08-22T14:37:28.366Z"
   },
   {
    "duration": 417,
    "start_time": "2023-08-22T14:37:28.894Z"
   },
   {
    "duration": 485,
    "start_time": "2023-08-22T14:37:29.315Z"
   },
   {
    "duration": 23,
    "start_time": "2023-08-22T14:37:29.802Z"
   },
   {
    "duration": 414,
    "start_time": "2023-08-22T14:37:29.827Z"
   },
   {
    "duration": 437,
    "start_time": "2023-08-22T14:37:30.243Z"
   },
   {
    "duration": 2888,
    "start_time": "2023-08-22T14:37:30.682Z"
   },
   {
    "duration": 25,
    "start_time": "2023-08-22T14:37:33.572Z"
   },
   {
    "duration": 2722,
    "start_time": "2023-08-22T14:37:33.599Z"
   },
   {
    "duration": 28,
    "start_time": "2023-08-22T14:37:36.323Z"
   },
   {
    "duration": 467,
    "start_time": "2023-08-22T14:37:36.353Z"
   },
   {
    "duration": 16,
    "start_time": "2023-08-22T14:37:36.822Z"
   },
   {
    "duration": 467,
    "start_time": "2023-08-22T14:37:36.850Z"
   },
   {
    "duration": 14,
    "start_time": "2023-08-22T14:37:37.319Z"
   },
   {
    "duration": 380,
    "start_time": "2023-08-22T14:37:37.349Z"
   },
   {
    "duration": 11,
    "start_time": "2023-08-22T14:37:37.730Z"
   },
   {
    "duration": 21,
    "start_time": "2023-08-22T14:37:37.750Z"
   },
   {
    "duration": 52,
    "start_time": "2023-08-22T14:37:37.773Z"
   },
   {
    "duration": 85,
    "start_time": "2023-08-22T14:37:37.827Z"
   },
   {
    "duration": 22,
    "start_time": "2023-08-22T14:39:42.445Z"
   },
   {
    "duration": 1416,
    "start_time": "2023-08-22T14:51:59.394Z"
   },
   {
    "duration": 102,
    "start_time": "2023-08-22T14:52:00.813Z"
   },
   {
    "duration": 25,
    "start_time": "2023-08-22T14:52:00.917Z"
   },
   {
    "duration": 38,
    "start_time": "2023-08-22T14:52:00.945Z"
   },
   {
    "duration": 45,
    "start_time": "2023-08-22T14:52:00.985Z"
   },
   {
    "duration": 15,
    "start_time": "2023-08-22T14:52:01.031Z"
   },
   {
    "duration": 50,
    "start_time": "2023-08-22T14:52:01.048Z"
   },
   {
    "duration": 18,
    "start_time": "2023-08-22T14:52:01.100Z"
   },
   {
    "duration": 28,
    "start_time": "2023-08-22T14:52:01.120Z"
   },
   {
    "duration": 51,
    "start_time": "2023-08-22T14:52:01.151Z"
   },
   {
    "duration": 87,
    "start_time": "2023-08-22T14:52:01.204Z"
   },
   {
    "duration": 34,
    "start_time": "2023-08-22T14:52:01.293Z"
   },
   {
    "duration": 37,
    "start_time": "2023-08-22T14:52:01.329Z"
   },
   {
    "duration": 57,
    "start_time": "2023-08-22T14:52:01.368Z"
   },
   {
    "duration": 25,
    "start_time": "2023-08-22T14:52:01.427Z"
   },
   {
    "duration": 30,
    "start_time": "2023-08-22T14:52:01.453Z"
   },
   {
    "duration": 482,
    "start_time": "2023-08-22T14:52:01.485Z"
   },
   {
    "duration": 18,
    "start_time": "2023-08-22T14:52:01.969Z"
   },
   {
    "duration": 84,
    "start_time": "2023-08-22T14:52:01.989Z"
   },
   {
    "duration": 32,
    "start_time": "2023-08-22T14:52:02.075Z"
   },
   {
    "duration": 592,
    "start_time": "2023-08-22T14:52:02.125Z"
   },
   {
    "duration": 15,
    "start_time": "2023-08-22T14:52:02.719Z"
   },
   {
    "duration": 70,
    "start_time": "2023-08-22T14:52:02.736Z"
   },
   {
    "duration": 217,
    "start_time": "2023-08-22T14:52:02.807Z"
   },
   {
    "duration": 25,
    "start_time": "2023-08-22T14:52:03.026Z"
   },
   {
    "duration": 21,
    "start_time": "2023-08-22T14:52:03.052Z"
   },
   {
    "duration": 298,
    "start_time": "2023-08-22T14:52:03.075Z"
   },
   {
    "duration": 343,
    "start_time": "2023-08-22T14:52:03.376Z"
   },
   {
    "duration": 272,
    "start_time": "2023-08-22T14:52:03.723Z"
   },
   {
    "duration": 32,
    "start_time": "2023-08-22T14:52:03.997Z"
   },
   {
    "duration": 204,
    "start_time": "2023-08-22T14:52:04.031Z"
   },
   {
    "duration": 197,
    "start_time": "2023-08-22T14:52:04.237Z"
   },
   {
    "duration": 1447,
    "start_time": "2023-08-22T14:52:04.436Z"
   },
   {
    "duration": 25,
    "start_time": "2023-08-22T14:52:05.884Z"
   },
   {
    "duration": 1690,
    "start_time": "2023-08-22T14:52:05.911Z"
   },
   {
    "duration": 31,
    "start_time": "2023-08-22T14:52:07.603Z"
   },
   {
    "duration": 268,
    "start_time": "2023-08-22T14:52:07.636Z"
   },
   {
    "duration": 37,
    "start_time": "2023-08-22T14:52:07.907Z"
   },
   {
    "duration": 469,
    "start_time": "2023-08-22T14:52:07.946Z"
   },
   {
    "duration": 16,
    "start_time": "2023-08-22T14:52:08.416Z"
   },
   {
    "duration": 226,
    "start_time": "2023-08-22T14:52:08.434Z"
   },
   {
    "duration": 11,
    "start_time": "2023-08-22T14:52:08.662Z"
   },
   {
    "duration": 57,
    "start_time": "2023-08-22T14:52:08.674Z"
   },
   {
    "duration": 13,
    "start_time": "2023-08-22T14:52:08.733Z"
   },
   {
    "duration": 18,
    "start_time": "2023-08-22T14:52:08.747Z"
   },
   {
    "duration": 7,
    "start_time": "2023-08-22T14:53:22.899Z"
   },
   {
    "duration": 13,
    "start_time": "2023-08-22T14:54:29.083Z"
   },
   {
    "duration": 1743,
    "start_time": "2023-08-22T15:04:28.762Z"
   },
   {
    "duration": 16,
    "start_time": "2023-08-22T15:07:13.040Z"
   },
   {
    "duration": 17,
    "start_time": "2023-08-22T15:07:30.314Z"
   },
   {
    "duration": 18,
    "start_time": "2023-08-22T15:07:39.514Z"
   },
   {
    "duration": 17,
    "start_time": "2023-08-22T15:11:28.881Z"
   },
   {
    "duration": 31,
    "start_time": "2023-08-22T15:14:19.225Z"
   },
   {
    "duration": 34,
    "start_time": "2023-08-22T15:14:30.697Z"
   },
   {
    "duration": 24,
    "start_time": "2023-08-22T15:14:59.672Z"
   },
   {
    "duration": 18,
    "start_time": "2023-08-22T15:15:47.257Z"
   },
   {
    "duration": 27,
    "start_time": "2023-08-22T15:16:18.400Z"
   },
   {
    "duration": 22,
    "start_time": "2023-08-22T15:16:56.645Z"
   },
   {
    "duration": 10,
    "start_time": "2023-08-22T15:24:30.574Z"
   },
   {
    "duration": 25,
    "start_time": "2023-08-22T15:24:42.686Z"
   },
   {
    "duration": 20,
    "start_time": "2023-08-22T15:24:55.152Z"
   },
   {
    "duration": 113,
    "start_time": "2023-08-22T15:28:33.784Z"
   },
   {
    "duration": 1206,
    "start_time": "2023-08-22T15:29:43.189Z"
   },
   {
    "duration": 55,
    "start_time": "2023-08-22T15:29:44.397Z"
   },
   {
    "duration": 23,
    "start_time": "2023-08-22T15:29:44.454Z"
   },
   {
    "duration": 15,
    "start_time": "2023-08-22T15:29:44.480Z"
   },
   {
    "duration": 48,
    "start_time": "2023-08-22T15:29:44.497Z"
   },
   {
    "duration": 16,
    "start_time": "2023-08-22T15:29:44.546Z"
   },
   {
    "duration": 20,
    "start_time": "2023-08-22T15:29:44.564Z"
   },
   {
    "duration": 20,
    "start_time": "2023-08-22T15:29:44.586Z"
   },
   {
    "duration": 32,
    "start_time": "2023-08-22T15:29:44.608Z"
   },
   {
    "duration": 15,
    "start_time": "2023-08-22T15:29:44.643Z"
   },
   {
    "duration": 20,
    "start_time": "2023-08-22T15:29:44.660Z"
   },
   {
    "duration": 12,
    "start_time": "2023-08-22T15:29:44.682Z"
   },
   {
    "duration": 26,
    "start_time": "2023-08-22T15:29:44.696Z"
   },
   {
    "duration": 18,
    "start_time": "2023-08-22T15:29:44.724Z"
   },
   {
    "duration": 15,
    "start_time": "2023-08-22T15:29:44.743Z"
   },
   {
    "duration": 27,
    "start_time": "2023-08-22T15:29:44.760Z"
   },
   {
    "duration": 48,
    "start_time": "2023-08-22T15:29:44.789Z"
   },
   {
    "duration": 17,
    "start_time": "2023-08-22T15:29:44.838Z"
   },
   {
    "duration": 470,
    "start_time": "2023-08-22T15:29:44.856Z"
   },
   {
    "duration": 18,
    "start_time": "2023-08-22T15:29:45.328Z"
   },
   {
    "duration": 58,
    "start_time": "2023-08-22T15:29:45.347Z"
   },
   {
    "duration": 32,
    "start_time": "2023-08-22T15:29:45.425Z"
   },
   {
    "duration": 550,
    "start_time": "2023-08-22T15:29:45.458Z"
   },
   {
    "duration": 14,
    "start_time": "2023-08-22T15:29:46.010Z"
   },
   {
    "duration": 12,
    "start_time": "2023-08-22T15:29:46.025Z"
   },
   {
    "duration": 222,
    "start_time": "2023-08-22T15:29:46.038Z"
   },
   {
    "duration": 25,
    "start_time": "2023-08-22T15:29:46.262Z"
   },
   {
    "duration": 38,
    "start_time": "2023-08-22T15:29:46.290Z"
   },
   {
    "duration": 270,
    "start_time": "2023-08-22T15:29:46.330Z"
   },
   {
    "duration": 344,
    "start_time": "2023-08-22T15:29:46.602Z"
   },
   {
    "duration": 258,
    "start_time": "2023-08-22T15:29:46.947Z"
   },
   {
    "duration": 28,
    "start_time": "2023-08-22T15:29:47.207Z"
   },
   {
    "duration": 199,
    "start_time": "2023-08-22T15:29:47.237Z"
   },
   {
    "duration": 195,
    "start_time": "2023-08-22T15:29:47.438Z"
   },
   {
    "duration": 1623,
    "start_time": "2023-08-22T15:29:47.634Z"
   },
   {
    "duration": 78,
    "start_time": "2023-08-22T15:29:49.258Z"
   },
   {
    "duration": 2178,
    "start_time": "2023-08-22T15:29:49.338Z"
   },
   {
    "duration": 20,
    "start_time": "2023-08-22T15:29:51.518Z"
   },
   {
    "duration": 264,
    "start_time": "2023-08-22T15:29:51.540Z"
   },
   {
    "duration": 24,
    "start_time": "2023-08-22T15:29:51.806Z"
   },
   {
    "duration": 305,
    "start_time": "2023-08-22T15:29:51.832Z"
   },
   {
    "duration": 16,
    "start_time": "2023-08-22T15:29:52.138Z"
   },
   {
    "duration": 223,
    "start_time": "2023-08-22T15:29:52.155Z"
   },
   {
    "duration": 10,
    "start_time": "2023-08-22T15:29:52.380Z"
   },
   {
    "duration": 47,
    "start_time": "2023-08-22T15:29:52.392Z"
   },
   {
    "duration": 42,
    "start_time": "2023-08-22T15:29:52.440Z"
   },
   {
    "duration": 32,
    "start_time": "2023-08-22T15:29:52.484Z"
   }
  ],
  "kernelspec": {
   "display_name": "Python 3 (ipykernel)",
   "language": "python",
   "name": "python3"
  },
  "language_info": {
   "codemirror_mode": {
    "name": "ipython",
    "version": 3
   },
   "file_extension": ".py",
   "mimetype": "text/x-python",
   "name": "python",
   "nbconvert_exporter": "python",
   "pygments_lexer": "ipython3",
   "version": "3.10.9"
  },
  "toc": {
   "base_numbering": 1,
   "nav_menu": {},
   "number_sections": true,
   "sideBar": true,
   "skip_h1_title": true,
   "title_cell": "Table of Contents",
   "title_sidebar": "Contents",
   "toc_cell": false,
   "toc_position": {
    "height": "calc(100% - 180px)",
    "left": "10px",
    "top": "150px",
    "width": "165px"
   },
   "toc_section_display": true,
   "toc_window_display": true
  }
 },
 "nbformat": 4,
 "nbformat_minor": 2
}
